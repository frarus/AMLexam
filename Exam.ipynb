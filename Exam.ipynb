{
  "nbformat": 4,
  "nbformat_minor": 0,
  "metadata": {
    "colab": {
      "name": "Exam.ipynb",
      "provenance": [],
      "machine_shape": "hm",
      "include_colab_link": true
    },
    "kernelspec": {
      "name": "python3",
      "display_name": "Python 3"
    },
    "language_info": {
      "name": "python"
    },
    "accelerator": "GPU",
    "widgets": {
      "application/vnd.jupyter.widget-state+json": {
        "02b46c4d9ecb44f8b55a3ee6699afb20": {
          "model_module": "@jupyter-widgets/controls",
          "model_name": "HBoxModel",
          "model_module_version": "1.5.0",
          "state": {
            "_view_name": "HBoxView",
            "_dom_classes": [],
            "_model_name": "HBoxModel",
            "_view_module": "@jupyter-widgets/controls",
            "_model_module_version": "1.5.0",
            "_view_count": null,
            "_view_module_version": "1.5.0",
            "box_style": "",
            "layout": "IPY_MODEL_c943495e3c174643ab4176933899bc1d",
            "_model_module": "@jupyter-widgets/controls",
            "children": [
              "IPY_MODEL_474123b1aec949cb8922b1d2be6db027",
              "IPY_MODEL_7f5abce980784b538f03dae2d16a9f73",
              "IPY_MODEL_1aaebcedc7074c168e5305c96c6b50d0"
            ]
          }
        },
        "c943495e3c174643ab4176933899bc1d": {
          "model_module": "@jupyter-widgets/base",
          "model_name": "LayoutModel",
          "model_module_version": "1.2.0",
          "state": {
            "_view_name": "LayoutView",
            "grid_template_rows": null,
            "right": null,
            "justify_content": null,
            "_view_module": "@jupyter-widgets/base",
            "overflow": null,
            "_model_module_version": "1.2.0",
            "_view_count": null,
            "flex_flow": null,
            "width": null,
            "min_width": null,
            "border": null,
            "align_items": null,
            "bottom": null,
            "_model_module": "@jupyter-widgets/base",
            "top": null,
            "grid_column": null,
            "overflow_y": null,
            "overflow_x": null,
            "grid_auto_flow": null,
            "grid_area": null,
            "grid_template_columns": null,
            "flex": null,
            "_model_name": "LayoutModel",
            "justify_items": null,
            "grid_row": null,
            "max_height": null,
            "align_content": null,
            "visibility": null,
            "align_self": null,
            "height": null,
            "min_height": null,
            "padding": null,
            "grid_auto_rows": null,
            "grid_gap": null,
            "max_width": null,
            "order": null,
            "_view_module_version": "1.2.0",
            "grid_template_areas": null,
            "object_position": null,
            "object_fit": null,
            "grid_auto_columns": null,
            "margin": null,
            "display": null,
            "left": null
          }
        },
        "474123b1aec949cb8922b1d2be6db027": {
          "model_module": "@jupyter-widgets/controls",
          "model_name": "HTMLModel",
          "model_module_version": "1.5.0",
          "state": {
            "_view_name": "HTMLView",
            "style": "IPY_MODEL_926d71b959f64c109f35f56cc0699674",
            "_dom_classes": [],
            "description": "",
            "_model_name": "HTMLModel",
            "placeholder": "​",
            "_view_module": "@jupyter-widgets/controls",
            "_model_module_version": "1.5.0",
            "value": "100%",
            "_view_count": null,
            "_view_module_version": "1.5.0",
            "description_tooltip": null,
            "_model_module": "@jupyter-widgets/controls",
            "layout": "IPY_MODEL_461ae3f6fa564c9bbe5457e5416ec938"
          }
        },
        "7f5abce980784b538f03dae2d16a9f73": {
          "model_module": "@jupyter-widgets/controls",
          "model_name": "FloatProgressModel",
          "model_module_version": "1.5.0",
          "state": {
            "_view_name": "ProgressView",
            "style": "IPY_MODEL_f5f58f15c66a4417ade7bce959ba0e6c",
            "_dom_classes": [],
            "description": "",
            "_model_name": "FloatProgressModel",
            "bar_style": "success",
            "max": 46830571,
            "_view_module": "@jupyter-widgets/controls",
            "_model_module_version": "1.5.0",
            "value": 46830571,
            "_view_count": null,
            "_view_module_version": "1.5.0",
            "orientation": "horizontal",
            "min": 0,
            "description_tooltip": null,
            "_model_module": "@jupyter-widgets/controls",
            "layout": "IPY_MODEL_0984abc433ac4b49919db6fb302c7874"
          }
        },
        "1aaebcedc7074c168e5305c96c6b50d0": {
          "model_module": "@jupyter-widgets/controls",
          "model_name": "HTMLModel",
          "model_module_version": "1.5.0",
          "state": {
            "_view_name": "HTMLView",
            "style": "IPY_MODEL_72e2da4f10464fa3b47a8ac052e557f6",
            "_dom_classes": [],
            "description": "",
            "_model_name": "HTMLModel",
            "placeholder": "​",
            "_view_module": "@jupyter-widgets/controls",
            "_model_module_version": "1.5.0",
            "value": " 44.7M/44.7M [00:00&lt;00:00, 118MB/s]",
            "_view_count": null,
            "_view_module_version": "1.5.0",
            "description_tooltip": null,
            "_model_module": "@jupyter-widgets/controls",
            "layout": "IPY_MODEL_2b3fbc702e0b4a208130ff6fe11788ed"
          }
        },
        "926d71b959f64c109f35f56cc0699674": {
          "model_module": "@jupyter-widgets/controls",
          "model_name": "DescriptionStyleModel",
          "model_module_version": "1.5.0",
          "state": {
            "_view_name": "StyleView",
            "_model_name": "DescriptionStyleModel",
            "description_width": "",
            "_view_module": "@jupyter-widgets/base",
            "_model_module_version": "1.5.0",
            "_view_count": null,
            "_view_module_version": "1.2.0",
            "_model_module": "@jupyter-widgets/controls"
          }
        },
        "461ae3f6fa564c9bbe5457e5416ec938": {
          "model_module": "@jupyter-widgets/base",
          "model_name": "LayoutModel",
          "model_module_version": "1.2.0",
          "state": {
            "_view_name": "LayoutView",
            "grid_template_rows": null,
            "right": null,
            "justify_content": null,
            "_view_module": "@jupyter-widgets/base",
            "overflow": null,
            "_model_module_version": "1.2.0",
            "_view_count": null,
            "flex_flow": null,
            "width": null,
            "min_width": null,
            "border": null,
            "align_items": null,
            "bottom": null,
            "_model_module": "@jupyter-widgets/base",
            "top": null,
            "grid_column": null,
            "overflow_y": null,
            "overflow_x": null,
            "grid_auto_flow": null,
            "grid_area": null,
            "grid_template_columns": null,
            "flex": null,
            "_model_name": "LayoutModel",
            "justify_items": null,
            "grid_row": null,
            "max_height": null,
            "align_content": null,
            "visibility": null,
            "align_self": null,
            "height": null,
            "min_height": null,
            "padding": null,
            "grid_auto_rows": null,
            "grid_gap": null,
            "max_width": null,
            "order": null,
            "_view_module_version": "1.2.0",
            "grid_template_areas": null,
            "object_position": null,
            "object_fit": null,
            "grid_auto_columns": null,
            "margin": null,
            "display": null,
            "left": null
          }
        },
        "f5f58f15c66a4417ade7bce959ba0e6c": {
          "model_module": "@jupyter-widgets/controls",
          "model_name": "ProgressStyleModel",
          "model_module_version": "1.5.0",
          "state": {
            "_view_name": "StyleView",
            "_model_name": "ProgressStyleModel",
            "description_width": "",
            "_view_module": "@jupyter-widgets/base",
            "_model_module_version": "1.5.0",
            "_view_count": null,
            "_view_module_version": "1.2.0",
            "bar_color": null,
            "_model_module": "@jupyter-widgets/controls"
          }
        },
        "0984abc433ac4b49919db6fb302c7874": {
          "model_module": "@jupyter-widgets/base",
          "model_name": "LayoutModel",
          "model_module_version": "1.2.0",
          "state": {
            "_view_name": "LayoutView",
            "grid_template_rows": null,
            "right": null,
            "justify_content": null,
            "_view_module": "@jupyter-widgets/base",
            "overflow": null,
            "_model_module_version": "1.2.0",
            "_view_count": null,
            "flex_flow": null,
            "width": null,
            "min_width": null,
            "border": null,
            "align_items": null,
            "bottom": null,
            "_model_module": "@jupyter-widgets/base",
            "top": null,
            "grid_column": null,
            "overflow_y": null,
            "overflow_x": null,
            "grid_auto_flow": null,
            "grid_area": null,
            "grid_template_columns": null,
            "flex": null,
            "_model_name": "LayoutModel",
            "justify_items": null,
            "grid_row": null,
            "max_height": null,
            "align_content": null,
            "visibility": null,
            "align_self": null,
            "height": null,
            "min_height": null,
            "padding": null,
            "grid_auto_rows": null,
            "grid_gap": null,
            "max_width": null,
            "order": null,
            "_view_module_version": "1.2.0",
            "grid_template_areas": null,
            "object_position": null,
            "object_fit": null,
            "grid_auto_columns": null,
            "margin": null,
            "display": null,
            "left": null
          }
        },
        "72e2da4f10464fa3b47a8ac052e557f6": {
          "model_module": "@jupyter-widgets/controls",
          "model_name": "DescriptionStyleModel",
          "model_module_version": "1.5.0",
          "state": {
            "_view_name": "StyleView",
            "_model_name": "DescriptionStyleModel",
            "description_width": "",
            "_view_module": "@jupyter-widgets/base",
            "_model_module_version": "1.5.0",
            "_view_count": null,
            "_view_module_version": "1.2.0",
            "_model_module": "@jupyter-widgets/controls"
          }
        },
        "2b3fbc702e0b4a208130ff6fe11788ed": {
          "model_module": "@jupyter-widgets/base",
          "model_name": "LayoutModel",
          "model_module_version": "1.2.0",
          "state": {
            "_view_name": "LayoutView",
            "grid_template_rows": null,
            "right": null,
            "justify_content": null,
            "_view_module": "@jupyter-widgets/base",
            "overflow": null,
            "_model_module_version": "1.2.0",
            "_view_count": null,
            "flex_flow": null,
            "width": null,
            "min_width": null,
            "border": null,
            "align_items": null,
            "bottom": null,
            "_model_module": "@jupyter-widgets/base",
            "top": null,
            "grid_column": null,
            "overflow_y": null,
            "overflow_x": null,
            "grid_auto_flow": null,
            "grid_area": null,
            "grid_template_columns": null,
            "flex": null,
            "_model_name": "LayoutModel",
            "justify_items": null,
            "grid_row": null,
            "max_height": null,
            "align_content": null,
            "visibility": null,
            "align_self": null,
            "height": null,
            "min_height": null,
            "padding": null,
            "grid_auto_rows": null,
            "grid_gap": null,
            "max_width": null,
            "order": null,
            "_view_module_version": "1.2.0",
            "grid_template_areas": null,
            "object_position": null,
            "object_fit": null,
            "grid_auto_columns": null,
            "margin": null,
            "display": null,
            "left": null
          }
        },
        "1910e54a25774c6e9038019a515b47c4": {
          "model_module": "@jupyter-widgets/controls",
          "model_name": "HBoxModel",
          "model_module_version": "1.5.0",
          "state": {
            "_view_name": "HBoxView",
            "_dom_classes": [],
            "_model_name": "HBoxModel",
            "_view_module": "@jupyter-widgets/controls",
            "_model_module_version": "1.5.0",
            "_view_count": null,
            "_view_module_version": "1.5.0",
            "box_style": "",
            "layout": "IPY_MODEL_f10a45bffdd346fa98ad3b95428e095e",
            "_model_module": "@jupyter-widgets/controls",
            "children": [
              "IPY_MODEL_99c626245f4749d5bf4fd0f0b632d437",
              "IPY_MODEL_059e26080b4148fc8920031594f73971",
              "IPY_MODEL_6a40eb37ba8b4a029ebc9f5cce01ed37"
            ]
          }
        },
        "f10a45bffdd346fa98ad3b95428e095e": {
          "model_module": "@jupyter-widgets/base",
          "model_name": "LayoutModel",
          "model_module_version": "1.2.0",
          "state": {
            "_view_name": "LayoutView",
            "grid_template_rows": null,
            "right": null,
            "justify_content": null,
            "_view_module": "@jupyter-widgets/base",
            "overflow": null,
            "_model_module_version": "1.2.0",
            "_view_count": null,
            "flex_flow": null,
            "width": null,
            "min_width": null,
            "border": null,
            "align_items": null,
            "bottom": null,
            "_model_module": "@jupyter-widgets/base",
            "top": null,
            "grid_column": null,
            "overflow_y": null,
            "overflow_x": null,
            "grid_auto_flow": null,
            "grid_area": null,
            "grid_template_columns": null,
            "flex": null,
            "_model_name": "LayoutModel",
            "justify_items": null,
            "grid_row": null,
            "max_height": null,
            "align_content": null,
            "visibility": null,
            "align_self": null,
            "height": null,
            "min_height": null,
            "padding": null,
            "grid_auto_rows": null,
            "grid_gap": null,
            "max_width": null,
            "order": null,
            "_view_module_version": "1.2.0",
            "grid_template_areas": null,
            "object_position": null,
            "object_fit": null,
            "grid_auto_columns": null,
            "margin": null,
            "display": null,
            "left": null
          }
        },
        "99c626245f4749d5bf4fd0f0b632d437": {
          "model_module": "@jupyter-widgets/controls",
          "model_name": "HTMLModel",
          "model_module_version": "1.5.0",
          "state": {
            "_view_name": "HTMLView",
            "style": "IPY_MODEL_d8eadf0bd2b44860a31d7a76411a0b15",
            "_dom_classes": [],
            "description": "",
            "_model_name": "HTMLModel",
            "placeholder": "​",
            "_view_module": "@jupyter-widgets/controls",
            "_model_module_version": "1.5.0",
            "value": "100%",
            "_view_count": null,
            "_view_module_version": "1.5.0",
            "description_tooltip": null,
            "_model_module": "@jupyter-widgets/controls",
            "layout": "IPY_MODEL_6b32c6308ceb4bd28175cb2a2d03e25d"
          }
        },
        "059e26080b4148fc8920031594f73971": {
          "model_module": "@jupyter-widgets/controls",
          "model_name": "FloatProgressModel",
          "model_module_version": "1.5.0",
          "state": {
            "_view_name": "ProgressView",
            "style": "IPY_MODEL_53f6925191964f728e1d320084da08d4",
            "_dom_classes": [],
            "description": "",
            "_model_name": "FloatProgressModel",
            "bar_style": "success",
            "max": 178793939,
            "_view_module": "@jupyter-widgets/controls",
            "_model_module_version": "1.5.0",
            "value": 178793939,
            "_view_count": null,
            "_view_module_version": "1.5.0",
            "orientation": "horizontal",
            "min": 0,
            "description_tooltip": null,
            "_model_module": "@jupyter-widgets/controls",
            "layout": "IPY_MODEL_e82e651843274abdb2a570560cc1cdf4"
          }
        },
        "6a40eb37ba8b4a029ebc9f5cce01ed37": {
          "model_module": "@jupyter-widgets/controls",
          "model_name": "HTMLModel",
          "model_module_version": "1.5.0",
          "state": {
            "_view_name": "HTMLView",
            "style": "IPY_MODEL_de2a382a52ad4c8fbea195afcd4fb69d",
            "_dom_classes": [],
            "description": "",
            "_model_name": "HTMLModel",
            "placeholder": "​",
            "_view_module": "@jupyter-widgets/controls",
            "_model_module_version": "1.5.0",
            "value": " 171M/171M [00:01&lt;00:00, 176MB/s]",
            "_view_count": null,
            "_view_module_version": "1.5.0",
            "description_tooltip": null,
            "_model_module": "@jupyter-widgets/controls",
            "layout": "IPY_MODEL_45a336d6ea32494ea8b1c6d76f269e8b"
          }
        },
        "d8eadf0bd2b44860a31d7a76411a0b15": {
          "model_module": "@jupyter-widgets/controls",
          "model_name": "DescriptionStyleModel",
          "model_module_version": "1.5.0",
          "state": {
            "_view_name": "StyleView",
            "_model_name": "DescriptionStyleModel",
            "description_width": "",
            "_view_module": "@jupyter-widgets/base",
            "_model_module_version": "1.5.0",
            "_view_count": null,
            "_view_module_version": "1.2.0",
            "_model_module": "@jupyter-widgets/controls"
          }
        },
        "6b32c6308ceb4bd28175cb2a2d03e25d": {
          "model_module": "@jupyter-widgets/base",
          "model_name": "LayoutModel",
          "model_module_version": "1.2.0",
          "state": {
            "_view_name": "LayoutView",
            "grid_template_rows": null,
            "right": null,
            "justify_content": null,
            "_view_module": "@jupyter-widgets/base",
            "overflow": null,
            "_model_module_version": "1.2.0",
            "_view_count": null,
            "flex_flow": null,
            "width": null,
            "min_width": null,
            "border": null,
            "align_items": null,
            "bottom": null,
            "_model_module": "@jupyter-widgets/base",
            "top": null,
            "grid_column": null,
            "overflow_y": null,
            "overflow_x": null,
            "grid_auto_flow": null,
            "grid_area": null,
            "grid_template_columns": null,
            "flex": null,
            "_model_name": "LayoutModel",
            "justify_items": null,
            "grid_row": null,
            "max_height": null,
            "align_content": null,
            "visibility": null,
            "align_self": null,
            "height": null,
            "min_height": null,
            "padding": null,
            "grid_auto_rows": null,
            "grid_gap": null,
            "max_width": null,
            "order": null,
            "_view_module_version": "1.2.0",
            "grid_template_areas": null,
            "object_position": null,
            "object_fit": null,
            "grid_auto_columns": null,
            "margin": null,
            "display": null,
            "left": null
          }
        },
        "53f6925191964f728e1d320084da08d4": {
          "model_module": "@jupyter-widgets/controls",
          "model_name": "ProgressStyleModel",
          "model_module_version": "1.5.0",
          "state": {
            "_view_name": "StyleView",
            "_model_name": "ProgressStyleModel",
            "description_width": "",
            "_view_module": "@jupyter-widgets/base",
            "_model_module_version": "1.5.0",
            "_view_count": null,
            "_view_module_version": "1.2.0",
            "bar_color": null,
            "_model_module": "@jupyter-widgets/controls"
          }
        },
        "e82e651843274abdb2a570560cc1cdf4": {
          "model_module": "@jupyter-widgets/base",
          "model_name": "LayoutModel",
          "model_module_version": "1.2.0",
          "state": {
            "_view_name": "LayoutView",
            "grid_template_rows": null,
            "right": null,
            "justify_content": null,
            "_view_module": "@jupyter-widgets/base",
            "overflow": null,
            "_model_module_version": "1.2.0",
            "_view_count": null,
            "flex_flow": null,
            "width": null,
            "min_width": null,
            "border": null,
            "align_items": null,
            "bottom": null,
            "_model_module": "@jupyter-widgets/base",
            "top": null,
            "grid_column": null,
            "overflow_y": null,
            "overflow_x": null,
            "grid_auto_flow": null,
            "grid_area": null,
            "grid_template_columns": null,
            "flex": null,
            "_model_name": "LayoutModel",
            "justify_items": null,
            "grid_row": null,
            "max_height": null,
            "align_content": null,
            "visibility": null,
            "align_self": null,
            "height": null,
            "min_height": null,
            "padding": null,
            "grid_auto_rows": null,
            "grid_gap": null,
            "max_width": null,
            "order": null,
            "_view_module_version": "1.2.0",
            "grid_template_areas": null,
            "object_position": null,
            "object_fit": null,
            "grid_auto_columns": null,
            "margin": null,
            "display": null,
            "left": null
          }
        },
        "de2a382a52ad4c8fbea195afcd4fb69d": {
          "model_module": "@jupyter-widgets/controls",
          "model_name": "DescriptionStyleModel",
          "model_module_version": "1.5.0",
          "state": {
            "_view_name": "StyleView",
            "_model_name": "DescriptionStyleModel",
            "description_width": "",
            "_view_module": "@jupyter-widgets/base",
            "_model_module_version": "1.5.0",
            "_view_count": null,
            "_view_module_version": "1.2.0",
            "_model_module": "@jupyter-widgets/controls"
          }
        },
        "45a336d6ea32494ea8b1c6d76f269e8b": {
          "model_module": "@jupyter-widgets/base",
          "model_name": "LayoutModel",
          "model_module_version": "1.2.0",
          "state": {
            "_view_name": "LayoutView",
            "grid_template_rows": null,
            "right": null,
            "justify_content": null,
            "_view_module": "@jupyter-widgets/base",
            "overflow": null,
            "_model_module_version": "1.2.0",
            "_view_count": null,
            "flex_flow": null,
            "width": null,
            "min_width": null,
            "border": null,
            "align_items": null,
            "bottom": null,
            "_model_module": "@jupyter-widgets/base",
            "top": null,
            "grid_column": null,
            "overflow_y": null,
            "overflow_x": null,
            "grid_auto_flow": null,
            "grid_area": null,
            "grid_template_columns": null,
            "flex": null,
            "_model_name": "LayoutModel",
            "justify_items": null,
            "grid_row": null,
            "max_height": null,
            "align_content": null,
            "visibility": null,
            "align_self": null,
            "height": null,
            "min_height": null,
            "padding": null,
            "grid_auto_rows": null,
            "grid_gap": null,
            "max_width": null,
            "order": null,
            "_view_module_version": "1.2.0",
            "grid_template_areas": null,
            "object_position": null,
            "object_fit": null,
            "grid_auto_columns": null,
            "margin": null,
            "display": null,
            "left": null
          }
        }
      }
    }
  },
  "cells": [
    {
      "cell_type": "markdown",
      "metadata": {
        "id": "view-in-github",
        "colab_type": "text"
      },
      "source": [
        "<a href=\"https://colab.research.google.com/github/frarus/AMLexam/blob/main/Exam.ipynb\" target=\"_parent\"><img src=\"https://colab.research.google.com/assets/colab-badge.svg\" alt=\"Open In Colab\"/></a>"
      ]
    },
    {
      "cell_type": "code",
      "source": [
        "!pip install tensorboardX==1.4"
      ],
      "metadata": {
        "colab": {
          "base_uri": "https://localhost:8080/"
        },
        "id": "o3jrB7Oq8FVf",
        "outputId": "a6bee78c-96b7-4809-e0bc-d24a643b99a5"
      },
      "execution_count": 10,
      "outputs": [
        {
          "output_type": "stream",
          "name": "stdout",
          "text": [
            "Requirement already satisfied: tensorboardX==1.4 in /usr/local/lib/python3.7/dist-packages (1.4)\n",
            "Requirement already satisfied: protobuf>=3.2.0 in /usr/local/lib/python3.7/dist-packages (from tensorboardX==1.4) (3.17.3)\n",
            "Requirement already satisfied: six in /usr/local/lib/python3.7/dist-packages (from tensorboardX==1.4) (1.15.0)\n",
            "Requirement already satisfied: numpy in /usr/local/lib/python3.7/dist-packages (from tensorboardX==1.4) (1.19.5)\n"
          ]
        }
      ]
    },
    {
      "cell_type": "code",
      "source": [
        "from google.colab import drive\n",
        "drive.mount('/content/drive')"
      ],
      "metadata": {
        "colab": {
          "base_uri": "https://localhost:8080/"
        },
        "id": "mEi2CsDq--2b",
        "outputId": "90d9116e-29af-409e-cd07-cf1e7f239f03"
      },
      "execution_count": 9,
      "outputs": [
        {
          "output_type": "stream",
          "name": "stdout",
          "text": [
            "Drive already mounted at /content/drive; to attempt to forcibly remount, call drive.mount(\"/content/drive\", force_remount=True).\n"
          ]
        }
      ]
    },
    {
      "cell_type": "code",
      "source": [
        "import os\n",
        "import logging\n",
        "\n"
      ],
      "metadata": {
        "id": "tmA_KI_u_Dib"
      },
      "execution_count": 11,
      "outputs": []
    },
    {
      "cell_type": "code",
      "source": [
        "if not os.path.isdir('./AMLexam'):\n",
        "\n",
        "  !git clone 'https://github.com/frarus/AMLexam.git'\n"
      ],
      "metadata": {
        "id": "18K55-maFLqT",
        "colab": {
          "base_uri": "https://localhost:8080/"
        },
        "outputId": "c6c66d51-b217-46c6-d46a-5b54857c6522"
      },
      "execution_count": 5,
      "outputs": [
        {
          "output_type": "stream",
          "name": "stdout",
          "text": [
            "Cloning into 'AMLexam'...\n",
            "remote: Enumerating objects: 205, done.\u001b[K\n",
            "remote: Counting objects: 100% (205/205), done.\u001b[K\n",
            "remote: Compressing objects: 100% (159/159), done.\u001b[K\n",
            "remote: Total 205 (delta 76), reused 130 (delta 32), pack-reused 0\u001b[K\n",
            "Receiving objects: 100% (205/205), 312.16 KiB | 5.57 MiB/s, done.\n",
            "Resolving deltas: 100% (76/76), done.\n"
          ]
        }
      ]
    },
    {
      "cell_type": "code",
      "source": [
        "cd AMLexam/"
      ],
      "metadata": {
        "colab": {
          "base_uri": "https://localhost:8080/"
        },
        "id": "Etr9-Z1NMWzZ",
        "outputId": "db68a9bb-b48b-4187-8c28-fa209c139dcb"
      },
      "execution_count": 12,
      "outputs": [
        {
          "output_type": "stream",
          "name": "stdout",
          "text": [
            "[Errno 2] No such file or directory: 'AMLexam/'\n",
            "/content/AMLexam/BiSeNet\n"
          ]
        }
      ]
    },
    {
      "cell_type": "code",
      "source": [
        "cd BiSeNet/"
      ],
      "metadata": {
        "colab": {
          "base_uri": "https://localhost:8080/"
        },
        "id": "Vt6bstMkMdYI",
        "outputId": "c4859213-70cc-453e-e1c5-29eff34903ba"
      },
      "execution_count": 13,
      "outputs": [
        {
          "output_type": "stream",
          "name": "stdout",
          "text": [
            "[Errno 2] No such file or directory: 'BiSeNet/'\n",
            "/content/AMLexam/BiSeNet\n"
          ]
        }
      ]
    },
    {
      "cell_type": "code",
      "source": [
        "import json\n",
        "variables = json.load(open('/content/drive/MyDrive/Datasets/Cityscapes/info.json', 'r'))\n",
        "    \n",
        "label_info=variables['palette']\n",
        "print (label_info)\n",
        "classes=variables['label']"
      ],
      "metadata": {
        "id": "Nc_3IhNm-1tz",
        "outputId": "4794af71-30f0-4f3f-fbb2-fb0ab5222216",
        "colab": {
          "base_uri": "https://localhost:8080/"
        }
      },
      "execution_count": null,
      "outputs": [
        {
          "output_type": "stream",
          "name": "stdout",
          "text": [
            "[[128, 64, 128], [244, 35, 232], [70, 70, 70], [102, 102, 156], [190, 153, 153], [153, 153, 153], [250, 170, 30], [220, 220, 0], [107, 142, 35], [152, 251, 152], [70, 130, 180], [220, 20, 60], [255, 0, 0], [0, 0, 142], [0, 0, 70], [0, 60, 100], [0, 80, 100], [0, 0, 230], [119, 11, 32], [0, 0, 0]]\n"
          ]
        }
      ]
    },
    {
      "cell_type": "code",
      "source": [
        "import matplotlib.pyplot as plt\n",
        "for i in range (len(classes)):\n",
        "  print (classes[i])\n",
        "  img=np.array([[label_info[i]]], dtype=np.ubyte)\n",
        "  img = PIL.fromarray(img, 'RGB')\n",
        "  plt.imshow(img)\n",
        "  plt.show()"
      ],
      "metadata": {
        "id": "BVGcP5QvJkio",
        "outputId": "9bc68bdc-bcc9-497c-d03d-d3fa8f34dec8",
        "colab": {
          "base_uri": "https://localhost:8080/",
          "height": 1000
        }
      },
      "execution_count": null,
      "outputs": [
        {
          "output_type": "stream",
          "name": "stdout",
          "text": [
            "road\n",
            "[[[128  64 128]]]\n"
          ]
        },
        {
          "output_type": "display_data",
          "data": {
            "image/png": "[encoded data removed]",
            "text/plain": [
              "<Figure size 432x288 with 1 Axes>"
            ]
          },
          "metadata": {
            "needs_background": "light"
          }
        },
        {
          "output_type": "stream",
          "name": "stdout",
          "text": [
            "sidewalk\n",
            "[[[244  35 232]]]\n"
          ]
        },
        {
          "output_type": "display_data",
          "data": {
            "image/png": "[encoded data removed]",
            "text/plain": [
              "<Figure size 432x288 with 1 Axes>"
            ]
          },
          "metadata": {
            "needs_background": "light"
          }
        },
        {
          "output_type": "stream",
          "name": "stdout",
          "text": [
            "building\n",
            "[[[70 70 70]]]\n"
          ]
        },
        {
          "output_type": "display_data",
          "data": {
            "image/png": "[encoded data removed]",
            "text/plain": [
              "<Figure size 432x288 with 1 Axes>"
            ]
          },
          "metadata": {
            "needs_background": "light"
          }
        },
        {
          "output_type": "stream",
          "name": "stdout",
          "text": [
            "wall\n",
            "[[[102 102 156]]]\n"
          ]
        },
        {
          "output_type": "display_data",
          "data": {
            "image/png": "[encoded data removed]",
            "text/plain": [
              "<Figure size 432x288 with 1 Axes>"
            ]
          },
          "metadata": {
            "needs_background": "light"
          }
        },
        {
          "output_type": "stream",
          "name": "stdout",
          "text": [
            "fence\n",
            "[[[190 153 153]]]\n"
          ]
        },
        {
          "output_type": "display_data",
          "data": {
            "image/png": "[encoded data removed]",
            "text/plain": [
              "<Figure size 432x288 with 1 Axes>"
            ]
          },
          "metadata": {
            "needs_background": "light"
          }
        },
        {
          "output_type": "stream",
          "name": "stdout",
          "text": [
            "pole\n",
            "[[[153 153 153]]]\n"
          ]
        },
        {
          "output_type": "display_data",
          "data": {
            "image/png": "[encoded data removed]",
            "text/plain": [
              "<Figure size 432x288 with 1 Axes>"
            ]
          },
          "metadata": {
            "needs_background": "light"
          }
        },
        {
          "output_type": "stream",
          "name": "stdout",
          "text": [
            "light\n",
            "[[[250 170  30]]]\n"
          ]
        },
        {
          "output_type": "display_data",
          "data": {
            "image/png": "[encoded data removed]",
            "text/plain": [
              "<Figure size 432x288 with 1 Axes>"
            ]
          },
          "metadata": {
            "needs_background": "light"
          }
        },
        {
          "output_type": "stream",
          "name": "stdout",
          "text": [
            "sign\n",
            "[[[220 220   0]]]\n"
          ]
        },
        {
          "output_type": "display_data",
          "data": {
            "image/png": "[encoded data removed]",
            "text/plain": [
              "<Figure size 432x288 with 1 Axes>"
            ]
          },
          "metadata": {
            "needs_background": "light"
          }
        },
        {
          "output_type": "stream",
          "name": "stdout",
          "text": [
            "vegetation\n",
            "[[[107 142  35]]]\n"
          ]
        },
        {
          "output_type": "display_data",
          "data": {
            "image/png": "[encoded data removed]",
            "text/plain": [
              "<Figure size 432x288 with 1 Axes>"
            ]
          },
          "metadata": {
            "needs_background": "light"
          }
        },
        {
          "output_type": "stream",
          "name": "stdout",
          "text": [
            "terrain\n",
            "[[[152 251 152]]]\n"
          ]
        },
        {
          "output_type": "display_data",
          "data": {
            "image/png": "[encoded data removed]",
            "text/plain": [
              "<Figure size 432x288 with 1 Axes>"
            ]
          },
          "metadata": {
            "needs_background": "light"
          }
        },
        {
          "output_type": "stream",
          "name": "stdout",
          "text": [
            "sky\n",
            "[[[ 70 130 180]]]\n"
          ]
        },
        {
          "output_type": "display_data",
          "data": {
            "image/png": "[encoded data removed]",
            "text/plain": [
              "<Figure size 432x288 with 1 Axes>"
            ]
          },
          "metadata": {
            "needs_background": "light"
          }
        },
        {
          "output_type": "stream",
          "name": "stdout",
          "text": [
            "person\n",
            "[[[220  20  60]]]\n"
          ]
        },
        {
          "output_type": "display_data",
          "data": {
            "image/png": "[encoded data removed]",
            "text/plain": [
              "<Figure size 432x288 with 1 Axes>"
            ]
          },
          "metadata": {
            "needs_background": "light"
          }
        },
        {
          "output_type": "stream",
          "name": "stdout",
          "text": [
            "rider\n",
            "[[[255   0   0]]]\n"
          ]
        },
        {
          "output_type": "display_data",
          "data": {
            "image/png": "[encoded data removed]",
            "text/plain": [
              "<Figure size 432x288 with 1 Axes>"
            ]
          },
          "metadata": {
            "needs_background": "light"
          }
        },
        {
          "output_type": "stream",
          "name": "stdout",
          "text": [
            "car\n",
            "[[[  0   0 142]]]\n"
          ]
        },
        {
          "output_type": "display_data",
          "data": {
            "image/png": "[encoded data removed]",
            "text/plain": [
              "<Figure size 432x288 with 1 Axes>"
            ]
          },
          "metadata": {
            "needs_background": "light"
          }
        },
        {
          "output_type": "stream",
          "name": "stdout",
          "text": [
            "truck\n",
            "[[[ 0  0 70]]]\n"
          ]
        },
        {
          "output_type": "display_data",
          "data": {
            "image/png": "[encoded data removed]",
            "text/plain": [
              "<Figure size 432x288 with 1 Axes>"
            ]
          },
          "metadata": {
            "needs_background": "light"
          }
        },
        {
          "output_type": "stream",
          "name": "stdout",
          "text": [
            "bus\n",
            "[[[  0  60 100]]]\n"
          ]
        },
        {
          "output_type": "display_data",
          "data": {
            "image/png": "[encoded data removed]",
            "text/plain": [
              "<Figure size 432x288 with 1 Axes>"
            ]
          },
          "metadata": {
            "needs_background": "light"
          }
        },
        {
          "output_type": "stream",
          "name": "stdout",
          "text": [
            "train\n",
            "[[[  0  80 100]]]\n"
          ]
        },
        {
          "output_type": "display_data",
          "data": {
            "image/png": "[encoded data removed]",
            "text/plain": [
              "<Figure size 432x288 with 1 Axes>"
            ]
          },
          "metadata": {
            "needs_background": "light"
          }
        },
        {
          "output_type": "stream",
          "name": "stdout",
          "text": [
            "motocycle\n",
            "[[[  0   0 230]]]\n"
          ]
        },
        {
          "output_type": "display_data",
          "data": {
            "image/png": "[encoded data removed]",
            "text/plain": [
              "<Figure size 432x288 with 1 Axes>"
            ]
          },
          "metadata": {
            "needs_background": "light"
          }
        },
        {
          "output_type": "stream",
          "name": "stdout",
          "text": [
            "bicycle\n",
            "[[[119  11  32]]]\n"
          ]
        },
        {
          "output_type": "display_data",
          "data": {
            "image/png": "[encoded data removed]",
            "text/plain": [
              "<Figure size 432x288 with 1 Axes>"
            ]
          },
          "metadata": {
            "needs_background": "light"
          }
        }
      ]
    },
    {
      "cell_type": "code",
      "source": [
        "from model.build_BiSeNet import BiSeNet\n",
        "import torch\n",
        "model = BiSeNet(19, 'resnet101')\n",
        "model = torch.nn.DataParallel(model).cuda()\n",
        "\n",
        "print('load model...')\n",
        "checkpoint = torch.load('/content/drive/MyDrive/checkpoints_101_sgd_da/best_crossentropy_loss.pth')\n",
        "# load pretrained model if exists\n",
        "model.module.load_state_dict(checkpoint['model_state_dict'])\n",
        "print('Done!')"
      ],
      "metadata": {
        "id": "-dRWOe6mC6vQ",
        "outputId": "255f3088-7f65-46d4-b4df-e8de39bff85b",
        "colab": {
          "base_uri": "https://localhost:8080/"
        }
      },
      "execution_count": null,
      "outputs": [
        {
          "output_type": "stream",
          "name": "stdout",
          "text": [
            "load model...\n",
            "Done!\n"
          ]
        }
      ]
    },
    {
      "cell_type": "code",
      "source": [
        "from SSL import create_pseudo_labels\n",
        "create_pseudo_labels(model, '/content/drive/MyDrive/Datasets/pseudolabels_test', num_workers=8, batch_size=1)\n"
      ],
      "metadata": {
        "id": "LPrc1vqZDnGY",
        "colab": {
          "base_uri": "https://localhost:8080/"
        },
        "outputId": "d1f34b92-16b4-4ab7-904f-f7d50a60b849"
      },
      "execution_count": null,
      "outputs": [
        {
          "output_type": "stream",
          "name": "stdout",
          "text": [
            "[0.9968708157539368, 0.920551061630249, 0.9970410466194153, 0.7154638767242432, 0.6565930247306824, 0.620246410369873, 0.5886152386665344, 0.6843947172164917, 0.9893134236335754, 0.9131702184677124, 0.9997853636741638, 0.9231000542640686, 0.5538057684898376, 0.9874616265296936, 0.8128198981285095, 0.7287898659706116, 0.27012649178504944, 0.4560476541519165, 0]\n",
            "[0.9        0.9        0.9        0.71546388 0.65659302 0.62024641\n",
            " 0.58861524 0.68439472 0.9        0.9        0.9        0.9\n",
            " 0.55380577 0.9        0.8128199  0.72878987 0.27012649 0.45604765\n",
            " 0.        ]\n"
          ]
        }
      ]
    },
    {
      "cell_type": "code",
      "source": [
        "!python trainGTAtoCityscapespuntoc.py"
      ],
      "metadata": {
        "colab": {
          "base_uri": "https://localhost:8080/"
        },
        "id": "ga3LVVzC34uh",
        "outputId": "8a6ed82e-5ede-47a1-edc5-4e51b6b30976"
      },
      "execution_count": null,
      "outputs": [
        {
          "output_type": "stream",
          "name": "stdout",
          "text": [
            "epoch 0, lr 0.025000: 100% 1000/1000 [02:23<00:00,  6.99it/s]\n",
            "average loss for train : 3.271510\n",
            "start val!\n",
            "precision per pixel for test: 0.645\n",
            "mIoU for validation: 0.175\n",
            "iter =        0/      75, loss_segmentation = 2.646 loss_adversarial = 0.691 loss_D = 0.687 \n",
            "epoch 1, lr 0.024700: 100% 1000/1000 [02:21<00:00,  7.05it/s]\n",
            "average loss for train : 2.012174\n",
            "start val!\n",
            "precision per pixel for test: 0.482\n",
            "mIoU for validation: 0.144\n",
            "iter =        1/      75, loss_segmentation = 1.845 loss_adversarial = 0.682 loss_D = 0.679 \n",
            "epoch 2, lr 0.024399: 100% 1000/1000 [02:21<00:00,  7.05it/s]\n",
            "average loss for train : 1.744484\n",
            "start val!\n",
            "precision per pixel for test: 0.489\n",
            "mIoU for validation: 0.157\n",
            "iter =        2/      75, loss_segmentation = 1.691 loss_adversarial = 0.752 loss_D = 0.677 \n",
            "epoch 3, lr 0.024098: 100% 1000/1000 [02:22<00:00,  7.03it/s]\n",
            "average loss for train : 1.512641\n",
            "start val!\n",
            "precision per pixel for test: 0.639\n",
            "mIoU for validation: 0.211\n",
            "iter =        3/      75, loss_segmentation = 1.079 loss_adversarial = 0.749 loss_D = 0.666 \n",
            "epoch 4, lr 0.023797: 100% 1000/1000 [02:22<00:00,  7.03it/s]\n",
            "average loss for train : 1.356188\n",
            "start val!\n",
            "precision per pixel for test: 0.691\n",
            "mIoU for validation: 0.241\n",
            "iter =        4/      75, loss_segmentation = 1.235 loss_adversarial = 0.748 loss_D = 0.661 \n",
            "epoch 5, lr 0.023495: 100% 1000/1000 [02:22<00:00,  7.01it/s]\n",
            "average loss for train : 1.244845\n",
            "start val!\n",
            "precision per pixel for test: 0.652\n",
            "mIoU for validation: 0.237\n",
            "iter =        5/      75, loss_segmentation = 0.818 loss_adversarial = 0.738 loss_D = 0.670 \n",
            "epoch 6, lr 0.023193: 100% 1000/1000 [02:21<00:00,  7.05it/s]\n",
            "average loss for train : 1.049106\n",
            "start val!\n",
            "precision per pixel for test: 0.393\n",
            "mIoU for validation: 0.169\n",
            "iter =        6/      75, loss_segmentation = 1.106 loss_adversarial = 0.791 loss_D = 0.626 \n",
            "epoch 7, lr 0.022890: 100% 1000/1000 [02:21<00:00,  7.04it/s]\n",
            "average loss for train : 1.039630\n",
            "start val!\n",
            "precision per pixel for test: 0.624\n",
            "mIoU for validation: 0.225\n",
            "iter =        7/      75, loss_segmentation = 1.149 loss_adversarial = 0.820 loss_D = 0.635 \n",
            "epoch 8, lr 0.022587: 100% 1000/1000 [02:22<00:00,  7.03it/s]\n",
            "average loss for train : 0.887107\n",
            "start val!\n",
            "precision per pixel for test: 0.632\n",
            "mIoU for validation: 0.226\n",
            "iter =        8/      75, loss_segmentation = 0.688 loss_adversarial = 0.806 loss_D = 0.631 \n",
            "epoch 9, lr 0.022283: 100% 1000/1000 [02:22<00:00,  7.02it/s]\n",
            "average loss for train : 0.801433\n",
            "start val!\n",
            "precision per pixel for test: 0.644\n",
            "mIoU for validation: 0.249\n",
            "iter =        9/      75, loss_segmentation = 0.774 loss_adversarial = 0.893 loss_D = 0.622 \n",
            "epoch 10, lr 0.021979: 100% 1000/1000 [02:22<00:00,  7.02it/s]\n",
            "average loss for train : 0.869716\n",
            "start val!\n",
            "precision per pixel for test: 0.618\n",
            "mIoU for validation: 0.235\n",
            "iter =       10/      75, loss_segmentation = 0.664 loss_adversarial = 0.902 loss_D = 0.591 \n",
            "epoch 11, lr 0.021674: 100% 1000/1000 [02:22<00:00,  7.02it/s]\n",
            "average loss for train : 0.811502\n",
            "start val!\n",
            "precision per pixel for test: 0.614\n",
            "mIoU for validation: 0.232\n",
            "iter =       11/      75, loss_segmentation = 0.834 loss_adversarial = 0.716 loss_D = 0.684 \n",
            "epoch 12, lr 0.021369: 100% 1000/1000 [02:22<00:00,  7.03it/s]\n",
            "average loss for train : 0.710882\n",
            "start val!\n",
            "precision per pixel for test: 0.640\n",
            "mIoU for validation: 0.268\n",
            "iter =       12/      75, loss_segmentation = 0.725 loss_adversarial = 0.945 loss_D = 0.597 \n",
            "epoch 13, lr 0.021064: 100% 1000/1000 [02:22<00:00,  7.01it/s]\n",
            "average loss for train : 0.645208\n",
            "start val!\n",
            "precision per pixel for test: 0.666\n",
            "mIoU for validation: 0.263\n",
            "iter =       13/      75, loss_segmentation = 0.639 loss_adversarial = 0.993 loss_D = 0.571 \n",
            "epoch 14, lr 0.020758: 100% 1000/1000 [02:22<00:00,  7.04it/s]\n",
            "average loss for train : 0.582450\n",
            "start val!\n",
            "precision per pixel for test: 0.665\n",
            "mIoU for validation: 0.286\n",
            "iter =       14/      75, loss_segmentation = 0.389 loss_adversarial = 0.963 loss_D = 0.626 \n",
            "epoch 15, lr 0.020451: 100% 1000/1000 [02:22<00:00,  7.02it/s]\n",
            "average loss for train : 0.548331\n",
            "start val!\n",
            "precision per pixel for test: 0.466\n",
            "mIoU for validation: 0.226\n",
            "iter =       15/      75, loss_segmentation = 0.593 loss_adversarial = 1.002 loss_D = 0.627 \n",
            "epoch 16, lr 0.020144: 100% 1000/1000 [02:22<00:00,  7.02it/s]\n",
            "average loss for train : 0.553775\n",
            "start val!\n",
            "precision per pixel for test: 0.611\n",
            "mIoU for validation: 0.248\n",
            "iter =       16/      75, loss_segmentation = 0.491 loss_adversarial = 1.029 loss_D = 0.612 \n",
            "epoch 17, lr 0.019837: 100% 1000/1000 [02:22<00:00,  7.03it/s]\n",
            "average loss for train : 0.497828\n",
            "start val!\n",
            "precision per pixel for test: 0.617\n",
            "mIoU for validation: 0.259\n",
            "iter =       17/      75, loss_segmentation = 0.584 loss_adversarial = 0.880 loss_D = 0.658 \n",
            "epoch 18, lr 0.019529: 100% 1000/1000 [02:22<00:00,  7.01it/s]\n",
            "average loss for train : 0.504649\n",
            "start val!\n",
            "precision per pixel for test: 0.677\n",
            "mIoU for validation: 0.285\n",
            "iter =       18/      75, loss_segmentation = 0.372 loss_adversarial = 0.963 loss_D = 0.646 \n",
            "epoch 19, lr 0.019220: 100% 1000/1000 [02:22<00:00,  7.03it/s]\n",
            "average loss for train : 0.458588\n",
            "start val!\n",
            "precision per pixel for test: 0.660\n",
            "mIoU for validation: 0.280\n",
            "iter =       19/      75, loss_segmentation = 0.466 loss_adversarial = 1.021 loss_D = 0.618 \n",
            "epoch 20, lr 0.018911: 100% 1000/1000 [02:22<00:00,  7.02it/s]\n",
            "average loss for train : 0.438930\n",
            "start val!\n",
            "precision per pixel for test: 0.688\n",
            "mIoU for validation: 0.304\n",
            "iter =       20/      75, loss_segmentation = 0.360 loss_adversarial = 0.880 loss_D = 0.635 \n",
            "epoch 21, lr 0.018601: 100% 1000/1000 [02:23<00:00,  6.99it/s]\n",
            "average loss for train : 0.696394\n",
            "start val!\n",
            "precision per pixel for test: 0.675\n",
            "mIoU for validation: 0.267\n",
            "iter =       21/      75, loss_segmentation = 0.637 loss_adversarial = 0.988 loss_D = 0.606 \n",
            "epoch 22, lr 0.018291: 100% 1000/1000 [02:22<00:00,  7.02it/s]\n",
            "average loss for train : 0.512903\n",
            "start val!\n",
            "precision per pixel for test: 0.587\n",
            "mIoU for validation: 0.241\n",
            "iter =       22/      75, loss_segmentation = 0.849 loss_adversarial = 0.905 loss_D = 0.702 \n",
            "epoch 23, lr 0.017980: 100% 1000/1000 [02:22<00:00,  7.01it/s]\n",
            "average loss for train : 0.456118\n",
            "start val!\n",
            "precision per pixel for test: 0.696\n",
            "mIoU for validation: 0.295\n",
            "iter =       23/      75, loss_segmentation = 0.401 loss_adversarial = 0.919 loss_D = 0.637 \n",
            "epoch 24, lr 0.017668: 100% 1000/1000 [02:22<00:00,  7.02it/s]\n",
            "average loss for train : 0.422799\n",
            "start val!\n",
            "precision per pixel for test: 0.661\n",
            "mIoU for validation: 0.278\n",
            "iter =       24/      75, loss_segmentation = 0.401 loss_adversarial = 1.184 loss_D = 0.529 \n",
            "epoch 25, lr 0.017356: 100% 1000/1000 [02:22<00:00,  7.02it/s]\n",
            "average loss for train : 0.409370\n",
            "start val!\n",
            "precision per pixel for test: 0.640\n",
            "mIoU for validation: 0.270\n",
            "iter =       25/      75, loss_segmentation = 0.290 loss_adversarial = 1.030 loss_D = 0.574 \n",
            "epoch 26, lr 0.017044: 100% 1000/1000 [02:21<00:00,  7.04it/s]\n",
            "average loss for train : 0.398316\n",
            "start val!\n",
            "precision per pixel for test: 0.654\n",
            "mIoU for validation: 0.281\n",
            "iter =       26/      75, loss_segmentation = 0.449 loss_adversarial = 0.936 loss_D = 0.625 \n",
            "epoch 27, lr 0.016730: 100% 1000/1000 [02:22<00:00,  7.02it/s]\n",
            "average loss for train : 0.382886\n",
            "start val!\n",
            "precision per pixel for test: 0.663\n",
            "mIoU for validation: 0.280\n",
            "iter =       27/      75, loss_segmentation = 0.310 loss_adversarial = 1.005 loss_D = 0.606 \n",
            "epoch 28, lr 0.016416: 100% 1000/1000 [02:22<00:00,  7.02it/s]\n",
            "average loss for train : 0.375391\n",
            "start val!\n",
            "precision per pixel for test: 0.597\n",
            "mIoU for validation: 0.260\n",
            "iter =       28/      75, loss_segmentation = 0.388 loss_adversarial = 0.998 loss_D = 0.661 \n",
            "epoch 29, lr 0.016102: 100% 1000/1000 [02:22<00:00,  7.02it/s]\n",
            "average loss for train : 0.370930\n",
            "start val!\n",
            "precision per pixel for test: 0.638\n",
            "mIoU for validation: 0.276\n",
            "iter =       29/      75, loss_segmentation = 0.324 loss_adversarial = 1.279 loss_D = 0.557 \n",
            "epoch 30, lr 0.015786: 100% 1000/1000 [02:22<00:00,  7.03it/s]\n",
            "average loss for train : 0.360598\n",
            "start val!\n",
            "precision per pixel for test: 0.661\n",
            "mIoU for validation: 0.284\n",
            "iter =       30/      75, loss_segmentation = 0.463 loss_adversarial = 1.020 loss_D = 0.641 \n",
            "epoch 31, lr 0.015470: 100% 1000/1000 [02:22<00:00,  7.04it/s]\n",
            "average loss for train : 0.356801\n",
            "start val!\n",
            "precision per pixel for test: 0.640\n",
            "mIoU for validation: 0.272\n",
            "iter =       31/      75, loss_segmentation = 0.326 loss_adversarial = 1.177 loss_D = 0.538 \n",
            "epoch 32, lr 0.015153: 100% 1000/1000 [02:22<00:00,  7.03it/s]\n",
            "average loss for train : 0.352144\n",
            "start val!\n",
            "precision per pixel for test: 0.659\n",
            "mIoU for validation: 0.286\n",
            "iter =       32/      75, loss_segmentation = 0.309 loss_adversarial = 1.240 loss_D = 0.563 \n",
            "epoch 33, lr 0.014836: 100% 1000/1000 [02:22<00:00,  7.03it/s]\n",
            "average loss for train : 0.346960\n",
            "start val!\n",
            "precision per pixel for test: 0.663\n",
            "mIoU for validation: 0.285\n",
            "iter =       33/      75, loss_segmentation = 0.351 loss_adversarial = 1.073 loss_D = 0.563 \n",
            "epoch 34, lr 0.014517: 100% 1000/1000 [02:22<00:00,  7.03it/s]\n",
            "average loss for train : 0.340630\n",
            "start val!\n",
            "precision per pixel for test: 0.672\n",
            "mIoU for validation: 0.288\n",
            "iter =       34/      75, loss_segmentation = 0.350 loss_adversarial = 0.944 loss_D = 0.630 \n",
            "epoch 35, lr 0.014198: 100% 1000/1000 [02:22<00:00,  7.04it/s]\n",
            "average loss for train : 0.335601\n",
            "start val!\n",
            "precision per pixel for test: 0.665\n",
            "mIoU for validation: 0.281\n",
            "iter =       35/      75, loss_segmentation = 0.372 loss_adversarial = 1.192 loss_D = 0.558 \n",
            "epoch 36, lr 0.013879: 100% 1000/1000 [02:22<00:00,  7.03it/s]\n",
            "average loss for train : 0.330660\n",
            "start val!\n",
            "precision per pixel for test: 0.671\n",
            "mIoU for validation: 0.286\n",
            "iter =       36/      75, loss_segmentation = 0.317 loss_adversarial = 1.147 loss_D = 0.615 \n",
            "epoch 37, lr 0.013558: 100% 1000/1000 [02:22<00:00,  7.01it/s]\n",
            "average loss for train : 0.326711\n",
            "start val!\n",
            "precision per pixel for test: 0.671\n",
            "mIoU for validation: 0.281\n",
            "iter =       37/      75, loss_segmentation = 0.342 loss_adversarial = 1.125 loss_D = 0.626 \n",
            "epoch 38, lr 0.013236: 100% 1000/1000 [02:22<00:00,  7.00it/s]\n",
            "average loss for train : 0.325992\n",
            "start val!\n",
            "precision per pixel for test: 0.655\n",
            "mIoU for validation: 0.281\n",
            "iter =       38/      75, loss_segmentation = 0.347 loss_adversarial = 1.178 loss_D = 0.607 \n",
            "epoch 39, lr 0.012914: 100% 1000/1000 [02:22<00:00,  7.01it/s]\n",
            "average loss for train : 0.322314\n",
            "start val!\n",
            "precision per pixel for test: 0.654\n",
            "mIoU for validation: 0.277\n",
            "iter =       39/      75, loss_segmentation = 0.359 loss_adversarial = 1.222 loss_D = 0.570 \n",
            "epoch 40, lr 0.012591: 100% 1000/1000 [02:22<00:00,  7.02it/s]\n",
            "average loss for train : 0.320004\n",
            "start val!\n",
            "precision per pixel for test: 0.655\n",
            "mIoU for validation: 0.272\n",
            "iter =       40/      75, loss_segmentation = 0.390 loss_adversarial = 1.186 loss_D = 0.528 \n",
            "epoch 41, lr 0.012266: 100% 1000/1000 [02:22<00:00,  7.03it/s]\n",
            "average loss for train : 0.317480\n",
            "start val!\n",
            "precision per pixel for test: 0.675\n",
            "mIoU for validation: 0.286\n",
            "iter =       41/      75, loss_segmentation = 0.297 loss_adversarial = 1.092 loss_D = 0.597 \n",
            "epoch 42, lr 0.011941: 100% 1000/1000 [02:22<00:00,  7.03it/s]\n",
            "average loss for train : 0.314297\n",
            "start val!\n",
            "precision per pixel for test: 0.676\n",
            "mIoU for validation: 0.285\n",
            "iter =       42/      75, loss_segmentation = 0.231 loss_adversarial = 1.173 loss_D = 0.538 \n",
            "epoch 43, lr 0.011615: 100% 1000/1000 [02:22<00:00,  7.03it/s]\n",
            "average loss for train : 0.311693\n",
            "start val!\n",
            "precision per pixel for test: 0.675\n",
            "mIoU for validation: 0.285\n",
            "iter =       43/      75, loss_segmentation = 0.281 loss_adversarial = 1.121 loss_D = 0.528 \n",
            "epoch 44, lr 0.011288: 100% 1000/1000 [02:22<00:00,  7.03it/s]\n",
            "average loss for train : 0.307058\n",
            "start val!\n",
            "precision per pixel for test: 0.687\n",
            "mIoU for validation: 0.286\n",
            "iter =       44/      75, loss_segmentation = 0.403 loss_adversarial = 1.150 loss_D = 0.611 \n",
            "epoch 45, lr 0.010960: 100% 1000/1000 [02:22<00:00,  7.01it/s]\n",
            "average loss for train : 0.304256\n",
            "start val!\n",
            "precision per pixel for test: 0.683\n",
            "mIoU for validation: 0.288\n",
            "iter =       45/      75, loss_segmentation = 0.215 loss_adversarial = 1.189 loss_D = 0.515 \n",
            "epoch 46, lr 0.010630: 100% 1000/1000 [02:22<00:00,  7.02it/s]\n",
            "average loss for train : 0.302242\n",
            "start val!\n",
            "precision per pixel for test: 0.684\n",
            "mIoU for validation: 0.288\n",
            "iter =       46/      75, loss_segmentation = 0.309 loss_adversarial = 1.137 loss_D = 0.601 \n",
            "epoch 47, lr 0.010300: 100% 1000/1000 [02:22<00:00,  7.02it/s]\n",
            "average loss for train : 0.300505\n",
            "start val!\n",
            "precision per pixel for test: 0.681\n",
            "mIoU for validation: 0.287\n",
            "iter =       47/      75, loss_segmentation = 0.338 loss_adversarial = 1.271 loss_D = 0.591 \n",
            "epoch 48, lr 0.009968: 100% 1000/1000 [02:22<00:00,  7.03it/s]\n",
            "average loss for train : 0.300187\n",
            "start val!\n",
            "precision per pixel for test: 0.686\n",
            "mIoU for validation: 0.290\n",
            "iter =       48/      75, loss_segmentation = 0.362 loss_adversarial = 0.989 loss_D = 0.573 \n",
            "epoch 49, lr 0.009635: 100% 1000/1000 [02:22<00:00,  7.03it/s]\n",
            "average loss for train : 0.296576\n",
            "start val!\n",
            "precision per pixel for test: 0.696\n",
            "mIoU for validation: 0.295\n",
            "iter =       49/      75, loss_segmentation = 0.291 loss_adversarial = 1.260 loss_D = 0.650 \n",
            "tcmalloc: large alloc 2097152000 bytes == 0x5567b2dd8000 @  0x7f69d0bf2001 0x7f68cfa4c54f 0x7f68cfa9cb58 0x7f68cfaa0b17 0x7f68cfb3f203 0x5566ea826390 0x5566ea826120 0x5566ea89a679 0x5566ea89502f 0x5566ea827aba 0x5566ea896cd4 0x5566ea8279da 0x5566ea895eae 0x5566ea89502f 0x5566ea894d43 0x5566ea95f302 0x5566ea95f67d 0x5566ea95f526 0x5566ea9371d3 0x5566ea936e7c 0x7f69cf9dabf7 0x5566ea936d5a\n",
            "tcmalloc: large alloc 2097152000 bytes == 0x5568305d8000 @  0x7f69d0bf2001 0x7f68cfa4c54f 0x7f68cfa9cb58 0x7f68cfaa0b17 0x7f68cfb3f203 0x5566ea826390 0x5566ea826120 0x5566ea89a679 0x5566ea89502f 0x5566ea827aba 0x5566ea896cd4 0x5566ea8279da 0x5566ea895eae 0x5566ea89502f 0x5566ea894d43 0x5566ea95f302 0x5566ea95f67d 0x5566ea95f526 0x5566ea9371d3 0x5566ea936e7c 0x7f69cf9dabf7 0x5566ea936d5a\n",
            "[0.9934593439102173, 0.934676468372345, 0.9977931976318359, 0.7172790169715881, 0.6165276169776917, 0.6633977293968201, 0.6071316599845886, 0.6129267811775208, 0.9891019463539124, 0.9016029238700867, 0.999667763710022, 0.8716694116592407, 0.4544048011302948, 0.9737622141838074, 0.8508293032646179, 0.7579333782196045, 0.22138245403766632, 0.6455389857292175, 0]\n",
            "[0.9        0.9        0.9        0.71727902 0.61652762 0.66339773\n",
            " 0.60713166 0.61292678 0.9        0.9        0.9        0.87166941\n",
            " 0.4544048  0.9        0.8508293  0.75793338 0.22138245 0.64553899\n",
            " 0.        ]\n",
            "epoch 50, lr 0.009301: 100% 1000/1000 [02:34<00:00,  6.48it/s]\n",
            "average loss for train : 0.550153\n",
            "start val!\n",
            "precision per pixel for test: 0.676\n",
            "mIoU for validation: 0.272\n",
            "iter =       50/      75, loss_segmentation = 0.445 loss_adversarial = 1.043 loss_D = 0.640 \n",
            "tcmalloc: large alloc 2097152000 bytes == 0x5567b2dd8000 @  0x7f69d0bf2001 0x7f68cfa4c54f 0x7f68cfa9cb58 0x7f68cfaa0b17 0x7f68cfb3f203 0x5566ea826390 0x5566ea826120 0x5566ea89a679 0x5566ea89502f 0x5566ea827aba 0x5566ea896cd4 0x5566ea8279da 0x5566ea895eae 0x5566ea89502f 0x5566ea894d43 0x5566ea95f302 0x5566ea95f67d 0x5566ea95f526 0x5566ea9371d3 0x5566ea936e7c 0x7f69cf9dabf7 0x5566ea936d5a\n",
            "tcmalloc: large alloc 2097152000 bytes == 0x5568305d8000 @  0x7f69d0bf2001 0x7f68cfa4c54f 0x7f68cfa9cb58 0x7f68cfaa0b17 0x7f68cfb3f203 0x5566ea826390 0x5566ea826120 0x5566ea89a679 0x5566ea89502f 0x5566ea827aba 0x5566ea896cd4 0x5566ea8279da 0x5566ea895eae 0x5566ea89502f 0x5566ea894d43 0x5566ea95f302 0x5566ea95f67d 0x5566ea95f526 0x5566ea9371d3 0x5566ea936e7c 0x7f69cf9dabf7 0x5566ea936d5a\n",
            "[0.9338021278381348, 0.7907299995422363, 0.9955328702926636, 0.660038948059082, 0.613875150680542, 0.5984756946563721, 0.6157786846160889, 0.6109756827354431, 0.9953473210334778, 0.7649869322776794, 0.9732303619384766, 0.886991560459137, 0.5518689155578613, 0.9393099546432495, 0.8275711536407471, 0.7401489019393921, 0, 0.6030808687210083, 0]\n",
            "[0.9        0.79073    0.9        0.66003895 0.61387515 0.59847569\n",
            " 0.61577868 0.61097568 0.9        0.76498693 0.9        0.88699156\n",
            " 0.55186892 0.9        0.82757115 0.7401489  0.         0.60308087\n",
            " 0.        ]\n",
            "epoch 51, lr 0.008966: 100% 1000/1000 [02:34<00:00,  6.47it/s]\n",
            "average loss for train : 0.454199\n",
            "start val!\n",
            "precision per pixel for test: 0.591\n",
            "mIoU for validation: 0.233\n",
            "iter =       51/      75, loss_segmentation = 0.465 loss_adversarial = 1.146 loss_D = 0.554 \n",
            "tcmalloc: large alloc 2097152000 bytes == 0x5567b2dd8000 @  0x7f69d0bf2001 0x7f68cfa4c54f 0x7f68cfa9cb58 0x7f68cfaa0b17 0x7f68cfb3f203 0x5566ea826390 0x5566ea826120 0x5566ea89a679 0x5566ea89502f 0x5566ea827aba 0x5566ea896cd4 0x5566ea8279da 0x5566ea895eae 0x5566ea89502f 0x5566ea894d43 0x5566ea95f302 0x5566ea95f67d 0x5566ea95f526 0x5566ea9371d3 0x5566ea936e7c 0x7f69cf9dabf7 0x5566ea936d5a\n",
            "tcmalloc: large alloc 2097152000 bytes == 0x5568305d8000 @  0x7f69d0bf2001 0x7f68cfa4c54f 0x7f68cfa9cb58 0x7f68cfaa0b17 0x7f68cfb3f203 0x5566ea826390 0x5566ea826120 0x5566ea89a679 0x5566ea89502f 0x5566ea827aba 0x5566ea896cd4 0x5566ea8279da 0x5566ea895eae 0x5566ea89502f 0x5566ea894d43 0x5566ea95f302 0x5566ea95f67d 0x5566ea95f526 0x5566ea9371d3 0x5566ea936e7c 0x7f69cf9dabf7 0x5566ea936d5a\n",
            "[0.9417629241943359, 0.7971940040588379, 0.9938715696334839, 0.7387586236000061, 0.6239954829216003, 0.6104907989501953, 0.584965705871582, 0.5536108613014221, 0.9914854168891907, 0.9034101963043213, 0.9990767240524292, 0.9514373540878296, 0.44519367814064026, 0.9653416872024536, 0.8740134239196777, 0.662854790687561, 0.33075377345085144, 0.665829062461853, 0]\n",
            "[0.9        0.797194   0.9        0.73875862 0.62399548 0.6104908\n",
            " 0.58496571 0.55361086 0.9        0.9        0.9        0.9\n",
            " 0.44519368 0.9        0.87401342 0.66285479 0.33075377 0.66582906\n",
            " 0.        ]\n",
            "epoch 52, lr 0.008629: 100% 1000/1000 [02:35<00:00,  6.44it/s]\n",
            "average loss for train : 0.492416\n",
            "start val!\n",
            "precision per pixel for test: 0.464\n",
            "mIoU for validation: 0.202\n",
            "iter =       52/      75, loss_segmentation = 0.587 loss_adversarial = 1.277 loss_D = 0.563 \n",
            "[0.8186823129653931, 0.7481983304023743, 0.9857381582260132, 0.6673588156700134, 0.5605875253677368, 0.6417863965034485, 0.6040401458740234, 0.5912625789642334, 0.982426643371582, 0.8413999676704407, 0.9991938471794128, 0.939264178276062, 0.39806532859802246, 0.9787308573722839, 0.8786477446556091, 0.6727977991104126, 0.15456460416316986, 0.6494759321212769, 0]\n",
            "[0.81868231 0.74819833 0.9        0.66735882 0.56058753 0.6417864\n",
            " 0.60404015 0.59126258 0.9        0.84139997 0.9        0.9\n",
            " 0.39806533 0.9        0.87864774 0.6727978  0.1545646  0.64947593\n",
            " 0.        ]\n",
            "epoch 53, lr 0.008290: 100% 1000/1000 [02:34<00:00,  6.46it/s]\n",
            "average loss for train : 0.466696\n",
            "start val!\n",
            "precision per pixel for test: 0.458\n",
            "mIoU for validation: 0.193\n",
            "iter =       53/      75, loss_segmentation = 0.463 loss_adversarial = 1.739 loss_D = 0.420 \n",
            "[0.85905522108078, 0.8110010623931885, 0.9977185726165771, 0.8126844167709351, 0.6238619685173035, 0.7040091753005981, 0.6482163071632385, 0.587324321269989, 0.9909037947654724, 0.9387903213500977, 0.9988835453987122, 0.9835017323493958, 0.4138141870498657, 0.9833751320838928, 0.9584152698516846, 0.8335529565811157, 0, 0.6478418707847595, 0]\n",
            "[0.85905522 0.81100106 0.9        0.81268442 0.62386197 0.70400918\n",
            " 0.64821631 0.58732432 0.9        0.9        0.9        0.9\n",
            " 0.41381419 0.9        0.9        0.83355296 0.         0.64784187\n",
            " 0.        ]\n",
            "epoch 54, lr 0.007950: 100% 1000/1000 [02:34<00:00,  6.47it/s]\n",
            "average loss for train : 0.423909\n",
            "start val!\n",
            "precision per pixel for test: 0.465\n",
            "mIoU for validation: 0.188\n",
            "iter =       54/      75, loss_segmentation = 0.397 loss_adversarial = 1.922 loss_D = 0.362 \n",
            "[0.9359813332557678, 0.8640707731246948, 0.9983502626419067, 0.816749095916748, 0.65529865026474, 0.7213927507400513, 0.6632430553436279, 0.6271243095397949, 0.9953305721282959, 0.9536573886871338, 0.9840348958969116, 0.9822905659675598, 0.39145657420158386, 0.9912424087524414, 0.9717722535133362, 0.9077953100204468, 0, 0.693243682384491, 0]\n",
            "[0.9        0.86407077 0.9        0.8167491  0.65529865 0.72139275\n",
            " 0.66324306 0.62712431 0.9        0.9        0.9        0.9\n",
            " 0.39145657 0.9        0.9        0.9        0.         0.69324368\n",
            " 0.        ]\n",
            "epoch 55, lr 0.007609: 100% 1000/1000 [02:34<00:00,  6.46it/s]\n",
            "average loss for train : 0.406648\n",
            "start val!\n",
            "precision per pixel for test: 0.467\n",
            "mIoU for validation: 0.173\n",
            "iter =       55/      75, loss_segmentation = 0.442 loss_adversarial = 1.622 loss_D = 0.467 \n",
            "[0.9431411027908325, 0.8348662853240967, 0.9974319338798523, 0.8568567633628845, 0.6839169263839722, 0.7570768594741821, 0.7011454701423645, 0.5302442908287048, 0.9898332357406616, 0.9375537037849426, 0.9881982207298279, 0.9700425863265991, 0.38237765431404114, 0.9929333925247192, 0.9799413681030273, 0.9016351699829102, 0, 0.7532092332839966, 0]\n",
            "[0.9        0.83486629 0.9        0.85685676 0.68391693 0.75707686\n",
            " 0.70114547 0.53024429 0.9        0.9        0.9        0.9\n",
            " 0.38237765 0.9        0.9        0.9        0.         0.75320923\n",
            " 0.        ]\n",
            "epoch 56, lr 0.007265: 100% 1000/1000 [02:34<00:00,  6.46it/s]\n",
            "average loss for train : 0.409172\n",
            "start val!\n",
            "precision per pixel for test: 0.492\n",
            "mIoU for validation: 0.176\n",
            "iter =       56/      75, loss_segmentation = 0.390 loss_adversarial = 1.658 loss_D = 0.472 \n",
            "[0.955864429473877, 0.8497298359870911, 0.9973154664039612, 0.9267858862876892, 0.6849109530448914, 0.8032109141349792, 0.6503443121910095, 0.5902539491653442, 0.994878888130188, 0.9639636278152466, 0.9882690906524658, 0.9833210706710815, 0.29494786262512207, 0.9875220656394958, 0.9846115708351135, 0.9820963144302368, 0, 0.6120070219039917, 0]\n",
            "[0.9        0.84972984 0.9        0.9        0.68491095 0.80321091\n",
            " 0.65034431 0.59025395 0.9        0.9        0.9        0.9\n",
            " 0.29494786 0.9        0.9        0.9        0.         0.61200702\n",
            " 0.        ]\n",
            "epoch 57, lr 0.006920: 100% 1000/1000 [02:34<00:00,  6.47it/s]\n",
            "average loss for train : 0.394728\n",
            "start val!\n",
            "precision per pixel for test: 0.483\n",
            "mIoU for validation: 0.171\n",
            "iter =       57/      75, loss_segmentation = 0.344 loss_adversarial = 1.777 loss_D = 0.333 \n",
            "[0.9802367091178894, 0.8742186427116394, 0.9984604120254517, 0.9435269236564636, 0.724380373954773, 0.8100303411483765, 0.6565126180648804, 0.6035868525505066, 0.997725784778595, 0.9803338646888733, 0.9927446842193604, 0.9868825078010559, 0.40737518668174744, 0.996626615524292, 0.9823361039161682, 0.9965654015541077, 0, 0.6859681606292725, 0]\n",
            "[0.9        0.87421864 0.9        0.9        0.72438037 0.81003034\n",
            " 0.65651262 0.60358685 0.9        0.9        0.9        0.9\n",
            " 0.40737519 0.9        0.9        0.9        0.         0.68596816\n",
            " 0.        ]\n",
            "epoch 58, lr 0.006573: 100% 1000/1000 [02:34<00:00,  6.46it/s]\n",
            "average loss for train : 0.393458\n",
            "start val!\n",
            "precision per pixel for test: 0.528\n",
            "mIoU for validation: 0.181\n",
            "iter =       58/      75, loss_segmentation = 0.385 loss_adversarial = 1.824 loss_D = 0.423 \n",
            "[0.9781844019889832, 0.8809847235679626, 0.998872697353363, 0.971916139125824, 0.783195436000824, 0.8402625918388367, 0.6755052208900452, 0.6685485243797302, 0.9975714087486267, 0.9514670968055725, 0.9938201308250427, 0.9857989549636841, 0.4679397940635681, 0.9921497106552124, 0.9976311922073364, 0.997718334197998, 0, 0.8191351294517517, 0]\n",
            "[0.9        0.88098472 0.9        0.9        0.78319544 0.84026259\n",
            " 0.67550522 0.66854852 0.9        0.9        0.9        0.9\n",
            " 0.46793979 0.9        0.9        0.9        0.         0.81913513\n",
            " 0.        ]\n",
            "epoch 59, lr 0.006224: 100% 1000/1000 [02:34<00:00,  6.47it/s]\n",
            "average loss for train : 0.373601\n",
            "start val!\n",
            "precision per pixel for test: 0.534\n",
            "mIoU for validation: 0.191\n",
            "iter =       59/      75, loss_segmentation = 0.364 loss_adversarial = 1.436 loss_D = 0.450 \n",
            "[0.9886248111724854, 0.9484404921531677, 0.9986704587936401, 0.9776514172554016, 0.8129937052726746, 0.838299572467804, 0.6421829462051392, 0.6596711874008179, 0.9966281056404114, 0.9675551056861877, 0.9926751255989075, 0.9788805842399597, 0.4434564709663391, 0.996697187423706, 0.9815628528594971, 0.9736800193786621, 0, 0.8844823241233826, 0]\n",
            "[0.9        0.9        0.9        0.9        0.81299371 0.83829957\n",
            " 0.64218295 0.65967119 0.9        0.9        0.9        0.9\n",
            " 0.44345647 0.9        0.9        0.9        0.         0.88448232\n",
            " 0.        ]\n",
            "epoch 60, lr 0.005873: 100% 1000/1000 [02:34<00:00,  6.46it/s]\n",
            "average loss for train : 0.367640\n",
            "start val!\n",
            "precision per pixel for test: 0.527\n",
            "mIoU for validation: 0.189\n",
            "iter =       60/      75, loss_segmentation = 0.362 loss_adversarial = 1.754 loss_D = 0.388 \n",
            "[0.9925345182418823, 0.9661949276924133, 0.9976838827133179, 0.9698081612586975, 0.8165246844291687, 0.8547758460044861, 0.7047851085662842, 0.7524805068969727, 0.9973813891410828, 0.9858767986297607, 0.9890655279159546, 0.9774747490882874, 0.5816722512245178, 0.9981502294540405, 0.9932299852371216, 0.9971500039100647, 0, 0.7356483936309814, 0]\n",
            "[0.9        0.9        0.9        0.9        0.81652468 0.85477585\n",
            " 0.70478511 0.75248051 0.9        0.9        0.9        0.9\n",
            " 0.58167225 0.9        0.9        0.9        0.         0.73564839\n",
            " 0.        ]\n",
            "epoch 61, lr 0.005520: 100% 1000/1000 [02:34<00:00,  6.47it/s]\n",
            "average loss for train : 0.364758\n",
            "start val!\n",
            "precision per pixel for test: 0.548\n",
            "mIoU for validation: 0.194\n",
            "iter =       61/      75, loss_segmentation = 0.294 loss_adversarial = 1.719 loss_D = 0.434 \n",
            "[0.9941368103027344, 0.9809339642524719, 0.9984592199325562, 0.9854856729507446, 0.8079531788825989, 0.8591469526290894, 0.6402419209480286, 0.7694652080535889, 0.9966933727264404, 0.9825255870819092, 0.9944705963134766, 0.9797873497009277, 0.5354014039039612, 0.9968265295028687, 0.9950907230377197, 0.9982692003250122, 0, 0.7008023858070374, 0]\n",
            "[0.9        0.9        0.9        0.9        0.80795318 0.85914695\n",
            " 0.64024192 0.76946521 0.9        0.9        0.9        0.9\n",
            " 0.5354014  0.9        0.9        0.9        0.         0.70080239\n",
            " 0.        ]\n",
            "epoch 62, lr 0.005163: 100% 1000/1000 [02:34<00:00,  6.46it/s]\n",
            "average loss for train : 0.354475\n",
            "start val!\n",
            "precision per pixel for test: 0.570\n",
            "mIoU for validation: 0.203\n",
            "iter =       62/      75, loss_segmentation = 0.303 loss_adversarial = 1.477 loss_D = 0.456 \n",
            "[0.9963394403457642, 0.983922004699707, 0.9990956783294678, 0.9897811412811279, 0.8381972908973694, 0.8654394745826721, 0.6567884683609009, 0.733380913734436, 0.9949926733970642, 0.9836736917495728, 0.996518611907959, 0.9743097424507141, 0.5695163011550903, 0.9958046078681946, 0.9904789328575134, 0.9985973238945007, 0, 0.7559566497802734, 0]\n",
            "[0.9        0.9        0.9        0.9        0.83819729 0.86543947\n",
            " 0.65678847 0.73338091 0.9        0.9        0.9        0.9\n",
            " 0.5695163  0.9        0.9        0.9        0.         0.75595665\n",
            " 0.        ]\n",
            "epoch 63, lr 0.004804: 100% 1000/1000 [02:34<00:00,  6.47it/s]\n",
            "average loss for train : 0.360394\n",
            "start val!\n",
            "precision per pixel for test: 0.587\n",
            "mIoU for validation: 0.203\n",
            "iter =       63/      75, loss_segmentation = 0.369 loss_adversarial = 1.654 loss_D = 0.387 \n",
            "[0.9936951994895935, 0.9814766049385071, 0.9989389777183533, 0.9892158508300781, 0.7949996590614319, 0.8800954818725586, 0.7082358002662659, 0.7444471716880798, 0.997769832611084, 0.9772132039070129, 0.9980018734931946, 0.9707493185997009, 0.5678929090499878, 0.993438184261322, 0.9897106289863586, 0.9992437362670898, 0.16113173961639404, 0.9014857411384583, 0]\n",
            "[0.9        0.9        0.9        0.9        0.79499966 0.88009548\n",
            " 0.7082358  0.74444717 0.9        0.9        0.9        0.9\n",
            " 0.56789291 0.9        0.9        0.9        0.16113174 0.9\n",
            " 0.        ]\n",
            "epoch 64, lr 0.004443: 100% 1000/1000 [02:34<00:00,  6.48it/s]\n",
            "average loss for train : 0.353601\n",
            "start val!\n",
            "precision per pixel for test: 0.591\n",
            "mIoU for validation: 0.205\n",
            "iter =       64/      75, loss_segmentation = 0.473 loss_adversarial = 1.484 loss_D = 0.418 \n",
            "[0.9968408346176147, 0.9888890981674194, 0.9991825222969055, 0.9931820034980774, 0.8574122786521912, 0.8818636536598206, 0.641314685344696, 0.6959726214408875, 0.9942907094955444, 0.9863801598548889, 0.9985404014587402, 0.9704006314277649, 0.6222503781318665, 0.9974452257156372, 0.9936991930007935, 0.9993935823440552, 0, 0.8736928105354309, 0]\n",
            "[0.9        0.9        0.9        0.9        0.85741228 0.88186365\n",
            " 0.64131469 0.69597262 0.9        0.9        0.9        0.9\n",
            " 0.62225038 0.9        0.9        0.9        0.         0.87369281\n",
            " 0.        ]\n",
            "epoch 65, lr 0.004077: 100% 1000/1000 [02:34<00:00,  6.47it/s]\n",
            "average loss for train : 0.346479\n",
            "start val!\n",
            "precision per pixel for test: 0.592\n",
            "mIoU for validation: 0.203\n",
            "iter =       65/      75, loss_segmentation = 0.386 loss_adversarial = 1.467 loss_D = 0.449 \n",
            "[0.9970167875289917, 0.9927748441696167, 0.9985260963439941, 0.9922962784767151, 0.8802719712257385, 0.8988881707191467, 0.6455025672912598, 0.7386378645896912, 0.9978951215744019, 0.9887585639953613, 0.9982794523239136, 0.9868005514144897, 0.6055976748466492, 0.9948648810386658, 0.9837268590927124, 0.9997645020484924, 0, 0.9074072241783142, 0]\n",
            "[0.9        0.9        0.9        0.9        0.88027197 0.89888817\n",
            " 0.64550257 0.73863786 0.9        0.9        0.9        0.9\n",
            " 0.60559767 0.9        0.9        0.9        0.         0.9\n",
            " 0.        ]\n",
            "epoch 66, lr 0.003709: 100% 1000/1000 [02:34<00:00,  6.46it/s]\n",
            "average loss for train : 0.346916\n",
            "start val!\n",
            "precision per pixel for test: 0.592\n",
            "mIoU for validation: 0.205\n",
            "iter =       66/      75, loss_segmentation = 0.359 loss_adversarial = 1.260 loss_D = 0.500 \n",
            "[0.9935134053230286, 0.9915177226066589, 0.9978582262992859, 0.9900667667388916, 0.8543601036071777, 0.8439571261405945, 0.5971064567565918, 0.745326817035675, 0.9923964142799377, 0.9880614280700684, 0.9992371797561646, 0.8735975027084351, 0.6307694911956787, 0.9875457882881165, 0.9818938970565796, 0.9998143315315247, 0, 0.9129065871238708, 0]\n",
            "[0.9        0.9        0.9        0.9        0.8543601  0.84395713\n",
            " 0.59710646 0.74532682 0.9        0.9        0.9        0.8735975\n",
            " 0.63076949 0.9        0.9        0.9        0.         0.9\n",
            " 0.        ]\n",
            "epoch 67, lr 0.003336: 100% 1000/1000 [02:34<00:00,  6.47it/s]\n",
            "average loss for train : 0.357300\n",
            "start val!\n",
            "precision per pixel for test: 0.567\n",
            "mIoU for validation: 0.192\n",
            "iter =       67/      75, loss_segmentation = 0.437 loss_adversarial = 1.325 loss_D = 0.529 \n",
            "[0.9894875288009644, 0.9871833324432373, 0.9973646998405457, 0.9674261212348938, 0.846784234046936, 0.869144856929779, 0.5503395795822144, 0.7119101285934448, 0.9976516366004944, 0.9934451580047607, 0.9996161460876465, 0.9470654726028442, 0.5692855715751648, 0.9701767563819885, 0.9112519025802612, 0.999569833278656, 0.4203599989414215, 0.8509979844093323, 0]\n",
            "[0.9        0.9        0.9        0.9        0.84678423 0.86914486\n",
            " 0.55033958 0.71191013 0.9        0.9        0.9        0.9\n",
            " 0.56928557 0.9        0.9        0.9        0.42036    0.85099798\n",
            " 0.        ]\n",
            "epoch 68, lr 0.002958: 100% 1000/1000 [02:34<00:00,  6.46it/s]\n",
            "average loss for train : 0.362863\n",
            "start val!\n",
            "precision per pixel for test: 0.558\n",
            "mIoU for validation: 0.190\n",
            "iter =       68/      75, loss_segmentation = 0.323 loss_adversarial = 1.558 loss_D = 0.469 \n",
            "[0.9916664958000183, 0.9914444088935852, 0.9986839890480042, 0.9919008016586304, 0.8778518438339233, 0.8852030634880066, 0.6543962359428406, 0.7667175531387329, 0.9971945285797119, 0.9946088790893555, 0.9984000325202942, 0.9410813450813293, 0.5700555443763733, 0.9773602485656738, 0.955730140209198, 0.9985688924789429, 0, 0.8502058386802673, 0]\n",
            "[0.9        0.9        0.9        0.9        0.87785184 0.88520306\n",
            " 0.65439624 0.76671755 0.9        0.9        0.9        0.9\n",
            " 0.57005554 0.9        0.9        0.9        0.         0.85020584\n",
            " 0.        ]\n",
            "epoch 69, lr 0.002575: 100% 1000/1000 [02:34<00:00,  6.46it/s]\n",
            "average loss for train : 0.349082\n",
            "start val!\n",
            "precision per pixel for test: 0.560\n",
            "mIoU for validation: 0.193\n",
            "iter =       69/      75, loss_segmentation = 0.345 loss_adversarial = 1.301 loss_D = 0.466 \n",
            "[0.9937606453895569, 0.9868152737617493, 0.9993849992752075, 0.9920965433120728, 0.9183713793754578, 0.9157260060310364, 0.6939297914505005, 0.783175528049469, 0.9970226883888245, 0.9916621446609497, 0.9983727335929871, 0.9545901417732239, 0.538069486618042, 0.9900928139686584, 0.9903143048286438, 0.9993177652359009, 0, 0.8718055486679077, 0]\n",
            "[0.9        0.9        0.9        0.9        0.9        0.9\n",
            " 0.69392979 0.78317553 0.9        0.9        0.9        0.9\n",
            " 0.53806949 0.9        0.9        0.9        0.         0.87180555\n",
            " 0.        ]\n",
            "epoch 70, lr 0.002185: 100% 1000/1000 [02:34<00:00,  6.46it/s]\n",
            "average loss for train : 0.343354\n",
            "start val!\n",
            "precision per pixel for test: 0.569\n",
            "mIoU for validation: 0.202\n",
            "iter =       70/      75, loss_segmentation = 0.392 loss_adversarial = 1.472 loss_D = 0.539 \n",
            "[0.9955986738204956, 0.9887879490852356, 0.9990975856781006, 0.9924639463424683, 0.9026111364364624, 0.8840075731277466, 0.5882325768470764, 0.7400094866752625, 0.9969146251678467, 0.9885552525520325, 0.9992082715034485, 0.9718121886253357, 0.5679321885108948, 0.979015052318573, 0.9910658001899719, 0.9995425939559937, 0.3282756805419922, 0.8937503695487976, 0]\n",
            "[0.9        0.9        0.9        0.9        0.9        0.88400757\n",
            " 0.58823258 0.74000949 0.9        0.9        0.9        0.9\n",
            " 0.56793219 0.9        0.9        0.9        0.32827568 0.89375037\n",
            " 0.        ]\n",
            "epoch 71, lr 0.001787: 100% 1000/1000 [02:34<00:00,  6.47it/s]\n",
            "average loss for train : 0.340536\n",
            "start val!\n",
            "precision per pixel for test: 0.587\n",
            "mIoU for validation: 0.212\n",
            "iter =       71/      75, loss_segmentation = 0.409 loss_adversarial = 1.368 loss_D = 0.549 \n",
            "[0.9967515468597412, 0.9861220717430115, 0.9993470311164856, 0.990023672580719, 0.9120396971702576, 0.877108633518219, 0.5826959013938904, 0.8228766918182373, 0.9967737793922424, 0.9869340658187866, 0.9991592168807983, 0.9768151044845581, 0.5956066846847534, 0.9864879250526428, 0.9947218894958496, 0.9988462924957275, 0, 0.8990976214408875, 0]\n",
            "[0.9        0.9        0.9        0.9        0.9        0.87710863\n",
            " 0.5826959  0.82287669 0.9        0.9        0.9        0.9\n",
            " 0.59560668 0.9        0.9        0.9        0.         0.89909762\n",
            " 0.        ]\n",
            "epoch 72, lr 0.001380: 100% 1000/1000 [02:34<00:00,  6.46it/s]\n",
            "average loss for train : 0.336598\n",
            "start val!\n",
            "precision per pixel for test: 0.587\n",
            "mIoU for validation: 0.211\n",
            "iter =       72/      75, loss_segmentation = 0.283 loss_adversarial = 1.291 loss_D = 0.558 \n",
            "[0.9974719882011414, 0.9887292385101318, 0.9989797472953796, 0.9922646284103394, 0.9317073822021484, 0.8989996314048767, 0.5948023796081543, 0.8376666307449341, 0.9980865716934204, 0.9882103204727173, 0.9994204044342041, 0.9685084223747253, 0.5672720074653625, 0.991603434085846, 0.9890551567077637, 0.9993047714233398, 0, 0.8910250663757324, 0]\n",
            "[0.9        0.9        0.9        0.9        0.9        0.89899963\n",
            " 0.59480238 0.83766663 0.9        0.9        0.9        0.9\n",
            " 0.56727201 0.9        0.9        0.9        0.         0.89102507\n",
            " 0.        ]\n",
            "epoch 73, lr 0.000958: 100% 1000/1000 [02:34<00:00,  6.46it/s]\n",
            "average loss for train : 0.335993\n",
            "start val!\n",
            "precision per pixel for test: 0.587\n",
            "mIoU for validation: 0.210\n",
            "iter =       73/      75, loss_segmentation = 0.420 loss_adversarial = 1.267 loss_D = 0.496 \n",
            "[0.9975109100341797, 0.9870160818099976, 0.9991838335990906, 0.9906623959541321, 0.9319689869880676, 0.8884954452514648, 0.5875439643859863, 0.8270342946052551, 0.9963654279708862, 0.9791243672370911, 0.999103844165802, 0.9463483691215515, 0.5305383205413818, 0.9915215969085693, 0.988685131072998, 0.999163031578064, 0, 0.86219322681427, 0]\n",
            "[0.9        0.9        0.9        0.9        0.9        0.88849545\n",
            " 0.58754396 0.82703429 0.9        0.9        0.9        0.9\n",
            " 0.53053832 0.9        0.9        0.9        0.         0.86219323\n",
            " 0.        ]\n",
            "epoch 74, lr 0.000513: 100% 1000/1000 [02:34<00:00,  6.46it/s]\n",
            "average loss for train : 0.334025\n",
            "start val!\n",
            "precision per pixel for test: 0.590\n",
            "mIoU for validation: 0.206\n",
            "iter =       74/      75, loss_segmentation = 0.286 loss_adversarial = 1.285 loss_D = 0.478 \n",
            "[0.9978839755058289, 0.9868729710578918, 0.9991795420646667, 0.989870011806488, 0.9270607829093933, 0.8972044587135315, 0.6011227369308472, 0.8471211791038513, 0.9948508143424988, 0.9770532846450806, 0.999153733253479, 0.8787827491760254, 0.5431233644485474, 0.9932308197021484, 0.9812302589416504, 0.9994611144065857, 0, 0.8204489350318909, 0]\n",
            "[0.9        0.9        0.9        0.9        0.9        0.89720446\n",
            " 0.60112274 0.84712118 0.9        0.9        0.9        0.87878275\n",
            " 0.54312336 0.9        0.9        0.9        0.         0.82044894\n",
            " 0.        ]\n"
          ]
        }
      ]
    },
    {
      "cell_type": "code",
      "source": [
        "!python eval.py"
      ],
      "metadata": {
        "colab": {
          "base_uri": "https://localhost:8080/"
        },
        "id": "MGSRb2rjRFHz",
        "outputId": "0fe34458-6f14-4039-862a-91b64190c3c5"
      },
      "execution_count": null,
      "outputs": [
        {
          "output_type": "stream",
          "name": "stdout",
          "text": [
            "Downloading: \"https://download.pytorch.org/models/resnet18-f37072fd.pth\" to /root/.cache/torch/hub/checkpoints/resnet18-f37072fd.pth\n",
            "100% 44.7M/44.7M [00:01<00:00, 30.3MB/s]\n",
            "Downloading: \"https://download.pytorch.org/models/resnet101-63fe2227.pth\" to /root/.cache/torch/hub/checkpoints/resnet101-63fe2227.pth\n",
            "100% 171M/171M [00:03<00:00, 45.8MB/s]\n",
            "load model from /content/drive/MyDrive/checkpoints_101_sgd_DSC_withpseudolabels_3/best_crossentropy_loss.pth ...\n",
            "The best epoch is 20\n",
            "Done!\n",
            "start test!\n",
            "test: 100% 250/250 [15:45<00:00,  3.82s/it]precision per pixel for test: 0.688\n",
            "mIoU for validation: 0.304\n",
            "test: 100% 250/250 [15:47<00:00,  3.79s/it]\n"
          ]
        }
      ]
    },
    {
      "cell_type": "code",
      "source": [
        "!python trainGTAtoCityscapespuntoc.py"
      ],
      "metadata": {
        "colab": {
          "base_uri": "https://localhost:8080/"
        },
        "id": "5cdS4i1vl7ML",
        "outputId": "d58db96d-d62a-4638-8f62-a417c880f7dc"
      },
      "execution_count": null,
      "outputs": [
        {
          "output_type": "stream",
          "name": "stdout",
          "text": [
            "Traceback (most recent call last):\n",
            "  File \"trainGTAtoCityscapespuntoc.py\", line 420, in <module>\n",
            "    main(params)\n",
            "  File \"trainGTAtoCityscapespuntoc.py\", line 255, in main\n",
            "    tq = tqdm(total=(len(dataloader_target) + len (dataloader_source)) * args.batch_size)\n",
            "UnboundLocalError: local variable 'dataloader_target' referenced before assignment\n"
          ]
        }
      ]
    },
    {
      "cell_type": "code",
      "source": [
        "from IPython.display import Image\n",
        "\n",
        "import numpy as np\n",
        "import torch\n",
        "from torchvision import transforms\n",
        "from PIL import Image as PIL\n",
        "from dataset.Cityscapes_pseudo import Cityscapes_pseudo\n",
        "import matplotlib.pyplot as plt\n",
        "\n",
        "import json"
      ],
      "metadata": {
        "id": "xPORv1saCv6r"
      },
      "execution_count": null,
      "outputs": []
    },
    {
      "cell_type": "code",
      "source": [
        "def colour_code_segmentation(image, label_values):\n",
        "  colour_codes = np.array(label_values)\n",
        "  x = image.astype(int)\n",
        "\n",
        "  final = np.zeros((x.shape[0], x.shape[1],3), np.ubyte)\n",
        "  x[x==255]=19\n",
        "  final[:,:]=colour_codes[x]\n",
        "  print(final.shape)\n",
        "  return final"
      ],
      "metadata": {
        "id": "9aqrhEQwCtaY"
      },
      "execution_count": null,
      "outputs": []
    },
    {
      "cell_type": "code",
      "source": [
        "train_dataset=Cityscapes_pseudo ()\n",
        "\n",
        "convert_tensor = transforms.ToTensor()\n",
        "index=499\n",
        "img = PIL.open(train_dataset.files[index]['label'])\n",
        "print(train_dataset.files[index]['name'])\n",
        "img = np.asarray(img, np.ubyte)\n",
        "info = json.load(open('/content/drive/MyDrive/Datasets/Cityscapes/info.json', 'r'))\n",
        "#class_mapping = info['label2train']\n",
        "# remap the semantic label\n",
        "#img = encode_segmap(img, class_mapping, 255)\n",
        "print(img.shape)\n",
        "print (label_info)\n",
        "#img=convert_tensor(img).numpy()\n",
        "img = colour_code_segmentation(img, label_info)\n",
        "print (type(img), img.shape)\n",
        "img = PIL.fromarray(img, 'RGB')\n",
        "#img = Image(train_dataset.files[0]['label'])\n",
        "plt.imshow(img)\n",
        "plt.show()\n",
        "img.show\n",
        "img.save(\"test_pseudo.png\")\n",
        "#print (train_dataset.files[0]['image'])\n",
        "img_origin = PIL.open(train_dataset.files[index]['image'])\n",
        "plt.imshow(img_origin)\n",
        "plt.show()\n",
        "img_origin.show"
      ],
      "metadata": {
        "id": "OFfNvWN6-TCX",
        "outputId": "8cd6fd7b-1a6a-4ac1-ed54-14bd33a9072e",
        "colab": {
          "base_uri": "https://localhost:8080/",
          "height": 545
        }
      },
      "execution_count": null,
      "outputs": [
        {
          "output_type": "stream",
          "name": "stdout",
          "text": [
            "bremen_000264_000019\n",
            "(512, 1024)\n",
            "[[128, 64, 128], [244, 35, 232], [70, 70, 70], [102, 102, 156], [190, 153, 153], [153, 153, 153], [250, 170, 30], [220, 220, 0], [107, 142, 35], [152, 251, 152], [70, 130, 180], [220, 20, 60], [255, 0, 0], [0, 0, 142], [0, 0, 70], [0, 60, 100], [0, 80, 100], [0, 0, 230], [119, 11, 32], [0, 0, 0]]\n",
            "(512, 1024, 3)\n",
            "<class 'numpy.ndarray'> (512, 1024, 3)\n"
          ]
        },
        {
          "output_type": "display_data",
          "data": {
            "image/png": "[encoded data removed]",
            "text/plain": [
              "<Figure size 432x288 with 1 Axes>"
            ]
          },
          "metadata": {
            "needs_background": "light"
          }
        },
        {
          "output_type": "display_data",
          "data": {
            "image/png": "[encoded data removed]",
            "text/plain": [
              "<Figure size 432x288 with 1 Axes>"
            ]
          },
          "metadata": {
            "needs_background": "light"
          }
        },
        {
          "output_type": "execute_result",
          "data": {
            "text/plain": [
              "<bound method Image.show of <PIL.PngImagePlugin.PngImageFile image mode=RGB size=2048x1024 at 0x7FE1E2F8B750>>"
            ]
          },
          "metadata": {},
          "execution_count": 11
        }
      ]
    },
    {
      "cell_type": "code",
      "source": [
        "!python trainGTAtoCityscapespuntoc.py"
      ],
      "metadata": {
        "id": "3gRMJlIHKUz9",
        "outputId": "f2465f2f-322b-43fe-a3da-c6ec0fee9d69",
        "colab": {
          "base_uri": "https://localhost:8080/"
        }
      },
      "execution_count": null,
      "outputs": [
        {
          "output_type": "stream",
          "name": "stdout",
          "text": [
            "Downloading: \"https://download.pytorch.org/models/resnet18-f37072fd.pth\" to /root/.cache/torch/hub/checkpoints/resnet18-f37072fd.pth\n",
            "100% 44.7M/44.7M [00:00<00:00, 171MB/s]\n",
            "Downloading: \"https://download.pytorch.org/models/resnet101-63fe2227.pth\" to /root/.cache/torch/hub/checkpoints/resnet101-63fe2227.pth\n",
            "100% 171M/171M [00:03<00:00, 58.8MB/s]\n",
            "epoch 0, lr 0.025000: 100% 1000/1000 [02:25<00:00,  6.88it/s]\n",
            "average loss for train : 3.075507\n",
            "start val!\n",
            "precision per pixel for test: 0.549\n",
            "mIoU for validation: 0.160\n",
            "iter =        0/      50, loss_segmentation = 2.263 loss_adversarial = 0.658 loss_D = 0.693 \n",
            "tcmalloc: large alloc 2097152000 bytes == 0x559c8a8be000 @  0x7f8f8f594001 0x7f8e8e3ee54f 0x7f8e8e43eb58 0x7f8e8e442b17 0x7f8e8e4e1203 0x559bc2460390 0x559bc2460120 0x559bc24d4679 0x559bc24cf02f 0x559bc2461aba 0x559bc24d0cd4 0x559bc24619da 0x559bc24cfeae 0x559bc24cf02f 0x559bc24ced43 0x559bc2599302 0x559bc259967d 0x559bc2599526 0x559bc25711d3 0x559bc2570e7c 0x7f8f8e37cbf7 0x559bc2570d5a\n",
            "tcmalloc: large alloc 2097152000 bytes == 0x559d080be000 @  0x7f8f8f594001 0x7f8e8e3ee54f 0x7f8e8e43eb58 0x7f8e8e442b17 0x7f8e8e4e1203 0x559bc2460390 0x559bc2460120 0x559bc24d4679 0x559bc24cf02f 0x559bc2461aba 0x559bc24d0cd4 0x559bc24619da 0x559bc24cfeae 0x559bc24cf02f 0x559bc24ced43 0x559bc2599302 0x559bc259967d 0x559bc2599526 0x559bc25711d3 0x559bc2570e7c 0x7f8f8e37cbf7 0x559bc2570d5a\n",
            "epoch 1, lr 0.024550: 100% 1000/1000 [02:32<00:00,  6.55it/s]\n",
            "average loss for train : 3.524010\n",
            "start val!\n",
            "precision per pixel for test: 0.459\n",
            "mIoU for validation: 0.099\n",
            "iter =        1/      50, loss_segmentation = 3.287 loss_adversarial = 0.639 loss_D = 0.678 \n",
            "tcmalloc: large alloc 2097152000 bytes == 0x559c8a8be000 @  0x7f8f8f594001 0x7f8e8e3ee54f 0x7f8e8e43eb58 0x7f8e8e442b17 0x7f8e8e4e1203 0x559bc2460390 0x559bc2460120 0x559bc24d4679 0x559bc24cf02f 0x559bc2461aba 0x559bc24d0cd4 0x559bc24619da 0x559bc24cfeae 0x559bc24cf02f 0x559bc24ced43 0x559bc2599302 0x559bc259967d 0x559bc2599526 0x559bc25711d3 0x559bc2570e7c 0x7f8f8e37cbf7 0x559bc2570d5a\n",
            "tcmalloc: large alloc 2097152000 bytes == 0x559d080be000 @  0x7f8f8f594001 0x7f8e8e3ee54f 0x7f8e8e43eb58 0x7f8e8e442b17 0x7f8e8e4e1203 0x559bc2460390 0x559bc2460120 0x559bc24d4679 0x559bc24cf02f 0x559bc2461aba 0x559bc24d0cd4 0x559bc24619da 0x559bc24cfeae 0x559bc24cf02f 0x559bc24ced43 0x559bc2599302 0x559bc259967d 0x559bc2599526 0x559bc25711d3 0x559bc2570e7c 0x7f8f8e37cbf7 0x559bc2570d5a\n",
            "epoch 2, lr 0.024098: 100% 1000/1000 [02:32<00:00,  6.58it/s]\n",
            "average loss for train : 2.251387\n",
            "start val!\n",
            "precision per pixel for test: 0.508\n",
            "mIoU for validation: 0.135\n",
            "iter =        2/      50, loss_segmentation = 2.194 loss_adversarial = 0.688 loss_D = 0.700 \n",
            "tcmalloc: large alloc 2097152000 bytes == 0x559c8a8be000 @  0x7f8f8f594001 0x7f8e8e3ee54f 0x7f8e8e43eb58 0x7f8e8e442b17 0x7f8e8e4e1203 0x559bc2460390 0x559bc2460120 0x559bc24d4679 0x559bc24cf02f 0x559bc2461aba 0x559bc24d0cd4 0x559bc24619da 0x559bc24cfeae 0x559bc24cf02f 0x559bc24ced43 0x559bc2599302 0x559bc259967d 0x559bc2599526 0x559bc25711d3 0x559bc2570e7c 0x7f8f8e37cbf7 0x559bc2570d5a\n",
            "tcmalloc: large alloc 2097152000 bytes == 0x559d080be000 @  0x7f8f8f594001 0x7f8e8e3ee54f 0x7f8e8e43eb58 0x7f8e8e442b17 0x7f8e8e4e1203 0x559bc2460390 0x559bc2460120 0x559bc24d4679 0x559bc24cf02f 0x559bc2461aba 0x559bc24d0cd4 0x559bc24619da 0x559bc24cfeae 0x559bc24cf02f 0x559bc24ced43 0x559bc2599302 0x559bc259967d 0x559bc2599526 0x559bc25711d3 0x559bc2570e7c 0x7f8f8e37cbf7 0x559bc2570d5a\n",
            "epoch 3, lr 0.023646: 100% 1000/1000 [02:32<00:00,  6.55it/s]\n",
            "average loss for train : 2.440808\n",
            "start val!\n",
            "precision per pixel for test: 0.364\n",
            "mIoU for validation: 0.120\n",
            "iter =        3/      50, loss_segmentation = 1.910 loss_adversarial = 0.819 loss_D = 0.651 \n",
            "epoch 4, lr 0.023193: 100% 1000/1000 [02:32<00:00,  6.58it/s]\n",
            "average loss for train : 4.098750\n",
            "start val!\n",
            "precision per pixel for test: 0.482\n",
            "mIoU for validation: 0.103\n",
            "iter =        4/      50, loss_segmentation = 3.216 loss_adversarial = 0.679 loss_D = 0.680 \n",
            "epoch 5, lr 0.022738: 100% 1000/1000 [02:31<00:00,  6.58it/s]\n",
            "average loss for train : 2.805178\n",
            "start val!\n",
            "precision per pixel for test: 0.586\n",
            "mIoU for validation: 0.144\n",
            "iter =        5/      50, loss_segmentation = 2.248 loss_adversarial = 0.766 loss_D = 0.643 \n",
            "epoch 6, lr 0.022283: 100% 1000/1000 [02:32<00:00,  6.55it/s]\n",
            "average loss for train : 3.213291\n",
            "start val!\n",
            "precision per pixel for test: 0.459\n",
            "mIoU for validation: 0.112\n",
            "iter =        6/      50, loss_segmentation = 2.866 loss_adversarial = 0.939 loss_D = 0.594 \n",
            "epoch 7, lr 0.021827: 100% 1000/1000 [02:32<00:00,  6.58it/s]\n",
            "average loss for train : 2.387230\n",
            "start val!\n",
            "precision per pixel for test: 0.482\n",
            "mIoU for validation: 0.127\n",
            "iter =        7/      50, loss_segmentation = 2.781 loss_adversarial = 0.893 loss_D = 0.630 \n",
            "epoch 8, lr 0.021369: 100% 1000/1000 [02:32<00:00,  6.58it/s]\n",
            "average loss for train : 2.928700\n",
            "start val!\n",
            "precision per pixel for test: 0.601\n",
            "mIoU for validation: 0.156\n",
            "iter =        8/      50, loss_segmentation = 3.401 loss_adversarial = 0.863 loss_D = 0.594 \n",
            "epoch 9, lr 0.020911: 100% 1000/1000 [02:31<00:00,  6.58it/s]\n",
            "average loss for train : 2.214765\n",
            "start val!\n",
            "precision per pixel for test: 0.589\n",
            "mIoU for validation: 0.151\n",
            "iter =        9/      50, loss_segmentation = 1.629 loss_adversarial = 0.766 loss_D = 0.626 \n",
            "epoch 10, lr 0.020451: 100% 1000/1000 [02:32<00:00,  6.57it/s]\n",
            "average loss for train : 2.010966\n",
            "start val!\n",
            "precision per pixel for test: 0.602\n",
            "mIoU for validation: 0.165\n",
            "iter =       10/      50, loss_segmentation = 1.789 loss_adversarial = 1.187 loss_D = 0.581 \n",
            "epoch 11, lr 0.019991: 100% 1000/1000 [02:32<00:00,  6.55it/s]\n",
            "average loss for train : 2.262763\n",
            "start val!\n",
            "precision per pixel for test: 0.436\n",
            "mIoU for validation: 0.108\n",
            "iter =       11/      50, loss_segmentation = 2.171 loss_adversarial = 0.907 loss_D = 0.668 \n",
            "epoch 12, lr 0.019529: 100% 1000/1000 [02:32<00:00,  6.56it/s]\n",
            "average loss for train : 1.957447\n",
            "start val!\n",
            "precision per pixel for test: 0.518\n",
            "mIoU for validation: 0.138\n",
            "iter =       12/      50, loss_segmentation = 2.202 loss_adversarial = 1.335 loss_D = 0.528 \n",
            "epoch 13, lr 0.019066: 100% 1000/1000 [02:32<00:00,  6.54it/s]\n",
            "average loss for train : 2.339494\n",
            "start val!\n",
            "precision per pixel for test: 0.373\n",
            "mIoU for validation: 0.098\n",
            "iter =       13/      50, loss_segmentation = 1.572 loss_adversarial = 1.265 loss_D = 0.433 \n",
            "epoch 14, lr 0.018601: 100% 1000/1000 [02:32<00:00,  6.56it/s]\n",
            "average loss for train : 1.892364\n",
            "start val!\n",
            "precision per pixel for test: 0.518\n",
            "mIoU for validation: 0.141\n",
            "iter =       14/      50, loss_segmentation = 2.168 loss_adversarial = 1.282 loss_D = 0.586 \n",
            "epoch 15, lr 0.018135: 100% 1000/1000 [02:32<00:00,  6.55it/s]\n",
            "average loss for train : 1.973511\n",
            "start val!\n",
            "precision per pixel for test: 0.550\n",
            "mIoU for validation: 0.151\n",
            "iter =       15/      50, loss_segmentation = 1.572 loss_adversarial = 1.444 loss_D = 0.487 \n",
            "epoch 16, lr 0.017668: 100% 1000/1000 [02:32<00:00,  6.56it/s]\n",
            "average loss for train : 1.774395\n",
            "start val!\n",
            "precision per pixel for test: 0.474\n",
            "mIoU for validation: 0.114\n",
            "iter =       16/      50, loss_segmentation = 2.820 loss_adversarial = 1.336 loss_D = 0.528 \n",
            "epoch 17, lr 0.017200: 100% 1000/1000 [02:32<00:00,  6.55it/s]\n",
            "average loss for train : 1.784108\n",
            "start val!\n",
            "precision per pixel for test: 0.383\n",
            "mIoU for validation: 0.107\n",
            "iter =       17/      50, loss_segmentation = 1.174 loss_adversarial = 1.473 loss_D = 0.469 \n",
            "epoch 18, lr 0.016730: 100% 1000/1000 [02:32<00:00,  6.55it/s]\n",
            "average loss for train : 1.653684\n",
            "start val!\n",
            "precision per pixel for test: 0.531\n",
            "mIoU for validation: 0.146\n",
            "iter =       18/      50, loss_segmentation = 1.250 loss_adversarial = 1.899 loss_D = 0.425 \n",
            "epoch 19, lr 0.016259: 100% 1000/1000 [02:33<00:00,  6.54it/s]\n",
            "average loss for train : 1.595732\n",
            "start val!\n",
            "precision per pixel for test: 0.540\n",
            "mIoU for validation: 0.150\n",
            "iter =       19/      50, loss_segmentation = 1.465 loss_adversarial = 1.654 loss_D = 0.443 \n",
            "epoch 20, lr 0.015786: 100% 1000/1000 [02:32<00:00,  6.54it/s]\n",
            "average loss for train : 1.510759\n",
            "start val!\n",
            "precision per pixel for test: 0.502\n",
            "mIoU for validation: 0.140\n",
            "iter =       20/      50, loss_segmentation = 1.283 loss_adversarial = 1.955 loss_D = 0.360 \n",
            "epoch 21, lr 0.015312: 100% 1000/1000 [02:32<00:00,  6.54it/s]\n",
            "average loss for train : 1.382354\n",
            "start val!\n",
            "precision per pixel for test: 0.517\n",
            "mIoU for validation: 0.143\n",
            "iter =       21/      50, loss_segmentation = 1.412 loss_adversarial = 1.688 loss_D = 0.421 \n",
            "epoch 22, lr 0.014836: 100% 1000/1000 [02:33<00:00,  6.53it/s]\n",
            "average loss for train : 1.486997\n",
            "start val!\n",
            "precision per pixel for test: 0.508\n",
            "mIoU for validation: 0.135\n",
            "iter =       22/      50, loss_segmentation = 1.523 loss_adversarial = 1.624 loss_D = 0.575 \n",
            "epoch 23, lr 0.014358: 100% 1000/1000 [02:32<00:00,  6.55it/s]\n",
            "average loss for train : 1.769513\n",
            "start val!\n",
            "precision per pixel for test: 0.497\n",
            "mIoU for validation: 0.144\n",
            "iter =       23/      50, loss_segmentation = 1.247 loss_adversarial = 1.176 loss_D = 0.655 \n",
            "epoch 24, lr 0.013879: 100% 1000/1000 [02:32<00:00,  6.54it/s]\n",
            "average loss for train : 1.896461\n",
            "start val!\n",
            "precision per pixel for test: 0.437\n",
            "mIoU for validation: 0.118\n",
            "iter =       24/      50, loss_segmentation = 2.051 loss_adversarial = 1.599 loss_D = 0.515 \n",
            "epoch 25, lr 0.013397: 100% 1000/1000 [02:32<00:00,  6.55it/s]\n",
            "average loss for train : 1.426245\n",
            "start val!\n",
            "precision per pixel for test: 0.546\n",
            "mIoU for validation: 0.148\n",
            "iter =       25/      50, loss_segmentation = 1.492 loss_adversarial = 1.874 loss_D = 0.432 \n",
            "epoch 26, lr 0.012914: 100% 1000/1000 [02:33<00:00,  6.52it/s]\n",
            "average loss for train : 1.485114\n",
            "start val!\n",
            "precision per pixel for test: 0.547\n",
            "mIoU for validation: 0.145\n",
            "iter =       26/      50, loss_segmentation = 1.413 loss_adversarial = 1.932 loss_D = 0.393 \n",
            "epoch 27, lr 0.012429: 100% 1000/1000 [02:32<00:00,  6.55it/s]\n",
            "average loss for train : 1.318284\n",
            "start val!\n",
            "precision per pixel for test: 0.531\n",
            "mIoU for validation: 0.140\n",
            "iter =       27/      50, loss_segmentation = 1.337 loss_adversarial = 2.215 loss_D = 0.383 \n",
            "epoch 28, lr 0.011941: 100% 1000/1000 [02:32<00:00,  6.54it/s]\n",
            "average loss for train : 1.287504\n",
            "start val!\n",
            "precision per pixel for test: 0.534\n",
            "mIoU for validation: 0.148\n",
            "iter =       28/      50, loss_segmentation = 1.779 loss_adversarial = 2.360 loss_D = 0.334 \n",
            "epoch 29, lr 0.011452: 100% 1000/1000 [02:32<00:00,  6.54it/s]\n",
            "average loss for train : 1.268204\n",
            "start val!\n",
            "precision per pixel for test: 0.537\n",
            "mIoU for validation: 0.141\n",
            "iter =       29/      50, loss_segmentation = 1.028 loss_adversarial = 2.217 loss_D = 0.338 \n",
            "epoch 30, lr 0.010960: 100% 1000/1000 [02:33<00:00,  6.53it/s]\n",
            "average loss for train : 1.219651\n",
            "start val!\n",
            "precision per pixel for test: 0.457\n",
            "mIoU for validation: 0.120\n",
            "iter =       30/      50, loss_segmentation = 2.093 loss_adversarial = 3.031 loss_D = 0.343 \n",
            "epoch 31, lr 0.010465: 100% 1000/1000 [02:33<00:00,  6.51it/s]\n",
            "average loss for train : 1.126830\n",
            "start val!\n",
            "precision per pixel for test: 0.540\n",
            "mIoU for validation: 0.148\n",
            "iter =       31/      50, loss_segmentation = 1.024 loss_adversarial = 2.864 loss_D = 0.277 \n",
            "epoch 32, lr 0.009968: 100% 1000/1000 [02:32<00:00,  6.54it/s]\n",
            "average loss for train : 1.167704\n",
            "start val!\n",
            "precision per pixel for test: 0.465\n",
            "mIoU for validation: 0.122\n",
            "iter =       32/      50, loss_segmentation = 1.127 loss_adversarial = 3.422 loss_D = 0.297 \n",
            "epoch 33, lr 0.009468: 100% 1000/1000 [02:32<00:00,  6.54it/s]\n",
            "average loss for train : 1.087618\n",
            "start val!\n",
            "precision per pixel for test: 0.497\n",
            "mIoU for validation: 0.141\n",
            "iter =       33/      50, loss_segmentation = 1.052 loss_adversarial = 2.711 loss_D = 0.421 \n",
            "epoch 34, lr 0.008966: 100% 1000/1000 [02:32<00:00,  6.55it/s]\n",
            "average loss for train : 1.066669\n",
            "start val!\n",
            "precision per pixel for test: 0.493\n",
            "mIoU for validation: 0.139\n",
            "iter =       34/      50, loss_segmentation = 1.129 loss_adversarial = 2.592 loss_D = 0.283 \n",
            "epoch 35, lr 0.008460: 100% 1000/1000 [02:32<00:00,  6.55it/s]\n",
            "average loss for train : 1.641809\n",
            "start val!\n",
            "precision per pixel for test: 0.336\n",
            "mIoU for validation: 0.097\n",
            "iter =       35/      50, loss_segmentation = 1.934 loss_adversarial = 3.484 loss_D = 0.375 \n",
            "epoch 36, lr 0.007950: 100% 1000/1000 [02:32<00:00,  6.55it/s]\n",
            "average loss for train : 1.663174\n",
            "start val!\n",
            "precision per pixel for test: 0.496\n",
            "mIoU for validation: 0.136\n",
            "iter =       36/      50, loss_segmentation = 1.505 loss_adversarial = 3.131 loss_D = 0.385 \n",
            "epoch 37, lr 0.007437: 100% 1000/1000 [02:32<00:00,  6.54it/s]\n",
            "average loss for train : 1.548064\n",
            "start val!\n",
            "precision per pixel for test: 0.563\n",
            "mIoU for validation: 0.150\n",
            "iter =       37/      50, loss_segmentation = 1.370 loss_adversarial = 2.433 loss_D = 0.362 \n",
            "epoch 38, lr 0.006920: 100% 1000/1000 [02:32<00:00,  6.54it/s]\n",
            "average loss for train : 1.278269\n",
            "start val!\n",
            "precision per pixel for test: 0.579\n",
            "mIoU for validation: 0.152\n",
            "iter =       38/      50, loss_segmentation = 1.087 loss_adversarial = 2.427 loss_D = 0.404 \n",
            "epoch 39, lr 0.006399: 100% 1000/1000 [02:32<00:00,  6.54it/s]\n",
            "average loss for train : 1.271556\n",
            "start val!\n",
            "precision per pixel for test: 0.579\n",
            "mIoU for validation: 0.168\n",
            "iter =       39/      50, loss_segmentation = 1.229 loss_adversarial = 2.547 loss_D = 0.697 \n",
            "epoch 40, lr 0.005873: 100% 1000/1000 [02:32<00:00,  6.55it/s]\n",
            "average loss for train : 1.193009\n",
            "start val!\n",
            "precision per pixel for test: 0.492\n",
            "mIoU for validation: 0.132\n",
            "iter =       40/      50, loss_segmentation = 0.971 loss_adversarial = 2.409 loss_D = 0.379 \n",
            "epoch 41, lr 0.005342: 100% 1000/1000 [02:33<00:00,  6.53it/s]\n",
            "average loss for train : 1.123507\n",
            "start val!\n",
            "precision per pixel for test: 0.575\n",
            "mIoU for validation: 0.161\n",
            "iter =       41/      50, loss_segmentation = 1.160 loss_adversarial = 1.911 loss_D = 0.483 \n",
            "epoch 42, lr 0.004804: 100% 1000/1000 [02:33<00:00,  6.53it/s]\n",
            "average loss for train : 1.230116\n",
            "start val!\n",
            "precision per pixel for test: 0.477\n",
            "mIoU for validation: 0.134\n",
            "iter =       42/      50, loss_segmentation = 0.953 loss_adversarial = 3.090 loss_D = 0.305 \n",
            "epoch 43, lr 0.004260: 100% 1000/1000 [02:32<00:00,  6.54it/s]\n",
            "average loss for train : 1.103871\n",
            "start val!\n",
            "precision per pixel for test: 0.558\n",
            "mIoU for validation: 0.155\n",
            "iter =       43/      50, loss_segmentation = 1.255 loss_adversarial = 3.154 loss_D = 0.272 \n",
            "epoch 44, lr 0.003709: 100% 1000/1000 [02:33<00:00,  6.53it/s]\n",
            "average loss for train : 1.441078\n",
            "start val!\n",
            "precision per pixel for test: 0.483\n",
            "mIoU for validation: 0.134\n",
            "iter =       44/      50, loss_segmentation = 1.082 loss_adversarial = 3.037 loss_D = 0.247 \n",
            "epoch 45, lr 0.003147: 100% 1000/1000 [02:33<00:00,  6.53it/s]\n",
            "average loss for train : 1.166921\n",
            "start val!\n",
            "precision per pixel for test: 0.535\n",
            "mIoU for validation: 0.150\n",
            "iter =       45/      50, loss_segmentation = 1.022 loss_adversarial = 2.157 loss_D = 0.360 \n",
            "epoch 46, lr 0.002575: 100% 1000/1000 [02:32<00:00,  6.54it/s]\n",
            "average loss for train : 1.043703\n",
            "start val!\n",
            "precision per pixel for test: 0.555\n",
            "mIoU for validation: 0.153\n",
            "iter =       46/      50, loss_segmentation = 1.266 loss_adversarial = 2.811 loss_D = 0.295 \n",
            "epoch 47, lr 0.001987: 100% 1000/1000 [02:32<00:00,  6.55it/s]\n",
            "average loss for train : 1.002213\n",
            "start val!\n",
            "precision per pixel for test: 0.581\n",
            "mIoU for validation: 0.160\n",
            "iter =       47/      50, loss_segmentation = 1.189 loss_adversarial = 2.804 loss_D = 0.303 \n",
            "epoch 48, lr 0.001380: 100% 1000/1000 [02:32<00:00,  6.55it/s]\n",
            "average loss for train : 0.978131\n",
            "start val!\n",
            "precision per pixel for test: 0.503\n",
            "mIoU for validation: 0.138\n",
            "iter =       48/      50, loss_segmentation = 0.928 loss_adversarial = 2.619 loss_D = 0.270 \n",
            "epoch 49, lr 0.000739: 100% 1000/1000 [02:32<00:00,  6.55it/s]\n",
            "average loss for train : 0.968570\n",
            "start val!\n",
            "precision per pixel for test: 0.525\n",
            "mIoU for validation: 0.145\n",
            "iter =       49/      50, loss_segmentation = 0.767 loss_adversarial = 2.949 loss_D = 0.261 \n"
          ]
        }
      ]
    },
    {
      "cell_type": "code",
      "source": [
        "!python eval.py"
      ],
      "metadata": {
        "colab": {
          "base_uri": "https://localhost:8080/"
        },
        "id": "8F6uhIbgyKPD",
        "outputId": "429b58ec-060e-4e51-f2c0-5d8d0c01c8f5"
      },
      "execution_count": null,
      "outputs": [
        {
          "output_type": "stream",
          "name": "stdout",
          "text": [
            "load model from /content/drive/MyDrive/checkpoints_101_sgd_DSC_withpseudolabels/best_crossentropy_loss.pth ...\n",
            "The best epoch is 39\n",
            "Done!\n",
            "start test!\n",
            "test: 100% 250/250 [13:11<00:00,  3.30s/it]precision per pixel for test: 0.579\n",
            "mIoU for validation: 0.168\n",
            "test: 100% 250/250 [13:15<00:00,  3.18s/it]\n"
          ]
        }
      ]
    },
    {
      "cell_type": "code",
      "source": [
        "#resnet101\n",
        "!python train.py"
      ],
      "metadata": {
        "colab": {
          "base_uri": "https://localhost:8080/"
        },
        "id": "Q2WFK32_w1ll",
        "outputId": "161e6ea2-83d9-4edf-bc96-e1ba428f59a1"
      },
      "execution_count": null,
      "outputs": [
        {
          "output_type": "stream",
          "name": "stdout",
          "text": [
            "Downloading: \"https://download.pytorch.org/models/resnet18-f37072fd.pth\" to /root/.cache/torch/hub/checkpoints/resnet18-f37072fd.pth\n",
            "100% 44.7M/44.7M [00:00<00:00, 56.9MB/s]\n",
            "Downloading: \"https://download.pytorch.org/models/resnet101-63fe2227.pth\" to /root/.cache/torch/hub/checkpoints/resnet101-63fe2227.pth\n",
            "100% 171M/171M [00:02<00:00, 60.2MB/s]\n",
            "epoch 0, lr 0.025000: 100% 500/500 [01:36<00:00,  5.17it/s, loss=1.645083]\n",
            "loss for train : 2.418889\n",
            "start val!\n",
            "precision per pixel for test: 0.730\n",
            "mIoU for validation: 0.268\n",
            "epoch 1, lr 0.024550: 100% 500/500 [01:29<00:00,  5.61it/s, loss=1.445451]\n",
            "loss for train : 1.310970\n",
            "start val!\n",
            "precision per pixel for test: 0.737\n",
            "mIoU for validation: 0.277\n",
            "epoch 2, lr 0.024098: 100% 500/500 [01:29<00:00,  5.58it/s, loss=1.094267]\n",
            "loss for train : 1.084486\n",
            "start val!\n",
            "precision per pixel for test: 0.773\n",
            "mIoU for validation: 0.364\n",
            "epoch 3, lr 0.023646: 100% 500/500 [01:29<00:00,  5.57it/s, loss=0.668049]\n",
            "loss for train : 0.882943\n",
            "start val!\n",
            "precision per pixel for test: 0.756\n",
            "mIoU for validation: 0.348\n",
            "epoch 4, lr 0.023193: 100% 500/500 [01:28<00:00,  5.68it/s, loss=1.177841]\n",
            "loss for train : 0.762117\n",
            "start val!\n",
            "precision per pixel for test: 0.631\n",
            "mIoU for validation: 0.283\n",
            "epoch 5, lr 0.022738: 100% 500/500 [01:30<00:00,  5.55it/s, loss=0.832265]\n",
            "loss for train : 0.732943\n",
            "start val!\n",
            "precision per pixel for test: 0.782\n",
            "mIoU for validation: 0.424\n",
            "epoch 6, lr 0.022283: 100% 500/500 [01:29<00:00,  5.58it/s, loss=0.519038]\n",
            "loss for train : 0.604468\n",
            "start val!\n",
            "precision per pixel for test: 0.794\n",
            "mIoU for validation: 0.471\n",
            "epoch 7, lr 0.021827: 100% 500/500 [01:30<00:00,  5.52it/s, loss=0.691986]\n",
            "loss for train : 0.541739\n",
            "start val!\n",
            "precision per pixel for test: 0.776\n",
            "mIoU for validation: 0.436\n",
            "epoch 8, lr 0.021369: 100% 500/500 [01:28<00:00,  5.68it/s, loss=0.402276]\n",
            "loss for train : 0.521863\n",
            "start val!\n",
            "precision per pixel for test: 0.796\n",
            "mIoU for validation: 0.485\n",
            "epoch 9, lr 0.020911: 100% 500/500 [01:30<00:00,  5.54it/s, loss=0.530897]\n",
            "loss for train : 0.449368\n",
            "start val!\n",
            "precision per pixel for test: 0.790\n",
            "mIoU for validation: 0.469\n",
            "epoch 10, lr 0.020451: 100% 500/500 [01:28<00:00,  5.67it/s, loss=0.390085]\n",
            "loss for train : 0.418246\n",
            "start val!\n",
            "precision per pixel for test: 0.800\n",
            "mIoU for validation: 0.498\n",
            "epoch 11, lr 0.019991: 100% 500/500 [01:29<00:00,  5.60it/s, loss=0.476238]\n",
            "loss for train : 0.396338\n",
            "start val!\n",
            "precision per pixel for test: 0.802\n",
            "mIoU for validation: 0.524\n",
            "epoch 12, lr 0.019529: 100% 500/500 [01:29<00:00,  5.59it/s, loss=0.254537]\n",
            "loss for train : 0.372808\n",
            "start val!\n",
            "precision per pixel for test: 0.803\n",
            "mIoU for validation: 0.520\n",
            "epoch 13, lr 0.019066: 100% 500/500 [01:27<00:00,  5.70it/s, loss=0.380744]\n",
            "loss for train : 0.369006\n",
            "start val!\n",
            "precision per pixel for test: 0.801\n",
            "mIoU for validation: 0.521\n",
            "epoch 14, lr 0.018601: 100% 500/500 [01:28<00:00,  5.67it/s, loss=0.375891]\n",
            "loss for train : 0.353877\n",
            "start val!\n",
            "precision per pixel for test: 0.799\n",
            "mIoU for validation: 0.508\n",
            "epoch 15, lr 0.018135: 100% 500/500 [01:28<00:00,  5.68it/s, loss=0.260996]\n",
            "loss for train : 0.341025\n",
            "start val!\n",
            "precision per pixel for test: 0.802\n",
            "mIoU for validation: 0.533\n",
            "epoch 16, lr 0.017668: 100% 500/500 [01:30<00:00,  5.55it/s, loss=0.423475]\n",
            "loss for train : 0.329551\n",
            "start val!\n",
            "precision per pixel for test: 0.802\n",
            "mIoU for validation: 0.522\n",
            "epoch 17, lr 0.017200: 100% 500/500 [01:28<00:00,  5.65it/s, loss=0.260407]\n",
            "loss for train : 0.314099\n",
            "start val!\n",
            "precision per pixel for test: 0.804\n",
            "mIoU for validation: 0.539\n",
            "epoch 18, lr 0.016730: 100% 500/500 [01:30<00:00,  5.54it/s, loss=0.229443]\n",
            "loss for train : 0.305093\n",
            "start val!\n",
            "precision per pixel for test: 0.804\n",
            "mIoU for validation: 0.541\n",
            "epoch 19, lr 0.016259: 100% 500/500 [01:29<00:00,  5.57it/s, loss=0.343773]\n",
            "loss for train : 0.301878\n",
            "start val!\n",
            "precision per pixel for test: 0.804\n",
            "mIoU for validation: 0.521\n",
            "epoch 20, lr 0.015786: 100% 500/500 [01:28<00:00,  5.64it/s, loss=0.320416]\n",
            "loss for train : 0.292442\n",
            "start val!\n",
            "precision per pixel for test: 0.803\n",
            "mIoU for validation: 0.540\n",
            "epoch 21, lr 0.015312: 100% 500/500 [01:28<00:00,  5.64it/s, loss=0.236077]\n",
            "loss for train : 0.284761\n",
            "start val!\n",
            "precision per pixel for test: 0.805\n",
            "mIoU for validation: 0.540\n",
            "epoch 22, lr 0.014836: 100% 500/500 [01:29<00:00,  5.61it/s, loss=0.265504]\n",
            "loss for train : 0.281655\n",
            "start val!\n",
            "precision per pixel for test: 0.805\n",
            "mIoU for validation: 0.545\n",
            "epoch 23, lr 0.014358: 100% 500/500 [01:30<00:00,  5.55it/s, loss=0.302014]\n",
            "loss for train : 0.273306\n",
            "start val!\n",
            "precision per pixel for test: 0.803\n",
            "mIoU for validation: 0.539\n",
            "epoch 24, lr 0.013879: 100% 500/500 [01:29<00:00,  5.61it/s, loss=0.237784]\n",
            "loss for train : 0.269795\n",
            "start val!\n",
            "precision per pixel for test: 0.805\n",
            "mIoU for validation: 0.547\n",
            "epoch 25, lr 0.013397: 100% 500/500 [01:29<00:00,  5.57it/s, loss=0.494297]\n",
            "loss for train : 0.424494\n",
            "start val!\n",
            "precision per pixel for test: 0.724\n",
            "mIoU for validation: 0.396\n",
            "epoch 26, lr 0.012914: 100% 500/500 [01:28<00:00,  5.67it/s, loss=0.319613]\n",
            "loss for train : 0.339709\n",
            "start val!\n",
            "precision per pixel for test: 0.797\n",
            "mIoU for validation: 0.516\n",
            "epoch 27, lr 0.012429: 100% 500/500 [01:28<00:00,  5.68it/s, loss=0.353613]\n",
            "loss for train : 0.295961\n",
            "start val!\n",
            "precision per pixel for test: 0.805\n",
            "mIoU for validation: 0.541\n",
            "epoch 28, lr 0.011941: 100% 500/500 [01:27<00:00,  5.73it/s, loss=0.385644]\n",
            "loss for train : 0.274541\n",
            "start val!\n",
            "precision per pixel for test: 0.804\n",
            "mIoU for validation: 0.540\n",
            "epoch 29, lr 0.011452: 100% 500/500 [01:27<00:00,  5.70it/s, loss=0.287216]\n",
            "loss for train : 0.267739\n",
            "start val!\n",
            "precision per pixel for test: 0.805\n",
            "mIoU for validation: 0.540\n",
            "epoch 30, lr 0.010960: 100% 500/500 [01:27<00:00,  5.73it/s, loss=0.316486]\n",
            "loss for train : 0.259944\n",
            "start val!\n",
            "precision per pixel for test: 0.805\n",
            "mIoU for validation: 0.538\n",
            "epoch 31, lr 0.010465: 100% 500/500 [01:27<00:00,  5.73it/s, loss=0.210449]\n",
            "loss for train : 0.255253\n",
            "start val!\n",
            "precision per pixel for test: 0.805\n",
            "mIoU for validation: 0.543\n",
            "epoch 32, lr 0.009968: 100% 500/500 [01:28<00:00,  5.67it/s, loss=0.186732]\n",
            "loss for train : 0.250747\n",
            "start val!\n",
            "precision per pixel for test: 0.805\n",
            "mIoU for validation: 0.535\n",
            "epoch 33, lr 0.009468: 100% 500/500 [01:28<00:00,  5.67it/s, loss=0.283958]\n",
            "loss for train : 0.246785\n",
            "start val!\n",
            "precision per pixel for test: 0.805\n",
            "mIoU for validation: 0.539\n",
            "epoch 34, lr 0.008966: 100% 500/500 [01:27<00:00,  5.70it/s, loss=0.209442]\n",
            "loss for train : 0.244702\n",
            "start val!\n",
            "precision per pixel for test: 0.805\n",
            "mIoU for validation: 0.542\n",
            "epoch 35, lr 0.008460: 100% 500/500 [01:27<00:00,  5.69it/s, loss=0.317294]\n",
            "loss for train : 0.241286\n",
            "start val!\n",
            "precision per pixel for test: 0.805\n",
            "mIoU for validation: 0.541\n",
            "epoch 36, lr 0.007950: 100% 500/500 [01:27<00:00,  5.70it/s, loss=0.191341]\n",
            "loss for train : 0.238826\n",
            "start val!\n",
            "precision per pixel for test: 0.805\n",
            "mIoU for validation: 0.540\n",
            "epoch 37, lr 0.007437: 100% 500/500 [01:28<00:00,  5.67it/s, loss=0.241222]\n",
            "loss for train : 0.236189\n",
            "start val!\n",
            "precision per pixel for test: 0.805\n",
            "mIoU for validation: 0.539\n",
            "epoch 38, lr 0.006920: 100% 500/500 [01:28<00:00,  5.64it/s, loss=0.176638]\n",
            "loss for train : 0.234888\n",
            "start val!\n",
            "precision per pixel for test: 0.805\n",
            "mIoU for validation: 0.539\n",
            "epoch 39, lr 0.006399: 100% 500/500 [01:28<00:00,  5.67it/s, loss=0.307730]\n",
            "loss for train : 0.231911\n",
            "start val!\n",
            "precision per pixel for test: 0.805\n",
            "mIoU for validation: 0.536\n",
            "epoch 40, lr 0.005873: 100% 500/500 [01:28<00:00,  5.63it/s, loss=0.220625]\n",
            "loss for train : 0.230200\n",
            "start val!\n",
            "precision per pixel for test: 0.805\n",
            "mIoU for validation: 0.538\n",
            "epoch 41, lr 0.005342: 100% 500/500 [01:28<00:00,  5.66it/s, loss=0.266023]\n",
            "loss for train : 0.229907\n",
            "start val!\n",
            "precision per pixel for test: 0.805\n",
            "mIoU for validation: 0.537\n",
            "epoch 42, lr 0.004804: 100% 500/500 [01:28<00:00,  5.65it/s, loss=0.225107]\n",
            "loss for train : 0.228263\n",
            "start val!\n",
            "precision per pixel for test: 0.805\n",
            "mIoU for validation: 0.538\n",
            "epoch 43, lr 0.004260: 100% 500/500 [01:28<00:00,  5.66it/s, loss=0.210964]\n",
            "loss for train : 0.226558\n",
            "start val!\n",
            "precision per pixel for test: 0.805\n",
            "mIoU for validation: 0.539\n",
            "epoch 44, lr 0.003709: 100% 500/500 [01:28<00:00,  5.64it/s, loss=0.220278]\n",
            "loss for train : 0.226081\n",
            "start val!\n",
            "precision per pixel for test: 0.805\n",
            "mIoU for validation: 0.537\n",
            "epoch 45, lr 0.003147: 100% 500/500 [01:28<00:00,  5.66it/s, loss=0.197492]\n",
            "loss for train : 0.225191\n",
            "start val!\n",
            "precision per pixel for test: 0.805\n",
            "mIoU for validation: 0.537\n",
            "epoch 46, lr 0.002575: 100% 500/500 [01:28<00:00,  5.65it/s, loss=0.204809]\n",
            "loss for train : 0.223375\n",
            "start val!\n",
            "precision per pixel for test: 0.805\n",
            "mIoU for validation: 0.539\n",
            "epoch 47, lr 0.001987: 100% 500/500 [01:28<00:00,  5.62it/s, loss=0.248003]\n",
            "loss for train : 0.223380\n",
            "start val!\n",
            "precision per pixel for test: 0.805\n",
            "mIoU for validation: 0.538\n",
            "epoch 48, lr 0.001380: 100% 500/500 [01:28<00:00,  5.65it/s, loss=0.242874]\n",
            "loss for train : 0.222526\n",
            "start val!\n",
            "precision per pixel for test: 0.805\n",
            "mIoU for validation: 0.538\n",
            "epoch 49, lr 0.000739: 100% 500/500 [01:29<00:00,  5.58it/s, loss=0.176520]\n",
            "loss for train : 0.221603\n",
            "start val!\n",
            "precision per pixel for test: 0.805\n",
            "mIoU for validation: 0.536\n"
          ]
        }
      ]
    },
    {
      "cell_type": "code",
      "source": [
        "#best epoch\n",
        "!python eval.py"
      ],
      "metadata": {
        "colab": {
          "base_uri": "https://localhost:8080/"
        },
        "id": "j6qUIn3e8dsl",
        "outputId": "95c07ac2-d2c9-48f7-9116-0c739c784a31"
      },
      "execution_count": null,
      "outputs": [
        {
          "output_type": "stream",
          "name": "stdout",
          "text": [
            "load model from /content/drive/MyDrive/checkpoints_101_sgd/best_crossentropy_loss.pth ...\n",
            "The best epoch is 24\n",
            "Done!\n",
            "start test!\n",
            "test: 100% 250/250 [19:14<00:00,  4.67s/it]precision per pixel for test: 0.805\n",
            "mIoU for validation: 0.547\n",
            "test: 100% 250/250 [19:18<00:00,  4.63s/it]\n"
          ]
        }
      ]
    },
    {
      "cell_type": "code",
      "source": [
        "#last epoch\n",
        "!python eval.py"
      ],
      "metadata": {
        "id": "OEKivsluC7U8",
        "outputId": "a1cbdbc5-3a85-4603-d7dd-9fd9bf3bb7c0",
        "colab": {
          "base_uri": "https://localhost:8080/"
        }
      },
      "execution_count": null,
      "outputs": [
        {
          "output_type": "stream",
          "name": "stdout",
          "text": [
            "load model from /content/drive/MyDrive/checkpoints_101_sgd/latest_crossentropy_loss.pth ...\n",
            "Done!\n",
            "start test!\n",
            "test: 100% 250/250 [21:39<00:00,  5.25s/it]precision per pixel for test: 0.805\n",
            "mIoU for validation: 0.536\n",
            "test: 100% 250/250 [21:44<00:00,  5.22s/it]\n"
          ]
        }
      ]
    },
    {
      "cell_type": "code",
      "source": [
        "#resnet18\n",
        "!python train.py"
      ],
      "metadata": {
        "id": "M1BIsFlUDIas",
        "outputId": "8340ba75-4f4a-4b8c-f0cc-f73076eee3ae",
        "colab": {
          "base_uri": "https://localhost:8080/"
        }
      },
      "execution_count": null,
      "outputs": [
        {
          "output_type": "stream",
          "name": "stdout",
          "text": [
            "epoch 0, lr 0.025000: 100% 500/500 [01:20<00:00,  6.25it/s, loss=3.035611]\n",
            "loss for train : 2.830822\n",
            "start val!\n",
            "precision per pixel for test: 0.717\n",
            "mIoU for validation: 0.240\n",
            "epoch 1, lr 0.024550: 100% 500/500 [01:04<00:00,  7.73it/s, loss=1.592243]\n",
            "loss for train : 1.678360\n",
            "start val!\n",
            "precision per pixel for test: 0.735\n",
            "mIoU for validation: 0.272\n",
            "epoch 2, lr 0.024098: 100% 500/500 [01:04<00:00,  7.74it/s, loss=1.482355]\n",
            "loss for train : 1.375966\n",
            "start val!\n",
            "precision per pixel for test: 0.748\n",
            "mIoU for validation: 0.296\n",
            "epoch 3, lr 0.023646: 100% 500/500 [01:04<00:00,  7.80it/s, loss=1.373947]\n",
            "loss for train : 1.247745\n",
            "start val!\n",
            "precision per pixel for test: 0.759\n",
            "mIoU for validation: 0.309\n",
            "epoch 4, lr 0.023193: 100% 500/500 [01:04<00:00,  7.72it/s, loss=0.820345]\n",
            "loss for train : 1.063850\n",
            "start val!\n",
            "precision per pixel for test: 0.769\n",
            "mIoU for validation: 0.332\n",
            "epoch 5, lr 0.022738: 100% 500/500 [01:04<00:00,  7.78it/s, loss=1.302467]\n",
            "loss for train : 0.954782\n",
            "start val!\n",
            "precision per pixel for test: 0.758\n",
            "mIoU for validation: 0.338\n",
            "epoch 6, lr 0.022283: 100% 500/500 [01:04<00:00,  7.80it/s, loss=1.029677]\n",
            "loss for train : 0.888649\n",
            "start val!\n",
            "precision per pixel for test: 0.718\n",
            "mIoU for validation: 0.327\n",
            "epoch 7, lr 0.021827: 100% 500/500 [01:04<00:00,  7.77it/s, loss=0.769093]\n",
            "loss for train : 0.845301\n",
            "start val!\n",
            "precision per pixel for test: 0.766\n",
            "mIoU for validation: 0.394\n",
            "epoch 8, lr 0.021369: 100% 500/500 [01:04<00:00,  7.69it/s, loss=0.711541]\n",
            "loss for train : 0.767897\n",
            "start val!\n",
            "precision per pixel for test: 0.761\n",
            "mIoU for validation: 0.390\n",
            "epoch 9, lr 0.020911: 100% 500/500 [01:04<00:00,  7.78it/s, loss=0.892892]\n",
            "loss for train : 0.702588\n",
            "start val!\n",
            "precision per pixel for test: 0.782\n",
            "mIoU for validation: 0.425\n",
            "epoch 10, lr 0.020451: 100% 500/500 [01:04<00:00,  7.73it/s, loss=0.664219]\n",
            "loss for train : 0.664315\n",
            "start val!\n",
            "precision per pixel for test: 0.785\n",
            "mIoU for validation: 0.449\n",
            "epoch 11, lr 0.019991: 100% 500/500 [01:04<00:00,  7.77it/s, loss=0.632313]\n",
            "loss for train : 0.608189\n",
            "start val!\n",
            "precision per pixel for test: 0.786\n",
            "mIoU for validation: 0.452\n",
            "epoch 12, lr 0.019529: 100% 500/500 [01:04<00:00,  7.71it/s, loss=0.368787]\n",
            "loss for train : 0.583000\n",
            "start val!\n",
            "precision per pixel for test: 0.788\n",
            "mIoU for validation: 0.459\n",
            "epoch 13, lr 0.019066: 100% 500/500 [01:04<00:00,  7.70it/s, loss=0.876972]\n",
            "loss for train : 0.559473\n",
            "start val!\n",
            "precision per pixel for test: 0.790\n",
            "mIoU for validation: 0.470\n",
            "epoch 14, lr 0.018601: 100% 500/500 [01:04<00:00,  7.72it/s, loss=0.556377]\n",
            "loss for train : 0.547386\n",
            "start val!\n",
            "precision per pixel for test: 0.787\n",
            "mIoU for validation: 0.450\n",
            "epoch 15, lr 0.018135: 100% 500/500 [01:04<00:00,  7.76it/s, loss=0.446764]\n",
            "loss for train : 0.515169\n",
            "start val!\n",
            "precision per pixel for test: 0.790\n",
            "mIoU for validation: 0.473\n",
            "epoch 16, lr 0.017668: 100% 500/500 [01:04<00:00,  7.73it/s, loss=0.597311]\n",
            "loss for train : 0.502427\n",
            "start val!\n",
            "precision per pixel for test: 0.791\n",
            "mIoU for validation: 0.460\n",
            "epoch 17, lr 0.017200: 100% 500/500 [01:05<00:00,  7.66it/s, loss=0.461105]\n",
            "loss for train : 0.485093\n",
            "start val!\n",
            "precision per pixel for test: 0.792\n",
            "mIoU for validation: 0.457\n",
            "epoch 18, lr 0.016730: 100% 500/500 [01:04<00:00,  7.71it/s, loss=0.449097]\n",
            "loss for train : 0.465930\n",
            "start val!\n",
            "precision per pixel for test: 0.791\n",
            "mIoU for validation: 0.470\n",
            "epoch 19, lr 0.016259: 100% 500/500 [01:04<00:00,  7.72it/s, loss=0.479096]\n",
            "loss for train : 0.454961\n",
            "start val!\n",
            "precision per pixel for test: 0.792\n",
            "mIoU for validation: 0.476\n",
            "epoch 20, lr 0.015786: 100% 500/500 [01:04<00:00,  7.76it/s, loss=0.478702]\n",
            "loss for train : 0.440513\n",
            "start val!\n",
            "precision per pixel for test: 0.791\n",
            "mIoU for validation: 0.481\n",
            "epoch 21, lr 0.015312: 100% 500/500 [01:05<00:00,  7.69it/s, loss=0.433647]\n",
            "loss for train : 0.428293\n",
            "start val!\n",
            "precision per pixel for test: 0.793\n",
            "mIoU for validation: 0.479\n",
            "epoch 22, lr 0.014836: 100% 500/500 [01:04<00:00,  7.70it/s, loss=0.344890]\n",
            "loss for train : 0.417748\n",
            "start val!\n",
            "precision per pixel for test: 0.793\n",
            "mIoU for validation: 0.477\n",
            "epoch 23, lr 0.014358: 100% 500/500 [01:04<00:00,  7.73it/s, loss=0.416466]\n",
            "loss for train : 0.409070\n",
            "start val!\n",
            "precision per pixel for test: 0.793\n",
            "mIoU for validation: 0.480\n",
            "epoch 24, lr 0.013879: 100% 500/500 [01:04<00:00,  7.73it/s, loss=0.395896]\n",
            "loss for train : 0.400354\n",
            "start val!\n",
            "precision per pixel for test: 0.792\n",
            "mIoU for validation: 0.474\n",
            "epoch 25, lr 0.013397: 100% 500/500 [01:04<00:00,  7.71it/s, loss=0.426504]\n",
            "loss for train : 0.390023\n",
            "start val!\n",
            "precision per pixel for test: 0.794\n",
            "mIoU for validation: 0.482\n",
            "epoch 26, lr 0.012914: 100% 500/500 [01:05<00:00,  7.66it/s, loss=0.381049]\n",
            "loss for train : 0.391044\n",
            "start val!\n",
            "precision per pixel for test: 0.792\n",
            "mIoU for validation: 0.472\n",
            "epoch 27, lr 0.012429: 100% 500/500 [01:05<00:00,  7.60it/s, loss=0.349196]\n",
            "loss for train : 0.381008\n",
            "start val!\n",
            "precision per pixel for test: 0.793\n",
            "mIoU for validation: 0.477\n",
            "epoch 28, lr 0.011941: 100% 500/500 [01:04<00:00,  7.73it/s, loss=0.278369]\n",
            "loss for train : 0.375166\n",
            "start val!\n",
            "precision per pixel for test: 0.793\n",
            "mIoU for validation: 0.480\n",
            "epoch 29, lr 0.011452: 100% 500/500 [01:04<00:00,  7.71it/s, loss=0.297887]\n",
            "loss for train : 0.367238\n",
            "start val!\n",
            "precision per pixel for test: 0.793\n",
            "mIoU for validation: 0.473\n",
            "epoch 30, lr 0.010960: 100% 500/500 [01:04<00:00,  7.71it/s, loss=0.337963]\n",
            "loss for train : 0.363616\n",
            "start val!\n",
            "precision per pixel for test: 0.793\n",
            "mIoU for validation: 0.479\n",
            "epoch 31, lr 0.010465: 100% 500/500 [01:04<00:00,  7.73it/s, loss=0.417175]\n",
            "loss for train : 0.359177\n",
            "start val!\n",
            "precision per pixel for test: 0.793\n",
            "mIoU for validation: 0.472\n",
            "epoch 32, lr 0.009968: 100% 500/500 [01:04<00:00,  7.71it/s, loss=0.315123]\n",
            "loss for train : 0.353497\n",
            "start val!\n",
            "precision per pixel for test: 0.793\n",
            "mIoU for validation: 0.491\n",
            "epoch 33, lr 0.009468: 100% 500/500 [01:05<00:00,  7.67it/s, loss=0.271488]\n",
            "loss for train : 0.348730\n",
            "start val!\n",
            "precision per pixel for test: 0.793\n",
            "mIoU for validation: 0.478\n",
            "epoch 34, lr 0.008966: 100% 500/500 [01:05<00:00,  7.68it/s, loss=0.289220]\n",
            "loss for train : 0.346304\n",
            "start val!\n",
            "precision per pixel for test: 0.792\n",
            "mIoU for validation: 0.479\n",
            "epoch 35, lr 0.008460: 100% 500/500 [01:04<00:00,  7.70it/s, loss=0.260934]\n",
            "loss for train : 0.343095\n",
            "start val!\n",
            "precision per pixel for test: 0.794\n",
            "mIoU for validation: 0.481\n",
            "epoch 36, lr 0.007950: 100% 500/500 [01:04<00:00,  7.74it/s, loss=0.278401]\n",
            "loss for train : 0.339002\n",
            "start val!\n",
            "precision per pixel for test: 0.793\n",
            "mIoU for validation: 0.475\n",
            "epoch 37, lr 0.007437: 100% 500/500 [01:04<00:00,  7.70it/s, loss=0.392460]\n",
            "loss for train : 0.334502\n",
            "start val!\n",
            "precision per pixel for test: 0.794\n",
            "mIoU for validation: 0.478\n",
            "epoch 38, lr 0.006920: 100% 500/500 [01:05<00:00,  7.69it/s, loss=0.392874]\n",
            "loss for train : 0.329773\n",
            "start val!\n",
            "precision per pixel for test: 0.793\n",
            "mIoU for validation: 0.474\n",
            "epoch 39, lr 0.006399: 100% 500/500 [01:04<00:00,  7.71it/s, loss=0.340073]\n",
            "loss for train : 0.328140\n",
            "start val!\n",
            "precision per pixel for test: 0.794\n",
            "mIoU for validation: 0.478\n",
            "epoch 40, lr 0.005873: 100% 500/500 [01:04<00:00,  7.71it/s, loss=0.348669]\n",
            "loss for train : 0.326425\n",
            "start val!\n",
            "precision per pixel for test: 0.793\n",
            "mIoU for validation: 0.472\n",
            "epoch 41, lr 0.005342: 100% 500/500 [01:04<00:00,  7.71it/s, loss=0.329660]\n",
            "loss for train : 0.321916\n",
            "start val!\n",
            "precision per pixel for test: 0.793\n",
            "mIoU for validation: 0.481\n",
            "epoch 42, lr 0.004804: 100% 500/500 [01:04<00:00,  7.73it/s, loss=0.376606]\n",
            "loss for train : 0.321043\n",
            "start val!\n",
            "precision per pixel for test: 0.793\n",
            "mIoU for validation: 0.480\n",
            "epoch 43, lr 0.004260: 100% 500/500 [01:05<00:00,  7.62it/s, loss=0.351570]\n",
            "loss for train : 0.317972\n",
            "start val!\n",
            "precision per pixel for test: 0.793\n",
            "mIoU for validation: 0.472\n",
            "epoch 44, lr 0.003709: 100% 500/500 [01:05<00:00,  7.69it/s, loss=0.252985]\n",
            "loss for train : 0.317475\n",
            "start val!\n",
            "precision per pixel for test: 0.793\n",
            "mIoU for validation: 0.467\n",
            "epoch 45, lr 0.003147: 100% 500/500 [01:04<00:00,  7.70it/s, loss=0.201905]\n",
            "loss for train : 0.317319\n",
            "start val!\n",
            "precision per pixel for test: 0.793\n",
            "mIoU for validation: 0.473\n",
            "epoch 46, lr 0.002575: 100% 500/500 [01:04<00:00,  7.69it/s, loss=0.268724]\n",
            "loss for train : 0.316557\n",
            "start val!\n",
            "precision per pixel for test: 0.794\n",
            "mIoU for validation: 0.474\n",
            "epoch 47, lr 0.001987: 100% 500/500 [01:04<00:00,  7.70it/s, loss=0.288777]\n",
            "loss for train : 0.314588\n",
            "start val!\n",
            "precision per pixel for test: 0.793\n",
            "mIoU for validation: 0.470\n",
            "epoch 48, lr 0.001380: 100% 500/500 [01:04<00:00,  7.71it/s, loss=0.222460]\n",
            "loss for train : 0.314409\n",
            "start val!\n",
            "precision per pixel for test: 0.793\n",
            "mIoU for validation: 0.471\n",
            "epoch 49, lr 0.000739: 100% 500/500 [01:04<00:00,  7.74it/s, loss=0.221616]\n",
            "loss for train : 0.311938\n",
            "start val!\n",
            "precision per pixel for test: 0.793\n",
            "mIoU for validation: 0.472\n"
          ]
        }
      ]
    },
    {
      "cell_type": "code",
      "source": [
        "#best\n",
        "!python eval.py"
      ],
      "metadata": {
        "id": "hFZxMIurDJmp",
        "outputId": "374d6648-9b58-4f73-9fcc-ea5db1f2325d",
        "colab": {
          "base_uri": "https://localhost:8080/"
        }
      },
      "execution_count": null,
      "outputs": [
        {
          "output_type": "stream",
          "name": "stdout",
          "text": [
            "load model from /content/drive/MyDrive/checkpoints_18_sgd/best_crossentropy_loss.pth ...\n",
            "The best epoch is 32\n",
            "Done!\n",
            "start test!\n",
            "test: 100% 250/250 [09:32<00:00,  2.30s/it]precision per pixel for test: 0.793\n",
            "mIoU for validation: 0.491\n",
            "test: 100% 250/250 [09:34<00:00,  2.30s/it]\n"
          ]
        }
      ]
    },
    {
      "cell_type": "code",
      "source": [
        "#last\n",
        "!python eval.py"
      ],
      "metadata": {
        "id": "uHEdMve4ET3h",
        "outputId": "b93daec2-718f-4665-8c9b-e101afce2b32",
        "colab": {
          "base_uri": "https://localhost:8080/"
        }
      },
      "execution_count": null,
      "outputs": [
        {
          "output_type": "stream",
          "name": "stdout",
          "text": [
            "load model from /content/drive/MyDrive/checkpoints_18_sgd/latest_crossentropy_loss.pth ...\n",
            "Done!\n",
            "start test!\n",
            "test: 100% 250/250 [09:26<00:00,  2.27s/it]precision per pixel for test: 0.793\n",
            "mIoU for validation: 0.472\n",
            "test: 100% 250/250 [09:28<00:00,  2.27s/it]\n"
          ]
        }
      ]
    },
    {
      "cell_type": "code",
      "source": [
        "#DA resnet101\n",
        "!python trainGTAtoCityscapes.py"
      ],
      "metadata": {
        "id": "aAEA9rGiz_xo",
        "outputId": "f4b2c887-1616-49f1-e17a-34d7967cd459",
        "colab": {
          "base_uri": "https://localhost:8080/"
        }
      },
      "execution_count": 8,
      "outputs": [
        {
          "output_type": "stream",
          "name": "stdout",
          "text": [
            "Downloading: \"https://download.pytorch.org/models/resnet18-f37072fd.pth\" to /root/.cache/torch/hub/checkpoints/resnet18-f37072fd.pth\n",
            "100% 44.7M/44.7M [00:00<00:00, 51.9MB/s]\n",
            "Downloading: \"https://download.pytorch.org/models/resnet101-63fe2227.pth\" to /root/.cache/torch/hub/checkpoints/resnet101-63fe2227.pth\n",
            "100% 171M/171M [00:02<00:00, 73.7MB/s]\n",
            "epoch 0, lr 0.025000: 100% 1000/1000 [07:05<00:00,  2.35it/s]\n",
            "loss for train : 3.205305\n",
            "start val!\n",
            "precision per pixel for test: 0.525\n",
            "mIoU for validation: 0.135\n",
            "iter =        0/      50, loss_segmentation = 1.989 loss_adversarial = 0.001 loss_D = 0.637 \n",
            "epoch 1, lr 0.024550: 100% 1000/1000 [06:52<00:00,  2.42it/s]\n",
            "loss for train : 1.946668\n",
            "start val!\n",
            "precision per pixel for test: 0.428\n",
            "mIoU for validation: 0.140\n",
            "iter =        1/      50, loss_segmentation = 1.836 loss_adversarial = 0.001 loss_D = 0.684 \n",
            "epoch 2, lr 0.024098: 100% 1000/1000 [06:41<00:00,  2.49it/s]\n",
            "loss for train : 1.622903\n",
            "start val!\n",
            "precision per pixel for test: 0.499\n",
            "mIoU for validation: 0.152\n",
            "iter =        2/      50, loss_segmentation = 1.391 loss_adversarial = 0.001 loss_D = 0.687 \n",
            "epoch 3, lr 0.023646: 100% 1000/1000 [06:39<00:00,  2.50it/s]\n",
            "loss for train : 1.460871\n",
            "start val!\n",
            "precision per pixel for test: 0.584\n",
            "mIoU for validation: 0.195\n",
            "iter =        3/      50, loss_segmentation = 1.206 loss_adversarial = 0.001 loss_D = 0.642 \n",
            "epoch 4, lr 0.023193: 100% 1000/1000 [06:29<00:00,  2.57it/s]\n",
            "loss for train : 1.337917\n",
            "start val!\n",
            "precision per pixel for test: 0.457\n",
            "mIoU for validation: 0.161\n",
            "iter =        4/      50, loss_segmentation = 1.302 loss_adversarial = 0.001 loss_D = 0.676 \n",
            "epoch 5, lr 0.022738: 100% 1000/1000 [06:19<00:00,  2.63it/s]\n",
            "loss for train : 1.099443\n",
            "start val!\n",
            "precision per pixel for test: 0.585\n",
            "mIoU for validation: 0.216\n",
            "iter =        5/      50, loss_segmentation = 0.783 loss_adversarial = 0.001 loss_D = 0.571 \n",
            "epoch 6, lr 0.022283: 100% 1000/1000 [06:16<00:00,  2.66it/s]\n",
            "loss for train : 1.066221\n",
            "start val!\n",
            "precision per pixel for test: 0.612\n",
            "mIoU for validation: 0.204\n",
            "iter =        6/      50, loss_segmentation = 0.983 loss_adversarial = 0.001 loss_D = 0.646 \n",
            "epoch 7, lr 0.021827: 100% 1000/1000 [06:16<00:00,  2.65it/s]\n",
            "loss for train : 0.950002\n",
            "start val!\n",
            "precision per pixel for test: 0.594\n",
            "mIoU for validation: 0.225\n",
            "iter =        7/      50, loss_segmentation = 0.726 loss_adversarial = 0.001 loss_D = 0.507 \n",
            "epoch 8, lr 0.021369: 100% 1000/1000 [06:12<00:00,  2.68it/s]\n",
            "loss for train : 0.980989\n",
            "start val!\n",
            "precision per pixel for test: 0.667\n",
            "mIoU for validation: 0.260\n",
            "iter =        8/      50, loss_segmentation = 0.915 loss_adversarial = 0.001 loss_D = 0.592 \n",
            "epoch 9, lr 0.020911: 100% 1000/1000 [06:10<00:00,  2.70it/s]\n",
            "loss for train : 0.827425\n",
            "start val!\n",
            "precision per pixel for test: 0.690\n",
            "mIoU for validation: 0.266\n",
            "iter =        9/      50, loss_segmentation = 0.736 loss_adversarial = 0.001 loss_D = 0.647 \n",
            "epoch 10, lr 0.020451: 100% 1000/1000 [06:03<00:00,  2.75it/s]\n",
            "loss for train : 0.727437\n",
            "start val!\n",
            "precision per pixel for test: 0.580\n",
            "mIoU for validation: 0.223\n",
            "iter =       10/      50, loss_segmentation = 0.680 loss_adversarial = 0.001 loss_D = 0.689 \n",
            "epoch 11, lr 0.019991: 100% 1000/1000 [06:02<00:00,  2.76it/s]\n",
            "loss for train : 0.693454\n",
            "start val!\n",
            "precision per pixel for test: 0.645\n",
            "mIoU for validation: 0.251\n",
            "iter =       11/      50, loss_segmentation = 0.737 loss_adversarial = 0.001 loss_D = 0.622 \n",
            "epoch 12, lr 0.019529: 100% 1000/1000 [06:05<00:00,  2.74it/s]\n",
            "loss for train : 0.673187\n",
            "start val!\n",
            "precision per pixel for test: 0.700\n",
            "mIoU for validation: 0.284\n",
            "iter =       12/      50, loss_segmentation = 0.642 loss_adversarial = 0.001 loss_D = 0.494 \n",
            "epoch 13, lr 0.019066: 100% 1000/1000 [05:57<00:00,  2.79it/s]\n",
            "loss for train : 0.598644\n",
            "start val!\n",
            "precision per pixel for test: 0.681\n",
            "mIoU for validation: 0.280\n",
            "iter =       13/      50, loss_segmentation = 0.817 loss_adversarial = 0.001 loss_D = 0.517 \n",
            "epoch 14, lr 0.018601: 100% 1000/1000 [05:42<00:00,  2.92it/s]\n",
            "loss for train : 0.558030\n",
            "start val!\n",
            "precision per pixel for test: 0.665\n",
            "mIoU for validation: 0.283\n",
            "iter =       14/      50, loss_segmentation = 0.437 loss_adversarial = 0.001 loss_D = 0.594 \n",
            "epoch 15, lr 0.018135: 100% 1000/1000 [05:34<00:00,  2.99it/s]\n",
            "loss for train : 0.531832\n",
            "start val!\n",
            "precision per pixel for test: 0.570\n",
            "mIoU for validation: 0.236\n",
            "iter =       15/      50, loss_segmentation = 0.488 loss_adversarial = 0.001 loss_D = 0.504 \n",
            "epoch 16, lr 0.017668: 100% 1000/1000 [05:30<00:00,  3.03it/s]\n",
            "loss for train : 0.495580\n",
            "start val!\n",
            "precision per pixel for test: 0.663\n",
            "mIoU for validation: 0.267\n",
            "iter =       16/      50, loss_segmentation = 0.489 loss_adversarial = 0.001 loss_D = 0.620 \n",
            "epoch 17, lr 0.017200: 100% 1000/1000 [05:27<00:00,  3.06it/s]\n",
            "loss for train : 0.470856\n",
            "start val!\n",
            "precision per pixel for test: 0.669\n",
            "mIoU for validation: 0.280\n",
            "iter =       17/      50, loss_segmentation = 0.389 loss_adversarial = 0.002 loss_D = 0.506 \n",
            "epoch 18, lr 0.016730: 100% 1000/1000 [05:08<00:00,  3.24it/s]\n",
            "loss for train : 0.455266\n",
            "start val!\n",
            "precision per pixel for test: 0.691\n",
            "mIoU for validation: 0.286\n",
            "iter =       18/      50, loss_segmentation = 0.427 loss_adversarial = 0.001 loss_D = 0.525 \n",
            "epoch 19, lr 0.016259: 100% 1000/1000 [05:05<00:00,  3.27it/s]\n",
            "loss for train : 0.435817\n",
            "start val!\n",
            "precision per pixel for test: 0.660\n",
            "mIoU for validation: 0.275\n",
            "iter =       19/      50, loss_segmentation = 0.438 loss_adversarial = 0.002 loss_D = 0.445 \n",
            "epoch 20, lr 0.015786: 100% 1000/1000 [05:04<00:00,  3.28it/s]\n",
            "loss for train : 0.428178\n",
            "start val!\n",
            "precision per pixel for test: 0.673\n",
            "mIoU for validation: 0.284\n",
            "iter =       20/      50, loss_segmentation = 0.475 loss_adversarial = 0.001 loss_D = 0.525 \n",
            "epoch 21, lr 0.015312: 100% 1000/1000 [05:03<00:00,  3.29it/s]\n",
            "loss for train : 0.412780\n",
            "start val!\n",
            "precision per pixel for test: 0.681\n",
            "mIoU for validation: 0.291\n",
            "iter =       21/      50, loss_segmentation = 0.436 loss_adversarial = 0.002 loss_D = 0.503 \n",
            "epoch 22, lr 0.014836: 100% 1000/1000 [05:00<00:00,  3.33it/s]\n",
            "loss for train : 0.398683\n",
            "start val!\n",
            "precision per pixel for test: 0.697\n",
            "mIoU for validation: 0.299\n",
            "iter =       22/      50, loss_segmentation = 0.382 loss_adversarial = 0.002 loss_D = 0.509 \n",
            "epoch 23, lr 0.014358: 100% 1000/1000 [04:59<00:00,  3.34it/s]\n",
            "loss for train : 0.389099\n",
            "start val!\n",
            "precision per pixel for test: 0.693\n",
            "mIoU for validation: 0.298\n",
            "iter =       23/      50, loss_segmentation = 0.425 loss_adversarial = 0.002 loss_D = 0.501 \n",
            "epoch 24, lr 0.013879: 100% 1000/1000 [04:57<00:00,  3.36it/s]\n",
            "loss for train : 0.385531\n",
            "start val!\n",
            "precision per pixel for test: 0.693\n",
            "mIoU for validation: 0.298\n",
            "iter =       24/      50, loss_segmentation = 0.296 loss_adversarial = 0.002 loss_D = 0.609 \n",
            "epoch 25, lr 0.013397: 100% 1000/1000 [04:55<00:00,  3.38it/s]\n",
            "loss for train : 0.375665\n",
            "start val!\n",
            "precision per pixel for test: 0.697\n",
            "mIoU for validation: 0.297\n",
            "iter =       25/      50, loss_segmentation = 0.384 loss_adversarial = 0.001 loss_D = 0.565 \n",
            "epoch 26, lr 0.012914: 100% 1000/1000 [04:53<00:00,  3.40it/s]\n",
            "loss for train : 0.366347\n",
            "start val!\n",
            "precision per pixel for test: 0.701\n",
            "mIoU for validation: 0.300\n",
            "iter =       26/      50, loss_segmentation = 0.349 loss_adversarial = 0.001 loss_D = 0.507 \n",
            "epoch 27, lr 0.012429: 100% 1000/1000 [04:53<00:00,  3.41it/s]\n",
            "loss for train : 0.360820\n",
            "start val!\n",
            "precision per pixel for test: 0.713\n",
            "mIoU for validation: 0.312\n",
            "iter =       27/      50, loss_segmentation = 0.304 loss_adversarial = 0.002 loss_D = 0.492 \n",
            "epoch 28, lr 0.011941: 100% 1000/1000 [04:52<00:00,  3.42it/s]\n",
            "loss for train : 0.357580\n",
            "start val!\n",
            "precision per pixel for test: 0.697\n",
            "mIoU for validation: 0.299\n",
            "iter =       28/      50, loss_segmentation = 0.255 loss_adversarial = 0.002 loss_D = 0.523 \n",
            "epoch 29, lr 0.011452: 100% 1000/1000 [04:52<00:00,  3.42it/s]\n",
            "loss for train : 0.355165\n",
            "start val!\n",
            "precision per pixel for test: 0.694\n",
            "mIoU for validation: 0.299\n",
            "iter =       29/      50, loss_segmentation = 0.410 loss_adversarial = 0.002 loss_D = 0.527 \n",
            "epoch 30, lr 0.010960: 100% 1000/1000 [04:51<00:00,  3.43it/s]\n",
            "loss for train : 0.349099\n",
            "start val!\n",
            "precision per pixel for test: 0.703\n",
            "mIoU for validation: 0.307\n",
            "iter =       30/      50, loss_segmentation = 0.266 loss_adversarial = 0.002 loss_D = 0.426 \n",
            "epoch 31, lr 0.010465: 100% 1000/1000 [04:50<00:00,  3.45it/s]\n",
            "loss for train : 0.344067\n",
            "start val!\n",
            "precision per pixel for test: 0.700\n",
            "mIoU for validation: 0.298\n",
            "iter =       31/      50, loss_segmentation = 0.319 loss_adversarial = 0.002 loss_D = 0.523 \n",
            "epoch 32, lr 0.009968: 100% 1000/1000 [04:50<00:00,  3.45it/s]\n",
            "loss for train : 0.341140\n",
            "start val!\n",
            "precision per pixel for test: 0.704\n",
            "mIoU for validation: 0.304\n",
            "iter =       32/      50, loss_segmentation = 0.380 loss_adversarial = 0.001 loss_D = 0.505 \n",
            "epoch 33, lr 0.009468: 100% 1000/1000 [04:49<00:00,  3.45it/s]\n",
            "loss for train : 0.339028\n",
            "start val!\n",
            "precision per pixel for test: 0.710\n",
            "mIoU for validation: 0.302\n",
            "iter =       33/      50, loss_segmentation = 0.247 loss_adversarial = 0.002 loss_D = 0.484 \n",
            "epoch 34, lr 0.008966: 100% 1000/1000 [04:53<00:00,  3.41it/s]\n",
            "loss for train : 0.333176\n",
            "start val!\n",
            "precision per pixel for test: 0.699\n",
            "mIoU for validation: 0.298\n",
            "iter =       34/      50, loss_segmentation = 0.354 loss_adversarial = 0.002 loss_D = 0.455 \n",
            "epoch 35, lr 0.008460: 100% 1000/1000 [04:47<00:00,  3.48it/s]\n",
            "loss for train : 0.329434\n",
            "start val!\n",
            "precision per pixel for test: 0.709\n",
            "mIoU for validation: 0.305\n",
            "iter =       35/      50, loss_segmentation = 0.368 loss_adversarial = 0.002 loss_D = 0.414 \n",
            "epoch 36, lr 0.007950: 100% 1000/1000 [04:47<00:00,  3.48it/s]\n",
            "loss for train : 0.326805\n",
            "start val!\n",
            "precision per pixel for test: 0.706\n",
            "mIoU for validation: 0.302\n",
            "iter =       36/      50, loss_segmentation = 0.310 loss_adversarial = 0.001 loss_D = 0.514 \n",
            "epoch 37, lr 0.007437: 100% 1000/1000 [04:47<00:00,  3.47it/s]\n",
            "loss for train : 0.325719\n",
            "start val!\n",
            "precision per pixel for test: 0.703\n",
            "mIoU for validation: 0.301\n",
            "iter =       37/      50, loss_segmentation = 0.377 loss_adversarial = 0.002 loss_D = 0.512 \n",
            "epoch 38, lr 0.006920: 100% 1000/1000 [04:47<00:00,  3.48it/s]\n",
            "loss for train : 0.325475\n",
            "start val!\n",
            "precision per pixel for test: 0.696\n",
            "mIoU for validation: 0.300\n",
            "iter =       38/      50, loss_segmentation = 0.261 loss_adversarial = 0.002 loss_D = 0.515 \n",
            "epoch 39, lr 0.006399: 100% 1000/1000 [04:46<00:00,  3.48it/s]\n",
            "loss for train : 0.320039\n",
            "start val!\n",
            "precision per pixel for test: 0.706\n",
            "mIoU for validation: 0.305\n",
            "iter =       39/      50, loss_segmentation = 0.348 loss_adversarial = 0.002 loss_D = 0.466 \n",
            "epoch 40, lr 0.005873: 100% 1000/1000 [04:45<00:00,  3.50it/s]\n",
            "loss for train : 0.317252\n",
            "start val!\n",
            "precision per pixel for test: 0.707\n",
            "mIoU for validation: 0.305\n",
            "iter =       40/      50, loss_segmentation = 0.202 loss_adversarial = 0.002 loss_D = 0.472 \n",
            "epoch 41, lr 0.005342: 100% 1000/1000 [04:46<00:00,  3.50it/s]\n",
            "loss for train : 0.315135\n",
            "start val!\n",
            "precision per pixel for test: 0.702\n",
            "mIoU for validation: 0.302\n",
            "iter =       41/      50, loss_segmentation = 0.367 loss_adversarial = 0.002 loss_D = 0.380 \n",
            "epoch 42, lr 0.004804: 100% 1000/1000 [04:36<00:00,  3.61it/s]\n",
            "loss for train : 0.313182\n",
            "start val!\n",
            "precision per pixel for test: 0.696\n",
            "mIoU for validation: 0.302\n",
            "iter =       42/      50, loss_segmentation = 0.290 loss_adversarial = 0.002 loss_D = 0.506 \n",
            "epoch 43, lr 0.004260: 100% 1000/1000 [04:30<00:00,  3.69it/s]\n",
            "loss for train : 0.311514\n",
            "start val!\n",
            "precision per pixel for test: 0.717\n",
            "mIoU for validation: 0.309\n",
            "iter =       43/      50, loss_segmentation = 0.408 loss_adversarial = 0.002 loss_D = 0.571 \n",
            "epoch 44, lr 0.003709: 100% 1000/1000 [04:31<00:00,  3.69it/s]\n",
            "loss for train : 0.311158\n",
            "start val!\n",
            "precision per pixel for test: 0.669\n",
            "mIoU for validation: 0.283\n",
            "iter =       44/      50, loss_segmentation = 0.295 loss_adversarial = 0.001 loss_D = 0.515 \n",
            "epoch 45, lr 0.003147: 100% 1000/1000 [04:32<00:00,  3.68it/s]\n",
            "loss for train : 0.308859\n",
            "start val!\n",
            "precision per pixel for test: 0.691\n",
            "mIoU for validation: 0.293\n",
            "iter =       45/      50, loss_segmentation = 0.344 loss_adversarial = 0.002 loss_D = 0.495 \n",
            "epoch 46, lr 0.002575: 100% 1000/1000 [04:30<00:00,  3.70it/s]\n",
            "loss for train : 0.306782\n",
            "start val!\n",
            "precision per pixel for test: 0.696\n",
            "mIoU for validation: 0.297\n",
            "iter =       46/      50, loss_segmentation = 0.260 loss_adversarial = 0.002 loss_D = 0.463 \n",
            "epoch 47, lr 0.001987: 100% 1000/1000 [04:31<00:00,  3.69it/s]\n",
            "loss for train : 0.307878\n",
            "start val!\n",
            "precision per pixel for test: 0.677\n",
            "mIoU for validation: 0.288\n",
            "iter =       47/      50, loss_segmentation = 0.273 loss_adversarial = 0.001 loss_D = 0.508 \n",
            "epoch 48, lr 0.001380: 100% 1000/1000 [04:31<00:00,  3.69it/s]\n",
            "loss for train : 0.305757\n",
            "start val!\n",
            "precision per pixel for test: 0.692\n",
            "mIoU for validation: 0.297\n",
            "iter =       48/      50, loss_segmentation = 0.400 loss_adversarial = 0.002 loss_D = 0.410 \n",
            "epoch 49, lr 0.000739: 100% 1000/1000 [04:30<00:00,  3.69it/s]\n",
            "loss for train : 0.305091\n",
            "start val!\n",
            "precision per pixel for test: 0.687\n",
            "mIoU for validation: 0.291\n",
            "iter =       49/      50, loss_segmentation = 0.297 loss_adversarial = 0.002 loss_D = 0.471 \n"
          ]
        }
      ]
    },
    {
      "cell_type": "code",
      "source": [
        "#best\n",
        "!python eval.py"
      ],
      "metadata": {
        "id": "RBa5uHuGoztk",
        "outputId": "bce6b46a-1815-4bc5-ab7a-bbef0372608a",
        "colab": {
          "base_uri": "https://localhost:8080/"
        }
      },
      "execution_count": 16,
      "outputs": [
        {
          "output_type": "stream",
          "name": "stdout",
          "text": [
            "load model from /content/drive/MyDrive/checkpoints_101_sgd_da/best_crossentropy_loss.pth ...\n",
            "The best epoch is 27\n",
            "Done!\n",
            "start test!\n",
            "test: 100% 250/250 [14:24<00:00,  3.51s/it]precision per pixel for test: 0.713\n",
            "mIoU for validation: 0.312\n",
            "test: 100% 250/250 [14:27<00:00,  3.47s/it]\n"
          ]
        }
      ]
    },
    {
      "cell_type": "code",
      "source": [
        "#latest\n",
        "!python eval.py"
      ],
      "metadata": {
        "id": "C-kVXVdvo0Tc"
      },
      "execution_count": null,
      "outputs": []
    },
    {
      "cell_type": "code",
      "source": [
        "#DA resnet18\n",
        "!python trainGTAtoCityscapes.py"
      ],
      "metadata": {
        "id": "uQCRslPG-Fv5",
        "outputId": "77edd246-8b57-4c71-b37c-392528c515ae",
        "colab": {
          "base_uri": "https://localhost:8080/"
        }
      },
      "execution_count": null,
      "outputs": [
        {
          "output_type": "stream",
          "name": "stdout",
          "text": [
            "Downloading: \"https://download.pytorch.org/models/resnet18-f37072fd.pth\" to /root/.cache/torch/hub/checkpoints/resnet18-f37072fd.pth\n",
            "100% 44.7M/44.7M [00:00<00:00, 222MB/s]\n",
            "Downloading: \"https://download.pytorch.org/models/resnet101-63fe2227.pth\" to /root/.cache/torch/hub/checkpoints/resnet101-63fe2227.pth\n",
            "100% 171M/171M [00:02<00:00, 65.3MB/s]\n",
            "epoch 0, lr 0.025000: 100% 1000/1000 [02:20<00:00,  7.12it/s]\n",
            "loss for train : 3.779279\n",
            "start val!\n",
            "precision per pixel for test: 0.400\n",
            "mIoU for validation: 0.083\n",
            "iter =        0/      50, loss_segmentation = 5.258 loss_adversarial = 0.001 loss_D = 0.662 \n",
            "epoch 1, lr 0.024550: 100% 1000/1000 [02:05<00:00,  7.94it/s]\n",
            "loss for train : 2.514989\n",
            "start val!\n",
            "precision per pixel for test: 0.563\n",
            "mIoU for validation: 0.148\n",
            "iter =        1/      50, loss_segmentation = 2.000 loss_adversarial = 0.001 loss_D = 0.684 \n",
            "epoch 2, lr 0.024098: 100% 1000/1000 [02:05<00:00,  7.97it/s]\n",
            "loss for train : 2.185519\n",
            "start val!\n",
            "precision per pixel for test: 0.645\n",
            "mIoU for validation: 0.184\n",
            "iter =        2/      50, loss_segmentation = 3.935 loss_adversarial = 0.001 loss_D = 0.667 \n",
            "epoch 3, lr 0.023646: 100% 1000/1000 [02:05<00:00,  7.98it/s]\n",
            "loss for train : 1.937070\n",
            "start val!\n",
            "precision per pixel for test: 0.366\n",
            "mIoU for validation: 0.110\n",
            "iter =        3/      50, loss_segmentation = 1.911 loss_adversarial = 0.001 loss_D = 0.668 \n",
            "epoch 4, lr 0.023193: 100% 1000/1000 [02:05<00:00,  7.96it/s]\n",
            "loss for train : 1.836658\n",
            "start val!\n",
            "precision per pixel for test: 0.633\n",
            "mIoU for validation: 0.191\n",
            "iter =        4/      50, loss_segmentation = 2.425 loss_adversarial = 0.001 loss_D = 0.678 \n",
            "epoch 5, lr 0.022738: 100% 1000/1000 [02:05<00:00,  7.96it/s]\n",
            "loss for train : 1.692853\n",
            "start val!\n",
            "precision per pixel for test: 0.533\n",
            "mIoU for validation: 0.150\n",
            "iter =        5/      50, loss_segmentation = 1.634 loss_adversarial = 0.001 loss_D = 0.606 \n",
            "epoch 6, lr 0.022283: 100% 1000/1000 [02:05<00:00,  8.00it/s]\n",
            "loss for train : 1.591624\n",
            "start val!\n",
            "precision per pixel for test: 0.590\n",
            "mIoU for validation: 0.197\n",
            "iter =        6/      50, loss_segmentation = 1.420 loss_adversarial = 0.001 loss_D = 0.642 \n",
            "epoch 7, lr 0.021827: 100% 1000/1000 [02:05<00:00,  7.97it/s]\n",
            "loss for train : 1.425239\n",
            "start val!\n",
            "precision per pixel for test: 0.571\n",
            "mIoU for validation: 0.198\n",
            "iter =        7/      50, loss_segmentation = 1.561 loss_adversarial = 0.001 loss_D = 0.675 \n",
            "epoch 8, lr 0.021369: 100% 1000/1000 [02:05<00:00,  7.99it/s]\n",
            "loss for train : 1.411819\n",
            "start val!\n",
            "precision per pixel for test: 0.617\n",
            "mIoU for validation: 0.215\n",
            "iter =        8/      50, loss_segmentation = 1.417 loss_adversarial = 0.001 loss_D = 0.683 \n",
            "epoch 9, lr 0.020911: 100% 1000/1000 [02:05<00:00,  7.99it/s]\n",
            "loss for train : 1.294652\n",
            "start val!\n",
            "precision per pixel for test: 0.578\n",
            "mIoU for validation: 0.189\n",
            "iter =        9/      50, loss_segmentation = 1.799 loss_adversarial = 0.001 loss_D = 0.665 \n",
            "epoch 10, lr 0.020451: 100% 1000/1000 [02:04<00:00,  8.00it/s]\n",
            "loss for train : 1.204270\n",
            "start val!\n",
            "precision per pixel for test: 0.590\n",
            "mIoU for validation: 0.188\n",
            "iter =       10/      50, loss_segmentation = 1.042 loss_adversarial = 0.001 loss_D = 0.632 \n",
            "epoch 11, lr 0.019991: 100% 1000/1000 [02:04<00:00,  8.01it/s]\n",
            "loss for train : 1.168750\n",
            "start val!\n",
            "precision per pixel for test: 0.673\n",
            "mIoU for validation: 0.225\n",
            "iter =       11/      50, loss_segmentation = 1.098 loss_adversarial = 0.001 loss_D = 0.588 \n",
            "epoch 12, lr 0.019529: 100% 1000/1000 [02:05<00:00,  7.98it/s]\n",
            "loss for train : 1.052074\n",
            "start val!\n",
            "precision per pixel for test: 0.632\n",
            "mIoU for validation: 0.229\n",
            "iter =       12/      50, loss_segmentation = 1.972 loss_adversarial = 0.001 loss_D = 0.699 \n",
            "epoch 13, lr 0.019066: 100% 1000/1000 [02:05<00:00,  7.96it/s]\n",
            "loss for train : 1.014511\n",
            "start val!\n",
            "precision per pixel for test: 0.486\n",
            "mIoU for validation: 0.180\n",
            "iter =       13/      50, loss_segmentation = 0.957 loss_adversarial = 0.001 loss_D = 0.621 \n",
            "epoch 14, lr 0.018601: 100% 1000/1000 [02:05<00:00,  7.99it/s]\n",
            "loss for train : 0.993657\n",
            "start val!\n",
            "precision per pixel for test: 0.552\n",
            "mIoU for validation: 0.202\n",
            "iter =       14/      50, loss_segmentation = 1.012 loss_adversarial = 0.001 loss_D = 0.648 \n",
            "epoch 15, lr 0.018135: 100% 1000/1000 [02:05<00:00,  7.98it/s]\n",
            "loss for train : 0.974969\n",
            "start val!\n",
            "precision per pixel for test: 0.535\n",
            "mIoU for validation: 0.195\n",
            "iter =       15/      50, loss_segmentation = 0.865 loss_adversarial = 0.001 loss_D = 0.631 \n",
            "epoch 16, lr 0.017668: 100% 1000/1000 [02:04<00:00,  8.01it/s]\n",
            "loss for train : 0.883035\n",
            "start val!\n",
            "precision per pixel for test: 0.663\n",
            "mIoU for validation: 0.241\n",
            "iter =       16/      50, loss_segmentation = 0.761 loss_adversarial = 0.001 loss_D = 0.642 \n",
            "epoch 17, lr 0.017200: 100% 1000/1000 [02:05<00:00,  7.96it/s]\n",
            "loss for train : 0.812578\n",
            "start val!\n",
            "precision per pixel for test: 0.591\n",
            "mIoU for validation: 0.216\n",
            "iter =       17/      50, loss_segmentation = 0.805 loss_adversarial = 0.001 loss_D = 0.571 \n",
            "epoch 18, lr 0.016730: 100% 1000/1000 [02:04<00:00,  8.01it/s]\n",
            "loss for train : 0.859808\n",
            "start val!\n",
            "precision per pixel for test: 0.519\n",
            "mIoU for validation: 0.205\n",
            "iter =       18/      50, loss_segmentation = 1.280 loss_adversarial = 0.001 loss_D = 0.521 \n",
            "epoch 19, lr 0.016259: 100% 1000/1000 [02:05<00:00,  7.99it/s]\n",
            "loss for train : 0.857793\n",
            "start val!\n",
            "precision per pixel for test: 0.619\n",
            "mIoU for validation: 0.222\n",
            "iter =       19/      50, loss_segmentation = 0.742 loss_adversarial = 0.001 loss_D = 0.593 \n",
            "epoch 20, lr 0.015786: 100% 1000/1000 [02:05<00:00,  7.99it/s]\n",
            "loss for train : 0.760396\n",
            "start val!\n",
            "precision per pixel for test: 0.606\n",
            "mIoU for validation: 0.225\n",
            "iter =       20/      50, loss_segmentation = 0.871 loss_adversarial = 0.001 loss_D = 0.514 \n",
            "epoch 21, lr 0.015312: 100% 1000/1000 [02:06<00:00,  7.88it/s]\n",
            "loss for train : 0.712175\n",
            "start val!\n",
            "precision per pixel for test: 0.602\n",
            "mIoU for validation: 0.219\n",
            "iter =       21/      50, loss_segmentation = 0.800 loss_adversarial = 0.002 loss_D = 0.526 \n",
            "epoch 22, lr 0.014836: 100% 1000/1000 [02:05<00:00,  7.96it/s]\n",
            "loss for train : 0.701694\n",
            "start val!\n",
            "precision per pixel for test: 0.633\n",
            "mIoU for validation: 0.231\n",
            "iter =       22/      50, loss_segmentation = 0.736 loss_adversarial = 0.001 loss_D = 0.480 \n",
            "epoch 23, lr 0.014358: 100% 1000/1000 [02:05<00:00,  7.97it/s]\n",
            "loss for train : 0.663541\n",
            "start val!\n",
            "precision per pixel for test: 0.606\n",
            "mIoU for validation: 0.225\n",
            "iter =       23/      50, loss_segmentation = 0.893 loss_adversarial = 0.001 loss_D = 0.546 \n",
            "epoch 24, lr 0.013879: 100% 1000/1000 [02:05<00:00,  7.98it/s]\n",
            "loss for train : 0.652344\n",
            "start val!\n",
            "precision per pixel for test: 0.631\n",
            "mIoU for validation: 0.238\n",
            "iter =       24/      50, loss_segmentation = 0.630 loss_adversarial = 0.002 loss_D = 0.479 \n",
            "epoch 25, lr 0.013397: 100% 1000/1000 [02:05<00:00,  7.96it/s]\n",
            "loss for train : 0.629062\n",
            "start val!\n",
            "precision per pixel for test: 0.654\n",
            "mIoU for validation: 0.244\n",
            "iter =       25/      50, loss_segmentation = 0.710 loss_adversarial = 0.001 loss_D = 0.551 \n",
            "epoch 26, lr 0.012914: 100% 1000/1000 [02:05<00:00,  7.95it/s]\n",
            "loss for train : 0.736324\n",
            "start val!\n",
            "precision per pixel for test: 0.584\n",
            "mIoU for validation: 0.215\n",
            "iter =       26/      50, loss_segmentation = 0.674 loss_adversarial = 0.001 loss_D = 0.616 \n",
            "epoch 27, lr 0.012429: 100% 1000/1000 [02:06<00:00,  7.93it/s]\n",
            "loss for train : 0.636848\n",
            "start val!\n",
            "precision per pixel for test: 0.604\n",
            "mIoU for validation: 0.229\n",
            "iter =       27/      50, loss_segmentation = 0.650 loss_adversarial = 0.002 loss_D = 0.503 \n",
            "epoch 28, lr 0.011941: 100% 1000/1000 [02:05<00:00,  7.97it/s]\n",
            "loss for train : 0.601010\n",
            "start val!\n",
            "precision per pixel for test: 0.629\n",
            "mIoU for validation: 0.237\n",
            "iter =       28/      50, loss_segmentation = 0.739 loss_adversarial = 0.001 loss_D = 0.534 \n",
            "epoch 29, lr 0.011452: 100% 1000/1000 [02:05<00:00,  7.99it/s]\n",
            "loss for train : 0.658590\n",
            "start val!\n",
            "precision per pixel for test: 0.546\n",
            "mIoU for validation: 0.205\n",
            "iter =       29/      50, loss_segmentation = 0.808 loss_adversarial = 0.001 loss_D = 0.537 \n",
            "epoch 30, lr 0.010960: 100% 1000/1000 [02:05<00:00,  7.95it/s]\n",
            "loss for train : 0.591794\n",
            "start val!\n",
            "precision per pixel for test: 0.586\n",
            "mIoU for validation: 0.218\n",
            "iter =       30/      50, loss_segmentation = 0.559 loss_adversarial = 0.001 loss_D = 0.519 \n",
            "epoch 31, lr 0.010465: 100% 1000/1000 [02:05<00:00,  7.99it/s]\n",
            "loss for train : 0.570572\n",
            "start val!\n",
            "precision per pixel for test: 0.564\n",
            "mIoU for validation: 0.216\n",
            "iter =       31/      50, loss_segmentation = 0.616 loss_adversarial = 0.001 loss_D = 0.548 \n",
            "epoch 32, lr 0.009968: 100% 1000/1000 [02:05<00:00,  7.98it/s]\n",
            "loss for train : 0.597381\n",
            "start val!\n",
            "precision per pixel for test: 0.618\n",
            "mIoU for validation: 0.232\n",
            "iter =       32/      50, loss_segmentation = 0.591 loss_adversarial = 0.002 loss_D = 0.446 \n",
            "epoch 33, lr 0.009468: 100% 1000/1000 [02:05<00:00,  7.97it/s]\n",
            "loss for train : 0.550285\n",
            "start val!\n",
            "precision per pixel for test: 0.613\n",
            "mIoU for validation: 0.234\n",
            "iter =       33/      50, loss_segmentation = 0.500 loss_adversarial = 0.002 loss_D = 0.482 \n",
            "epoch 34, lr 0.008966: 100% 1000/1000 [02:05<00:00,  7.98it/s]\n",
            "loss for train : 0.544280\n",
            "start val!\n",
            "precision per pixel for test: 0.636\n",
            "mIoU for validation: 0.240\n",
            "iter =       34/      50, loss_segmentation = 0.504 loss_adversarial = 0.001 loss_D = 0.539 \n",
            "epoch 35, lr 0.008460: 100% 1000/1000 [02:05<00:00,  7.97it/s]\n",
            "loss for train : 0.539205\n",
            "start val!\n",
            "precision per pixel for test: 0.604\n",
            "mIoU for validation: 0.228\n",
            "iter =       35/      50, loss_segmentation = 0.563 loss_adversarial = 0.002 loss_D = 0.490 \n",
            "epoch 36, lr 0.007950: 100% 1000/1000 [02:05<00:00,  7.99it/s]\n",
            "loss for train : 0.525498\n",
            "start val!\n",
            "precision per pixel for test: 0.621\n",
            "mIoU for validation: 0.229\n",
            "iter =       36/      50, loss_segmentation = 0.464 loss_adversarial = 0.002 loss_D = 0.426 \n",
            "epoch 37, lr 0.007437: 100% 1000/1000 [02:05<00:00,  8.00it/s]\n",
            "loss for train : 0.514431\n",
            "start val!\n",
            "precision per pixel for test: 0.606\n",
            "mIoU for validation: 0.229\n",
            "iter =       37/      50, loss_segmentation = 0.560 loss_adversarial = 0.001 loss_D = 0.541 \n",
            "epoch 38, lr 0.006920: 100% 1000/1000 [02:05<00:00,  7.97it/s]\n",
            "loss for train : 0.510660\n",
            "start val!\n",
            "precision per pixel for test: 0.607\n",
            "mIoU for validation: 0.228\n",
            "iter =       38/      50, loss_segmentation = 0.437 loss_adversarial = 0.002 loss_D = 0.505 \n",
            "epoch 39, lr 0.006399: 100% 1000/1000 [02:05<00:00,  7.99it/s]\n",
            "loss for train : 0.506724\n",
            "start val!\n",
            "precision per pixel for test: 0.621\n",
            "mIoU for validation: 0.233\n",
            "iter =       39/      50, loss_segmentation = 0.434 loss_adversarial = 0.002 loss_D = 0.473 \n",
            "epoch 40, lr 0.005873: 100% 1000/1000 [02:04<00:00,  8.00it/s]\n",
            "loss for train : 0.503541\n",
            "start val!\n",
            "precision per pixel for test: 0.622\n",
            "mIoU for validation: 0.234\n",
            "iter =       40/      50, loss_segmentation = 0.573 loss_adversarial = 0.002 loss_D = 0.569 \n",
            "epoch 41, lr 0.005342: 100% 1000/1000 [02:05<00:00,  8.00it/s]\n",
            "loss for train : 0.496170\n",
            "start val!\n",
            "precision per pixel for test: 0.620\n",
            "mIoU for validation: 0.232\n",
            "iter =       41/      50, loss_segmentation = 0.484 loss_adversarial = 0.002 loss_D = 0.453 \n",
            "epoch 42, lr 0.004804: 100% 1000/1000 [02:05<00:00,  7.99it/s]\n",
            "loss for train : 0.493252\n",
            "start val!\n",
            "precision per pixel for test: 0.643\n",
            "mIoU for validation: 0.241\n",
            "iter =       42/      50, loss_segmentation = 0.416 loss_adversarial = 0.002 loss_D = 0.442 \n",
            "epoch 43, lr 0.004260: 100% 1000/1000 [02:05<00:00,  7.98it/s]\n",
            "loss for train : 0.489761\n",
            "start val!\n",
            "precision per pixel for test: 0.622\n",
            "mIoU for validation: 0.235\n",
            "iter =       43/      50, loss_segmentation = 0.432 loss_adversarial = 0.001 loss_D = 0.500 \n",
            "epoch 44, lr 0.003709: 100% 1000/1000 [02:05<00:00,  7.99it/s]\n",
            "loss for train : 0.485335\n",
            "start val!\n",
            "precision per pixel for test: 0.646\n",
            "mIoU for validation: 0.244\n",
            "iter =       44/      50, loss_segmentation = 0.516 loss_adversarial = 0.002 loss_D = 0.466 \n",
            "epoch 45, lr 0.003147: 100% 1000/1000 [02:05<00:00,  7.97it/s]\n",
            "loss for train : 0.489295\n",
            "start val!\n",
            "precision per pixel for test: 0.609\n",
            "mIoU for validation: 0.229\n",
            "iter =       45/      50, loss_segmentation = 0.481 loss_adversarial = 0.002 loss_D = 0.619 \n",
            "epoch 46, lr 0.002575: 100% 1000/1000 [02:05<00:00,  7.98it/s]\n",
            "loss for train : 0.480244\n",
            "start val!\n",
            "precision per pixel for test: 0.634\n",
            "mIoU for validation: 0.242\n",
            "iter =       46/      50, loss_segmentation = 0.413 loss_adversarial = 0.002 loss_D = 0.524 \n",
            "epoch 47, lr 0.001987: 100% 1000/1000 [02:05<00:00,  8.00it/s]\n",
            "loss for train : 0.479946\n",
            "start val!\n",
            "precision per pixel for test: 0.630\n",
            "mIoU for validation: 0.238\n",
            "iter =       47/      50, loss_segmentation = 0.520 loss_adversarial = 0.002 loss_D = 0.449 \n",
            "epoch 48, lr 0.001380: 100% 1000/1000 [02:05<00:00,  7.99it/s]\n",
            "loss for train : 0.480095\n",
            "start val!\n",
            "precision per pixel for test: 0.631\n",
            "mIoU for validation: 0.239\n",
            "iter =       48/      50, loss_segmentation = 0.417 loss_adversarial = 0.002 loss_D = 0.431 \n",
            "epoch 49, lr 0.000739: 100% 1000/1000 [02:05<00:00,  7.99it/s]\n",
            "loss for train : 0.473725\n",
            "start val!\n",
            "precision per pixel for test: 0.626\n",
            "mIoU for validation: 0.234\n",
            "iter =       49/      50, loss_segmentation = 0.486 loss_adversarial = 0.002 loss_D = 0.460 \n"
          ]
        }
      ]
    },
    {
      "cell_type": "code",
      "source": [
        "#best\n",
        "!python eval.py"
      ],
      "metadata": {
        "id": "oYd55zzEQSMi"
      },
      "execution_count": null,
      "outputs": []
    },
    {
      "cell_type": "code",
      "source": [
        "#latest\n",
        "!python eval.py"
      ],
      "metadata": {
        "id": "rYrqE3-4QV0y"
      },
      "execution_count": null,
      "outputs": []
    },
    {
      "cell_type": "code",
      "source": [
        "#DA with DSC resnet101\n",
        "!python trainGTAtoCityscapesTEST.py"
      ],
      "metadata": {
        "colab": {
          "base_uri": "https://localhost:8080/"
        },
        "id": "C4t8eGP_pJKp",
        "outputId": "a0adae22-3148-411e-eb37-8a56fd24cfbf"
      },
      "execution_count": null,
      "outputs": [
        {
          "output_type": "stream",
          "name": "stdout",
          "text": [
            "epoch 0, lr 0.025000: 100% 1000/1000 [05:57<00:00,  2.80it/s]\n",
            "loss for train : 2.905645\n",
            "start val!\n",
            "precision per pixel for test: 0.569\n",
            "mIoU for validation: 0.165\n",
            "iter =        0/      50, loss_segmentation = 2.654 loss_adversarial = 0.691 loss_D = 0.681 \n",
            "epoch 1, lr 0.024550: 100% 1000/1000 [06:15<00:00,  2.66it/s]\n",
            "loss for train : 1.853892\n",
            "start val!\n",
            "precision per pixel for test: 0.571\n",
            "mIoU for validation: 0.199\n",
            "iter =        1/      50, loss_segmentation = 1.174 loss_adversarial = 0.705 loss_D = 0.693 \n",
            "epoch 2, lr 0.024098: 100% 1000/1000 [06:12<00:00,  2.68it/s]\n",
            "loss for train : 1.497609\n",
            "start val!\n",
            "precision per pixel for test: 0.565\n",
            "mIoU for validation: 0.194\n",
            "iter =        2/      50, loss_segmentation = 1.794 loss_adversarial = 0.727 loss_D = 0.680 \n",
            "epoch 3, lr 0.023646: 100% 1000/1000 [06:05<00:00,  2.74it/s]\n",
            "loss for train : 1.261235\n",
            "start val!\n",
            "precision per pixel for test: 0.459\n",
            "mIoU for validation: 0.197\n",
            "iter =        3/      50, loss_segmentation = 1.612 loss_adversarial = 0.726 loss_D = 0.686 \n",
            "epoch 4, lr 0.023193: 100% 1000/1000 [06:06<00:00,  2.73it/s]\n",
            "loss for train : 1.113375\n",
            "start val!\n",
            "precision per pixel for test: 0.442\n",
            "mIoU for validation: 0.179\n",
            "iter =        4/      50, loss_segmentation = 0.754 loss_adversarial = 0.747 loss_D = 0.660 \n",
            "epoch 5, lr 0.022738: 100% 1000/1000 [06:06<00:00,  2.73it/s]\n",
            "loss for train : 1.074327\n",
            "start val!\n",
            "precision per pixel for test: 0.614\n",
            "mIoU for validation: 0.243\n",
            "iter =        5/      50, loss_segmentation = 0.871 loss_adversarial = 0.744 loss_D = 0.655 \n",
            "epoch 6, lr 0.022283: 100% 1000/1000 [06:04<00:00,  2.75it/s]\n",
            "loss for train : 0.937424\n",
            "start val!\n",
            "precision per pixel for test: 0.632\n",
            "mIoU for validation: 0.265\n",
            "iter =        6/      50, loss_segmentation = 0.762 loss_adversarial = 0.773 loss_D = 0.642 \n",
            "epoch 7, lr 0.021827: 100% 1000/1000 [06:02<00:00,  2.76it/s]\n",
            "loss for train : 0.872059\n",
            "start val!\n",
            "precision per pixel for test: 0.592\n",
            "mIoU for validation: 0.223\n",
            "iter =        7/      50, loss_segmentation = 1.155 loss_adversarial = 0.813 loss_D = 0.663 \n",
            "epoch 8, lr 0.021369: 100% 1000/1000 [05:59<00:00,  2.78it/s]\n",
            "loss for train : 0.834804\n",
            "start val!\n",
            "precision per pixel for test: 0.633\n",
            "mIoU for validation: 0.232\n",
            "iter =        8/      50, loss_segmentation = 1.092 loss_adversarial = 0.819 loss_D = 0.659 \n",
            "epoch 9, lr 0.020911: 100% 1000/1000 [05:56<00:00,  2.81it/s]\n",
            "loss for train : 0.720293\n",
            "start val!\n",
            "precision per pixel for test: 0.614\n",
            "mIoU for validation: 0.251\n",
            "iter =        9/      50, loss_segmentation = 0.525 loss_adversarial = 0.825 loss_D = 0.705 \n",
            "epoch 10, lr 0.020451: 100% 1000/1000 [05:53<00:00,  2.83it/s]\n",
            "loss for train : 0.656079\n",
            "start val!\n",
            "precision per pixel for test: 0.607\n",
            "mIoU for validation: 0.246\n",
            "iter =       10/      50, loss_segmentation = 0.569 loss_adversarial = 0.943 loss_D = 0.600 \n",
            "epoch 11, lr 0.019991: 100% 1000/1000 [05:48<00:00,  2.87it/s]\n",
            "loss for train : 0.580209\n",
            "start val!\n",
            "precision per pixel for test: 0.631\n",
            "mIoU for validation: 0.257\n",
            "iter =       11/      50, loss_segmentation = 0.594 loss_adversarial = 0.802 loss_D = 0.668 \n",
            "epoch 12, lr 0.019529: 100% 1000/1000 [05:45<00:00,  2.89it/s]\n",
            "loss for train : 0.537575\n",
            "start val!\n",
            "precision per pixel for test: 0.672\n",
            "mIoU for validation: 0.294\n",
            "iter =       12/      50, loss_segmentation = 0.512 loss_adversarial = 0.888 loss_D = 0.647 \n",
            "epoch 13, lr 0.019066: 100% 1000/1000 [05:44<00:00,  2.91it/s]\n",
            "loss for train : 0.499173\n",
            "start val!\n",
            "precision per pixel for test: 0.661\n",
            "mIoU for validation: 0.278\n",
            "iter =       13/      50, loss_segmentation = 0.528 loss_adversarial = 0.931 loss_D = 0.585 \n",
            "epoch 14, lr 0.018601: 100% 1000/1000 [05:40<00:00,  2.93it/s]\n",
            "loss for train : 0.487125\n",
            "start val!\n",
            "precision per pixel for test: 0.641\n",
            "mIoU for validation: 0.264\n",
            "iter =       14/      50, loss_segmentation = 0.398 loss_adversarial = 0.850 loss_D = 0.633 \n",
            "epoch 15, lr 0.018135: 100% 1000/1000 [05:38<00:00,  2.96it/s]\n",
            "loss for train : 0.467649\n",
            "start val!\n",
            "precision per pixel for test: 0.696\n",
            "mIoU for validation: 0.296\n",
            "iter =       15/      50, loss_segmentation = 0.410 loss_adversarial = 1.007 loss_D = 0.550 \n",
            "epoch 16, lr 0.017668: 100% 1000/1000 [05:36<00:00,  2.97it/s]\n",
            "loss for train : 0.441054\n",
            "start val!\n",
            "precision per pixel for test: 0.671\n",
            "mIoU for validation: 0.292\n",
            "iter =       16/      50, loss_segmentation = 0.550 loss_adversarial = 0.998 loss_D = 0.594 \n",
            "epoch 17, lr 0.017200: 100% 1000/1000 [05:36<00:00,  2.97it/s]\n",
            "loss for train : 0.436097\n",
            "start val!\n",
            "precision per pixel for test: 0.653\n",
            "mIoU for validation: 0.280\n",
            "iter =       17/      50, loss_segmentation = 0.400 loss_adversarial = 0.993 loss_D = 0.619 \n",
            "epoch 18, lr 0.016730: 100% 1000/1000 [05:33<00:00,  3.00it/s]\n",
            "loss for train : 0.421934\n",
            "start val!\n",
            "precision per pixel for test: 0.666\n",
            "mIoU for validation: 0.290\n",
            "iter =       18/      50, loss_segmentation = 0.474 loss_adversarial = 0.978 loss_D = 0.596 \n",
            "epoch 19, lr 0.016259: 100% 1000/1000 [05:31<00:00,  3.01it/s]\n",
            "loss for train : 0.404942\n",
            "start val!\n",
            "precision per pixel for test: 0.691\n",
            "mIoU for validation: 0.295\n",
            "iter =       19/      50, loss_segmentation = 0.390 loss_adversarial = 1.031 loss_D = 0.558 \n",
            "epoch 20, lr 0.015786: 100% 1000/1000 [05:30<00:00,  3.03it/s]\n",
            "loss for train : 0.393393\n",
            "start val!\n",
            "precision per pixel for test: 0.680\n",
            "mIoU for validation: 0.293\n",
            "iter =       20/      50, loss_segmentation = 0.460 loss_adversarial = 1.071 loss_D = 0.629 \n",
            "epoch 21, lr 0.015312: 100% 1000/1000 [05:31<00:00,  3.02it/s]\n",
            "loss for train : 0.390559\n",
            "start val!\n",
            "precision per pixel for test: 0.674\n",
            "mIoU for validation: 0.285\n",
            "iter =       21/      50, loss_segmentation = 0.323 loss_adversarial = 1.221 loss_D = 0.612 \n",
            "epoch 22, lr 0.014836: 100% 1000/1000 [05:12<00:00,  3.20it/s]\n",
            "loss for train : 0.379760\n",
            "start val!\n",
            "precision per pixel for test: 0.677\n",
            "mIoU for validation: 0.294\n",
            "iter =       22/      50, loss_segmentation = 0.399 loss_adversarial = 1.196 loss_D = 0.568 \n",
            "epoch 23, lr 0.014358: 100% 1000/1000 [05:11<00:00,  3.21it/s]\n",
            "loss for train : 0.372856\n",
            "start val!\n",
            "precision per pixel for test: 0.667\n",
            "mIoU for validation: 0.297\n",
            "iter =       23/      50, loss_segmentation = 0.395 loss_adversarial = 1.135 loss_D = 0.562 \n",
            "epoch 24, lr 0.013879: 100% 1000/1000 [05:11<00:00,  3.21it/s]\n",
            "loss for train : 0.373865\n",
            "start val!\n",
            "precision per pixel for test: 0.681\n",
            "mIoU for validation: 0.299\n",
            "iter =       24/      50, loss_segmentation = 0.604 loss_adversarial = 1.067 loss_D = 0.618 \n",
            "epoch 25, lr 0.013397: 100% 1000/1000 [05:08<00:00,  3.24it/s]\n",
            "loss for train : 0.360241\n",
            "start val!\n",
            "precision per pixel for test: 0.673\n",
            "mIoU for validation: 0.291\n",
            "iter =       25/      50, loss_segmentation = 0.362 loss_adversarial = 0.931 loss_D = 0.620 \n",
            "epoch 26, lr 0.012914: 100% 1000/1000 [05:06<00:00,  3.27it/s]\n",
            "loss for train : 0.352699\n",
            "start val!\n",
            "precision per pixel for test: 0.674\n",
            "mIoU for validation: 0.293\n",
            "iter =       26/      50, loss_segmentation = 0.259 loss_adversarial = 1.163 loss_D = 0.566 \n",
            "epoch 27, lr 0.012429: 100% 1000/1000 [05:05<00:00,  3.27it/s]\n",
            "loss for train : 0.347257\n",
            "start val!\n",
            "precision per pixel for test: 0.688\n",
            "mIoU for validation: 0.302\n",
            "iter =       27/      50, loss_segmentation = 0.239 loss_adversarial = 1.069 loss_D = 0.527 \n",
            "epoch 28, lr 0.011941: 100% 1000/1000 [05:05<00:00,  3.27it/s]\n",
            "loss for train : 0.341081\n",
            "start val!\n",
            "precision per pixel for test: 0.691\n",
            "mIoU for validation: 0.299\n",
            "iter =       28/      50, loss_segmentation = 0.317 loss_adversarial = 1.015 loss_D = 0.607 \n",
            "epoch 29, lr 0.011452: 100% 1000/1000 [05:03<00:00,  3.29it/s]\n",
            "loss for train : 0.337910\n",
            "start val!\n",
            "precision per pixel for test: 0.626\n",
            "mIoU for validation: 0.276\n",
            "iter =       29/      50, loss_segmentation = 0.386 loss_adversarial = 1.154 loss_D = 0.619 \n",
            "epoch 30, lr 0.010960: 100% 1000/1000 [05:06<00:00,  3.27it/s]\n",
            "loss for train : 0.345739\n",
            "start val!\n",
            "precision per pixel for test: 0.696\n",
            "mIoU for validation: 0.307\n",
            "iter =       30/      50, loss_segmentation = 0.299 loss_adversarial = 1.156 loss_D = 0.588 \n",
            "epoch 31, lr 0.010465: 100% 1000/1000 [05:09<00:00,  3.24it/s]\n",
            "loss for train : 0.339174\n",
            "start val!\n",
            "precision per pixel for test: 0.704\n",
            "mIoU for validation: 0.306\n",
            "iter =       31/      50, loss_segmentation = 0.318 loss_adversarial = 1.013 loss_D = 0.614 \n",
            "epoch 32, lr 0.009968: 100% 1000/1000 [05:03<00:00,  3.29it/s]\n",
            "loss for train : 0.329044\n",
            "start val!\n",
            "precision per pixel for test: 0.705\n",
            "mIoU for validation: 0.313\n",
            "iter =       32/      50, loss_segmentation = 0.325 loss_adversarial = 1.284 loss_D = 0.534 \n",
            "epoch 33, lr 0.009468: 100% 1000/1000 [05:02<00:00,  3.30it/s]\n",
            "loss for train : 0.323974\n",
            "start val!\n",
            "precision per pixel for test: 0.703\n",
            "mIoU for validation: 0.307\n",
            "iter =       33/      50, loss_segmentation = 0.277 loss_adversarial = 0.972 loss_D = 0.629 \n",
            "epoch 34, lr 0.008966: 100% 1000/1000 [05:02<00:00,  3.31it/s]\n",
            "loss for train : 0.322598\n",
            "start val!\n",
            "precision per pixel for test: 0.697\n",
            "mIoU for validation: 0.306\n",
            "iter =       34/      50, loss_segmentation = 0.355 loss_adversarial = 1.170 loss_D = 0.650 \n",
            "epoch 35, lr 0.008460: 100% 1000/1000 [05:02<00:00,  3.31it/s]\n",
            "loss for train : 0.318662\n",
            "start val!\n",
            "precision per pixel for test: 0.700\n",
            "mIoU for validation: 0.304\n",
            "iter =       35/      50, loss_segmentation = 0.349 loss_adversarial = 1.144 loss_D = 0.648 \n",
            "epoch 36, lr 0.007950: 100% 1000/1000 [05:00<00:00,  3.33it/s]\n",
            "loss for train : 0.314688\n",
            "start val!\n",
            "precision per pixel for test: 0.700\n",
            "mIoU for validation: 0.307\n",
            "iter =       36/      50, loss_segmentation = 0.307 loss_adversarial = 1.229 loss_D = 0.546 \n",
            "epoch 37, lr 0.007437: 100% 1000/1000 [05:00<00:00,  3.33it/s]\n",
            "loss for train : 0.312707\n",
            "start val!\n",
            "precision per pixel for test: 0.705\n",
            "mIoU for validation: 0.309\n",
            "iter =       37/      50, loss_segmentation = 0.395 loss_adversarial = 1.133 loss_D = 0.623 \n",
            "epoch 38, lr 0.006920: 100% 1000/1000 [05:15<00:00,  3.17it/s]\n",
            "loss for train : 0.310520\n",
            "start val!\n",
            "precision per pixel for test: 0.702\n",
            "mIoU for validation: 0.311\n",
            "iter =       38/      50, loss_segmentation = 0.302 loss_adversarial = 1.041 loss_D = 0.622 \n",
            "epoch 39, lr 0.006399: 100% 1000/1000 [04:58<00:00,  3.35it/s]\n",
            "loss for train : 0.308707\n",
            "start val!\n",
            "precision per pixel for test: 0.705\n",
            "mIoU for validation: 0.310\n",
            "iter =       39/      50, loss_segmentation = 0.285 loss_adversarial = 0.979 loss_D = 0.569 \n",
            "epoch 40, lr 0.005873: 100% 1000/1000 [04:57<00:00,  3.36it/s]\n",
            "loss for train : 0.305799\n",
            "start val!\n",
            "precision per pixel for test: 0.705\n",
            "mIoU for validation: 0.305\n",
            "iter =       40/      50, loss_segmentation = 0.329 loss_adversarial = 1.080 loss_D = 0.583 \n",
            "epoch 41, lr 0.005342: 100% 1000/1000 [05:00<00:00,  3.33it/s]\n",
            "loss for train : 0.306100\n",
            "start val!\n",
            "precision per pixel for test: 0.700\n",
            "mIoU for validation: 0.309\n",
            "iter =       41/      50, loss_segmentation = 0.330 loss_adversarial = 1.022 loss_D = 0.561 \n",
            "epoch 42, lr 0.004804: 100% 1000/1000 [05:00<00:00,  3.33it/s]\n",
            "loss for train : 0.304580\n",
            "start val!\n",
            "precision per pixel for test: 0.697\n",
            "mIoU for validation: 0.305\n",
            "iter =       42/      50, loss_segmentation = 0.262 loss_adversarial = 1.097 loss_D = 0.537 \n",
            "epoch 43, lr 0.004260: 100% 1000/1000 [04:58<00:00,  3.35it/s]\n",
            "loss for train : 0.301477\n",
            "start val!\n",
            "precision per pixel for test: 0.705\n",
            "mIoU for validation: 0.308\n",
            "iter =       43/      50, loss_segmentation = 0.237 loss_adversarial = 1.036 loss_D = 0.620 \n",
            "epoch 44, lr 0.003709: 100% 1000/1000 [04:58<00:00,  3.35it/s]\n",
            "loss for train : 0.300995\n",
            "start val!\n",
            "precision per pixel for test: 0.705\n",
            "mIoU for validation: 0.309\n",
            "iter =       44/      50, loss_segmentation = 0.301 loss_adversarial = 0.986 loss_D = 0.595 \n",
            "epoch 45, lr 0.003147: 100% 1000/1000 [04:58<00:00,  3.35it/s]\n",
            "loss for train : 0.300658\n",
            "start val!\n",
            "precision per pixel for test: 0.706\n",
            "mIoU for validation: 0.310\n",
            "iter =       45/      50, loss_segmentation = 0.333 loss_adversarial = 1.090 loss_D = 0.609 \n",
            "epoch 46, lr 0.002575: 100% 1000/1000 [04:57<00:00,  3.36it/s]\n",
            "loss for train : 0.298400\n",
            "start val!\n",
            "precision per pixel for test: 0.708\n",
            "mIoU for validation: 0.310\n",
            "iter =       46/      50, loss_segmentation = 0.277 loss_adversarial = 0.977 loss_D = 0.584 \n",
            "epoch 47, lr 0.001987: 100% 1000/1000 [04:57<00:00,  3.37it/s]\n",
            "loss for train : 0.297169\n",
            "start val!\n",
            "precision per pixel for test: 0.717\n",
            "mIoU for validation: 0.316\n",
            "iter =       47/      50, loss_segmentation = 0.339 loss_adversarial = 1.116 loss_D = 0.609 \n",
            "epoch 48, lr 0.001380: 100% 1000/1000 [04:58<00:00,  3.35it/s]\n",
            "loss for train : 0.297357\n",
            "start val!\n",
            "precision per pixel for test: 0.706\n",
            "mIoU for validation: 0.308\n",
            "iter =       48/      50, loss_segmentation = 0.270 loss_adversarial = 0.913 loss_D = 0.581 \n",
            "epoch 49, lr 0.000739: 100% 1000/1000 [04:56<00:00,  3.37it/s]\n",
            "loss for train : 0.295505\n",
            "start val!\n",
            "precision per pixel for test: 0.710\n",
            "mIoU for validation: 0.308\n",
            "iter =       49/      50, loss_segmentation = 0.252 loss_adversarial = 0.953 loss_D = 0.587 \n"
          ]
        }
      ]
    },
    {
      "cell_type": "code",
      "source": [
        "#DA with DSC resnet101 best\n",
        "!python eval.py "
      ],
      "metadata": {
        "colab": {
          "base_uri": "https://localhost:8080/"
        },
        "id": "N_qMHAeVDo4o",
        "outputId": "478d7c29-cc35-4061-e2d3-86369dde85b9"
      },
      "execution_count": null,
      "outputs": [
        {
          "output_type": "stream",
          "name": "stdout",
          "text": [
            "load model from /content/drive/MyDrive/checkpoints_101_sgd_DSC/best_crossentropy_loss.pth ...\n",
            "The best epoch is 47\n",
            "Done!\n",
            "start test!\n",
            "test: 100% 250/250 [16:28<00:00,  3.91s/it]precision per pixel for test: 0.717\n",
            "mIoU for validation: 0.316\n",
            "test: 100% 250/250 [16:32<00:00,  3.97s/it]\n"
          ]
        }
      ]
    },
    {
      "cell_type": "code",
      "source": [
        "#DA with DSC resnet101 latest\n",
        "!python eval.py "
      ],
      "metadata": {
        "colab": {
          "base_uri": "https://localhost:8080/"
        },
        "id": "jmYSYQh5FcHT",
        "outputId": "504d759e-a34d-423d-dfe5-7323e4e0425c"
      },
      "execution_count": null,
      "outputs": [
        {
          "output_type": "stream",
          "name": "stdout",
          "text": [
            "load model from /content/drive/MyDrive/checkpoints_101_sgd_DSC/latest_crossentropy_loss.pth ...\n",
            "Done!\n",
            "start test!\n",
            "test: 100% 250/250 [15:20<00:00,  3.71s/it]precision per pixel for test: 0.710\n",
            "mIoU for validation: 0.308\n",
            "test: 100% 250/250 [15:24<00:00,  3.70s/it]\n"
          ]
        }
      ]
    },
    {
      "cell_type": "code",
      "source": [
        "!pip install torchscan\n",
        "\n",
        "from model.build_BiSeNet import BiSeNet\n",
        "from torchscan import summary\n",
        "from model.discriminator import FCDiscriminator\n",
        "\n",
        "NUM_CLASSES = 19 #number of semantic classes\n",
        "\n",
        "#Discriminator \n",
        "model_D = FCDiscriminator(num_classes=NUM_CLASSES)\n",
        "model_D.eval().cuda()\n",
        "summary (model, input_shape=(3, 1024, 512))\n",
        "\n",
        "CONTEXT_PATH ='resnet101'\n",
        "model = BiSeNet (NUM_CLASSES, CONTEXT_PATH)\n",
        "model.eval().cuda()\n",
        "print (\"BiSeNet with ResNet101\")\n",
        "summary(model, input_shape=(3, 1024, 512))\n",
        "\n",
        "CONTEXT_PATH= 'resnet18'\n",
        "model18 = BiSeNet (NUM_CLASSES, CONTEXT_PATH)\n",
        "model18.eval().cuda()\n",
        "print (\"BiSeNet with ResNet18\")\n",
        "summary(model18, (3, 1024, 512))\n"
      ],
      "metadata": {
        "colab": {
          "base_uri": "https://localhost:8080/",
          "height": 470
        },
        "id": "k_xVsnTYKtUW",
        "outputId": "8b812850-03dc-4d88-ff15-3dca171b2883"
      },
      "execution_count": null,
      "outputs": [
        {
          "output_type": "stream",
          "name": "stdout",
          "text": [
            "Requirement already satisfied: torchscan in /usr/local/lib/python3.7/dist-packages (0.1.1)\n",
            "Requirement already satisfied: torch>=1.1.0 in /usr/local/lib/python3.7/dist-packages (from torchscan) (1.10.0+cu111)\n",
            "Requirement already satisfied: typing-extensions in /usr/local/lib/python3.7/dist-packages (from torch>=1.1.0->torchscan) (3.10.0.2)\n"
          ]
        },
        {
          "output_type": "error",
          "ename": "AttributeError",
          "evalue": "ignored",
          "traceback": [
            "\u001b[0;31m---------------------------------------------------------------------------\u001b[0m",
            "\u001b[0;31mAttributeError\u001b[0m                            Traceback (most recent call last)",
            "\u001b[0;32m<ipython-input-17-f8f8a4e72113>\u001b[0m in \u001b[0;36m<module>\u001b[0;34m()\u001b[0m\n\u001b[1;32m     10\u001b[0m \u001b[0mmodel_D\u001b[0m \u001b[0;34m=\u001b[0m \u001b[0mFCDiscriminator\u001b[0m\u001b[0;34m(\u001b[0m\u001b[0mnum_classes\u001b[0m\u001b[0;34m=\u001b[0m\u001b[0mNUM_CLASSES\u001b[0m\u001b[0;34m)\u001b[0m\u001b[0;34m\u001b[0m\u001b[0;34m\u001b[0m\u001b[0m\n\u001b[1;32m     11\u001b[0m \u001b[0mmodel_D\u001b[0m\u001b[0;34m.\u001b[0m\u001b[0mcuda\u001b[0m\u001b[0;34m(\u001b[0m\u001b[0;34m)\u001b[0m\u001b[0;34m\u001b[0m\u001b[0;34m\u001b[0m\u001b[0m\n\u001b[0;32m---> 12\u001b[0;31m \u001b[0msummary\u001b[0m \u001b[0;34m(\u001b[0m\u001b[0mmodel\u001b[0m\u001b[0;34m,\u001b[0m \u001b[0minput_shape\u001b[0m\u001b[0;34m=\u001b[0m\u001b[0;34m(\u001b[0m\u001b[0;36m3\u001b[0m\u001b[0;34m,\u001b[0m \u001b[0;36m1024\u001b[0m\u001b[0;34m,\u001b[0m \u001b[0;36m512\u001b[0m\u001b[0;34m)\u001b[0m\u001b[0;34m)\u001b[0m\u001b[0;34m\u001b[0m\u001b[0;34m\u001b[0m\u001b[0m\n\u001b[0m\u001b[1;32m     13\u001b[0m \u001b[0;34m\u001b[0m\u001b[0m\n\u001b[1;32m     14\u001b[0m \u001b[0mCONTEXT_PATH\u001b[0m \u001b[0;34m=\u001b[0m\u001b[0;34m'resnet101'\u001b[0m\u001b[0;34m\u001b[0m\u001b[0;34m\u001b[0m\u001b[0m\n",
            "\u001b[0;32m/usr/local/lib/python3.7/dist-packages/torchscan/crawler.py\u001b[0m in \u001b[0;36msummary\u001b[0;34m(module, input_shape, wrap_mode, max_depth, receptive_field)\u001b[0m\n\u001b[1;32m    227\u001b[0m \u001b[0;34m\u001b[0m\u001b[0m\n\u001b[1;32m    228\u001b[0m     \u001b[0;31m# Get the summary dict\u001b[0m\u001b[0;34m\u001b[0m\u001b[0;34m\u001b[0m\u001b[0;34m\u001b[0m\u001b[0m\n\u001b[0;32m--> 229\u001b[0;31m     \u001b[0mmodule_info\u001b[0m \u001b[0;34m=\u001b[0m \u001b[0mcrawl_module\u001b[0m\u001b[0;34m(\u001b[0m\u001b[0mmodule\u001b[0m\u001b[0;34m,\u001b[0m \u001b[0minput_shape\u001b[0m\u001b[0;34m)\u001b[0m\u001b[0;34m\u001b[0m\u001b[0;34m\u001b[0m\u001b[0m\n\u001b[0m\u001b[1;32m    230\u001b[0m     \u001b[0;31m# Aggregate until max_depth\u001b[0m\u001b[0;34m\u001b[0m\u001b[0;34m\u001b[0m\u001b[0;34m\u001b[0m\u001b[0m\n\u001b[1;32m    231\u001b[0m     \u001b[0;32mif\u001b[0m \u001b[0misinstance\u001b[0m\u001b[0;34m(\u001b[0m\u001b[0mmax_depth\u001b[0m\u001b[0;34m,\u001b[0m \u001b[0mint\u001b[0m\u001b[0;34m)\u001b[0m\u001b[0;34m:\u001b[0m\u001b[0;34m\u001b[0m\u001b[0;34m\u001b[0m\u001b[0m\n",
            "\u001b[0;32m/usr/local/lib/python3.7/dist-packages/torchscan/crawler.py\u001b[0m in \u001b[0;36mcrawl_module\u001b[0;34m(module, input_shape, dtype, max_depth)\u001b[0m\n\u001b[1;32m    170\u001b[0m     \u001b[0;31m# Forward\u001b[0m\u001b[0;34m\u001b[0m\u001b[0;34m\u001b[0m\u001b[0;34m\u001b[0m\u001b[0m\n\u001b[1;32m    171\u001b[0m     \u001b[0;32mwith\u001b[0m \u001b[0mtorch\u001b[0m\u001b[0;34m.\u001b[0m\u001b[0mno_grad\u001b[0m\u001b[0;34m(\u001b[0m\u001b[0;34m)\u001b[0m\u001b[0;34m:\u001b[0m\u001b[0;34m\u001b[0m\u001b[0;34m\u001b[0m\u001b[0m\n\u001b[0;32m--> 172\u001b[0;31m         \u001b[0mmodule\u001b[0m\u001b[0;34m(\u001b[0m\u001b[0;34m*\u001b[0m\u001b[0minput_ts\u001b[0m\u001b[0;34m)\u001b[0m\u001b[0;34m\u001b[0m\u001b[0;34m\u001b[0m\u001b[0m\n\u001b[0m\u001b[1;32m    173\u001b[0m \u001b[0;34m\u001b[0m\u001b[0m\n\u001b[1;32m    174\u001b[0m     \u001b[0mreserved_ram\u001b[0m\u001b[0;34m,\u001b[0m \u001b[0mdiff_ram\u001b[0m \u001b[0;34m=\u001b[0m \u001b[0;36m0\u001b[0m\u001b[0;34m,\u001b[0m \u001b[0;36m0\u001b[0m\u001b[0;34m\u001b[0m\u001b[0;34m\u001b[0m\u001b[0m\n",
            "\u001b[0;32m/usr/local/lib/python3.7/dist-packages/torch/nn/modules/module.py\u001b[0m in \u001b[0;36m_call_impl\u001b[0;34m(self, *input, **kwargs)\u001b[0m\n\u001b[1;32m   1118\u001b[0m             \u001b[0minput\u001b[0m \u001b[0;34m=\u001b[0m \u001b[0mbw_hook\u001b[0m\u001b[0;34m.\u001b[0m\u001b[0msetup_input_hook\u001b[0m\u001b[0;34m(\u001b[0m\u001b[0minput\u001b[0m\u001b[0;34m)\u001b[0m\u001b[0;34m\u001b[0m\u001b[0;34m\u001b[0m\u001b[0m\n\u001b[1;32m   1119\u001b[0m \u001b[0;34m\u001b[0m\u001b[0m\n\u001b[0;32m-> 1120\u001b[0;31m         \u001b[0mresult\u001b[0m \u001b[0;34m=\u001b[0m \u001b[0mforward_call\u001b[0m\u001b[0;34m(\u001b[0m\u001b[0;34m*\u001b[0m\u001b[0minput\u001b[0m\u001b[0;34m,\u001b[0m \u001b[0;34m**\u001b[0m\u001b[0mkwargs\u001b[0m\u001b[0;34m)\u001b[0m\u001b[0;34m\u001b[0m\u001b[0;34m\u001b[0m\u001b[0m\n\u001b[0m\u001b[1;32m   1121\u001b[0m         \u001b[0;32mif\u001b[0m \u001b[0m_global_forward_hooks\u001b[0m \u001b[0;32mor\u001b[0m \u001b[0mself\u001b[0m\u001b[0;34m.\u001b[0m\u001b[0m_forward_hooks\u001b[0m\u001b[0;34m:\u001b[0m\u001b[0;34m\u001b[0m\u001b[0;34m\u001b[0m\u001b[0m\n\u001b[1;32m   1122\u001b[0m             \u001b[0;32mfor\u001b[0m \u001b[0mhook\u001b[0m \u001b[0;32min\u001b[0m \u001b[0;34m(\u001b[0m\u001b[0;34m*\u001b[0m\u001b[0m_global_forward_hooks\u001b[0m\u001b[0;34m.\u001b[0m\u001b[0mvalues\u001b[0m\u001b[0;34m(\u001b[0m\u001b[0;34m)\u001b[0m\u001b[0;34m,\u001b[0m \u001b[0;34m*\u001b[0m\u001b[0mself\u001b[0m\u001b[0;34m.\u001b[0m\u001b[0m_forward_hooks\u001b[0m\u001b[0;34m.\u001b[0m\u001b[0mvalues\u001b[0m\u001b[0;34m(\u001b[0m\u001b[0;34m)\u001b[0m\u001b[0;34m)\u001b[0m\u001b[0;34m:\u001b[0m\u001b[0;34m\u001b[0m\u001b[0;34m\u001b[0m\u001b[0m\n",
            "\u001b[0;32m/content/AMLproject/BiSeNet/model/build_BiSeNet.py\u001b[0m in \u001b[0;36mforward\u001b[0;34m(self, input)\u001b[0m\n\u001b[1;32m    143\u001b[0m \u001b[0;34m\u001b[0m\u001b[0m\n\u001b[1;32m    144\u001b[0m         \u001b[0;31m# output of context path\u001b[0m\u001b[0;34m\u001b[0m\u001b[0;34m\u001b[0m\u001b[0;34m\u001b[0m\u001b[0m\n\u001b[0;32m--> 145\u001b[0;31m         \u001b[0mcx1\u001b[0m\u001b[0;34m,\u001b[0m \u001b[0mcx2\u001b[0m\u001b[0;34m,\u001b[0m \u001b[0mtail\u001b[0m \u001b[0;34m=\u001b[0m \u001b[0mself\u001b[0m\u001b[0;34m.\u001b[0m\u001b[0mcontext_path\u001b[0m\u001b[0;34m(\u001b[0m\u001b[0minput\u001b[0m\u001b[0;34m)\u001b[0m\u001b[0;34m\u001b[0m\u001b[0;34m\u001b[0m\u001b[0m\n\u001b[0m\u001b[1;32m    146\u001b[0m         \u001b[0mcx1\u001b[0m \u001b[0;34m=\u001b[0m \u001b[0mself\u001b[0m\u001b[0;34m.\u001b[0m\u001b[0mattention_refinement_module1\u001b[0m\u001b[0;34m(\u001b[0m\u001b[0mcx1\u001b[0m\u001b[0;34m)\u001b[0m\u001b[0;34m\u001b[0m\u001b[0;34m\u001b[0m\u001b[0m\n\u001b[1;32m    147\u001b[0m         \u001b[0mcx2\u001b[0m \u001b[0;34m=\u001b[0m \u001b[0mself\u001b[0m\u001b[0;34m.\u001b[0m\u001b[0mattention_refinement_module2\u001b[0m\u001b[0;34m(\u001b[0m\u001b[0mcx2\u001b[0m\u001b[0;34m)\u001b[0m\u001b[0;34m\u001b[0m\u001b[0;34m\u001b[0m\u001b[0m\n",
            "\u001b[0;32m/usr/local/lib/python3.7/dist-packages/torch/nn/modules/module.py\u001b[0m in \u001b[0;36m_call_impl\u001b[0;34m(self, *input, **kwargs)\u001b[0m\n\u001b[1;32m   1121\u001b[0m         \u001b[0;32mif\u001b[0m \u001b[0m_global_forward_hooks\u001b[0m \u001b[0;32mor\u001b[0m \u001b[0mself\u001b[0m\u001b[0;34m.\u001b[0m\u001b[0m_forward_hooks\u001b[0m\u001b[0;34m:\u001b[0m\u001b[0;34m\u001b[0m\u001b[0;34m\u001b[0m\u001b[0m\n\u001b[1;32m   1122\u001b[0m             \u001b[0;32mfor\u001b[0m \u001b[0mhook\u001b[0m \u001b[0;32min\u001b[0m \u001b[0;34m(\u001b[0m\u001b[0;34m*\u001b[0m\u001b[0m_global_forward_hooks\u001b[0m\u001b[0;34m.\u001b[0m\u001b[0mvalues\u001b[0m\u001b[0;34m(\u001b[0m\u001b[0;34m)\u001b[0m\u001b[0;34m,\u001b[0m \u001b[0;34m*\u001b[0m\u001b[0mself\u001b[0m\u001b[0;34m.\u001b[0m\u001b[0m_forward_hooks\u001b[0m\u001b[0;34m.\u001b[0m\u001b[0mvalues\u001b[0m\u001b[0;34m(\u001b[0m\u001b[0;34m)\u001b[0m\u001b[0;34m)\u001b[0m\u001b[0;34m:\u001b[0m\u001b[0;34m\u001b[0m\u001b[0;34m\u001b[0m\u001b[0m\n\u001b[0;32m-> 1123\u001b[0;31m                 \u001b[0mhook_result\u001b[0m \u001b[0;34m=\u001b[0m \u001b[0mhook\u001b[0m\u001b[0;34m(\u001b[0m\u001b[0mself\u001b[0m\u001b[0;34m,\u001b[0m \u001b[0minput\u001b[0m\u001b[0;34m,\u001b[0m \u001b[0mresult\u001b[0m\u001b[0;34m)\u001b[0m\u001b[0;34m\u001b[0m\u001b[0;34m\u001b[0m\u001b[0m\n\u001b[0m\u001b[1;32m   1124\u001b[0m                 \u001b[0;32mif\u001b[0m \u001b[0mhook_result\u001b[0m \u001b[0;32mis\u001b[0m \u001b[0;32mnot\u001b[0m \u001b[0;32mNone\u001b[0m\u001b[0;34m:\u001b[0m\u001b[0;34m\u001b[0m\u001b[0;34m\u001b[0m\u001b[0m\n\u001b[1;32m   1125\u001b[0m                     \u001b[0mresult\u001b[0m \u001b[0;34m=\u001b[0m \u001b[0mhook_result\u001b[0m\u001b[0;34m\u001b[0m\u001b[0;34m\u001b[0m\u001b[0m\n",
            "\u001b[0;32m/usr/local/lib/python3.7/dist-packages/torchscan/crawler.py\u001b[0m in \u001b[0;36m_fwd_hook\u001b[0;34m(module, input, output)\u001b[0m\n\u001b[1;32m    145\u001b[0m \u001b[0;34m\u001b[0m\u001b[0m\n\u001b[1;32m    146\u001b[0m             \u001b[0;31m# Update layer information\u001b[0m\u001b[0;34m\u001b[0m\u001b[0;34m\u001b[0m\u001b[0;34m\u001b[0m\u001b[0m\n\u001b[0;32m--> 147\u001b[0;31m             \u001b[0minfo\u001b[0m\u001b[0;34m[\u001b[0m\u001b[0mfw_idx\u001b[0m\u001b[0;34m]\u001b[0m\u001b[0;34m[\u001b[0m\u001b[0;34m'output_shape'\u001b[0m\u001b[0;34m]\u001b[0m \u001b[0;34m=\u001b[0m \u001b[0;34m(\u001b[0m\u001b[0;34m-\u001b[0m\u001b[0;36m1\u001b[0m\u001b[0;34m,\u001b[0m \u001b[0;34m*\u001b[0m\u001b[0moutput\u001b[0m\u001b[0;34m.\u001b[0m\u001b[0mshape\u001b[0m\u001b[0;34m[\u001b[0m\u001b[0;36m1\u001b[0m\u001b[0;34m:\u001b[0m\u001b[0;34m]\u001b[0m\u001b[0;34m)\u001b[0m\u001b[0;34m\u001b[0m\u001b[0;34m\u001b[0m\u001b[0m\n\u001b[0m\u001b[1;32m    148\u001b[0m             \u001b[0;31m# Add them, since some modules can be used several times\u001b[0m\u001b[0;34m\u001b[0m\u001b[0;34m\u001b[0m\u001b[0;34m\u001b[0m\u001b[0m\n\u001b[1;32m    149\u001b[0m             \u001b[0minfo\u001b[0m\u001b[0;34m[\u001b[0m\u001b[0mfw_idx\u001b[0m\u001b[0;34m]\u001b[0m\u001b[0;34m[\u001b[0m\u001b[0;34m'flops'\u001b[0m\u001b[0;34m]\u001b[0m \u001b[0;34m=\u001b[0m \u001b[0mtot_flops\u001b[0m\u001b[0;34m\u001b[0m\u001b[0;34m\u001b[0m\u001b[0m\n",
            "\u001b[0;31mAttributeError\u001b[0m: 'tuple' object has no attribute 'shape'"
          ]
        }
      ]
    },
    {
      "cell_type": "markdown",
      "source": [
        "Stop HERE\n"
      ],
      "metadata": {
        "id": "pIebwOcigp9w"
      }
    },
    {
      "cell_type": "code",
      "source": [
        "DEVICE = 'cpu' # 'cuda' or 'cpu'\n",
        "\n",
        "NUM_CLASSES = 19 #number of semantic classes\n",
        "NUM_EPOCHS = 50   # Total number of training epochs (iterations over dataset)\n",
        "BACKBONE = 'resnet101' #Backbone for context path\n",
        "\n",
        "BATCH_SIZE = 128 "
      ],
      "metadata": {
        "id": "-K-vBI5yE_PV"
      },
      "execution_count": null,
      "outputs": []
    },
    {
      "cell_type": "markdown",
      "source": [
        "Prepare the Dataset"
      ],
      "metadata": {
        "id": "OHoJEe6R0KyD"
      }
    },
    {
      "cell_type": "code",
      "source": [
        "#Load dataset\n",
        "#DATA_DIR = 'Caltech101/101_ObjectCategories'\n",
        "#from Caltech101.caltech_dataset import Caltech\n",
        "#from sklearn.model_selection import train_test_split\n",
        "\n",
        "# Prepare Pytorch train/test Datasets\n",
        "#train_dataset_big = Caltech(DATA_DIR, split='train',  transform=train_transform)\n",
        "#test_dataset = Caltech(DATA_DIR, split='test', transform=eval_transform)\n",
        "from utils import colour_code_segmentation\n",
        "import json\n",
        "from AMLproject.BiSeNet.dataset.Cityscape import Cityscape\n",
        "train_dataset = Cityscape()\n",
        "val_dataset = Cityscape (train=False)"
      ],
      "metadata": {
        "id": "97MRYsRa_Vss"
      },
      "execution_count": null,
      "outputs": []
    },
    {
      "cell_type": "code",
      "source": [
        "label_info = json.load(open('/content/drive/MyDrive/Datasets/Cityscapes/info.json', 'r'))\n",
        "    \n",
        "label_info=label_info['palette']\n",
        "print (label_info)\n",
        "    "
      ],
      "metadata": {
        "colab": {
          "base_uri": "https://localhost:8080/"
        },
        "id": "RRFyDN-gpd-e",
        "outputId": "c239ad1f-10d2-4cde-d230-f860e2c3f5c8"
      },
      "execution_count": null,
      "outputs": [
        {
          "output_type": "stream",
          "name": "stdout",
          "text": [
            "[[128, 64, 128], [244, 35, 232], [70, 70, 70], [102, 102, 156], [190, 153, 153], [153, 153, 153], [250, 170, 30], [220, 220, 0], [107, 142, 35], [152, 251, 152], [70, 130, 180], [220, 20, 60], [255, 0, 0], [0, 0, 142], [0, 0, 70], [0, 60, 100], [0, 80, 100], [0, 0, 230], [119, 11, 32], [0, 0, 0]]\n"
          ]
        }
      ]
    },
    {
      "cell_type": "code",
      "source": [
        "import numpy as np\n",
        "def colour_code_segmentation(image, label_values):\n",
        "  colour_codes = np.array(label_values)\n",
        "  x = image.astype(int)\n",
        "\n",
        "  final = np.zeros((x.shape[0], x.shape[1],3), np.ubyte)\n",
        "  x[x==255]=19\n",
        "  final[:,:]=colour_codes[x]\n",
        "  print(final.shape)\n",
        "  return final"
      ],
      "metadata": {
        "id": "PRA09DJcpqng"
      },
      "execution_count": null,
      "outputs": []
    },
    {
      "cell_type": "code",
      "source": [
        "def encode_segmap(mask, mapping, ignore_index):\n",
        "    label_copy = ignore_index * np.ones(mask.shape, dtype=np.float32)\n",
        "    for k, v in mapping:\n",
        "        label_copy[mask == k] = v\n",
        "\n",
        "    return label_copy"
      ],
      "metadata": {
        "id": "RpsruMzK4s3g"
      },
      "execution_count": null,
      "outputs": []
    },
    {
      "cell_type": "code",
      "source": [
        "#string = '/content/drive/MyDrive/Datasets/Cityscapes/images/'+train_dataset.files[0]['name'].split ('/')[1]\n",
        "from IPython.display import Image\n",
        "\n",
        "import torch\n",
        "from torchvision import transforms\n",
        "from PIL import Image as PIL\n",
        "\n",
        "convert_tensor = transforms.ToTensor()\n",
        "\n",
        "img = PIL.open(train_dataset.files[0]['label'])\n",
        "print(train_dataset.files[0]['name'])\n",
        "img = np.asarray(img, np.ubyte)\n",
        "info = json.load(open('/content/drive/MyDrive/Datasets/Cityscapes/info.json', 'r'))\n",
        "class_mapping = info['label2train']\n",
        "# remap the semantic label\n",
        "img = encode_segmap(img, class_mapping, 255)\n",
        "print(img.shape)\n",
        "#img=convert_tensor(img).numpy()\n",
        "img = colour_code_segmentation(img, label_info)\n",
        "print (type(img), img.shape)\n",
        "img = PIL.fromarray(img, 'RGB')\n",
        "#img = Image(train_dataset.files[0]['label'])\n",
        "plt.imshow(img)\n",
        "plt.show()\n",
        "img.show\n",
        "img.save(\"test.png\")\n",
        "#print (train_dataset.files[0]['image'])\n"
      ],
      "metadata": {
        "id": "QFVlgluLYSoz",
        "colab": {
          "base_uri": "https://localhost:8080/",
          "height": 289
        },
        "outputId": "584e281d-9378-4053-870d-22f1ca2272d1"
      },
      "execution_count": null,
      "outputs": [
        {
          "output_type": "stream",
          "name": "stdout",
          "text": [
            "strasbourg_000000_017593\n",
            "(1024, 2048)\n",
            "(1024, 2048, 3)\n",
            "<class 'numpy.ndarray'> (1024, 2048, 3)\n"
          ]
        },
        {
          "output_type": "display_data",
          "data": {
            "image/png": "[encoded data removed]",
            "text/plain": [
              "<Figure size 432x288 with 1 Axes>"
            ]
          },
          "metadata": {
            "needs_background": "light"
          }
        }
      ]
    },
    {
      "cell_type": "code",
      "source": [
        "Image(train_dataset.files[0]['label'])\n"
      ],
      "metadata": {
        "id": "ljdN4_FBZnLD"
      },
      "execution_count": null,
      "outputs": []
    },
    {
      "cell_type": "code",
      "source": [
        "print (\"training dataset lenght\", len(train_dataset))\n",
        "print (\"validation dataset lenght\", len(val_dataset))"
      ],
      "metadata": {
        "colab": {
          "base_uri": "https://localhost:8080/"
        },
        "id": "mZYzFZOYHRui",
        "outputId": "0b1395c0-d6a7-4b1a-fc20-b5add733f78e"
      },
      "execution_count": null,
      "outputs": [
        {
          "output_type": "stream",
          "name": "stdout",
          "text": [
            "training dataset lenght 500\n",
            "validation dataset lenght 250\n"
          ]
        }
      ]
    },
    {
      "cell_type": "markdown",
      "source": [
        "Prepare DataLoaders"
      ],
      "metadata": {
        "id": "s9DdQwvU5NCp"
      }
    },
    {
      "cell_type": "code",
      "source": [
        "train_dataloader = DataLoader(train_dataset, batch_size=BATCH_SIZE, shuffle=True, num_workers=4, drop_last=True)\n",
        "val_dataloader = DataLoader(val_dataset, batch_size=BATCH_SIZE, shuffle=False, num_workers=4)\n"
      ],
      "metadata": {
        "id": "SEgmG2KW5O-i"
      },
      "execution_count": null,
      "outputs": []
    },
    {
      "cell_type": "markdown",
      "source": [
        "Prepare the Network"
      ],
      "metadata": {
        "id": "hES_SG2l0Prq"
      }
    },
    {
      "cell_type": "code",
      "source": [
        "from AMLproject.BiSeNet.model.build_BiSeNet import BiSeNet\n",
        "\n",
        "net = BiSeNet (num_classes=19, context_path=BACKBONE)"
      ],
      "metadata": {
        "id": "1uC6-MHe0PR9",
        "outputId": "b2d204a9-4537-41aa-e725-67d3c437f731",
        "colab": {
          "base_uri": "https://localhost:8080/",
          "height": 136,
          "referenced_widgets": [
            "02b46c4d9ecb44f8b55a3ee6699afb20",
            "c943495e3c174643ab4176933899bc1d",
            "474123b1aec949cb8922b1d2be6db027",
            "7f5abce980784b538f03dae2d16a9f73",
            "1aaebcedc7074c168e5305c96c6b50d0",
            "926d71b959f64c109f35f56cc0699674",
            "461ae3f6fa564c9bbe5457e5416ec938",
            "f5f58f15c66a4417ade7bce959ba0e6c",
            "0984abc433ac4b49919db6fb302c7874",
            "72e2da4f10464fa3b47a8ac052e557f6",
            "2b3fbc702e0b4a208130ff6fe11788ed",
            "1910e54a25774c6e9038019a515b47c4",
            "f10a45bffdd346fa98ad3b95428e095e",
            "99c626245f4749d5bf4fd0f0b632d437",
            "059e26080b4148fc8920031594f73971",
            "6a40eb37ba8b4a029ebc9f5cce01ed37",
            "d8eadf0bd2b44860a31d7a76411a0b15",
            "6b32c6308ceb4bd28175cb2a2d03e25d",
            "53f6925191964f728e1d320084da08d4",
            "e82e651843274abdb2a570560cc1cdf4",
            "de2a382a52ad4c8fbea195afcd4fb69d",
            "45a336d6ea32494ea8b1c6d76f269e8b"
          ]
        }
      },
      "execution_count": null,
      "outputs": [
        {
          "output_type": "stream",
          "name": "stderr",
          "text": [
            "Downloading: \"https://download.pytorch.org/models/resnet18-f37072fd.pth\" to /root/.cache/torch/hub/checkpoints/resnet18-f37072fd.pth\n"
          ]
        },
        {
          "output_type": "display_data",
          "data": {
            "application/vnd.jupyter.widget-view+json": {
              "model_id": "02b46c4d9ecb44f8b55a3ee6699afb20",
              "version_minor": 0,
              "version_major": 2
            },
            "text/plain": [
              "  0%|          | 0.00/44.7M [00:00<?, ?B/s]"
            ]
          },
          "metadata": {}
        },
        {
          "output_type": "stream",
          "name": "stderr",
          "text": [
            "Downloading: \"https://download.pytorch.org/models/resnet101-63fe2227.pth\" to /root/.cache/torch/hub/checkpoints/resnet101-63fe2227.pth\n"
          ]
        },
        {
          "output_type": "display_data",
          "data": {
            "application/vnd.jupyter.widget-view+json": {
              "model_id": "1910e54a25774c6e9038019a515b47c4",
              "version_minor": 0,
              "version_major": 2
            },
            "text/plain": [
              "  0%|          | 0.00/171M [00:00<?, ?B/s]"
            ]
          },
          "metadata": {}
        }
      ]
    },
    {
      "cell_type": "code",
      "source": [
        "print (net.parameters())"
      ],
      "metadata": {
        "id": "8fiBQLP81yxS",
        "outputId": "b070348f-8e00-4668-a96a-ee80f9b855ca",
        "colab": {
          "base_uri": "https://localhost:8080/"
        }
      },
      "execution_count": null,
      "outputs": [
        {
          "output_type": "stream",
          "name": "stdout",
          "text": [
            "<generator object Module.parameters at 0x7fdb4d148b50>\n"
          ]
        }
      ]
    },
    {
      "cell_type": "code",
      "source": [
        "net.train()"
      ],
      "metadata": {
        "id": "-Y1gK-iL2lqU"
      },
      "execution_count": null,
      "outputs": []
    },
    {
      "cell_type": "code",
      "source": [
        ""
      ],
      "metadata": {
        "id": "23n_4cUg2ln6"
      },
      "execution_count": null,
      "outputs": []
    },
    {
      "cell_type": "code",
      "source": [
        ""
      ],
      "metadata": {
        "id": "XbktLf4E2llU"
      },
      "execution_count": null,
      "outputs": []
    },
    {
      "cell_type": "code",
      "source": [
        ""
      ],
      "metadata": {
        "id": "XlU9FBi02lia"
      },
      "execution_count": null,
      "outputs": []
    },
    {
      "cell_type": "code",
      "source": [
        ""
      ],
      "metadata": {
        "id": "NuArtPg22lfp"
      },
      "execution_count": null,
      "outputs": []
    },
    {
      "cell_type": "code",
      "source": [
        ""
      ],
      "metadata": {
        "id": "fJ0I7jvz2lYj"
      },
      "execution_count": null,
      "outputs": []
    },
    {
      "cell_type": "code",
      "source": [
        ""
      ],
      "metadata": {
        "id": "zxkUQWYH2lMX"
      },
      "execution_count": null,
      "outputs": []
    },
    {
      "cell_type": "markdown",
      "source": [
        "Some cells for testing "
      ],
      "metadata": {
        "id": "bdVF1xq02i8s"
      }
    },
    {
      "cell_type": "code",
      "source": [
        "print (train_dataset.files)"
      ],
      "metadata": {
        "colab": {
          "base_uri": "https://localhost:8080/"
        },
        "id": "bbeoHZRkH3eX",
        "outputId": "c42350ad-2d51-4101-c74e-d658fecbb357"
      },
      "execution_count": null,
      "outputs": [
        {
          "output_type": "stream",
          "name": "stdout",
          "text": [
            "[{'image': './drive/MyDrive/Datasets/Cityscapes/images', 'label': './drive/MyDrive/Datasets/Cityscapes/labels', 'name': 'strasbourg/strasbourg_000000_017593_leftImg8bit.png'}, {'image': './drive/MyDrive/Datasets/Cityscapes/images', 'label': './drive/MyDrive/Datasets/Cityscapes/labels', 'name': 'zurich/zurich_000066_000019_leftImg8bit.png'}, {'image': './drive/MyDrive/Datasets/Cityscapes/images', 'label': './drive/MyDrive/Datasets/Cityscapes/labels', 'name': 'hanover/hanover_000000_032681_leftImg8bit.png'}, {'image': './drive/MyDrive/Datasets/Cityscapes/images', 'label': './drive/MyDrive/Datasets/Cityscapes/labels', 'name': 'ulm/ulm_000066_000019_leftImg8bit.png'}, {'image': './drive/MyDrive/Datasets/Cityscapes/images', 'label': './drive/MyDrive/Datasets/Cityscapes/labels', 'name': 'dusseldorf/dusseldorf_000006_000019_leftImg8bit.png'}, {'image': './drive/MyDrive/Datasets/Cityscapes/images', 'label': './drive/MyDrive/Datasets/Cityscapes/labels', 'name': 'hamburg/hamburg_000000_068916_leftImg8bit.png'}, {'image': './drive/MyDrive/Datasets/Cityscapes/images', 'label': './drive/MyDrive/Datasets/Cityscapes/labels', 'name': 'hamburg/hamburg_000000_095561_leftImg8bit.png'}, {'image': './drive/MyDrive/Datasets/Cityscapes/images', 'label': './drive/MyDrive/Datasets/Cityscapes/labels', 'name': 'monchengladbach/monchengladbach_000000_035364_leftImg8bit.png'}, {'image': './drive/MyDrive/Datasets/Cityscapes/images', 'label': './drive/MyDrive/Datasets/Cityscapes/labels', 'name': 'weimar/weimar_000089_000019_leftImg8bit.png'}, {'image': './drive/MyDrive/Datasets/Cityscapes/images', 'label': './drive/MyDrive/Datasets/Cityscapes/labels', 'name': 'aachen/aachen_000158_000019_leftImg8bit.png'}, {'image': './drive/MyDrive/Datasets/Cityscapes/images', 'label': './drive/MyDrive/Datasets/Cityscapes/labels', 'name': 'krefeld/krefeld_000000_005503_leftImg8bit.png'}, {'image': './drive/MyDrive/Datasets/Cityscapes/images', 'label': './drive/MyDrive/Datasets/Cityscapes/labels', 'name': 'aachen/aachen_000111_000019_leftImg8bit.png'}, {'image': './drive/MyDrive/Datasets/Cityscapes/images', 'label': './drive/MyDrive/Datasets/Cityscapes/labels', 'name': 'strasbourg/strasbourg_000000_016024_leftImg8bit.png'}, {'image': './drive/MyDrive/Datasets/Cityscapes/images', 'label': './drive/MyDrive/Datasets/Cityscapes/labels', 'name': 'strasbourg/strasbourg_000000_011880_leftImg8bit.png'}, {'image': './drive/MyDrive/Datasets/Cityscapes/images', 'label': './drive/MyDrive/Datasets/Cityscapes/labels', 'name': 'strasbourg/strasbourg_000000_030017_leftImg8bit.png'}, {'image': './drive/MyDrive/Datasets/Cityscapes/images', 'label': './drive/MyDrive/Datasets/Cityscapes/labels', 'name': 'krefeld/krefeld_000000_021814_leftImg8bit.png'}, {'image': './drive/MyDrive/Datasets/Cityscapes/images', 'label': './drive/MyDrive/Datasets/Cityscapes/labels', 'name': 'bremen/bremen_000197_000019_leftImg8bit.png'}, {'image': './drive/MyDrive/Datasets/Cityscapes/images', 'label': './drive/MyDrive/Datasets/Cityscapes/labels', 'name': 'zurich/zurich_000105_000019_leftImg8bit.png'}, {'image': './drive/MyDrive/Datasets/Cityscapes/images', 'label': './drive/MyDrive/Datasets/Cityscapes/labels', 'name': 'cologne/cologne_000134_000019_leftImg8bit.png'}, {'image': './drive/MyDrive/Datasets/Cityscapes/images', 'label': './drive/MyDrive/Datasets/Cityscapes/labels', 'name': 'dusseldorf/dusseldorf_000051_000019_leftImg8bit.png'}, {'image': './drive/MyDrive/Datasets/Cityscapes/images', 'label': './drive/MyDrive/Datasets/Cityscapes/labels', 'name': 'tubingen/tubingen_000018_000019_leftImg8bit.png'}, {'image': './drive/MyDrive/Datasets/Cityscapes/images', 'label': './drive/MyDrive/Datasets/Cityscapes/labels', 'name': 'krefeld/krefeld_000000_004447_leftImg8bit.png'}, {'image': './drive/MyDrive/Datasets/Cityscapes/images', 'label': './drive/MyDrive/Datasets/Cityscapes/labels', 'name': 'zurich/zurich_000064_000019_leftImg8bit.png'}, {'image': './drive/MyDrive/Datasets/Cityscapes/images', 'label': './drive/MyDrive/Datasets/Cityscapes/labels', 'name': 'jena/jena_000033_000019_leftImg8bit.png'}, {'image': './drive/MyDrive/Datasets/Cityscapes/images', 'label': './drive/MyDrive/Datasets/Cityscapes/labels', 'name': 'stuttgart/stuttgart_000022_000019_leftImg8bit.png'}, {'image': './drive/MyDrive/Datasets/Cityscapes/images', 'label': './drive/MyDrive/Datasets/Cityscapes/labels', 'name': 'stuttgart/stuttgart_000051_000019_leftImg8bit.png'}, {'image': './drive/MyDrive/Datasets/Cityscapes/images', 'label': './drive/MyDrive/Datasets/Cityscapes/labels', 'name': 'strasbourg/strasbourg_000001_008576_leftImg8bit.png'}, {'image': './drive/MyDrive/Datasets/Cityscapes/images', 'label': './drive/MyDrive/Datasets/Cityscapes/labels', 'name': 'ulm/ulm_000067_000019_leftImg8bit.png'}, {'image': './drive/MyDrive/Datasets/Cityscapes/images', 'label': './drive/MyDrive/Datasets/Cityscapes/labels', 'name': 'erfurt/erfurt_000080_000019_leftImg8bit.png'}, {'image': './drive/MyDrive/Datasets/Cityscapes/images', 'label': './drive/MyDrive/Datasets/Cityscapes/labels', 'name': 'aachen/aachen_000152_000019_leftImg8bit.png'}, {'image': './drive/MyDrive/Datasets/Cityscapes/images', 'label': './drive/MyDrive/Datasets/Cityscapes/labels', 'name': 'dusseldorf/dusseldorf_000052_000019_leftImg8bit.png'}, {'image': './drive/MyDrive/Datasets/Cityscapes/images', 'label': './drive/MyDrive/Datasets/Cityscapes/labels', 'name': 'hamburg/hamburg_000000_099902_leftImg8bit.png'}, {'image': './drive/MyDrive/Datasets/Cityscapes/images', 'label': './drive/MyDrive/Datasets/Cityscapes/labels', 'name': 'bremen/bremen_000176_000019_leftImg8bit.png'}, {'image': './drive/MyDrive/Datasets/Cityscapes/images', 'label': './drive/MyDrive/Datasets/Cityscapes/labels', 'name': 'bremen/bremen_000148_000019_leftImg8bit.png'}, {'image': './drive/MyDrive/Datasets/Cityscapes/images', 'label': './drive/MyDrive/Datasets/Cityscapes/labels', 'name': 'darmstadt/darmstadt_000034_000019_leftImg8bit.png'}, {'image': './drive/MyDrive/Datasets/Cityscapes/images', 'label': './drive/MyDrive/Datasets/Cityscapes/labels', 'name': 'strasbourg/strasbourg_000001_040620_leftImg8bit.png'}, {'image': './drive/MyDrive/Datasets/Cityscapes/images', 'label': './drive/MyDrive/Datasets/Cityscapes/labels', 'name': 'hanover/hanover_000000_004752_leftImg8bit.png'}, {'image': './drive/MyDrive/Datasets/Cityscapes/images', 'label': './drive/MyDrive/Datasets/Cityscapes/labels', 'name': 'hamburg/hamburg_000000_037741_leftImg8bit.png'}, {'image': './drive/MyDrive/Datasets/Cityscapes/images', 'label': './drive/MyDrive/Datasets/Cityscapes/labels', 'name': 'dusseldorf/dusseldorf_000146_000019_leftImg8bit.png'}, {'image': './drive/MyDrive/Datasets/Cityscapes/images', 'label': './drive/MyDrive/Datasets/Cityscapes/labels', 'name': 'strasbourg/strasbourg_000001_013914_leftImg8bit.png'}, {'image': './drive/MyDrive/Datasets/Cityscapes/images', 'label': './drive/MyDrive/Datasets/Cityscapes/labels', 'name': 'hanover/hanover_000000_019116_leftImg8bit.png'}, {'image': './drive/MyDrive/Datasets/Cityscapes/images', 'label': './drive/MyDrive/Datasets/Cityscapes/labels', 'name': 'ulm/ulm_000055_000019_leftImg8bit.png'}, {'image': './drive/MyDrive/Datasets/Cityscapes/images', 'label': './drive/MyDrive/Datasets/Cityscapes/labels', 'name': 'ulm/ulm_000053_000019_leftImg8bit.png'}, {'image': './drive/MyDrive/Datasets/Cityscapes/images', 'label': './drive/MyDrive/Datasets/Cityscapes/labels', 'name': 'cologne/cologne_000012_000019_leftImg8bit.png'}, {'image': './drive/MyDrive/Datasets/Cityscapes/images', 'label': './drive/MyDrive/Datasets/Cityscapes/labels', 'name': 'hamburg/hamburg_000000_083586_leftImg8bit.png'}, {'image': './drive/MyDrive/Datasets/Cityscapes/images', 'label': './drive/MyDrive/Datasets/Cityscapes/labels', 'name': 'hamburg/hamburg_000000_001613_leftImg8bit.png'}, {'image': './drive/MyDrive/Datasets/Cityscapes/images', 'label': './drive/MyDrive/Datasets/Cityscapes/labels', 'name': 'strasbourg/strasbourg_000001_031116_leftImg8bit.png'}, {'image': './drive/MyDrive/Datasets/Cityscapes/images', 'label': './drive/MyDrive/Datasets/Cityscapes/labels', 'name': 'strasbourg/strasbourg_000000_034387_leftImg8bit.png'}, {'image': './drive/MyDrive/Datasets/Cityscapes/images', 'label': './drive/MyDrive/Datasets/Cityscapes/labels', 'name': 'hanover/hanover_000000_042581_leftImg8bit.png'}, {'image': './drive/MyDrive/Datasets/Cityscapes/images', 'label': './drive/MyDrive/Datasets/Cityscapes/labels', 'name': 'strasbourg/strasbourg_000001_061685_leftImg8bit.png'}, {'image': './drive/MyDrive/Datasets/Cityscapes/images', 'label': './drive/MyDrive/Datasets/Cityscapes/labels', 'name': 'bremen/bremen_000188_000019_leftImg8bit.png'}, {'image': './drive/MyDrive/Datasets/Cityscapes/images', 'label': './drive/MyDrive/Datasets/Cityscapes/labels', 'name': 'weimar/weimar_000024_000019_leftImg8bit.png'}, {'image': './drive/MyDrive/Datasets/Cityscapes/images', 'label': './drive/MyDrive/Datasets/Cityscapes/labels', 'name': 'jena/jena_000055_000019_leftImg8bit.png'}, {'image': './drive/MyDrive/Datasets/Cityscapes/images', 'label': './drive/MyDrive/Datasets/Cityscapes/labels', 'name': 'cologne/cologne_000054_000019_leftImg8bit.png'}, {'image': './drive/MyDrive/Datasets/Cityscapes/images', 'label': './drive/MyDrive/Datasets/Cityscapes/labels', 'name': 'hanover/hanover_000000_003224_leftImg8bit.png'}, {'image': './drive/MyDrive/Datasets/Cityscapes/images', 'label': './drive/MyDrive/Datasets/Cityscapes/labels', 'name': 'tubingen/tubingen_000057_000019_leftImg8bit.png'}, {'image': './drive/MyDrive/Datasets/Cityscapes/images', 'label': './drive/MyDrive/Datasets/Cityscapes/labels', 'name': 'bremen/bremen_000153_000019_leftImg8bit.png'}, {'image': './drive/MyDrive/Datasets/Cityscapes/images', 'label': './drive/MyDrive/Datasets/Cityscapes/labels', 'name': 'bochum/bochum_000000_037829_leftImg8bit.png'}, {'image': './drive/MyDrive/Datasets/Cityscapes/images', 'label': './drive/MyDrive/Datasets/Cityscapes/labels', 'name': 'jena/jena_000037_000019_leftImg8bit.png'}, {'image': './drive/MyDrive/Datasets/Cityscapes/images', 'label': './drive/MyDrive/Datasets/Cityscapes/labels', 'name': 'bremen/bremen_000085_000019_leftImg8bit.png'}, {'image': './drive/MyDrive/Datasets/Cityscapes/images', 'label': './drive/MyDrive/Datasets/Cityscapes/labels', 'name': 'hanover/hanover_000000_020655_leftImg8bit.png'}, {'image': './drive/MyDrive/Datasets/Cityscapes/images', 'label': './drive/MyDrive/Datasets/Cityscapes/labels', 'name': 'bremen/bremen_000063_000019_leftImg8bit.png'}, {'image': './drive/MyDrive/Datasets/Cityscapes/images', 'label': './drive/MyDrive/Datasets/Cityscapes/labels', 'name': 'dusseldorf/dusseldorf_000100_000019_leftImg8bit.png'}, {'image': './drive/MyDrive/Datasets/Cityscapes/images', 'label': './drive/MyDrive/Datasets/Cityscapes/labels', 'name': 'strasbourg/strasbourg_000001_063808_leftImg8bit.png'}, {'image': './drive/MyDrive/Datasets/Cityscapes/images', 'label': './drive/MyDrive/Datasets/Cityscapes/labels', 'name': 'zurich/zurich_000116_000019_leftImg8bit.png'}, {'image': './drive/MyDrive/Datasets/Cityscapes/images', 'label': './drive/MyDrive/Datasets/Cityscapes/labels', 'name': 'tubingen/tubingen_000050_000019_leftImg8bit.png'}, {'image': './drive/MyDrive/Datasets/Cityscapes/images', 'label': './drive/MyDrive/Datasets/Cityscapes/labels', 'name': 'aachen/aachen_000121_000019_leftImg8bit.png'}, {'image': './drive/MyDrive/Datasets/Cityscapes/images', 'label': './drive/MyDrive/Datasets/Cityscapes/labels', 'name': 'darmstadt/darmstadt_000060_000019_leftImg8bit.png'}, {'image': './drive/MyDrive/Datasets/Cityscapes/images', 'label': './drive/MyDrive/Datasets/Cityscapes/labels', 'name': 'strasbourg/strasbourg_000001_062362_leftImg8bit.png'}, {'image': './drive/MyDrive/Datasets/Cityscapes/images', 'label': './drive/MyDrive/Datasets/Cityscapes/labels', 'name': 'strasbourg/strasbourg_000001_052297_leftImg8bit.png'}, {'image': './drive/MyDrive/Datasets/Cityscapes/images', 'label': './drive/MyDrive/Datasets/Cityscapes/labels', 'name': 'aachen/aachen_000038_000019_leftImg8bit.png'}, {'image': './drive/MyDrive/Datasets/Cityscapes/images', 'label': './drive/MyDrive/Datasets/Cityscapes/labels', 'name': 'strasbourg/strasbourg_000000_029179_leftImg8bit.png'}, {'image': './drive/MyDrive/Datasets/Cityscapes/images', 'label': './drive/MyDrive/Datasets/Cityscapes/labels', 'name': 'bochum/bochum_000000_016758_leftImg8bit.png'}, {'image': './drive/MyDrive/Datasets/Cityscapes/images', 'label': './drive/MyDrive/Datasets/Cityscapes/labels', 'name': 'hamburg/hamburg_000000_070334_leftImg8bit.png'}, {'image': './drive/MyDrive/Datasets/Cityscapes/images', 'label': './drive/MyDrive/Datasets/Cityscapes/labels', 'name': 'bochum/bochum_000000_011711_leftImg8bit.png'}, {'image': './drive/MyDrive/Datasets/Cityscapes/images', 'label': './drive/MyDrive/Datasets/Cityscapes/labels', 'name': 'hanover/hanover_000000_035606_leftImg8bit.png'}, {'image': './drive/MyDrive/Datasets/Cityscapes/images', 'label': './drive/MyDrive/Datasets/Cityscapes/labels', 'name': 'tubingen/tubingen_000143_000019_leftImg8bit.png'}, {'image': './drive/MyDrive/Datasets/Cityscapes/images', 'label': './drive/MyDrive/Datasets/Cityscapes/labels', 'name': 'strasbourg/strasbourg_000001_035562_leftImg8bit.png'}, {'image': './drive/MyDrive/Datasets/Cityscapes/images', 'label': './drive/MyDrive/Datasets/Cityscapes/labels', 'name': 'strasbourg/strasbourg_000001_031683_leftImg8bit.png'}, {'image': './drive/MyDrive/Datasets/Cityscapes/images', 'label': './drive/MyDrive/Datasets/Cityscapes/labels', 'name': 'hamburg/hamburg_000000_046078_leftImg8bit.png'}, {'image': './drive/MyDrive/Datasets/Cityscapes/images', 'label': './drive/MyDrive/Datasets/Cityscapes/labels', 'name': 'cologne/cologne_000082_000019_leftImg8bit.png'}, {'image': './drive/MyDrive/Datasets/Cityscapes/images', 'label': './drive/MyDrive/Datasets/Cityscapes/labels', 'name': 'darmstadt/darmstadt_000018_000019_leftImg8bit.png'}, {'image': './drive/MyDrive/Datasets/Cityscapes/images', 'label': './drive/MyDrive/Datasets/Cityscapes/labels', 'name': 'zurich/zurich_000081_000019_leftImg8bit.png'}, {'image': './drive/MyDrive/Datasets/Cityscapes/images', 'label': './drive/MyDrive/Datasets/Cityscapes/labels', 'name': 'strasbourg/strasbourg_000001_018872_leftImg8bit.png'}, {'image': './drive/MyDrive/Datasets/Cityscapes/images', 'label': './drive/MyDrive/Datasets/Cityscapes/labels', 'name': 'stuttgart/stuttgart_000073_000019_leftImg8bit.png'}, {'image': './drive/MyDrive/Datasets/Cityscapes/images', 'label': './drive/MyDrive/Datasets/Cityscapes/labels', 'name': 'zurich/zurich_000041_000019_leftImg8bit.png'}, {'image': './drive/MyDrive/Datasets/Cityscapes/images', 'label': './drive/MyDrive/Datasets/Cityscapes/labels', 'name': 'jena/jena_000069_000019_leftImg8bit.png'}, {'image': './drive/MyDrive/Datasets/Cityscapes/images', 'label': './drive/MyDrive/Datasets/Cityscapes/labels', 'name': 'weimar/weimar_000121_000019_leftImg8bit.png'}, {'image': './drive/MyDrive/Datasets/Cityscapes/images', 'label': './drive/MyDrive/Datasets/Cityscapes/labels', 'name': 'hanover/hanover_000000_044344_leftImg8bit.png'}, {'image': './drive/MyDrive/Datasets/Cityscapes/images', 'label': './drive/MyDrive/Datasets/Cityscapes/labels', 'name': 'dusseldorf/dusseldorf_000175_000019_leftImg8bit.png'}, {'image': './drive/MyDrive/Datasets/Cityscapes/images', 'label': './drive/MyDrive/Datasets/Cityscapes/labels', 'name': 'weimar/weimar_000013_000019_leftImg8bit.png'}, {'image': './drive/MyDrive/Datasets/Cityscapes/images', 'label': './drive/MyDrive/Datasets/Cityscapes/labels', 'name': 'bremen/bremen_000089_000019_leftImg8bit.png'}, {'image': './drive/MyDrive/Datasets/Cityscapes/images', 'label': './drive/MyDrive/Datasets/Cityscapes/labels', 'name': 'hamburg/hamburg_000000_020211_leftImg8bit.png'}, {'image': './drive/MyDrive/Datasets/Cityscapes/images', 'label': './drive/MyDrive/Datasets/Cityscapes/labels', 'name': 'erfurt/erfurt_000094_000019_leftImg8bit.png'}, {'image': './drive/MyDrive/Datasets/Cityscapes/images', 'label': './drive/MyDrive/Datasets/Cityscapes/labels', 'name': 'tubingen/tubingen_000103_000019_leftImg8bit.png'}, {'image': './drive/MyDrive/Datasets/Cityscapes/images', 'label': './drive/MyDrive/Datasets/Cityscapes/labels', 'name': 'hamburg/hamburg_000000_006192_leftImg8bit.png'}, {'image': './drive/MyDrive/Datasets/Cityscapes/images', 'label': './drive/MyDrive/Datasets/Cityscapes/labels', 'name': 'bremen/bremen_000184_000019_leftImg8bit.png'}, {'image': './drive/MyDrive/Datasets/Cityscapes/images', 'label': './drive/MyDrive/Datasets/Cityscapes/labels', 'name': 'hamburg/hamburg_000000_082301_leftImg8bit.png'}, {'image': './drive/MyDrive/Datasets/Cityscapes/images', 'label': './drive/MyDrive/Datasets/Cityscapes/labels', 'name': 'krefeld/krefeld_000000_034156_leftImg8bit.png'}, {'image': './drive/MyDrive/Datasets/Cityscapes/images', 'label': './drive/MyDrive/Datasets/Cityscapes/labels', 'name': 'dusseldorf/dusseldorf_000115_000019_leftImg8bit.png'}, {'image': './drive/MyDrive/Datasets/Cityscapes/images', 'label': './drive/MyDrive/Datasets/Cityscapes/labels', 'name': 'dusseldorf/dusseldorf_000065_000019_leftImg8bit.png'}, {'image': './drive/MyDrive/Datasets/Cityscapes/images', 'label': './drive/MyDrive/Datasets/Cityscapes/labels', 'name': 'hanover/hanover_000000_003411_leftImg8bit.png'}, {'image': './drive/MyDrive/Datasets/Cityscapes/images', 'label': './drive/MyDrive/Datasets/Cityscapes/labels', 'name': 'hanover/hanover_000000_040793_leftImg8bit.png'}, {'image': './drive/MyDrive/Datasets/Cityscapes/images', 'label': './drive/MyDrive/Datasets/Cityscapes/labels', 'name': 'weimar/weimar_000049_000019_leftImg8bit.png'}, {'image': './drive/MyDrive/Datasets/Cityscapes/images', 'label': './drive/MyDrive/Datasets/Cityscapes/labels', 'name': 'hamburg/hamburg_000000_033506_leftImg8bit.png'}, {'image': './drive/MyDrive/Datasets/Cityscapes/images', 'label': './drive/MyDrive/Datasets/Cityscapes/labels', 'name': 'strasbourg/strasbourg_000000_026575_leftImg8bit.png'}, {'image': './drive/MyDrive/Datasets/Cityscapes/images', 'label': './drive/MyDrive/Datasets/Cityscapes/labels', 'name': 'bremen/bremen_000112_000019_leftImg8bit.png'}, {'image': './drive/MyDrive/Datasets/Cityscapes/images', 'label': './drive/MyDrive/Datasets/Cityscapes/labels', 'name': 'cologne/cologne_000112_000019_leftImg8bit.png'}, {'image': './drive/MyDrive/Datasets/Cityscapes/images', 'label': './drive/MyDrive/Datasets/Cityscapes/labels', 'name': 'zurich/zurich_000109_000019_leftImg8bit.png'}, {'image': './drive/MyDrive/Datasets/Cityscapes/images', 'label': './drive/MyDrive/Datasets/Cityscapes/labels', 'name': 'strasbourg/strasbourg_000001_060061_leftImg8bit.png'}, {'image': './drive/MyDrive/Datasets/Cityscapes/images', 'label': './drive/MyDrive/Datasets/Cityscapes/labels', 'name': 'hanover/hanover_000000_021337_leftImg8bit.png'}, {'image': './drive/MyDrive/Datasets/Cityscapes/images', 'label': './drive/MyDrive/Datasets/Cityscapes/labels', 'name': 'strasbourg/strasbourg_000000_034040_leftImg8bit.png'}, {'image': './drive/MyDrive/Datasets/Cityscapes/images', 'label': './drive/MyDrive/Datasets/Cityscapes/labels', 'name': 'cologne/cologne_000017_000019_leftImg8bit.png'}, {'image': './drive/MyDrive/Datasets/Cityscapes/images', 'label': './drive/MyDrive/Datasets/Cityscapes/labels', 'name': 'dusseldorf/dusseldorf_000088_000019_leftImg8bit.png'}, {'image': './drive/MyDrive/Datasets/Cityscapes/images', 'label': './drive/MyDrive/Datasets/Cityscapes/labels', 'name': 'hamburg/hamburg_000000_088197_leftImg8bit.png'}, {'image': './drive/MyDrive/Datasets/Cityscapes/images', 'label': './drive/MyDrive/Datasets/Cityscapes/labels', 'name': 'darmstadt/darmstadt_000035_000019_leftImg8bit.png'}, {'image': './drive/MyDrive/Datasets/Cityscapes/images', 'label': './drive/MyDrive/Datasets/Cityscapes/labels', 'name': 'zurich/zurich_000080_000019_leftImg8bit.png'}, {'image': './drive/MyDrive/Datasets/Cityscapes/images', 'label': './drive/MyDrive/Datasets/Cityscapes/labels', 'name': 'dusseldorf/dusseldorf_000060_000019_leftImg8bit.png'}, {'image': './drive/MyDrive/Datasets/Cityscapes/images', 'label': './drive/MyDrive/Datasets/Cityscapes/labels', 'name': 'dusseldorf/dusseldorf_000141_000019_leftImg8bit.png'}, {'image': './drive/MyDrive/Datasets/Cityscapes/images', 'label': './drive/MyDrive/Datasets/Cityscapes/labels', 'name': 'dusseldorf/dusseldorf_000211_000019_leftImg8bit.png'}, {'image': './drive/MyDrive/Datasets/Cityscapes/images', 'label': './drive/MyDrive/Datasets/Cityscapes/labels', 'name': 'stuttgart/stuttgart_000084_000019_leftImg8bit.png'}, {'image': './drive/MyDrive/Datasets/Cityscapes/images', 'label': './drive/MyDrive/Datasets/Cityscapes/labels', 'name': 'ulm/ulm_000086_000019_leftImg8bit.png'}, {'image': './drive/MyDrive/Datasets/Cityscapes/images', 'label': './drive/MyDrive/Datasets/Cityscapes/labels', 'name': 'cologne/cologne_000046_000019_leftImg8bit.png'}, {'image': './drive/MyDrive/Datasets/Cityscapes/images', 'label': './drive/MyDrive/Datasets/Cityscapes/labels', 'name': 'bremen/bremen_000068_000019_leftImg8bit.png'}, {'image': './drive/MyDrive/Datasets/Cityscapes/images', 'label': './drive/MyDrive/Datasets/Cityscapes/labels', 'name': 'weimar/weimar_000035_000019_leftImg8bit.png'}, {'image': './drive/MyDrive/Datasets/Cityscapes/images', 'label': './drive/MyDrive/Datasets/Cityscapes/labels', 'name': 'krefeld/krefeld_000000_010329_leftImg8bit.png'}, {'image': './drive/MyDrive/Datasets/Cityscapes/images', 'label': './drive/MyDrive/Datasets/Cityscapes/labels', 'name': 'strasbourg/strasbourg_000001_013266_leftImg8bit.png'}, {'image': './drive/MyDrive/Datasets/Cityscapes/images', 'label': './drive/MyDrive/Datasets/Cityscapes/labels', 'name': 'hamburg/hamburg_000000_073999_leftImg8bit.png'}, {'image': './drive/MyDrive/Datasets/Cityscapes/images', 'label': './drive/MyDrive/Datasets/Cityscapes/labels', 'name': 'aachen/aachen_000019_000019_leftImg8bit.png'}, {'image': './drive/MyDrive/Datasets/Cityscapes/images', 'label': './drive/MyDrive/Datasets/Cityscapes/labels', 'name': 'tubingen/tubingen_000069_000019_leftImg8bit.png'}, {'image': './drive/MyDrive/Datasets/Cityscapes/images', 'label': './drive/MyDrive/Datasets/Cityscapes/labels', 'name': 'hamburg/hamburg_000000_061790_leftImg8bit.png'}, {'image': './drive/MyDrive/Datasets/Cityscapes/images', 'label': './drive/MyDrive/Datasets/Cityscapes/labels', 'name': 'strasbourg/strasbourg_000001_012956_leftImg8bit.png'}, {'image': './drive/MyDrive/Datasets/Cityscapes/images', 'label': './drive/MyDrive/Datasets/Cityscapes/labels', 'name': 'weimar/weimar_000092_000019_leftImg8bit.png'}, {'image': './drive/MyDrive/Datasets/Cityscapes/images', 'label': './drive/MyDrive/Datasets/Cityscapes/labels', 'name': 'ulm/ulm_000034_000019_leftImg8bit.png'}, {'image': './drive/MyDrive/Datasets/Cityscapes/images', 'label': './drive/MyDrive/Datasets/Cityscapes/labels', 'name': 'hamburg/hamburg_000000_039420_leftImg8bit.png'}, {'image': './drive/MyDrive/Datasets/Cityscapes/images', 'label': './drive/MyDrive/Datasets/Cityscapes/labels', 'name': 'jena/jena_000116_000019_leftImg8bit.png'}, {'image': './drive/MyDrive/Datasets/Cityscapes/images', 'label': './drive/MyDrive/Datasets/Cityscapes/labels', 'name': 'hamburg/hamburg_000000_102379_leftImg8bit.png'}, {'image': './drive/MyDrive/Datasets/Cityscapes/images', 'label': './drive/MyDrive/Datasets/Cityscapes/labels', 'name': 'dusseldorf/dusseldorf_000101_000019_leftImg8bit.png'}, {'image': './drive/MyDrive/Datasets/Cityscapes/images', 'label': './drive/MyDrive/Datasets/Cityscapes/labels', 'name': 'strasbourg/strasbourg_000000_006106_leftImg8bit.png'}, {'image': './drive/MyDrive/Datasets/Cityscapes/images', 'label': './drive/MyDrive/Datasets/Cityscapes/labels', 'name': 'cologne/cologne_000080_000019_leftImg8bit.png'}, {'image': './drive/MyDrive/Datasets/Cityscapes/images', 'label': './drive/MyDrive/Datasets/Cityscapes/labels', 'name': 'zurich/zurich_000028_000019_leftImg8bit.png'}, {'image': './drive/MyDrive/Datasets/Cityscapes/images', 'label': './drive/MyDrive/Datasets/Cityscapes/labels', 'name': 'bochum/bochum_000000_024196_leftImg8bit.png'}, {'image': './drive/MyDrive/Datasets/Cityscapes/images', 'label': './drive/MyDrive/Datasets/Cityscapes/labels', 'name': 'aachen/aachen_000130_000019_leftImg8bit.png'}, {'image': './drive/MyDrive/Datasets/Cityscapes/images', 'label': './drive/MyDrive/Datasets/Cityscapes/labels', 'name': 'stuttgart/stuttgart_000092_000019_leftImg8bit.png'}, {'image': './drive/MyDrive/Datasets/Cityscapes/images', 'label': './drive/MyDrive/Datasets/Cityscapes/labels', 'name': 'tubingen/tubingen_000117_000019_leftImg8bit.png'}, {'image': './drive/MyDrive/Datasets/Cityscapes/images', 'label': './drive/MyDrive/Datasets/Cityscapes/labels', 'name': 'bremen/bremen_000215_000019_leftImg8bit.png'}, {'image': './drive/MyDrive/Datasets/Cityscapes/images', 'label': './drive/MyDrive/Datasets/Cityscapes/labels', 'name': 'aachen/aachen_000067_000019_leftImg8bit.png'}, {'image': './drive/MyDrive/Datasets/Cityscapes/images', 'label': './drive/MyDrive/Datasets/Cityscapes/labels', 'name': 'dusseldorf/dusseldorf_000091_000019_leftImg8bit.png'}, {'image': './drive/MyDrive/Datasets/Cityscapes/images', 'label': './drive/MyDrive/Datasets/Cityscapes/labels', 'name': 'bremen/bremen_000272_000019_leftImg8bit.png'}, {'image': './drive/MyDrive/Datasets/Cityscapes/images', 'label': './drive/MyDrive/Datasets/Cityscapes/labels', 'name': 'hamburg/hamburg_000000_045437_leftImg8bit.png'}, {'image': './drive/MyDrive/Datasets/Cityscapes/images', 'label': './drive/MyDrive/Datasets/Cityscapes/labels', 'name': 'strasbourg/strasbourg_000001_018432_leftImg8bit.png'}, {'image': './drive/MyDrive/Datasets/Cityscapes/images', 'label': './drive/MyDrive/Datasets/Cityscapes/labels', 'name': 'ulm/ulm_000044_000019_leftImg8bit.png'}, {'image': './drive/MyDrive/Datasets/Cityscapes/images', 'label': './drive/MyDrive/Datasets/Cityscapes/labels', 'name': 'hamburg/hamburg_000000_042505_leftImg8bit.png'}, {'image': './drive/MyDrive/Datasets/Cityscapes/images', 'label': './drive/MyDrive/Datasets/Cityscapes/labels', 'name': 'monchengladbach/monchengladbach_000000_026006_leftImg8bit.png'}, {'image': './drive/MyDrive/Datasets/Cityscapes/images', 'label': './drive/MyDrive/Datasets/Cityscapes/labels', 'name': 'aachen/aachen_000115_000019_leftImg8bit.png'}, {'image': './drive/MyDrive/Datasets/Cityscapes/images', 'label': './drive/MyDrive/Datasets/Cityscapes/labels', 'name': 'ulm/ulm_000090_000019_leftImg8bit.png'}, {'image': './drive/MyDrive/Datasets/Cityscapes/images', 'label': './drive/MyDrive/Datasets/Cityscapes/labels', 'name': 'hamburg/hamburg_000000_054555_leftImg8bit.png'}, {'image': './drive/MyDrive/Datasets/Cityscapes/images', 'label': './drive/MyDrive/Datasets/Cityscapes/labels', 'name': 'darmstadt/darmstadt_000084_000019_leftImg8bit.png'}, {'image': './drive/MyDrive/Datasets/Cityscapes/images', 'label': './drive/MyDrive/Datasets/Cityscapes/labels', 'name': 'ulm/ulm_000040_000019_leftImg8bit.png'}, {'image': './drive/MyDrive/Datasets/Cityscapes/images', 'label': './drive/MyDrive/Datasets/Cityscapes/labels', 'name': 'aachen/aachen_000167_000019_leftImg8bit.png'}, {'image': './drive/MyDrive/Datasets/Cityscapes/images', 'label': './drive/MyDrive/Datasets/Cityscapes/labels', 'name': 'bremen/bremen_000292_000019_leftImg8bit.png'}, {'image': './drive/MyDrive/Datasets/Cityscapes/images', 'label': './drive/MyDrive/Datasets/Cityscapes/labels', 'name': 'hamburg/hamburg_000000_044400_leftImg8bit.png'}, {'image': './drive/MyDrive/Datasets/Cityscapes/images', 'label': './drive/MyDrive/Datasets/Cityscapes/labels', 'name': 'hamburg/hamburg_000000_057487_leftImg8bit.png'}, {'image': './drive/MyDrive/Datasets/Cityscapes/images', 'label': './drive/MyDrive/Datasets/Cityscapes/labels', 'name': 'weimar/weimar_000113_000019_leftImg8bit.png'}, {'image': './drive/MyDrive/Datasets/Cityscapes/images', 'label': './drive/MyDrive/Datasets/Cityscapes/labels', 'name': 'hamburg/hamburg_000000_063403_leftImg8bit.png'}, {'image': './drive/MyDrive/Datasets/Cityscapes/images', 'label': './drive/MyDrive/Datasets/Cityscapes/labels', 'name': 'jena/jena_000044_000019_leftImg8bit.png'}, {'image': './drive/MyDrive/Datasets/Cityscapes/images', 'label': './drive/MyDrive/Datasets/Cityscapes/labels', 'name': 'strasbourg/strasbourg_000001_037645_leftImg8bit.png'}, {'image': './drive/MyDrive/Datasets/Cityscapes/images', 'label': './drive/MyDrive/Datasets/Cityscapes/labels', 'name': 'hamburg/hamburg_000000_085982_leftImg8bit.png'}, {'image': './drive/MyDrive/Datasets/Cityscapes/images', 'label': './drive/MyDrive/Datasets/Cityscapes/labels', 'name': 'bremen/bremen_000022_000019_leftImg8bit.png'}, {'image': './drive/MyDrive/Datasets/Cityscapes/images', 'label': './drive/MyDrive/Datasets/Cityscapes/labels', 'name': 'strasbourg/strasbourg_000000_031223_leftImg8bit.png'}, {'image': './drive/MyDrive/Datasets/Cityscapes/images', 'label': './drive/MyDrive/Datasets/Cityscapes/labels', 'name': 'cologne/cologne_000115_000019_leftImg8bit.png'}, {'image': './drive/MyDrive/Datasets/Cityscapes/images', 'label': './drive/MyDrive/Datasets/Cityscapes/labels', 'name': 'bremen/bremen_000253_000019_leftImg8bit.png'}, {'image': './drive/MyDrive/Datasets/Cityscapes/images', 'label': './drive/MyDrive/Datasets/Cityscapes/labels', 'name': 'stuttgart/stuttgart_000011_000019_leftImg8bit.png'}, {'image': './drive/MyDrive/Datasets/Cityscapes/images', 'label': './drive/MyDrive/Datasets/Cityscapes/labels', 'name': 'aachen/aachen_000063_000019_leftImg8bit.png'}, {'image': './drive/MyDrive/Datasets/Cityscapes/images', 'label': './drive/MyDrive/Datasets/Cityscapes/labels', 'name': 'strasbourg/strasbourg_000000_031602_leftImg8bit.png'}, {'image': './drive/MyDrive/Datasets/Cityscapes/images', 'label': './drive/MyDrive/Datasets/Cityscapes/labels', 'name': 'erfurt/erfurt_000011_000019_leftImg8bit.png'}, {'image': './drive/MyDrive/Datasets/Cityscapes/images', 'label': './drive/MyDrive/Datasets/Cityscapes/labels', 'name': 'bochum/bochum_000000_033056_leftImg8bit.png'}, {'image': './drive/MyDrive/Datasets/Cityscapes/images', 'label': './drive/MyDrive/Datasets/Cityscapes/labels', 'name': 'bremen/bremen_000122_000019_leftImg8bit.png'}, {'image': './drive/MyDrive/Datasets/Cityscapes/images', 'label': './drive/MyDrive/Datasets/Cityscapes/labels', 'name': 'jena/jena_000091_000019_leftImg8bit.png'}, {'image': './drive/MyDrive/Datasets/Cityscapes/images', 'label': './drive/MyDrive/Datasets/Cityscapes/labels', 'name': 'erfurt/erfurt_000081_000019_leftImg8bit.png'}, {'image': './drive/MyDrive/Datasets/Cityscapes/images', 'label': './drive/MyDrive/Datasets/Cityscapes/labels', 'name': 'hamburg/hamburg_000000_014940_leftImg8bit.png'}, {'image': './drive/MyDrive/Datasets/Cityscapes/images', 'label': './drive/MyDrive/Datasets/Cityscapes/labels', 'name': 'bochum/bochum_000000_027057_leftImg8bit.png'}, {'image': './drive/MyDrive/Datasets/Cityscapes/images', 'label': './drive/MyDrive/Datasets/Cityscapes/labels', 'name': 'hanover/hanover_000000_000381_leftImg8bit.png'}, {'image': './drive/MyDrive/Datasets/Cityscapes/images', 'label': './drive/MyDrive/Datasets/Cityscapes/labels', 'name': 'hanover/hanover_000000_052013_leftImg8bit.png'}, {'image': './drive/MyDrive/Datasets/Cityscapes/images', 'label': './drive/MyDrive/Datasets/Cityscapes/labels', 'name': 'erfurt/erfurt_000000_000019_leftImg8bit.png'}, {'image': './drive/MyDrive/Datasets/Cityscapes/images', 'label': './drive/MyDrive/Datasets/Cityscapes/labels', 'name': 'bochum/bochum_000000_021479_leftImg8bit.png'}, {'image': './drive/MyDrive/Datasets/Cityscapes/images', 'label': './drive/MyDrive/Datasets/Cityscapes/labels', 'name': 'hamburg/hamburg_000000_093325_leftImg8bit.png'}, {'image': './drive/MyDrive/Datasets/Cityscapes/images', 'label': './drive/MyDrive/Datasets/Cityscapes/labels', 'name': 'krefeld/krefeld_000000_009926_leftImg8bit.png'}, {'image': './drive/MyDrive/Datasets/Cityscapes/images', 'label': './drive/MyDrive/Datasets/Cityscapes/labels', 'name': 'stuttgart/stuttgart_000186_000019_leftImg8bit.png'}, {'image': './drive/MyDrive/Datasets/Cityscapes/images', 'label': './drive/MyDrive/Datasets/Cityscapes/labels', 'name': 'krefeld/krefeld_000000_011483_leftImg8bit.png'}, {'image': './drive/MyDrive/Datasets/Cityscapes/images', 'label': './drive/MyDrive/Datasets/Cityscapes/labels', 'name': 'stuttgart/stuttgart_000075_000019_leftImg8bit.png'}, {'image': './drive/MyDrive/Datasets/Cityscapes/images', 'label': './drive/MyDrive/Datasets/Cityscapes/labels', 'name': 'hamburg/hamburg_000000_014030_leftImg8bit.png'}, {'image': './drive/MyDrive/Datasets/Cityscapes/images', 'label': './drive/MyDrive/Datasets/Cityscapes/labels', 'name': 'hanover/hanover_000000_052887_leftImg8bit.png'}, {'image': './drive/MyDrive/Datasets/Cityscapes/images', 'label': './drive/MyDrive/Datasets/Cityscapes/labels', 'name': 'dusseldorf/dusseldorf_000124_000019_leftImg8bit.png'}, {'image': './drive/MyDrive/Datasets/Cityscapes/images', 'label': './drive/MyDrive/Datasets/Cityscapes/labels', 'name': 'strasbourg/strasbourg_000001_020904_leftImg8bit.png'}, {'image': './drive/MyDrive/Datasets/Cityscapes/images', 'label': './drive/MyDrive/Datasets/Cityscapes/labels', 'name': 'hanover/hanover_000000_042992_leftImg8bit.png'}, {'image': './drive/MyDrive/Datasets/Cityscapes/images', 'label': './drive/MyDrive/Datasets/Cityscapes/labels', 'name': 'weimar/weimar_000059_000019_leftImg8bit.png'}, {'image': './drive/MyDrive/Datasets/Cityscapes/images', 'label': './drive/MyDrive/Datasets/Cityscapes/labels', 'name': 'weimar/weimar_000096_000019_leftImg8bit.png'}, {'image': './drive/MyDrive/Datasets/Cityscapes/images', 'label': './drive/MyDrive/Datasets/Cityscapes/labels', 'name': 'dusseldorf/dusseldorf_000155_000019_leftImg8bit.png'}, {'image': './drive/MyDrive/Datasets/Cityscapes/images', 'label': './drive/MyDrive/Datasets/Cityscapes/labels', 'name': 'hamburg/hamburg_000000_088627_leftImg8bit.png'}, {'image': './drive/MyDrive/Datasets/Cityscapes/images', 'label': './drive/MyDrive/Datasets/Cityscapes/labels', 'name': 'stuttgart/stuttgart_000125_000019_leftImg8bit.png'}, {'image': './drive/MyDrive/Datasets/Cityscapes/images', 'label': './drive/MyDrive/Datasets/Cityscapes/labels', 'name': 'hanover/hanover_000000_010553_leftImg8bit.png'}, {'image': './drive/MyDrive/Datasets/Cityscapes/images', 'label': './drive/MyDrive/Datasets/Cityscapes/labels', 'name': 'krefeld/krefeld_000000_000108_leftImg8bit.png'}, {'image': './drive/MyDrive/Datasets/Cityscapes/images', 'label': './drive/MyDrive/Datasets/Cityscapes/labels', 'name': 'ulm/ulm_000003_000019_leftImg8bit.png'}, {'image': './drive/MyDrive/Datasets/Cityscapes/images', 'label': './drive/MyDrive/Datasets/Cityscapes/labels', 'name': 'stuttgart/stuttgart_000164_000019_leftImg8bit.png'}, {'image': './drive/MyDrive/Datasets/Cityscapes/images', 'label': './drive/MyDrive/Datasets/Cityscapes/labels', 'name': 'bremen/bremen_000027_000019_leftImg8bit.png'}, {'image': './drive/MyDrive/Datasets/Cityscapes/images', 'label': './drive/MyDrive/Datasets/Cityscapes/labels', 'name': 'jena/jena_000074_000019_leftImg8bit.png'}, {'image': './drive/MyDrive/Datasets/Cityscapes/images', 'label': './drive/MyDrive/Datasets/Cityscapes/labels', 'name': 'strasbourg/strasbourg_000001_000113_leftImg8bit.png'}, {'image': './drive/MyDrive/Datasets/Cityscapes/images', 'label': './drive/MyDrive/Datasets/Cityscapes/labels', 'name': 'hamburg/hamburg_000000_053563_leftImg8bit.png'}, {'image': './drive/MyDrive/Datasets/Cityscapes/images', 'label': './drive/MyDrive/Datasets/Cityscapes/labels', 'name': 'cologne/cologne_000089_000019_leftImg8bit.png'}, {'image': './drive/MyDrive/Datasets/Cityscapes/images', 'label': './drive/MyDrive/Datasets/Cityscapes/labels', 'name': 'tubingen/tubingen_000025_000019_leftImg8bit.png'}, {'image': './drive/MyDrive/Datasets/Cityscapes/images', 'label': './drive/MyDrive/Datasets/Cityscapes/labels', 'name': 'monchengladbach/monchengladbach_000000_002478_leftImg8bit.png'}, {'image': './drive/MyDrive/Datasets/Cityscapes/images', 'label': './drive/MyDrive/Datasets/Cityscapes/labels', 'name': 'cologne/cologne_000106_000019_leftImg8bit.png'}, {'image': './drive/MyDrive/Datasets/Cityscapes/images', 'label': './drive/MyDrive/Datasets/Cityscapes/labels', 'name': 'zurich/zurich_000088_000019_leftImg8bit.png'}, {'image': './drive/MyDrive/Datasets/Cityscapes/images', 'label': './drive/MyDrive/Datasets/Cityscapes/labels', 'name': 'zurich/zurich_000003_000019_leftImg8bit.png'}, {'image': './drive/MyDrive/Datasets/Cityscapes/images', 'label': './drive/MyDrive/Datasets/Cityscapes/labels', 'name': 'cologne/cologne_000023_000019_leftImg8bit.png'}, {'image': './drive/MyDrive/Datasets/Cityscapes/images', 'label': './drive/MyDrive/Datasets/Cityscapes/labels', 'name': 'stuttgart/stuttgart_000019_000019_leftImg8bit.png'}, {'image': './drive/MyDrive/Datasets/Cityscapes/images', 'label': './drive/MyDrive/Datasets/Cityscapes/labels', 'name': 'cologne/cologne_000145_000019_leftImg8bit.png'}, {'image': './drive/MyDrive/Datasets/Cityscapes/images', 'label': './drive/MyDrive/Datasets/Cityscapes/labels', 'name': 'tubingen/tubingen_000138_000019_leftImg8bit.png'}, {'image': './drive/MyDrive/Datasets/Cityscapes/images', 'label': './drive/MyDrive/Datasets/Cityscapes/labels', 'name': 'stuttgart/stuttgart_000110_000019_leftImg8bit.png'}, {'image': './drive/MyDrive/Datasets/Cityscapes/images', 'label': './drive/MyDrive/Datasets/Cityscapes/labels', 'name': 'bremen/bremen_000221_000019_leftImg8bit.png'}, {'image': './drive/MyDrive/Datasets/Cityscapes/images', 'label': './drive/MyDrive/Datasets/Cityscapes/labels', 'name': 'hamburg/hamburg_000000_064269_leftImg8bit.png'}, {'image': './drive/MyDrive/Datasets/Cityscapes/images', 'label': './drive/MyDrive/Datasets/Cityscapes/labels', 'name': 'hamburg/hamburg_000000_047108_leftImg8bit.png'}, {'image': './drive/MyDrive/Datasets/Cityscapes/images', 'label': './drive/MyDrive/Datasets/Cityscapes/labels', 'name': 'hanover/hanover_000000_014319_leftImg8bit.png'}, {'image': './drive/MyDrive/Datasets/Cityscapes/images', 'label': './drive/MyDrive/Datasets/Cityscapes/labels', 'name': 'hanover/hanover_000000_028460_leftImg8bit.png'}, {'image': './drive/MyDrive/Datasets/Cityscapes/images', 'label': './drive/MyDrive/Datasets/Cityscapes/labels', 'name': 'bremen/bremen_000093_000019_leftImg8bit.png'}, {'image': './drive/MyDrive/Datasets/Cityscapes/images', 'label': './drive/MyDrive/Datasets/Cityscapes/labels', 'name': 'hanover/hanover_000000_004646_leftImg8bit.png'}, {'image': './drive/MyDrive/Datasets/Cityscapes/images', 'label': './drive/MyDrive/Datasets/Cityscapes/labels', 'name': 'aachen/aachen_000062_000019_leftImg8bit.png'}, {'image': './drive/MyDrive/Datasets/Cityscapes/images', 'label': './drive/MyDrive/Datasets/Cityscapes/labels', 'name': 'erfurt/erfurt_000034_000019_leftImg8bit.png'}, {'image': './drive/MyDrive/Datasets/Cityscapes/images', 'label': './drive/MyDrive/Datasets/Cityscapes/labels', 'name': 'cologne/cologne_000108_000019_leftImg8bit.png'}, {'image': './drive/MyDrive/Datasets/Cityscapes/images', 'label': './drive/MyDrive/Datasets/Cityscapes/labels', 'name': 'aachen/aachen_000088_000019_leftImg8bit.png'}, {'image': './drive/MyDrive/Datasets/Cityscapes/images', 'label': './drive/MyDrive/Datasets/Cityscapes/labels', 'name': 'tubingen/tubingen_000140_000019_leftImg8bit.png'}, {'image': './drive/MyDrive/Datasets/Cityscapes/images', 'label': './drive/MyDrive/Datasets/Cityscapes/labels', 'name': 'bremen/bremen_000274_000019_leftImg8bit.png'}, {'image': './drive/MyDrive/Datasets/Cityscapes/images', 'label': './drive/MyDrive/Datasets/Cityscapes/labels', 'name': 'stuttgart/stuttgart_000093_000019_leftImg8bit.png'}, {'image': './drive/MyDrive/Datasets/Cityscapes/images', 'label': './drive/MyDrive/Datasets/Cityscapes/labels', 'name': 'bremen/bremen_000257_000019_leftImg8bit.png'}, {'image': './drive/MyDrive/Datasets/Cityscapes/images', 'label': './drive/MyDrive/Datasets/Cityscapes/labels', 'name': 'zurich/zurich_000046_000019_leftImg8bit.png'}, {'image': './drive/MyDrive/Datasets/Cityscapes/images', 'label': './drive/MyDrive/Datasets/Cityscapes/labels', 'name': 'ulm/ulm_000024_000019_leftImg8bit.png'}, {'image': './drive/MyDrive/Datasets/Cityscapes/images', 'label': './drive/MyDrive/Datasets/Cityscapes/labels', 'name': 'jena/jena_000046_000019_leftImg8bit.png'}, {'image': './drive/MyDrive/Datasets/Cityscapes/images', 'label': './drive/MyDrive/Datasets/Cityscapes/labels', 'name': 'strasbourg/strasbourg_000001_030120_leftImg8bit.png'}, {'image': './drive/MyDrive/Datasets/Cityscapes/images', 'label': './drive/MyDrive/Datasets/Cityscapes/labels', 'name': 'monchengladbach/monchengladbach_000000_026908_leftImg8bit.png'}, {'image': './drive/MyDrive/Datasets/Cityscapes/images', 'label': './drive/MyDrive/Datasets/Cityscapes/labels', 'name': 'cologne/cologne_000138_000019_leftImg8bit.png'}, {'image': './drive/MyDrive/Datasets/Cityscapes/images', 'label': './drive/MyDrive/Datasets/Cityscapes/labels', 'name': 'aachen/aachen_000143_000019_leftImg8bit.png'}, {'image': './drive/MyDrive/Datasets/Cityscapes/images', 'label': './drive/MyDrive/Datasets/Cityscapes/labels', 'name': 'stuttgart/stuttgart_000132_000019_leftImg8bit.png'}, {'image': './drive/MyDrive/Datasets/Cityscapes/images', 'label': './drive/MyDrive/Datasets/Cityscapes/labels', 'name': 'monchengladbach/monchengladbach_000000_027628_leftImg8bit.png'}, {'image': './drive/MyDrive/Datasets/Cityscapes/images', 'label': './drive/MyDrive/Datasets/Cityscapes/labels', 'name': 'tubingen/tubingen_000056_000019_leftImg8bit.png'}, {'image': './drive/MyDrive/Datasets/Cityscapes/images', 'label': './drive/MyDrive/Datasets/Cityscapes/labels', 'name': 'ulm/ulm_000071_000019_leftImg8bit.png'}, {'image': './drive/MyDrive/Datasets/Cityscapes/images', 'label': './drive/MyDrive/Datasets/Cityscapes/labels', 'name': 'ulm/ulm_000033_000019_leftImg8bit.png'}, {'image': './drive/MyDrive/Datasets/Cityscapes/images', 'label': './drive/MyDrive/Datasets/Cityscapes/labels', 'name': 'bremen/bremen_000086_000019_leftImg8bit.png'}, {'image': './drive/MyDrive/Datasets/Cityscapes/images', 'label': './drive/MyDrive/Datasets/Cityscapes/labels', 'name': 'darmstadt/darmstadt_000047_000019_leftImg8bit.png'}, {'image': './drive/MyDrive/Datasets/Cityscapes/images', 'label': './drive/MyDrive/Datasets/Cityscapes/labels', 'name': 'krefeld/krefeld_000000_025812_leftImg8bit.png'}, {'image': './drive/MyDrive/Datasets/Cityscapes/images', 'label': './drive/MyDrive/Datasets/Cityscapes/labels', 'name': 'stuttgart/stuttgart_000181_000019_leftImg8bit.png'}, {'image': './drive/MyDrive/Datasets/Cityscapes/images', 'label': './drive/MyDrive/Datasets/Cityscapes/labels', 'name': 'darmstadt/darmstadt_000028_000019_leftImg8bit.png'}, {'image': './drive/MyDrive/Datasets/Cityscapes/images', 'label': './drive/MyDrive/Datasets/Cityscapes/labels', 'name': 'hanover/hanover_000000_026743_leftImg8bit.png'}, {'image': './drive/MyDrive/Datasets/Cityscapes/images', 'label': './drive/MyDrive/Datasets/Cityscapes/labels', 'name': 'weimar/weimar_000055_000019_leftImg8bit.png'}, {'image': './drive/MyDrive/Datasets/Cityscapes/images', 'label': './drive/MyDrive/Datasets/Cityscapes/labels', 'name': 'hamburg/hamburg_000000_038915_leftImg8bit.png'}, {'image': './drive/MyDrive/Datasets/Cityscapes/images', 'label': './drive/MyDrive/Datasets/Cityscapes/labels', 'name': 'dusseldorf/dusseldorf_000063_000019_leftImg8bit.png'}, {'image': './drive/MyDrive/Datasets/Cityscapes/images', 'label': './drive/MyDrive/Datasets/Cityscapes/labels', 'name': 'strasbourg/strasbourg_000001_064393_leftImg8bit.png'}, {'image': './drive/MyDrive/Datasets/Cityscapes/images', 'label': './drive/MyDrive/Datasets/Cityscapes/labels', 'name': 'hanover/hanover_000000_015849_leftImg8bit.png'}, {'image': './drive/MyDrive/Datasets/Cityscapes/images', 'label': './drive/MyDrive/Datasets/Cityscapes/labels', 'name': 'strasbourg/strasbourg_000000_015506_leftImg8bit.png'}, {'image': './drive/MyDrive/Datasets/Cityscapes/images', 'label': './drive/MyDrive/Datasets/Cityscapes/labels', 'name': 'bochum/bochum_000000_018195_leftImg8bit.png'}, {'image': './drive/MyDrive/Datasets/Cityscapes/images', 'label': './drive/MyDrive/Datasets/Cityscapes/labels', 'name': 'dusseldorf/dusseldorf_000168_000019_leftImg8bit.png'}, {'image': './drive/MyDrive/Datasets/Cityscapes/images', 'label': './drive/MyDrive/Datasets/Cityscapes/labels', 'name': 'bochum/bochum_000000_015880_leftImg8bit.png'}, {'image': './drive/MyDrive/Datasets/Cityscapes/images', 'label': './drive/MyDrive/Datasets/Cityscapes/labels', 'name': 'stuttgart/stuttgart_000169_000019_leftImg8bit.png'}, {'image': './drive/MyDrive/Datasets/Cityscapes/images', 'label': './drive/MyDrive/Datasets/Cityscapes/labels', 'name': 'aachen/aachen_000002_000019_leftImg8bit.png'}, {'image': './drive/MyDrive/Datasets/Cityscapes/images', 'label': './drive/MyDrive/Datasets/Cityscapes/labels', 'name': 'bremen/bremen_000314_000019_leftImg8bit.png'}, {'image': './drive/MyDrive/Datasets/Cityscapes/images', 'label': './drive/MyDrive/Datasets/Cityscapes/labels', 'name': 'strasbourg/strasbourg_000001_014033_leftImg8bit.png'}, {'image': './drive/MyDrive/Datasets/Cityscapes/images', 'label': './drive/MyDrive/Datasets/Cityscapes/labels', 'name': 'hanover/hanover_000000_025335_leftImg8bit.png'}, {'image': './drive/MyDrive/Datasets/Cityscapes/images', 'label': './drive/MyDrive/Datasets/Cityscapes/labels', 'name': 'tubingen/tubingen_000125_000019_leftImg8bit.png'}, {'image': './drive/MyDrive/Datasets/Cityscapes/images', 'label': './drive/MyDrive/Datasets/Cityscapes/labels', 'name': 'strasbourg/strasbourg_000001_026856_leftImg8bit.png'}, {'image': './drive/MyDrive/Datasets/Cityscapes/images', 'label': './drive/MyDrive/Datasets/Cityscapes/labels', 'name': 'strasbourg/strasbourg_000001_008310_leftImg8bit.png'}, {'image': './drive/MyDrive/Datasets/Cityscapes/images', 'label': './drive/MyDrive/Datasets/Cityscapes/labels', 'name': 'hanover/hanover_000000_048379_leftImg8bit.png'}, {'image': './drive/MyDrive/Datasets/Cityscapes/images', 'label': './drive/MyDrive/Datasets/Cityscapes/labels', 'name': 'strasbourg/strasbourg_000001_021951_leftImg8bit.png'}, {'image': './drive/MyDrive/Datasets/Cityscapes/images', 'label': './drive/MyDrive/Datasets/Cityscapes/labels', 'name': 'monchengladbach/monchengladbach_000000_020856_leftImg8bit.png'}, {'image': './drive/MyDrive/Datasets/Cityscapes/images', 'label': './drive/MyDrive/Datasets/Cityscapes/labels', 'name': 'dusseldorf/dusseldorf_000186_000019_leftImg8bit.png'}, {'image': './drive/MyDrive/Datasets/Cityscapes/images', 'label': './drive/MyDrive/Datasets/Cityscapes/labels', 'name': 'bremen/bremen_000293_000019_leftImg8bit.png'}, {'image': './drive/MyDrive/Datasets/Cityscapes/images', 'label': './drive/MyDrive/Datasets/Cityscapes/labels', 'name': 'darmstadt/darmstadt_000024_000019_leftImg8bit.png'}, {'image': './drive/MyDrive/Datasets/Cityscapes/images', 'label': './drive/MyDrive/Datasets/Cityscapes/labels', 'name': 'strasbourg/strasbourg_000001_048605_leftImg8bit.png'}, {'image': './drive/MyDrive/Datasets/Cityscapes/images', 'label': './drive/MyDrive/Datasets/Cityscapes/labels', 'name': 'bremen/bremen_000183_000019_leftImg8bit.png'}, {'image': './drive/MyDrive/Datasets/Cityscapes/images', 'label': './drive/MyDrive/Datasets/Cityscapes/labels', 'name': 'strasbourg/strasbourg_000001_026106_leftImg8bit.png'}, {'image': './drive/MyDrive/Datasets/Cityscapes/images', 'label': './drive/MyDrive/Datasets/Cityscapes/labels', 'name': 'dusseldorf/dusseldorf_000064_000019_leftImg8bit.png'}, {'image': './drive/MyDrive/Datasets/Cityscapes/images', 'label': './drive/MyDrive/Datasets/Cityscapes/labels', 'name': 'bremen/bremen_000129_000019_leftImg8bit.png'}, {'image': './drive/MyDrive/Datasets/Cityscapes/images', 'label': './drive/MyDrive/Datasets/Cityscapes/labels', 'name': 'stuttgart/stuttgart_000143_000019_leftImg8bit.png'}, {'image': './drive/MyDrive/Datasets/Cityscapes/images', 'label': './drive/MyDrive/Datasets/Cityscapes/labels', 'name': 'ulm/ulm_000026_000019_leftImg8bit.png'}, {'image': './drive/MyDrive/Datasets/Cityscapes/images', 'label': './drive/MyDrive/Datasets/Cityscapes/labels', 'name': 'hamburg/hamburg_000000_091900_leftImg8bit.png'}, {'image': './drive/MyDrive/Datasets/Cityscapes/images', 'label': './drive/MyDrive/Datasets/Cityscapes/labels', 'name': 'dusseldorf/dusseldorf_000079_000019_leftImg8bit.png'}, {'image': './drive/MyDrive/Datasets/Cityscapes/images', 'label': './drive/MyDrive/Datasets/Cityscapes/labels', 'name': 'bremen/bremen_000196_000019_leftImg8bit.png'}, {'image': './drive/MyDrive/Datasets/Cityscapes/images', 'label': './drive/MyDrive/Datasets/Cityscapes/labels', 'name': 'bremen/bremen_000059_000019_leftImg8bit.png'}, {'image': './drive/MyDrive/Datasets/Cityscapes/images', 'label': './drive/MyDrive/Datasets/Cityscapes/labels', 'name': 'hamburg/hamburg_000000_062964_leftImg8bit.png'}, {'image': './drive/MyDrive/Datasets/Cityscapes/images', 'label': './drive/MyDrive/Datasets/Cityscapes/labels', 'name': 'bremen/bremen_000227_000019_leftImg8bit.png'}, {'image': './drive/MyDrive/Datasets/Cityscapes/images', 'label': './drive/MyDrive/Datasets/Cityscapes/labels', 'name': 'zurich/zurich_000069_000019_leftImg8bit.png'}, {'image': './drive/MyDrive/Datasets/Cityscapes/images', 'label': './drive/MyDrive/Datasets/Cityscapes/labels', 'name': 'jena/jena_000080_000019_leftImg8bit.png'}, {'image': './drive/MyDrive/Datasets/Cityscapes/images', 'label': './drive/MyDrive/Datasets/Cityscapes/labels', 'name': 'aachen/aachen_000001_000019_leftImg8bit.png'}, {'image': './drive/MyDrive/Datasets/Cityscapes/images', 'label': './drive/MyDrive/Datasets/Cityscapes/labels', 'name': 'strasbourg/strasbourg_000000_017159_leftImg8bit.png'}, {'image': './drive/MyDrive/Datasets/Cityscapes/images', 'label': './drive/MyDrive/Datasets/Cityscapes/labels', 'name': 'bochum/bochum_000000_014332_leftImg8bit.png'}, {'image': './drive/MyDrive/Datasets/Cityscapes/images', 'label': './drive/MyDrive/Datasets/Cityscapes/labels', 'name': 'bochum/bochum_000000_030913_leftImg8bit.png'}, {'image': './drive/MyDrive/Datasets/Cityscapes/images', 'label': './drive/MyDrive/Datasets/Cityscapes/labels', 'name': 'jena/jena_000024_000019_leftImg8bit.png'}, {'image': './drive/MyDrive/Datasets/Cityscapes/images', 'label': './drive/MyDrive/Datasets/Cityscapes/labels', 'name': 'strasbourg/strasbourg_000000_030706_leftImg8bit.png'}, {'image': './drive/MyDrive/Datasets/Cityscapes/images', 'label': './drive/MyDrive/Datasets/Cityscapes/labels', 'name': 'cologne/cologne_000049_000019_leftImg8bit.png'}, {'image': './drive/MyDrive/Datasets/Cityscapes/images', 'label': './drive/MyDrive/Datasets/Cityscapes/labels', 'name': 'bochum/bochum_000000_007651_leftImg8bit.png'}, {'image': './drive/MyDrive/Datasets/Cityscapes/images', 'label': './drive/MyDrive/Datasets/Cityscapes/labels', 'name': 'stuttgart/stuttgart_000020_000019_leftImg8bit.png'}, {'image': './drive/MyDrive/Datasets/Cityscapes/images', 'label': './drive/MyDrive/Datasets/Cityscapes/labels', 'name': 'hanover/hanover_000000_032559_leftImg8bit.png'}, {'image': './drive/MyDrive/Datasets/Cityscapes/images', 'label': './drive/MyDrive/Datasets/Cityscapes/labels', 'name': 'hanover/hanover_000000_055124_leftImg8bit.png'}, {'image': './drive/MyDrive/Datasets/Cityscapes/images', 'label': './drive/MyDrive/Datasets/Cityscapes/labels', 'name': 'tubingen/tubingen_000119_000019_leftImg8bit.png'}, {'image': './drive/MyDrive/Datasets/Cityscapes/images', 'label': './drive/MyDrive/Datasets/Cityscapes/labels', 'name': 'bremen/bremen_000267_000019_leftImg8bit.png'}, {'image': './drive/MyDrive/Datasets/Cityscapes/images', 'label': './drive/MyDrive/Datasets/Cityscapes/labels', 'name': 'weimar/weimar_000082_000019_leftImg8bit.png'}, {'image': './drive/MyDrive/Datasets/Cityscapes/images', 'label': './drive/MyDrive/Datasets/Cityscapes/labels', 'name': 'bremen/bremen_000119_000019_leftImg8bit.png'}, {'image': './drive/MyDrive/Datasets/Cityscapes/images', 'label': './drive/MyDrive/Datasets/Cityscapes/labels', 'name': 'hanover/hanover_000000_001620_leftImg8bit.png'}, {'image': './drive/MyDrive/Datasets/Cityscapes/images', 'label': './drive/MyDrive/Datasets/Cityscapes/labels', 'name': 'cologne/cologne_000075_000019_leftImg8bit.png'}, {'image': './drive/MyDrive/Datasets/Cityscapes/images', 'label': './drive/MyDrive/Datasets/Cityscapes/labels', 'name': 'hamburg/hamburg_000000_036003_leftImg8bit.png'}, {'image': './drive/MyDrive/Datasets/Cityscapes/images', 'label': './drive/MyDrive/Datasets/Cityscapes/labels', 'name': 'stuttgart/stuttgart_000195_000019_leftImg8bit.png'}, {'image': './drive/MyDrive/Datasets/Cityscapes/images', 'label': './drive/MyDrive/Datasets/Cityscapes/labels', 'name': 'dusseldorf/dusseldorf_000204_000019_leftImg8bit.png'}, {'image': './drive/MyDrive/Datasets/Cityscapes/images', 'label': './drive/MyDrive/Datasets/Cityscapes/labels', 'name': 'bremen/bremen_000177_000019_leftImg8bit.png'}, {'image': './drive/MyDrive/Datasets/Cityscapes/images', 'label': './drive/MyDrive/Datasets/Cityscapes/labels', 'name': 'weimar/weimar_000002_000019_leftImg8bit.png'}, {'image': './drive/MyDrive/Datasets/Cityscapes/images', 'label': './drive/MyDrive/Datasets/Cityscapes/labels', 'name': 'jena/jena_000060_000019_leftImg8bit.png'}, {'image': './drive/MyDrive/Datasets/Cityscapes/images', 'label': './drive/MyDrive/Datasets/Cityscapes/labels', 'name': 'strasbourg/strasbourg_000001_052050_leftImg8bit.png'}, {'image': './drive/MyDrive/Datasets/Cityscapes/images', 'label': './drive/MyDrive/Datasets/Cityscapes/labels', 'name': 'bremen/bremen_000295_000019_leftImg8bit.png'}, {'image': './drive/MyDrive/Datasets/Cityscapes/images', 'label': './drive/MyDrive/Datasets/Cityscapes/labels', 'name': 'jena/jena_000022_000019_leftImg8bit.png'}, {'image': './drive/MyDrive/Datasets/Cityscapes/images', 'label': './drive/MyDrive/Datasets/Cityscapes/labels', 'name': 'darmstadt/darmstadt_000039_000019_leftImg8bit.png'}, {'image': './drive/MyDrive/Datasets/Cityscapes/images', 'label': './drive/MyDrive/Datasets/Cityscapes/labels', 'name': 'jena/jena_000100_000019_leftImg8bit.png'}, {'image': './drive/MyDrive/Datasets/Cityscapes/images', 'label': './drive/MyDrive/Datasets/Cityscapes/labels', 'name': 'aachen/aachen_000025_000019_leftImg8bit.png'}, {'image': './drive/MyDrive/Datasets/Cityscapes/images', 'label': './drive/MyDrive/Datasets/Cityscapes/labels', 'name': 'erfurt/erfurt_000076_000019_leftImg8bit.png'}, {'image': './drive/MyDrive/Datasets/Cityscapes/images', 'label': './drive/MyDrive/Datasets/Cityscapes/labels', 'name': 'stuttgart/stuttgart_000159_000019_leftImg8bit.png'}, {'image': './drive/MyDrive/Datasets/Cityscapes/images', 'label': './drive/MyDrive/Datasets/Cityscapes/labels', 'name': 'monchengladbach/monchengladbach_000000_025215_leftImg8bit.png'}, {'image': './drive/MyDrive/Datasets/Cityscapes/images', 'label': './drive/MyDrive/Datasets/Cityscapes/labels', 'name': 'hanover/hanover_000000_051152_leftImg8bit.png'}, {'image': './drive/MyDrive/Datasets/Cityscapes/images', 'label': './drive/MyDrive/Datasets/Cityscapes/labels', 'name': 'erfurt/erfurt_000032_000019_leftImg8bit.png'}, {'image': './drive/MyDrive/Datasets/Cityscapes/images', 'label': './drive/MyDrive/Datasets/Cityscapes/labels', 'name': 'dusseldorf/dusseldorf_000154_000019_leftImg8bit.png'}, {'image': './drive/MyDrive/Datasets/Cityscapes/images', 'label': './drive/MyDrive/Datasets/Cityscapes/labels', 'name': 'dusseldorf/dusseldorf_000075_000019_leftImg8bit.png'}, {'image': './drive/MyDrive/Datasets/Cityscapes/images', 'label': './drive/MyDrive/Datasets/Cityscapes/labels', 'name': 'bremen/bremen_000023_000019_leftImg8bit.png'}, {'image': './drive/MyDrive/Datasets/Cityscapes/images', 'label': './drive/MyDrive/Datasets/Cityscapes/labels', 'name': 'strasbourg/strasbourg_000000_029400_leftImg8bit.png'}, {'image': './drive/MyDrive/Datasets/Cityscapes/images', 'label': './drive/MyDrive/Datasets/Cityscapes/labels', 'name': 'strasbourg/strasbourg_000001_042309_leftImg8bit.png'}, {'image': './drive/MyDrive/Datasets/Cityscapes/images', 'label': './drive/MyDrive/Datasets/Cityscapes/labels', 'name': 'stuttgart/stuttgart_000052_000019_leftImg8bit.png'}, {'image': './drive/MyDrive/Datasets/Cityscapes/images', 'label': './drive/MyDrive/Datasets/Cityscapes/labels', 'name': 'tubingen/tubingen_000130_000019_leftImg8bit.png'}, {'image': './drive/MyDrive/Datasets/Cityscapes/images', 'label': './drive/MyDrive/Datasets/Cityscapes/labels', 'name': 'cologne/cologne_000101_000019_leftImg8bit.png'}, {'image': './drive/MyDrive/Datasets/Cityscapes/images', 'label': './drive/MyDrive/Datasets/Cityscapes/labels', 'name': 'darmstadt/darmstadt_000048_000019_leftImg8bit.png'}, {'image': './drive/MyDrive/Datasets/Cityscapes/images', 'label': './drive/MyDrive/Datasets/Cityscapes/labels', 'name': 'bremen/bremen_000178_000019_leftImg8bit.png'}, {'image': './drive/MyDrive/Datasets/Cityscapes/images', 'label': './drive/MyDrive/Datasets/Cityscapes/labels', 'name': 'weimar/weimar_000088_000019_leftImg8bit.png'}, {'image': './drive/MyDrive/Datasets/Cityscapes/images', 'label': './drive/MyDrive/Datasets/Cityscapes/labels', 'name': 'bremen/bremen_000145_000019_leftImg8bit.png'}, {'image': './drive/MyDrive/Datasets/Cityscapes/images', 'label': './drive/MyDrive/Datasets/Cityscapes/labels', 'name': 'bremen/bremen_000315_000019_leftImg8bit.png'}, {'image': './drive/MyDrive/Datasets/Cityscapes/images', 'label': './drive/MyDrive/Datasets/Cityscapes/labels', 'name': 'aachen/aachen_000110_000019_leftImg8bit.png'}, {'image': './drive/MyDrive/Datasets/Cityscapes/images', 'label': './drive/MyDrive/Datasets/Cityscapes/labels', 'name': 'strasbourg/strasbourg_000001_039114_leftImg8bit.png'}, {'image': './drive/MyDrive/Datasets/Cityscapes/images', 'label': './drive/MyDrive/Datasets/Cityscapes/labels', 'name': 'dusseldorf/dusseldorf_000122_000019_leftImg8bit.png'}, {'image': './drive/MyDrive/Datasets/Cityscapes/images', 'label': './drive/MyDrive/Datasets/Cityscapes/labels', 'name': 'stuttgart/stuttgart_000026_000019_leftImg8bit.png'}, {'image': './drive/MyDrive/Datasets/Cityscapes/images', 'label': './drive/MyDrive/Datasets/Cityscapes/labels', 'name': 'dusseldorf/dusseldorf_000150_000019_leftImg8bit.png'}, {'image': './drive/MyDrive/Datasets/Cityscapes/images', 'label': './drive/MyDrive/Datasets/Cityscapes/labels', 'name': 'tubingen/tubingen_000048_000019_leftImg8bit.png'}, {'image': './drive/MyDrive/Datasets/Cityscapes/images', 'label': './drive/MyDrive/Datasets/Cityscapes/labels', 'name': 'bremen/bremen_000278_000019_leftImg8bit.png'}, {'image': './drive/MyDrive/Datasets/Cityscapes/images', 'label': './drive/MyDrive/Datasets/Cityscapes/labels', 'name': 'hanover/hanover_000000_030889_leftImg8bit.png'}, {'image': './drive/MyDrive/Datasets/Cityscapes/images', 'label': './drive/MyDrive/Datasets/Cityscapes/labels', 'name': 'tubingen/tubingen_000054_000019_leftImg8bit.png'}, {'image': './drive/MyDrive/Datasets/Cityscapes/images', 'label': './drive/MyDrive/Datasets/Cityscapes/labels', 'name': 'strasbourg/strasbourg_000001_025833_leftImg8bit.png'}, {'image': './drive/MyDrive/Datasets/Cityscapes/images', 'label': './drive/MyDrive/Datasets/Cityscapes/labels', 'name': 'cologne/cologne_000060_000019_leftImg8bit.png'}, {'image': './drive/MyDrive/Datasets/Cityscapes/images', 'label': './drive/MyDrive/Datasets/Cityscapes/labels', 'name': 'tubingen/tubingen_000024_000019_leftImg8bit.png'}, {'image': './drive/MyDrive/Datasets/Cityscapes/images', 'label': './drive/MyDrive/Datasets/Cityscapes/labels', 'name': 'krefeld/krefeld_000000_010160_leftImg8bit.png'}, {'image': './drive/MyDrive/Datasets/Cityscapes/images', 'label': './drive/MyDrive/Datasets/Cityscapes/labels', 'name': 'monchengladbach/monchengladbach_000000_033683_leftImg8bit.png'}, {'image': './drive/MyDrive/Datasets/Cityscapes/images', 'label': './drive/MyDrive/Datasets/Cityscapes/labels', 'name': 'aachen/aachen_000004_000019_leftImg8bit.png'}, {'image': './drive/MyDrive/Datasets/Cityscapes/images', 'label': './drive/MyDrive/Datasets/Cityscapes/labels', 'name': 'bremen/bremen_000256_000019_leftImg8bit.png'}, {'image': './drive/MyDrive/Datasets/Cityscapes/images', 'label': './drive/MyDrive/Datasets/Cityscapes/labels', 'name': 'erfurt/erfurt_000100_000019_leftImg8bit.png'}, {'image': './drive/MyDrive/Datasets/Cityscapes/images', 'label': './drive/MyDrive/Datasets/Cityscapes/labels', 'name': 'krefeld/krefeld_000000_032845_leftImg8bit.png'}, {'image': './drive/MyDrive/Datasets/Cityscapes/images', 'label': './drive/MyDrive/Datasets/Cityscapes/labels', 'name': 'hamburg/hamburg_000000_067338_leftImg8bit.png'}, {'image': './drive/MyDrive/Datasets/Cityscapes/images', 'label': './drive/MyDrive/Datasets/Cityscapes/labels', 'name': 'strasbourg/strasbourg_000000_014416_leftImg8bit.png'}, {'image': './drive/MyDrive/Datasets/Cityscapes/images', 'label': './drive/MyDrive/Datasets/Cityscapes/labels', 'name': 'bremen/bremen_000154_000019_leftImg8bit.png'}, {'image': './drive/MyDrive/Datasets/Cityscapes/images', 'label': './drive/MyDrive/Datasets/Cityscapes/labels', 'name': 'ulm/ulm_000072_000019_leftImg8bit.png'}, {'image': './drive/MyDrive/Datasets/Cityscapes/images', 'label': './drive/MyDrive/Datasets/Cityscapes/labels', 'name': 'darmstadt/darmstadt_000046_000019_leftImg8bit.png'}, {'image': './drive/MyDrive/Datasets/Cityscapes/images', 'label': './drive/MyDrive/Datasets/Cityscapes/labels', 'name': 'strasbourg/strasbourg_000000_015764_leftImg8bit.png'}, {'image': './drive/MyDrive/Datasets/Cityscapes/images', 'label': './drive/MyDrive/Datasets/Cityscapes/labels', 'name': 'ulm/ulm_000001_000019_leftImg8bit.png'}, {'image': './drive/MyDrive/Datasets/Cityscapes/images', 'label': './drive/MyDrive/Datasets/Cityscapes/labels', 'name': 'strasbourg/strasbourg_000001_047619_leftImg8bit.png'}, {'image': './drive/MyDrive/Datasets/Cityscapes/images', 'label': './drive/MyDrive/Datasets/Cityscapes/labels', 'name': 'bremen/bremen_000021_000019_leftImg8bit.png'}, {'image': './drive/MyDrive/Datasets/Cityscapes/images', 'label': './drive/MyDrive/Datasets/Cityscapes/labels', 'name': 'zurich/zurich_000014_000019_leftImg8bit.png'}, {'image': './drive/MyDrive/Datasets/Cityscapes/images', 'label': './drive/MyDrive/Datasets/Cityscapes/labels', 'name': 'aachen/aachen_000085_000019_leftImg8bit.png'}, {'image': './drive/MyDrive/Datasets/Cityscapes/images', 'label': './drive/MyDrive/Datasets/Cityscapes/labels', 'name': 'bremen/bremen_000225_000019_leftImg8bit.png'}, {'image': './drive/MyDrive/Datasets/Cityscapes/images', 'label': './drive/MyDrive/Datasets/Cityscapes/labels', 'name': 'strasbourg/strasbourg_000001_026355_leftImg8bit.png'}, {'image': './drive/MyDrive/Datasets/Cityscapes/images', 'label': './drive/MyDrive/Datasets/Cityscapes/labels', 'name': 'dusseldorf/dusseldorf_000000_000019_leftImg8bit.png'}, {'image': './drive/MyDrive/Datasets/Cityscapes/images', 'label': './drive/MyDrive/Datasets/Cityscapes/labels', 'name': 'strasbourg/strasbourg_000001_007148_leftImg8bit.png'}, {'image': './drive/MyDrive/Datasets/Cityscapes/images', 'label': './drive/MyDrive/Datasets/Cityscapes/labels', 'name': 'monchengladbach/monchengladbach_000001_000876_leftImg8bit.png'}, {'image': './drive/MyDrive/Datasets/Cityscapes/images', 'label': './drive/MyDrive/Datasets/Cityscapes/labels', 'name': 'bremen/bremen_000152_000019_leftImg8bit.png'}, {'image': './drive/MyDrive/Datasets/Cityscapes/images', 'label': './drive/MyDrive/Datasets/Cityscapes/labels', 'name': 'ulm/ulm_000019_000019_leftImg8bit.png'}, {'image': './drive/MyDrive/Datasets/Cityscapes/images', 'label': './drive/MyDrive/Datasets/Cityscapes/labels', 'name': 'stuttgart/stuttgart_000053_000019_leftImg8bit.png'}, {'image': './drive/MyDrive/Datasets/Cityscapes/images', 'label': './drive/MyDrive/Datasets/Cityscapes/labels', 'name': 'jena/jena_000103_000019_leftImg8bit.png'}, {'image': './drive/MyDrive/Datasets/Cityscapes/images', 'label': './drive/MyDrive/Datasets/Cityscapes/labels', 'name': 'strasbourg/strasbourg_000000_009110_leftImg8bit.png'}, {'image': './drive/MyDrive/Datasets/Cityscapes/images', 'label': './drive/MyDrive/Datasets/Cityscapes/labels', 'name': 'dusseldorf/dusseldorf_000078_000019_leftImg8bit.png'}, {'image': './drive/MyDrive/Datasets/Cityscapes/images', 'label': './drive/MyDrive/Datasets/Cityscapes/labels', 'name': 'aachen/aachen_000013_000019_leftImg8bit.png'}, {'image': './drive/MyDrive/Datasets/Cityscapes/images', 'label': './drive/MyDrive/Datasets/Cityscapes/labels', 'name': 'tubingen/tubingen_000105_000019_leftImg8bit.png'}, {'image': './drive/MyDrive/Datasets/Cityscapes/images', 'label': './drive/MyDrive/Datasets/Cityscapes/labels', 'name': 'zurich/zurich_000074_000019_leftImg8bit.png'}, {'image': './drive/MyDrive/Datasets/Cityscapes/images', 'label': './drive/MyDrive/Datasets/Cityscapes/labels', 'name': 'zurich/zurich_000075_000019_leftImg8bit.png'}, {'image': './drive/MyDrive/Datasets/Cityscapes/images', 'label': './drive/MyDrive/Datasets/Cityscapes/labels', 'name': 'weimar/weimar_000060_000019_leftImg8bit.png'}, {'image': './drive/MyDrive/Datasets/Cityscapes/images', 'label': './drive/MyDrive/Datasets/Cityscapes/labels', 'name': 'strasbourg/strasbourg_000001_049399_leftImg8bit.png'}, {'image': './drive/MyDrive/Datasets/Cityscapes/images', 'label': './drive/MyDrive/Datasets/Cityscapes/labels', 'name': 'stuttgart/stuttgart_000076_000019_leftImg8bit.png'}, {'image': './drive/MyDrive/Datasets/Cityscapes/images', 'label': './drive/MyDrive/Datasets/Cityscapes/labels', 'name': 'hamburg/hamburg_000000_104857_leftImg8bit.png'}, {'image': './drive/MyDrive/Datasets/Cityscapes/images', 'label': './drive/MyDrive/Datasets/Cityscapes/labels', 'name': 'jena/jena_000088_000019_leftImg8bit.png'}, {'image': './drive/MyDrive/Datasets/Cityscapes/images', 'label': './drive/MyDrive/Datasets/Cityscapes/labels', 'name': 'hamburg/hamburg_000000_090742_leftImg8bit.png'}, {'image': './drive/MyDrive/Datasets/Cityscapes/images', 'label': './drive/MyDrive/Datasets/Cityscapes/labels', 'name': 'monchengladbach/monchengladbach_000000_030662_leftImg8bit.png'}, {'image': './drive/MyDrive/Datasets/Cityscapes/images', 'label': './drive/MyDrive/Datasets/Cityscapes/labels', 'name': 'weimar/weimar_000028_000019_leftImg8bit.png'}, {'image': './drive/MyDrive/Datasets/Cityscapes/images', 'label': './drive/MyDrive/Datasets/Cityscapes/labels', 'name': 'tubingen/tubingen_000039_000019_leftImg8bit.png'}, {'image': './drive/MyDrive/Datasets/Cityscapes/images', 'label': './drive/MyDrive/Datasets/Cityscapes/labels', 'name': 'aachen/aachen_000162_000019_leftImg8bit.png'}, {'image': './drive/MyDrive/Datasets/Cityscapes/images', 'label': './drive/MyDrive/Datasets/Cityscapes/labels', 'name': 'darmstadt/darmstadt_000012_000019_leftImg8bit.png'}, {'image': './drive/MyDrive/Datasets/Cityscapes/images', 'label': './drive/MyDrive/Datasets/Cityscapes/labels', 'name': 'bochum/bochum_000000_000313_leftImg8bit.png'}, {'image': './drive/MyDrive/Datasets/Cityscapes/images', 'label': './drive/MyDrive/Datasets/Cityscapes/labels', 'name': 'aachen/aachen_000165_000019_leftImg8bit.png'}, {'image': './drive/MyDrive/Datasets/Cityscapes/images', 'label': './drive/MyDrive/Datasets/Cityscapes/labels', 'name': 'strasbourg/strasbourg_000000_032186_leftImg8bit.png'}, {'image': './drive/MyDrive/Datasets/Cityscapes/images', 'label': './drive/MyDrive/Datasets/Cityscapes/labels', 'name': 'hamburg/hamburg_000000_071016_leftImg8bit.png'}, {'image': './drive/MyDrive/Datasets/Cityscapes/images', 'label': './drive/MyDrive/Datasets/Cityscapes/labels', 'name': 'monchengladbach/monchengladbach_000000_009690_leftImg8bit.png'}, {'image': './drive/MyDrive/Datasets/Cityscapes/images', 'label': './drive/MyDrive/Datasets/Cityscapes/labels', 'name': 'jena/jena_000111_000019_leftImg8bit.png'}, {'image': './drive/MyDrive/Datasets/Cityscapes/images', 'label': './drive/MyDrive/Datasets/Cityscapes/labels', 'name': 'hamburg/hamburg_000000_065604_leftImg8bit.png'}, {'image': './drive/MyDrive/Datasets/Cityscapes/images', 'label': './drive/MyDrive/Datasets/Cityscapes/labels', 'name': 'aachen/aachen_000009_000019_leftImg8bit.png'}, {'image': './drive/MyDrive/Datasets/Cityscapes/images', 'label': './drive/MyDrive/Datasets/Cityscapes/labels', 'name': 'hamburg/hamburg_000000_059720_leftImg8bit.png'}, {'image': './drive/MyDrive/Datasets/Cityscapes/images', 'label': './drive/MyDrive/Datasets/Cityscapes/labels', 'name': 'hanover/hanover_000000_005288_leftImg8bit.png'}, {'image': './drive/MyDrive/Datasets/Cityscapes/images', 'label': './drive/MyDrive/Datasets/Cityscapes/labels', 'name': 'zurich/zurich_000058_000019_leftImg8bit.png'}, {'image': './drive/MyDrive/Datasets/Cityscapes/images', 'label': './drive/MyDrive/Datasets/Cityscapes/labels', 'name': 'strasbourg/strasbourg_000000_029839_leftImg8bit.png'}, {'image': './drive/MyDrive/Datasets/Cityscapes/images', 'label': './drive/MyDrive/Datasets/Cityscapes/labels', 'name': 'bremen/bremen_000149_000019_leftImg8bit.png'}, {'image': './drive/MyDrive/Datasets/Cityscapes/images', 'label': './drive/MyDrive/Datasets/Cityscapes/labels', 'name': 'weimar/weimar_000085_000019_leftImg8bit.png'}, {'image': './drive/MyDrive/Datasets/Cityscapes/images', 'label': './drive/MyDrive/Datasets/Cityscapes/labels', 'name': 'dusseldorf/dusseldorf_000137_000019_leftImg8bit.png'}, {'image': './drive/MyDrive/Datasets/Cityscapes/images', 'label': './drive/MyDrive/Datasets/Cityscapes/labels', 'name': 'bochum/bochum_000000_026056_leftImg8bit.png'}, {'image': './drive/MyDrive/Datasets/Cityscapes/images', 'label': './drive/MyDrive/Datasets/Cityscapes/labels', 'name': 'jena/jena_000026_000019_leftImg8bit.png'}, {'image': './drive/MyDrive/Datasets/Cityscapes/images', 'label': './drive/MyDrive/Datasets/Cityscapes/labels', 'name': 'strasbourg/strasbourg_000001_007657_leftImg8bit.png'}, {'image': './drive/MyDrive/Datasets/Cityscapes/images', 'label': './drive/MyDrive/Datasets/Cityscapes/labels', 'name': 'erfurt/erfurt_000098_000019_leftImg8bit.png'}, {'image': './drive/MyDrive/Datasets/Cityscapes/images', 'label': './drive/MyDrive/Datasets/Cityscapes/labels', 'name': 'stuttgart/stuttgart_000046_000019_leftImg8bit.png'}, {'image': './drive/MyDrive/Datasets/Cityscapes/images', 'label': './drive/MyDrive/Datasets/Cityscapes/labels', 'name': 'stuttgart/stuttgart_000122_000019_leftImg8bit.png'}, {'image': './drive/MyDrive/Datasets/Cityscapes/images', 'label': './drive/MyDrive/Datasets/Cityscapes/labels', 'name': 'strasbourg/strasbourg_000001_045481_leftImg8bit.png'}, {'image': './drive/MyDrive/Datasets/Cityscapes/images', 'label': './drive/MyDrive/Datasets/Cityscapes/labels', 'name': 'stuttgart/stuttgart_000004_000019_leftImg8bit.png'}, {'image': './drive/MyDrive/Datasets/Cityscapes/images', 'label': './drive/MyDrive/Datasets/Cityscapes/labels', 'name': 'monchengladbach/monchengladbach_000000_007695_leftImg8bit.png'}, {'image': './drive/MyDrive/Datasets/Cityscapes/images', 'label': './drive/MyDrive/Datasets/Cityscapes/labels', 'name': 'stuttgart/stuttgart_000025_000019_leftImg8bit.png'}, {'image': './drive/MyDrive/Datasets/Cityscapes/images', 'label': './drive/MyDrive/Datasets/Cityscapes/labels', 'name': 'hanover/hanover_000000_007780_leftImg8bit.png'}, {'image': './drive/MyDrive/Datasets/Cityscapes/images', 'label': './drive/MyDrive/Datasets/Cityscapes/labels', 'name': 'ulm/ulm_000045_000019_leftImg8bit.png'}, {'image': './drive/MyDrive/Datasets/Cityscapes/images', 'label': './drive/MyDrive/Datasets/Cityscapes/labels', 'name': 'aachen/aachen_000084_000019_leftImg8bit.png'}, {'image': './drive/MyDrive/Datasets/Cityscapes/images', 'label': './drive/MyDrive/Datasets/Cityscapes/labels', 'name': 'stuttgart/stuttgart_000150_000019_leftImg8bit.png'}, {'image': './drive/MyDrive/Datasets/Cityscapes/images', 'label': './drive/MyDrive/Datasets/Cityscapes/labels', 'name': 'strasbourg/strasbourg_000000_018874_leftImg8bit.png'}, {'image': './drive/MyDrive/Datasets/Cityscapes/images', 'label': './drive/MyDrive/Datasets/Cityscapes/labels', 'name': 'jena/jena_000011_000019_leftImg8bit.png'}, {'image': './drive/MyDrive/Datasets/Cityscapes/images', 'label': './drive/MyDrive/Datasets/Cityscapes/labels', 'name': 'jena/jena_000107_000019_leftImg8bit.png'}, {'image': './drive/MyDrive/Datasets/Cityscapes/images', 'label': './drive/MyDrive/Datasets/Cityscapes/labels', 'name': 'monchengladbach/monchengladbach_000001_000054_leftImg8bit.png'}, {'image': './drive/MyDrive/Datasets/Cityscapes/images', 'label': './drive/MyDrive/Datasets/Cityscapes/labels', 'name': 'bremen/bremen_000309_000019_leftImg8bit.png'}, {'image': './drive/MyDrive/Datasets/Cityscapes/images', 'label': './drive/MyDrive/Datasets/Cityscapes/labels', 'name': 'tubingen/tubingen_000101_000019_leftImg8bit.png'}, {'image': './drive/MyDrive/Datasets/Cityscapes/images', 'label': './drive/MyDrive/Datasets/Cityscapes/labels', 'name': 'cologne/cologne_000010_000019_leftImg8bit.png'}, {'image': './drive/MyDrive/Datasets/Cityscapes/images', 'label': './drive/MyDrive/Datasets/Cityscapes/labels', 'name': 'bremen/bremen_000062_000019_leftImg8bit.png'}, {'image': './drive/MyDrive/Datasets/Cityscapes/images', 'label': './drive/MyDrive/Datasets/Cityscapes/labels', 'name': 'tubingen/tubingen_000108_000019_leftImg8bit.png'}, {'image': './drive/MyDrive/Datasets/Cityscapes/images', 'label': './drive/MyDrive/Datasets/Cityscapes/labels', 'name': 'stuttgart/stuttgart_000115_000019_leftImg8bit.png'}, {'image': './drive/MyDrive/Datasets/Cityscapes/images', 'label': './drive/MyDrive/Datasets/Cityscapes/labels', 'name': 'hamburg/hamburg_000000_056508_leftImg8bit.png'}, {'image': './drive/MyDrive/Datasets/Cityscapes/images', 'label': './drive/MyDrive/Datasets/Cityscapes/labels', 'name': 'bremen/bremen_000098_000019_leftImg8bit.png'}, {'image': './drive/MyDrive/Datasets/Cityscapes/images', 'label': './drive/MyDrive/Datasets/Cityscapes/labels', 'name': 'bremen/bremen_000003_000019_leftImg8bit.png'}, {'image': './drive/MyDrive/Datasets/Cityscapes/images', 'label': './drive/MyDrive/Datasets/Cityscapes/labels', 'name': 'bremen/bremen_000066_000019_leftImg8bit.png'}, {'image': './drive/MyDrive/Datasets/Cityscapes/images', 'label': './drive/MyDrive/Datasets/Cityscapes/labels', 'name': 'strasbourg/strasbourg_000001_017844_leftImg8bit.png'}, {'image': './drive/MyDrive/Datasets/Cityscapes/images', 'label': './drive/MyDrive/Datasets/Cityscapes/labels', 'name': 'strasbourg/strasbourg_000001_033448_leftImg8bit.png'}, {'image': './drive/MyDrive/Datasets/Cityscapes/images', 'label': './drive/MyDrive/Datasets/Cityscapes/labels', 'name': 'tubingen/tubingen_000088_000019_leftImg8bit.png'}, {'image': './drive/MyDrive/Datasets/Cityscapes/images', 'label': './drive/MyDrive/Datasets/Cityscapes/labels', 'name': 'zurich/zurich_000055_000019_leftImg8bit.png'}, {'image': './drive/MyDrive/Datasets/Cityscapes/images', 'label': './drive/MyDrive/Datasets/Cityscapes/labels', 'name': 'aachen/aachen_000050_000019_leftImg8bit.png'}, {'image': './drive/MyDrive/Datasets/Cityscapes/images', 'label': './drive/MyDrive/Datasets/Cityscapes/labels', 'name': 'monchengladbach/monchengladbach_000000_007098_leftImg8bit.png'}, {'image': './drive/MyDrive/Datasets/Cityscapes/images', 'label': './drive/MyDrive/Datasets/Cityscapes/labels', 'name': 'hamburg/hamburg_000000_037161_leftImg8bit.png'}, {'image': './drive/MyDrive/Datasets/Cityscapes/images', 'label': './drive/MyDrive/Datasets/Cityscapes/labels', 'name': 'hamburg/hamburg_000000_032719_leftImg8bit.png'}, {'image': './drive/MyDrive/Datasets/Cityscapes/images', 'label': './drive/MyDrive/Datasets/Cityscapes/labels', 'name': 'strasbourg/strasbourg_000000_002183_leftImg8bit.png'}, {'image': './drive/MyDrive/Datasets/Cityscapes/images', 'label': './drive/MyDrive/Datasets/Cityscapes/labels', 'name': 'bremen/bremen_000042_000019_leftImg8bit.png'}, {'image': './drive/MyDrive/Datasets/Cityscapes/images', 'label': './drive/MyDrive/Datasets/Cityscapes/labels', 'name': 'aachen/aachen_000012_000019_leftImg8bit.png'}, {'image': './drive/MyDrive/Datasets/Cityscapes/images', 'label': './drive/MyDrive/Datasets/Cityscapes/labels', 'name': 'dusseldorf/dusseldorf_000025_000019_leftImg8bit.png'}, {'image': './drive/MyDrive/Datasets/Cityscapes/images', 'label': './drive/MyDrive/Datasets/Cityscapes/labels', 'name': 'hanover/hanover_000000_028202_leftImg8bit.png'}, {'image': './drive/MyDrive/Datasets/Cityscapes/images', 'label': './drive/MyDrive/Datasets/Cityscapes/labels', 'name': 'jena/jena_000019_000019_leftImg8bit.png'}, {'image': './drive/MyDrive/Datasets/Cityscapes/images', 'label': './drive/MyDrive/Datasets/Cityscapes/labels', 'name': 'aachen/aachen_000160_000019_leftImg8bit.png'}, {'image': './drive/MyDrive/Datasets/Cityscapes/images', 'label': './drive/MyDrive/Datasets/Cityscapes/labels', 'name': 'dusseldorf/dusseldorf_000001_000019_leftImg8bit.png'}, {'image': './drive/MyDrive/Datasets/Cityscapes/images', 'label': './drive/MyDrive/Datasets/Cityscapes/labels', 'name': 'erfurt/erfurt_000019_000019_leftImg8bit.png'}, {'image': './drive/MyDrive/Datasets/Cityscapes/images', 'label': './drive/MyDrive/Datasets/Cityscapes/labels', 'name': 'bremen/bremen_000026_000019_leftImg8bit.png'}, {'image': './drive/MyDrive/Datasets/Cityscapes/images', 'label': './drive/MyDrive/Datasets/Cityscapes/labels', 'name': 'weimar/weimar_000103_000019_leftImg8bit.png'}, {'image': './drive/MyDrive/Datasets/Cityscapes/images', 'label': './drive/MyDrive/Datasets/Cityscapes/labels', 'name': 'bremen/bremen_000028_000019_leftImg8bit.png'}, {'image': './drive/MyDrive/Datasets/Cityscapes/images', 'label': './drive/MyDrive/Datasets/Cityscapes/labels', 'name': 'stuttgart/stuttgart_000127_000019_leftImg8bit.png'}, {'image': './drive/MyDrive/Datasets/Cityscapes/images', 'label': './drive/MyDrive/Datasets/Cityscapes/labels', 'name': 'erfurt/erfurt_000085_000019_leftImg8bit.png'}, {'image': './drive/MyDrive/Datasets/Cityscapes/images', 'label': './drive/MyDrive/Datasets/Cityscapes/labels', 'name': 'aachen/aachen_000056_000019_leftImg8bit.png'}, {'image': './drive/MyDrive/Datasets/Cityscapes/images', 'label': './drive/MyDrive/Datasets/Cityscapes/labels', 'name': 'stuttgart/stuttgart_000060_000019_leftImg8bit.png'}, {'image': './drive/MyDrive/Datasets/Cityscapes/images', 'label': './drive/MyDrive/Datasets/Cityscapes/labels', 'name': 'jena/jena_000067_000019_leftImg8bit.png'}, {'image': './drive/MyDrive/Datasets/Cityscapes/images', 'label': './drive/MyDrive/Datasets/Cityscapes/labels', 'name': 'aachen/aachen_000047_000019_leftImg8bit.png'}, {'image': './drive/MyDrive/Datasets/Cityscapes/images', 'label': './drive/MyDrive/Datasets/Cityscapes/labels', 'name': 'strasbourg/strasbourg_000001_037776_leftImg8bit.png'}, {'image': './drive/MyDrive/Datasets/Cityscapes/images', 'label': './drive/MyDrive/Datasets/Cityscapes/labels', 'name': 'cologne/cologne_000000_000019_leftImg8bit.png'}, {'image': './drive/MyDrive/Datasets/Cityscapes/images', 'label': './drive/MyDrive/Datasets/Cityscapes/labels', 'name': 'dusseldorf/dusseldorf_000177_000019_leftImg8bit.png'}, {'image': './drive/MyDrive/Datasets/Cityscapes/images', 'label': './drive/MyDrive/Datasets/Cityscapes/labels', 'name': 'strasbourg/strasbourg_000000_016436_leftImg8bit.png'}, {'image': './drive/MyDrive/Datasets/Cityscapes/images', 'label': './drive/MyDrive/Datasets/Cityscapes/labels', 'name': 'hamburg/hamburg_000000_055894_leftImg8bit.png'}, {'image': './drive/MyDrive/Datasets/Cityscapes/images', 'label': './drive/MyDrive/Datasets/Cityscapes/labels', 'name': 'ulm/ulm_000016_000019_leftImg8bit.png'}, {'image': './drive/MyDrive/Datasets/Cityscapes/images', 'label': './drive/MyDrive/Datasets/Cityscapes/labels', 'name': 'ulm/ulm_000049_000019_leftImg8bit.png'}, {'image': './drive/MyDrive/Datasets/Cityscapes/images', 'label': './drive/MyDrive/Datasets/Cityscapes/labels', 'name': 'stuttgart/stuttgart_000021_000019_leftImg8bit.png'}, {'image': './drive/MyDrive/Datasets/Cityscapes/images', 'label': './drive/MyDrive/Datasets/Cityscapes/labels', 'name': 'tubingen/tubingen_000085_000019_leftImg8bit.png'}, {'image': './drive/MyDrive/Datasets/Cityscapes/images', 'label': './drive/MyDrive/Datasets/Cityscapes/labels', 'name': 'strasbourg/strasbourg_000001_019698_leftImg8bit.png'}, {'image': './drive/MyDrive/Datasets/Cityscapes/images', 'label': './drive/MyDrive/Datasets/Cityscapes/labels', 'name': 'cologne/cologne_000011_000019_leftImg8bit.png'}, {'image': './drive/MyDrive/Datasets/Cityscapes/images', 'label': './drive/MyDrive/Datasets/Cityscapes/labels', 'name': 'weimar/weimar_000068_000019_leftImg8bit.png'}, {'image': './drive/MyDrive/Datasets/Cityscapes/images', 'label': './drive/MyDrive/Datasets/Cityscapes/labels', 'name': 'tubingen/tubingen_000097_000019_leftImg8bit.png'}, {'image': './drive/MyDrive/Datasets/Cityscapes/images', 'label': './drive/MyDrive/Datasets/Cityscapes/labels', 'name': 'tubingen/tubingen_000010_000019_leftImg8bit.png'}, {'image': './drive/MyDrive/Datasets/Cityscapes/images', 'label': './drive/MyDrive/Datasets/Cityscapes/labels', 'name': 'hamburg/hamburg_000000_105296_leftImg8bit.png'}, {'image': './drive/MyDrive/Datasets/Cityscapes/images', 'label': './drive/MyDrive/Datasets/Cityscapes/labels', 'name': 'cologne/cologne_000042_000019_leftImg8bit.png'}, {'image': './drive/MyDrive/Datasets/Cityscapes/images', 'label': './drive/MyDrive/Datasets/Cityscapes/labels', 'name': 'krefeld/krefeld_000000_021000_leftImg8bit.png'}, {'image': './drive/MyDrive/Datasets/Cityscapes/images', 'label': './drive/MyDrive/Datasets/Cityscapes/labels', 'name': 'dusseldorf/dusseldorf_000153_000019_leftImg8bit.png'}, {'image': './drive/MyDrive/Datasets/Cityscapes/images', 'label': './drive/MyDrive/Datasets/Cityscapes/labels', 'name': 'strasbourg/strasbourg_000001_051448_leftImg8bit.png'}, {'image': './drive/MyDrive/Datasets/Cityscapes/images', 'label': './drive/MyDrive/Datasets/Cityscapes/labels', 'name': 'strasbourg/strasbourg_000001_006153_leftImg8bit.png'}, {'image': './drive/MyDrive/Datasets/Cityscapes/images', 'label': './drive/MyDrive/Datasets/Cityscapes/labels', 'name': 'zurich/zurich_000044_000019_leftImg8bit.png'}, {'image': './drive/MyDrive/Datasets/Cityscapes/images', 'label': './drive/MyDrive/Datasets/Cityscapes/labels', 'name': 'jena/jena_000065_000019_leftImg8bit.png'}, {'image': './drive/MyDrive/Datasets/Cityscapes/images', 'label': './drive/MyDrive/Datasets/Cityscapes/labels', 'name': 'hanover/hanover_000000_040294_leftImg8bit.png'}, {'image': './drive/MyDrive/Datasets/Cityscapes/images', 'label': './drive/MyDrive/Datasets/Cityscapes/labels', 'name': 'strasbourg/strasbourg_000001_051934_leftImg8bit.png'}, {'image': './drive/MyDrive/Datasets/Cityscapes/images', 'label': './drive/MyDrive/Datasets/Cityscapes/labels', 'name': 'erfurt/erfurt_000039_000019_leftImg8bit.png'}, {'image': './drive/MyDrive/Datasets/Cityscapes/images', 'label': './drive/MyDrive/Datasets/Cityscapes/labels', 'name': 'erfurt/erfurt_000060_000019_leftImg8bit.png'}, {'image': './drive/MyDrive/Datasets/Cityscapes/images', 'label': './drive/MyDrive/Datasets/Cityscapes/labels', 'name': 'jena/jena_000008_000019_leftImg8bit.png'}, {'image': './drive/MyDrive/Datasets/Cityscapes/images', 'label': './drive/MyDrive/Datasets/Cityscapes/labels', 'name': 'strasbourg/strasbourg_000001_042434_leftImg8bit.png'}, {'image': './drive/MyDrive/Datasets/Cityscapes/images', 'label': './drive/MyDrive/Datasets/Cityscapes/labels', 'name': 'hamburg/hamburg_000000_096624_leftImg8bit.png'}, {'image': './drive/MyDrive/Datasets/Cityscapes/images', 'label': './drive/MyDrive/Datasets/Cityscapes/labels', 'name': 'ulm/ulm_000008_000019_leftImg8bit.png'}, {'image': './drive/MyDrive/Datasets/Cityscapes/images', 'label': './drive/MyDrive/Datasets/Cityscapes/labels', 'name': 'strasbourg/strasbourg_000001_035689_leftImg8bit.png'}, {'image': './drive/MyDrive/Datasets/Cityscapes/images', 'label': './drive/MyDrive/Datasets/Cityscapes/labels', 'name': 'krefeld/krefeld_000000_027075_leftImg8bit.png'}, {'image': './drive/MyDrive/Datasets/Cityscapes/images', 'label': './drive/MyDrive/Datasets/Cityscapes/labels', 'name': 'bremen/bremen_000155_000019_leftImg8bit.png'}, {'image': './drive/MyDrive/Datasets/Cityscapes/images', 'label': './drive/MyDrive/Datasets/Cityscapes/labels', 'name': 'hamburg/hamburg_000000_065843_leftImg8bit.png'}, {'image': './drive/MyDrive/Datasets/Cityscapes/images', 'label': './drive/MyDrive/Datasets/Cityscapes/labels', 'name': 'stuttgart/stuttgart_000188_000019_leftImg8bit.png'}, {'image': './drive/MyDrive/Datasets/Cityscapes/images', 'label': './drive/MyDrive/Datasets/Cityscapes/labels', 'name': 'hanover/hanover_000000_056800_leftImg8bit.png'}, {'image': './drive/MyDrive/Datasets/Cityscapes/images', 'label': './drive/MyDrive/Datasets/Cityscapes/labels', 'name': 'bochum/bochum_000000_031922_leftImg8bit.png'}, {'image': './drive/MyDrive/Datasets/Cityscapes/images', 'label': './drive/MyDrive/Datasets/Cityscapes/labels', 'name': 'bremen/bremen_000264_000019_leftImg8bit.png'}]\n"
          ]
        }
      ]
    },
    {
      "cell_type": "code",
      "source": [
        "cd .."
      ],
      "metadata": {
        "id": "IWDlnufe7Dul",
        "outputId": "99b041d2-e989-49b8-ace2-403095b01d90",
        "colab": {
          "base_uri": "https://localhost:8080/"
        }
      },
      "execution_count": null,
      "outputs": [
        {
          "output_type": "stream",
          "name": "stdout",
          "text": [
            "/content\n"
          ]
        }
      ]
    },
    {
      "cell_type": "code",
      "source": [
        "ls"
      ],
      "metadata": {
        "colab": {
          "base_uri": "https://localhost:8080/"
        },
        "id": "skCLZ88mL-rn",
        "outputId": "972e8de3-4c63-4331-8b98-6c86e77c9126"
      },
      "execution_count": null,
      "outputs": [
        {
          "output_type": "stream",
          "name": "stdout",
          "text": [
            "build_BiSeNet.py  build_contextpath.py  __init__.py  \u001b[0m\u001b[01;34m__pycache__\u001b[0m/\n"
          ]
        }
      ]
    },
    {
      "cell_type": "code",
      "source": [
        "ls"
      ],
      "metadata": {
        "colab": {
          "base_uri": "https://localhost:8080/"
        },
        "id": "cbMG-s6UMaNe",
        "outputId": "d9abb01f-80e6-4644-de5a-6cbbe57857ec"
      },
      "execution_count": null,
      "outputs": [
        {
          "output_type": "stream",
          "name": "stdout",
          "text": [
            "\u001b[0m\u001b[01;34mBiSeNet\u001b[0m/  \u001b[01;34mdataset\u001b[0m/  Exam.ipynb  README.md\n"
          ]
        }
      ]
    },
    {
      "cell_type": "code",
      "source": [
        "print (train_dataset.files[0])"
      ],
      "metadata": {
        "colab": {
          "base_uri": "https://localhost:8080/"
        },
        "id": "1pFuTqCxODAu",
        "outputId": "91cfc8fe-964b-44fd-a06f-6654e79399b9"
      },
      "execution_count": null,
      "outputs": [
        {
          "output_type": "stream",
          "name": "stdout",
          "text": [
            "{'image': './drive/MyDrive/Datasets/Cityscapes/images', 'label': './drive/MyDrive/Datasets/Cityscapes/labels', 'name': 'strasbourg/strasbourg_000000_017593_leftImg8bit.png'}\n"
          ]
        }
      ]
    },
    {
      "cell_type": "code",
      "source": [
        "cd .."
      ],
      "metadata": {
        "colab": {
          "base_uri": "https://localhost:8080/"
        },
        "id": "baiIub3aPChm",
        "outputId": "be124451-1f9a-4e6e-ec03-c8f7d9384377"
      },
      "execution_count": null,
      "outputs": [
        {
          "output_type": "stream",
          "name": "stdout",
          "text": [
            "/\n"
          ]
        }
      ]
    },
    {
      "cell_type": "code",
      "source": [
        "print"
      ],
      "metadata": {
        "id": "E6xBGzLRQihd"
      },
      "execution_count": null,
      "outputs": []
    },
    {
      "cell_type": "code",
      "source": [
        "string = '/content/drive/MyDrive/Datasets/Cityscapes/images/'+train_dataset.files[0]['name'].split ('/')[1]\n",
        "\n",
        "from IPython.display import Image\n",
        "Image(string)\n",
        "\n"
      ],
      "metadata": {
        "id": "3lmfSXTcNT6K"
      },
      "execution_count": null,
      "outputs": []
    }
  ]
}