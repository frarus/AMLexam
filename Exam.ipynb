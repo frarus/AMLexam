{
  "nbformat": 4,
  "nbformat_minor": 0,
  "metadata": {
    "colab": {
      "name": "Exam.ipynb",
      "provenance": [],
      "machine_shape": "hm",
      "include_colab_link": true
    },
    "kernelspec": {
      "name": "python3",
      "display_name": "Python 3"
    },
    "language_info": {
      "name": "python"
    },
    "accelerator": "GPU",
    "widgets": {
      "application/vnd.jupyter.widget-state+json": {
        "02b46c4d9ecb44f8b55a3ee6699afb20": {
          "model_module": "@jupyter-widgets/controls",
          "model_name": "HBoxModel",
          "model_module_version": "1.5.0",
          "state": {
            "_view_name": "HBoxView",
            "_dom_classes": [],
            "_model_name": "HBoxModel",
            "_view_module": "@jupyter-widgets/controls",
            "_model_module_version": "1.5.0",
            "_view_count": null,
            "_view_module_version": "1.5.0",
            "box_style": "",
            "layout": "IPY_MODEL_c943495e3c174643ab4176933899bc1d",
            "_model_module": "@jupyter-widgets/controls",
            "children": [
              "IPY_MODEL_474123b1aec949cb8922b1d2be6db027",
              "IPY_MODEL_7f5abce980784b538f03dae2d16a9f73",
              "IPY_MODEL_1aaebcedc7074c168e5305c96c6b50d0"
            ]
          }
        },
        "c943495e3c174643ab4176933899bc1d": {
          "model_module": "@jupyter-widgets/base",
          "model_name": "LayoutModel",
          "model_module_version": "1.2.0",
          "state": {
            "_view_name": "LayoutView",
            "grid_template_rows": null,
            "right": null,
            "justify_content": null,
            "_view_module": "@jupyter-widgets/base",
            "overflow": null,
            "_model_module_version": "1.2.0",
            "_view_count": null,
            "flex_flow": null,
            "width": null,
            "min_width": null,
            "border": null,
            "align_items": null,
            "bottom": null,
            "_model_module": "@jupyter-widgets/base",
            "top": null,
            "grid_column": null,
            "overflow_y": null,
            "overflow_x": null,
            "grid_auto_flow": null,
            "grid_area": null,
            "grid_template_columns": null,
            "flex": null,
            "_model_name": "LayoutModel",
            "justify_items": null,
            "grid_row": null,
            "max_height": null,
            "align_content": null,
            "visibility": null,
            "align_self": null,
            "height": null,
            "min_height": null,
            "padding": null,
            "grid_auto_rows": null,
            "grid_gap": null,
            "max_width": null,
            "order": null,
            "_view_module_version": "1.2.0",
            "grid_template_areas": null,
            "object_position": null,
            "object_fit": null,
            "grid_auto_columns": null,
            "margin": null,
            "display": null,
            "left": null
          }
        },
        "474123b1aec949cb8922b1d2be6db027": {
          "model_module": "@jupyter-widgets/controls",
          "model_name": "HTMLModel",
          "model_module_version": "1.5.0",
          "state": {
            "_view_name": "HTMLView",
            "style": "IPY_MODEL_926d71b959f64c109f35f56cc0699674",
            "_dom_classes": [],
            "description": "",
            "_model_name": "HTMLModel",
            "placeholder": "​",
            "_view_module": "@jupyter-widgets/controls",
            "_model_module_version": "1.5.0",
            "value": "100%",
            "_view_count": null,
            "_view_module_version": "1.5.0",
            "description_tooltip": null,
            "_model_module": "@jupyter-widgets/controls",
            "layout": "IPY_MODEL_461ae3f6fa564c9bbe5457e5416ec938"
          }
        },
        "7f5abce980784b538f03dae2d16a9f73": {
          "model_module": "@jupyter-widgets/controls",
          "model_name": "FloatProgressModel",
          "model_module_version": "1.5.0",
          "state": {
            "_view_name": "ProgressView",
            "style": "IPY_MODEL_f5f58f15c66a4417ade7bce959ba0e6c",
            "_dom_classes": [],
            "description": "",
            "_model_name": "FloatProgressModel",
            "bar_style": "success",
            "max": 46830571,
            "_view_module": "@jupyter-widgets/controls",
            "_model_module_version": "1.5.0",
            "value": 46830571,
            "_view_count": null,
            "_view_module_version": "1.5.0",
            "orientation": "horizontal",
            "min": 0,
            "description_tooltip": null,
            "_model_module": "@jupyter-widgets/controls",
            "layout": "IPY_MODEL_0984abc433ac4b49919db6fb302c7874"
          }
        },
        "1aaebcedc7074c168e5305c96c6b50d0": {
          "model_module": "@jupyter-widgets/controls",
          "model_name": "HTMLModel",
          "model_module_version": "1.5.0",
          "state": {
            "_view_name": "HTMLView",
            "style": "IPY_MODEL_72e2da4f10464fa3b47a8ac052e557f6",
            "_dom_classes": [],
            "description": "",
            "_model_name": "HTMLModel",
            "placeholder": "​",
            "_view_module": "@jupyter-widgets/controls",
            "_model_module_version": "1.5.0",
            "value": " 44.7M/44.7M [00:00&lt;00:00, 118MB/s]",
            "_view_count": null,
            "_view_module_version": "1.5.0",
            "description_tooltip": null,
            "_model_module": "@jupyter-widgets/controls",
            "layout": "IPY_MODEL_2b3fbc702e0b4a208130ff6fe11788ed"
          }
        },
        "926d71b959f64c109f35f56cc0699674": {
          "model_module": "@jupyter-widgets/controls",
          "model_name": "DescriptionStyleModel",
          "model_module_version": "1.5.0",
          "state": {
            "_view_name": "StyleView",
            "_model_name": "DescriptionStyleModel",
            "description_width": "",
            "_view_module": "@jupyter-widgets/base",
            "_model_module_version": "1.5.0",
            "_view_count": null,
            "_view_module_version": "1.2.0",
            "_model_module": "@jupyter-widgets/controls"
          }
        },
        "461ae3f6fa564c9bbe5457e5416ec938": {
          "model_module": "@jupyter-widgets/base",
          "model_name": "LayoutModel",
          "model_module_version": "1.2.0",
          "state": {
            "_view_name": "LayoutView",
            "grid_template_rows": null,
            "right": null,
            "justify_content": null,
            "_view_module": "@jupyter-widgets/base",
            "overflow": null,
            "_model_module_version": "1.2.0",
            "_view_count": null,
            "flex_flow": null,
            "width": null,
            "min_width": null,
            "border": null,
            "align_items": null,
            "bottom": null,
            "_model_module": "@jupyter-widgets/base",
            "top": null,
            "grid_column": null,
            "overflow_y": null,
            "overflow_x": null,
            "grid_auto_flow": null,
            "grid_area": null,
            "grid_template_columns": null,
            "flex": null,
            "_model_name": "LayoutModel",
            "justify_items": null,
            "grid_row": null,
            "max_height": null,
            "align_content": null,
            "visibility": null,
            "align_self": null,
            "height": null,
            "min_height": null,
            "padding": null,
            "grid_auto_rows": null,
            "grid_gap": null,
            "max_width": null,
            "order": null,
            "_view_module_version": "1.2.0",
            "grid_template_areas": null,
            "object_position": null,
            "object_fit": null,
            "grid_auto_columns": null,
            "margin": null,
            "display": null,
            "left": null
          }
        },
        "f5f58f15c66a4417ade7bce959ba0e6c": {
          "model_module": "@jupyter-widgets/controls",
          "model_name": "ProgressStyleModel",
          "model_module_version": "1.5.0",
          "state": {
            "_view_name": "StyleView",
            "_model_name": "ProgressStyleModel",
            "description_width": "",
            "_view_module": "@jupyter-widgets/base",
            "_model_module_version": "1.5.0",
            "_view_count": null,
            "_view_module_version": "1.2.0",
            "bar_color": null,
            "_model_module": "@jupyter-widgets/controls"
          }
        },
        "0984abc433ac4b49919db6fb302c7874": {
          "model_module": "@jupyter-widgets/base",
          "model_name": "LayoutModel",
          "model_module_version": "1.2.0",
          "state": {
            "_view_name": "LayoutView",
            "grid_template_rows": null,
            "right": null,
            "justify_content": null,
            "_view_module": "@jupyter-widgets/base",
            "overflow": null,
            "_model_module_version": "1.2.0",
            "_view_count": null,
            "flex_flow": null,
            "width": null,
            "min_width": null,
            "border": null,
            "align_items": null,
            "bottom": null,
            "_model_module": "@jupyter-widgets/base",
            "top": null,
            "grid_column": null,
            "overflow_y": null,
            "overflow_x": null,
            "grid_auto_flow": null,
            "grid_area": null,
            "grid_template_columns": null,
            "flex": null,
            "_model_name": "LayoutModel",
            "justify_items": null,
            "grid_row": null,
            "max_height": null,
            "align_content": null,
            "visibility": null,
            "align_self": null,
            "height": null,
            "min_height": null,
            "padding": null,
            "grid_auto_rows": null,
            "grid_gap": null,
            "max_width": null,
            "order": null,
            "_view_module_version": "1.2.0",
            "grid_template_areas": null,
            "object_position": null,
            "object_fit": null,
            "grid_auto_columns": null,
            "margin": null,
            "display": null,
            "left": null
          }
        },
        "72e2da4f10464fa3b47a8ac052e557f6": {
          "model_module": "@jupyter-widgets/controls",
          "model_name": "DescriptionStyleModel",
          "model_module_version": "1.5.0",
          "state": {
            "_view_name": "StyleView",
            "_model_name": "DescriptionStyleModel",
            "description_width": "",
            "_view_module": "@jupyter-widgets/base",
            "_model_module_version": "1.5.0",
            "_view_count": null,
            "_view_module_version": "1.2.0",
            "_model_module": "@jupyter-widgets/controls"
          }
        },
        "2b3fbc702e0b4a208130ff6fe11788ed": {
          "model_module": "@jupyter-widgets/base",
          "model_name": "LayoutModel",
          "model_module_version": "1.2.0",
          "state": {
            "_view_name": "LayoutView",
            "grid_template_rows": null,
            "right": null,
            "justify_content": null,
            "_view_module": "@jupyter-widgets/base",
            "overflow": null,
            "_model_module_version": "1.2.0",
            "_view_count": null,
            "flex_flow": null,
            "width": null,
            "min_width": null,
            "border": null,
            "align_items": null,
            "bottom": null,
            "_model_module": "@jupyter-widgets/base",
            "top": null,
            "grid_column": null,
            "overflow_y": null,
            "overflow_x": null,
            "grid_auto_flow": null,
            "grid_area": null,
            "grid_template_columns": null,
            "flex": null,
            "_model_name": "LayoutModel",
            "justify_items": null,
            "grid_row": null,
            "max_height": null,
            "align_content": null,
            "visibility": null,
            "align_self": null,
            "height": null,
            "min_height": null,
            "padding": null,
            "grid_auto_rows": null,
            "grid_gap": null,
            "max_width": null,
            "order": null,
            "_view_module_version": "1.2.0",
            "grid_template_areas": null,
            "object_position": null,
            "object_fit": null,
            "grid_auto_columns": null,
            "margin": null,
            "display": null,
            "left": null
          }
        },
        "1910e54a25774c6e9038019a515b47c4": {
          "model_module": "@jupyter-widgets/controls",
          "model_name": "HBoxModel",
          "model_module_version": "1.5.0",
          "state": {
            "_view_name": "HBoxView",
            "_dom_classes": [],
            "_model_name": "HBoxModel",
            "_view_module": "@jupyter-widgets/controls",
            "_model_module_version": "1.5.0",
            "_view_count": null,
            "_view_module_version": "1.5.0",
            "box_style": "",
            "layout": "IPY_MODEL_f10a45bffdd346fa98ad3b95428e095e",
            "_model_module": "@jupyter-widgets/controls",
            "children": [
              "IPY_MODEL_99c626245f4749d5bf4fd0f0b632d437",
              "IPY_MODEL_059e26080b4148fc8920031594f73971",
              "IPY_MODEL_6a40eb37ba8b4a029ebc9f5cce01ed37"
            ]
          }
        },
        "f10a45bffdd346fa98ad3b95428e095e": {
          "model_module": "@jupyter-widgets/base",
          "model_name": "LayoutModel",
          "model_module_version": "1.2.0",
          "state": {
            "_view_name": "LayoutView",
            "grid_template_rows": null,
            "right": null,
            "justify_content": null,
            "_view_module": "@jupyter-widgets/base",
            "overflow": null,
            "_model_module_version": "1.2.0",
            "_view_count": null,
            "flex_flow": null,
            "width": null,
            "min_width": null,
            "border": null,
            "align_items": null,
            "bottom": null,
            "_model_module": "@jupyter-widgets/base",
            "top": null,
            "grid_column": null,
            "overflow_y": null,
            "overflow_x": null,
            "grid_auto_flow": null,
            "grid_area": null,
            "grid_template_columns": null,
            "flex": null,
            "_model_name": "LayoutModel",
            "justify_items": null,
            "grid_row": null,
            "max_height": null,
            "align_content": null,
            "visibility": null,
            "align_self": null,
            "height": null,
            "min_height": null,
            "padding": null,
            "grid_auto_rows": null,
            "grid_gap": null,
            "max_width": null,
            "order": null,
            "_view_module_version": "1.2.0",
            "grid_template_areas": null,
            "object_position": null,
            "object_fit": null,
            "grid_auto_columns": null,
            "margin": null,
            "display": null,
            "left": null
          }
        },
        "99c626245f4749d5bf4fd0f0b632d437": {
          "model_module": "@jupyter-widgets/controls",
          "model_name": "HTMLModel",
          "model_module_version": "1.5.0",
          "state": {
            "_view_name": "HTMLView",
            "style": "IPY_MODEL_d8eadf0bd2b44860a31d7a76411a0b15",
            "_dom_classes": [],
            "description": "",
            "_model_name": "HTMLModel",
            "placeholder": "​",
            "_view_module": "@jupyter-widgets/controls",
            "_model_module_version": "1.5.0",
            "value": "100%",
            "_view_count": null,
            "_view_module_version": "1.5.0",
            "description_tooltip": null,
            "_model_module": "@jupyter-widgets/controls",
            "layout": "IPY_MODEL_6b32c6308ceb4bd28175cb2a2d03e25d"
          }
        },
        "059e26080b4148fc8920031594f73971": {
          "model_module": "@jupyter-widgets/controls",
          "model_name": "FloatProgressModel",
          "model_module_version": "1.5.0",
          "state": {
            "_view_name": "ProgressView",
            "style": "IPY_MODEL_53f6925191964f728e1d320084da08d4",
            "_dom_classes": [],
            "description": "",
            "_model_name": "FloatProgressModel",
            "bar_style": "success",
            "max": 178793939,
            "_view_module": "@jupyter-widgets/controls",
            "_model_module_version": "1.5.0",
            "value": 178793939,
            "_view_count": null,
            "_view_module_version": "1.5.0",
            "orientation": "horizontal",
            "min": 0,
            "description_tooltip": null,
            "_model_module": "@jupyter-widgets/controls",
            "layout": "IPY_MODEL_e82e651843274abdb2a570560cc1cdf4"
          }
        },
        "6a40eb37ba8b4a029ebc9f5cce01ed37": {
          "model_module": "@jupyter-widgets/controls",
          "model_name": "HTMLModel",
          "model_module_version": "1.5.0",
          "state": {
            "_view_name": "HTMLView",
            "style": "IPY_MODEL_de2a382a52ad4c8fbea195afcd4fb69d",
            "_dom_classes": [],
            "description": "",
            "_model_name": "HTMLModel",
            "placeholder": "​",
            "_view_module": "@jupyter-widgets/controls",
            "_model_module_version": "1.5.0",
            "value": " 171M/171M [00:01&lt;00:00, 176MB/s]",
            "_view_count": null,
            "_view_module_version": "1.5.0",
            "description_tooltip": null,
            "_model_module": "@jupyter-widgets/controls",
            "layout": "IPY_MODEL_45a336d6ea32494ea8b1c6d76f269e8b"
          }
        },
        "d8eadf0bd2b44860a31d7a76411a0b15": {
          "model_module": "@jupyter-widgets/controls",
          "model_name": "DescriptionStyleModel",
          "model_module_version": "1.5.0",
          "state": {
            "_view_name": "StyleView",
            "_model_name": "DescriptionStyleModel",
            "description_width": "",
            "_view_module": "@jupyter-widgets/base",
            "_model_module_version": "1.5.0",
            "_view_count": null,
            "_view_module_version": "1.2.0",
            "_model_module": "@jupyter-widgets/controls"
          }
        },
        "6b32c6308ceb4bd28175cb2a2d03e25d": {
          "model_module": "@jupyter-widgets/base",
          "model_name": "LayoutModel",
          "model_module_version": "1.2.0",
          "state": {
            "_view_name": "LayoutView",
            "grid_template_rows": null,
            "right": null,
            "justify_content": null,
            "_view_module": "@jupyter-widgets/base",
            "overflow": null,
            "_model_module_version": "1.2.0",
            "_view_count": null,
            "flex_flow": null,
            "width": null,
            "min_width": null,
            "border": null,
            "align_items": null,
            "bottom": null,
            "_model_module": "@jupyter-widgets/base",
            "top": null,
            "grid_column": null,
            "overflow_y": null,
            "overflow_x": null,
            "grid_auto_flow": null,
            "grid_area": null,
            "grid_template_columns": null,
            "flex": null,
            "_model_name": "LayoutModel",
            "justify_items": null,
            "grid_row": null,
            "max_height": null,
            "align_content": null,
            "visibility": null,
            "align_self": null,
            "height": null,
            "min_height": null,
            "padding": null,
            "grid_auto_rows": null,
            "grid_gap": null,
            "max_width": null,
            "order": null,
            "_view_module_version": "1.2.0",
            "grid_template_areas": null,
            "object_position": null,
            "object_fit": null,
            "grid_auto_columns": null,
            "margin": null,
            "display": null,
            "left": null
          }
        },
        "53f6925191964f728e1d320084da08d4": {
          "model_module": "@jupyter-widgets/controls",
          "model_name": "ProgressStyleModel",
          "model_module_version": "1.5.0",
          "state": {
            "_view_name": "StyleView",
            "_model_name": "ProgressStyleModel",
            "description_width": "",
            "_view_module": "@jupyter-widgets/base",
            "_model_module_version": "1.5.0",
            "_view_count": null,
            "_view_module_version": "1.2.0",
            "bar_color": null,
            "_model_module": "@jupyter-widgets/controls"
          }
        },
        "e82e651843274abdb2a570560cc1cdf4": {
          "model_module": "@jupyter-widgets/base",
          "model_name": "LayoutModel",
          "model_module_version": "1.2.0",
          "state": {
            "_view_name": "LayoutView",
            "grid_template_rows": null,
            "right": null,
            "justify_content": null,
            "_view_module": "@jupyter-widgets/base",
            "overflow": null,
            "_model_module_version": "1.2.0",
            "_view_count": null,
            "flex_flow": null,
            "width": null,
            "min_width": null,
            "border": null,
            "align_items": null,
            "bottom": null,
            "_model_module": "@jupyter-widgets/base",
            "top": null,
            "grid_column": null,
            "overflow_y": null,
            "overflow_x": null,
            "grid_auto_flow": null,
            "grid_area": null,
            "grid_template_columns": null,
            "flex": null,
            "_model_name": "LayoutModel",
            "justify_items": null,
            "grid_row": null,
            "max_height": null,
            "align_content": null,
            "visibility": null,
            "align_self": null,
            "height": null,
            "min_height": null,
            "padding": null,
            "grid_auto_rows": null,
            "grid_gap": null,
            "max_width": null,
            "order": null,
            "_view_module_version": "1.2.0",
            "grid_template_areas": null,
            "object_position": null,
            "object_fit": null,
            "grid_auto_columns": null,
            "margin": null,
            "display": null,
            "left": null
          }
        },
        "de2a382a52ad4c8fbea195afcd4fb69d": {
          "model_module": "@jupyter-widgets/controls",
          "model_name": "DescriptionStyleModel",
          "model_module_version": "1.5.0",
          "state": {
            "_view_name": "StyleView",
            "_model_name": "DescriptionStyleModel",
            "description_width": "",
            "_view_module": "@jupyter-widgets/base",
            "_model_module_version": "1.5.0",
            "_view_count": null,
            "_view_module_version": "1.2.0",
            "_model_module": "@jupyter-widgets/controls"
          }
        },
        "45a336d6ea32494ea8b1c6d76f269e8b": {
          "model_module": "@jupyter-widgets/base",
          "model_name": "LayoutModel",
          "model_module_version": "1.2.0",
          "state": {
            "_view_name": "LayoutView",
            "grid_template_rows": null,
            "right": null,
            "justify_content": null,
            "_view_module": "@jupyter-widgets/base",
            "overflow": null,
            "_model_module_version": "1.2.0",
            "_view_count": null,
            "flex_flow": null,
            "width": null,
            "min_width": null,
            "border": null,
            "align_items": null,
            "bottom": null,
            "_model_module": "@jupyter-widgets/base",
            "top": null,
            "grid_column": null,
            "overflow_y": null,
            "overflow_x": null,
            "grid_auto_flow": null,
            "grid_area": null,
            "grid_template_columns": null,
            "flex": null,
            "_model_name": "LayoutModel",
            "justify_items": null,
            "grid_row": null,
            "max_height": null,
            "align_content": null,
            "visibility": null,
            "align_self": null,
            "height": null,
            "min_height": null,
            "padding": null,
            "grid_auto_rows": null,
            "grid_gap": null,
            "max_width": null,
            "order": null,
            "_view_module_version": "1.2.0",
            "grid_template_areas": null,
            "object_position": null,
            "object_fit": null,
            "grid_auto_columns": null,
            "margin": null,
            "display": null,
            "left": null
          }
        }
      }
    }
  },
  "cells": [
    {
      "cell_type": "markdown",
      "metadata": {
        "id": "view-in-github",
        "colab_type": "text"
      },
      "source": [
        "<a href=\"https://colab.research.google.com/github/frarus/AMLexam/blob/main/Exam.ipynb\" target=\"_parent\"><img src=\"https://colab.research.google.com/assets/colab-badge.svg\" alt=\"Open In Colab\"/></a>"
      ]
    },
    {
      "cell_type": "code",
      "source": [
        "!pip install tensorboardX==1.4"
      ],
      "metadata": {
        "colab": {
          "base_uri": "https://localhost:8080/"
        },
        "id": "o3jrB7Oq8FVf",
        "outputId": "e87eb5f2-13d5-4433-ba77-23a4ac6cf363"
      },
      "execution_count": 1,
      "outputs": [
        {
          "output_type": "stream",
          "name": "stdout",
          "text": [
            "Collecting tensorboardX==1.4\n",
            "  Downloading tensorboardX-1.4-py2.py3-none-any.whl (67 kB)\n",
            "\u001b[?25l\r\u001b[K     |████▉                           | 10 kB 42.0 MB/s eta 0:00:01\r\u001b[K     |█████████▊                      | 20 kB 26.1 MB/s eta 0:00:01\r\u001b[K     |██████████████▋                 | 30 kB 12.5 MB/s eta 0:00:01\r\u001b[K     |███████████████████▌            | 40 kB 10.0 MB/s eta 0:00:01\r\u001b[K     |████████████████████████▍       | 51 kB 4.4 MB/s eta 0:00:01\r\u001b[K     |█████████████████████████████▎  | 61 kB 4.8 MB/s eta 0:00:01\r\u001b[K     |████████████████████████████████| 67 kB 3.2 MB/s \n",
            "\u001b[?25hRequirement already satisfied: protobuf>=3.2.0 in /usr/local/lib/python3.7/dist-packages (from tensorboardX==1.4) (3.17.3)\n",
            "Requirement already satisfied: six in /usr/local/lib/python3.7/dist-packages (from tensorboardX==1.4) (1.15.0)\n",
            "Requirement already satisfied: numpy in /usr/local/lib/python3.7/dist-packages (from tensorboardX==1.4) (1.19.5)\n",
            "Installing collected packages: tensorboardX\n",
            "Successfully installed tensorboardX-1.4\n"
          ]
        }
      ]
    },
    {
      "cell_type": "code",
      "source": [
        "from google.colab import drive\n",
        "drive.mount('/content/drive')"
      ],
      "metadata": {
        "colab": {
          "base_uri": "https://localhost:8080/"
        },
        "id": "mEi2CsDq--2b",
        "outputId": "e44314ae-6f45-4431-95ee-5732ed1c66cc"
      },
      "execution_count": 2,
      "outputs": [
        {
          "output_type": "stream",
          "name": "stdout",
          "text": [
            "Mounted at /content/drive\n"
          ]
        }
      ]
    },
    {
      "cell_type": "code",
      "source": [
        "import os\n",
        "import logging\n",
        "\n"
      ],
      "metadata": {
        "id": "tmA_KI_u_Dib"
      },
      "execution_count": 3,
      "outputs": []
    },
    {
      "cell_type": "code",
      "source": [
        "if not os.path.isdir('./AMLexam'):\n",
        "\n",
        "  !git clone 'https://github.com/frarus/AMLexam.git'\n"
      ],
      "metadata": {
        "id": "18K55-maFLqT",
        "colab": {
          "base_uri": "https://localhost:8080/"
        },
        "outputId": "2bbb598a-6296-41b6-da56-8773cac7154b"
      },
      "execution_count": 4,
      "outputs": [
        {
          "output_type": "stream",
          "name": "stdout",
          "text": [
            "Cloning into 'AMLexam'...\n",
            "remote: Enumerating objects: 186, done.\u001b[K\n",
            "remote: Counting objects: 100% (186/186), done.\u001b[K\n",
            "remote: Compressing objects: 100% (141/141), done.\u001b[K\n",
            "remote: Total 186 (delta 67), reused 127 (delta 31), pack-reused 0\u001b[K\n",
            "Receiving objects: 100% (186/186), 218.79 KiB | 1.94 MiB/s, done.\n",
            "Resolving deltas: 100% (67/67), done.\n"
          ]
        }
      ]
    },
    {
      "cell_type": "code",
      "source": [
        "cd AMLexam/"
      ],
      "metadata": {
        "colab": {
          "base_uri": "https://localhost:8080/"
        },
        "id": "Etr9-Z1NMWzZ",
        "outputId": "9551bebb-e56f-4029-8861-dd1ed4d9c80a"
      },
      "execution_count": 5,
      "outputs": [
        {
          "output_type": "stream",
          "name": "stdout",
          "text": [
            "/content/AMLexam\n"
          ]
        }
      ]
    },
    {
      "cell_type": "code",
      "source": [
        "cd BiSeNet/"
      ],
      "metadata": {
        "colab": {
          "base_uri": "https://localhost:8080/"
        },
        "id": "Vt6bstMkMdYI",
        "outputId": "646ca653-287b-48be-e3ea-cf67e8319c4c"
      },
      "execution_count": 6,
      "outputs": [
        {
          "output_type": "stream",
          "name": "stdout",
          "text": [
            "/content/AMLexam/BiSeNet\n"
          ]
        }
      ]
    },
    {
      "cell_type": "code",
      "source": [
        "label_info = json.load(open('/content/drive/MyDrive/Datasets/Cityscapes/info.json', 'r'))\n",
        "    \n",
        "label_info=label_info['palette']\n",
        "print (label_info)"
      ],
      "metadata": {
        "id": "Nc_3IhNm-1tz",
        "outputId": "9a6fa6b6-828d-4bfc-a8d1-2e0709a18502",
        "colab": {
          "base_uri": "https://localhost:8080/"
        }
      },
      "execution_count": null,
      "outputs": [
        {
          "output_type": "stream",
          "name": "stdout",
          "text": [
            "[[128, 64, 128], [244, 35, 232], [70, 70, 70], [102, 102, 156], [190, 153, 153], [153, 153, 153], [250, 170, 30], [220, 220, 0], [107, 142, 35], [152, 251, 152], [70, 130, 180], [220, 20, 60], [255, 0, 0], [0, 0, 142], [0, 0, 70], [0, 60, 100], [0, 80, 100], [0, 0, 230], [119, 11, 32], [0, 0, 0]]\n"
          ]
        }
      ]
    },
    {
      "cell_type": "code",
      "source": [
        "from model.build_BiSeNet import BiSeNet\n",
        "model = BiSeNet(19, 'resnet101')\n",
        "model = torch.nn.DataParallel(model).cuda()\n",
        "\n",
        "print('load model...')\n",
        "checkpoint = torch.load('/content/drive/MyDrive/checkpoints_101_sgd_da/best_crossentropy_loss.pth')\n",
        "# load pretrained model if exists\n",
        "model.module.load_state_dict(checkpoint['model_state_dict'])\n",
        "print('Done!')"
      ],
      "metadata": {
        "id": "-dRWOe6mC6vQ",
        "outputId": "1e09358d-1a39-4857-a0e2-0168f8208e15",
        "colab": {
          "base_uri": "https://localhost:8080/"
        }
      },
      "execution_count": null,
      "outputs": [
        {
          "output_type": "stream",
          "name": "stdout",
          "text": [
            "load model...\n",
            "Done!\n"
          ]
        }
      ]
    },
    {
      "cell_type": "code",
      "source": [
        "from SSL import create_pseudo_labels\n",
        "create_pseudo_labels(model, '/content/drive/MyDrive/Datasets/pseudolabels', num_workers=8, batch_size=1)\n"
      ],
      "metadata": {
        "id": "LPrc1vqZDnGY"
      },
      "execution_count": null,
      "outputs": []
    },
    {
      "cell_type": "code",
      "source": [
        "from IPython.display import Image\n",
        "\n",
        "import torch\n",
        "from torchvision import transforms\n",
        "from PIL import Image as PIL\n",
        "from dataset.Cityscapes_pseudo import Cityscapes_pseudo\n",
        "import matplotlib.pyplot as plt\n",
        "\n",
        "import json\n",
        "\n",
        "train_dataset=Cityscapes_pseudo ()\n",
        "\n",
        "convert_tensor = transforms.ToTensor()\n",
        "index=499\n",
        "img = PIL.open(train_dataset.files[index]['label'])\n",
        "print(train_dataset.files[index]['name'])\n",
        "img = np.asarray(img, np.ubyte)\n",
        "info = json.load(open('/content/drive/MyDrive/Datasets/Cityscapes/info.json', 'r'))\n",
        "class_mapping = info['label2train']\n",
        "# remap the semantic label\n",
        "img = encode_segmap(img, class_mapping, 255)\n",
        "print(img.shape)\n",
        "#img=convert_tensor(img).numpy()\n",
        "img = colour_code_segmentation(img, label_info)\n",
        "print (type(img), img.shape)\n",
        "img = PIL.fromarray(img, 'RGB')\n",
        "#img = Image(train_dataset.files[0]['label'])\n",
        "plt.imshow(img)\n",
        "plt.show()\n",
        "img.show\n",
        "img.save(\"test_pseudo.png\")\n",
        "#print (train_dataset.files[0]['image'])\n",
        "img_origin = PIL.open(train_dataset.files[index]['image'])\n",
        "plt.imshow(img_origin)\n",
        "plt.show()\n",
        "img_origin.show"
      ],
      "metadata": {
        "id": "OFfNvWN6-TCX",
        "outputId": "04ddd4f6-89e2-45ac-9aae-33aaf11f079b",
        "colab": {
          "base_uri": "https://localhost:8080/",
          "height": 528
        }
      },
      "execution_count": null,
      "outputs": [
        {
          "output_type": "stream",
          "name": "stdout",
          "text": [
            "bremen_000264_000019\n",
            "(512, 1024)\n",
            "(512, 1024, 3)\n",
            "<class 'numpy.ndarray'> (512, 1024, 3)\n"
          ]
        },
        {
          "output_type": "display_data",
          "data": {
            "image/png": "[encoded data removed]",
            "text/plain": [
              "<Figure size 432x288 with 1 Axes>"
            ]
          },
          "metadata": {
            "needs_background": "light"
          }
        },
        {
          "output_type": "display_data",
          "data": {
            "image/png": "[encoded data removed]",
            "text/plain": [
              "<Figure size 432x288 with 1 Axes>"
            ]
          },
          "metadata": {
            "needs_background": "light"
          }
        },
        {
          "output_type": "execute_result",
          "data": {
            "text/plain": [
              "<bound method Image.show of <PIL.PngImagePlugin.PngImageFile image mode=RGB size=2048x1024 at 0x7F4408981150>>"
            ]
          },
          "metadata": {},
          "execution_count": 36
        }
      ]
    },
    {
      "cell_type": "code",
      "source": [
        "!python trainGTAtoCityscapespuntoc.py"
      ],
      "metadata": {
        "id": "3gRMJlIHKUz9",
        "outputId": "f2465f2f-322b-43fe-a3da-c6ec0fee9d69",
        "colab": {
          "base_uri": "https://localhost:8080/"
        }
      },
      "execution_count": 7,
      "outputs": [
        {
          "output_type": "stream",
          "name": "stdout",
          "text": [
            "Downloading: \"https://download.pytorch.org/models/resnet18-f37072fd.pth\" to /root/.cache/torch/hub/checkpoints/resnet18-f37072fd.pth\n",
            "100% 44.7M/44.7M [00:00<00:00, 171MB/s]\n",
            "Downloading: \"https://download.pytorch.org/models/resnet101-63fe2227.pth\" to /root/.cache/torch/hub/checkpoints/resnet101-63fe2227.pth\n",
            "100% 171M/171M [00:03<00:00, 58.8MB/s]\n",
            "epoch 0, lr 0.025000: 100% 1000/1000 [02:25<00:00,  6.88it/s]\n",
            "average loss for train : 3.075507\n",
            "start val!\n",
            "precision per pixel for test: 0.549\n",
            "mIoU for validation: 0.160\n",
            "iter =        0/      50, loss_segmentation = 2.263 loss_adversarial = 0.658 loss_D = 0.693 \n",
            "tcmalloc: large alloc 2097152000 bytes == 0x559c8a8be000 @  0x7f8f8f594001 0x7f8e8e3ee54f 0x7f8e8e43eb58 0x7f8e8e442b17 0x7f8e8e4e1203 0x559bc2460390 0x559bc2460120 0x559bc24d4679 0x559bc24cf02f 0x559bc2461aba 0x559bc24d0cd4 0x559bc24619da 0x559bc24cfeae 0x559bc24cf02f 0x559bc24ced43 0x559bc2599302 0x559bc259967d 0x559bc2599526 0x559bc25711d3 0x559bc2570e7c 0x7f8f8e37cbf7 0x559bc2570d5a\n",
            "tcmalloc: large alloc 2097152000 bytes == 0x559d080be000 @  0x7f8f8f594001 0x7f8e8e3ee54f 0x7f8e8e43eb58 0x7f8e8e442b17 0x7f8e8e4e1203 0x559bc2460390 0x559bc2460120 0x559bc24d4679 0x559bc24cf02f 0x559bc2461aba 0x559bc24d0cd4 0x559bc24619da 0x559bc24cfeae 0x559bc24cf02f 0x559bc24ced43 0x559bc2599302 0x559bc259967d 0x559bc2599526 0x559bc25711d3 0x559bc2570e7c 0x7f8f8e37cbf7 0x559bc2570d5a\n",
            "epoch 1, lr 0.024550: 100% 1000/1000 [02:32<00:00,  6.55it/s]\n",
            "average loss for train : 3.524010\n",
            "start val!\n",
            "precision per pixel for test: 0.459\n",
            "mIoU for validation: 0.099\n",
            "iter =        1/      50, loss_segmentation = 3.287 loss_adversarial = 0.639 loss_D = 0.678 \n",
            "tcmalloc: large alloc 2097152000 bytes == 0x559c8a8be000 @  0x7f8f8f594001 0x7f8e8e3ee54f 0x7f8e8e43eb58 0x7f8e8e442b17 0x7f8e8e4e1203 0x559bc2460390 0x559bc2460120 0x559bc24d4679 0x559bc24cf02f 0x559bc2461aba 0x559bc24d0cd4 0x559bc24619da 0x559bc24cfeae 0x559bc24cf02f 0x559bc24ced43 0x559bc2599302 0x559bc259967d 0x559bc2599526 0x559bc25711d3 0x559bc2570e7c 0x7f8f8e37cbf7 0x559bc2570d5a\n",
            "tcmalloc: large alloc 2097152000 bytes == 0x559d080be000 @  0x7f8f8f594001 0x7f8e8e3ee54f 0x7f8e8e43eb58 0x7f8e8e442b17 0x7f8e8e4e1203 0x559bc2460390 0x559bc2460120 0x559bc24d4679 0x559bc24cf02f 0x559bc2461aba 0x559bc24d0cd4 0x559bc24619da 0x559bc24cfeae 0x559bc24cf02f 0x559bc24ced43 0x559bc2599302 0x559bc259967d 0x559bc2599526 0x559bc25711d3 0x559bc2570e7c 0x7f8f8e37cbf7 0x559bc2570d5a\n",
            "epoch 2, lr 0.024098: 100% 1000/1000 [02:32<00:00,  6.58it/s]\n",
            "average loss for train : 2.251387\n",
            "start val!\n",
            "precision per pixel for test: 0.508\n",
            "mIoU for validation: 0.135\n",
            "iter =        2/      50, loss_segmentation = 2.194 loss_adversarial = 0.688 loss_D = 0.700 \n",
            "tcmalloc: large alloc 2097152000 bytes == 0x559c8a8be000 @  0x7f8f8f594001 0x7f8e8e3ee54f 0x7f8e8e43eb58 0x7f8e8e442b17 0x7f8e8e4e1203 0x559bc2460390 0x559bc2460120 0x559bc24d4679 0x559bc24cf02f 0x559bc2461aba 0x559bc24d0cd4 0x559bc24619da 0x559bc24cfeae 0x559bc24cf02f 0x559bc24ced43 0x559bc2599302 0x559bc259967d 0x559bc2599526 0x559bc25711d3 0x559bc2570e7c 0x7f8f8e37cbf7 0x559bc2570d5a\n",
            "tcmalloc: large alloc 2097152000 bytes == 0x559d080be000 @  0x7f8f8f594001 0x7f8e8e3ee54f 0x7f8e8e43eb58 0x7f8e8e442b17 0x7f8e8e4e1203 0x559bc2460390 0x559bc2460120 0x559bc24d4679 0x559bc24cf02f 0x559bc2461aba 0x559bc24d0cd4 0x559bc24619da 0x559bc24cfeae 0x559bc24cf02f 0x559bc24ced43 0x559bc2599302 0x559bc259967d 0x559bc2599526 0x559bc25711d3 0x559bc2570e7c 0x7f8f8e37cbf7 0x559bc2570d5a\n",
            "epoch 3, lr 0.023646: 100% 1000/1000 [02:32<00:00,  6.55it/s]\n",
            "average loss for train : 2.440808\n",
            "start val!\n",
            "precision per pixel for test: 0.364\n",
            "mIoU for validation: 0.120\n",
            "iter =        3/      50, loss_segmentation = 1.910 loss_adversarial = 0.819 loss_D = 0.651 \n",
            "epoch 4, lr 0.023193: 100% 1000/1000 [02:32<00:00,  6.58it/s]\n",
            "average loss for train : 4.098750\n",
            "start val!\n",
            "precision per pixel for test: 0.482\n",
            "mIoU for validation: 0.103\n",
            "iter =        4/      50, loss_segmentation = 3.216 loss_adversarial = 0.679 loss_D = 0.680 \n",
            "epoch 5, lr 0.022738: 100% 1000/1000 [02:31<00:00,  6.58it/s]\n",
            "average loss for train : 2.805178\n",
            "start val!\n",
            "precision per pixel for test: 0.586\n",
            "mIoU for validation: 0.144\n",
            "iter =        5/      50, loss_segmentation = 2.248 loss_adversarial = 0.766 loss_D = 0.643 \n",
            "epoch 6, lr 0.022283: 100% 1000/1000 [02:32<00:00,  6.55it/s]\n",
            "average loss for train : 3.213291\n",
            "start val!\n",
            "precision per pixel for test: 0.459\n",
            "mIoU for validation: 0.112\n",
            "iter =        6/      50, loss_segmentation = 2.866 loss_adversarial = 0.939 loss_D = 0.594 \n",
            "epoch 7, lr 0.021827: 100% 1000/1000 [02:32<00:00,  6.58it/s]\n",
            "average loss for train : 2.387230\n",
            "start val!\n",
            "precision per pixel for test: 0.482\n",
            "mIoU for validation: 0.127\n",
            "iter =        7/      50, loss_segmentation = 2.781 loss_adversarial = 0.893 loss_D = 0.630 \n",
            "epoch 8, lr 0.021369: 100% 1000/1000 [02:32<00:00,  6.58it/s]\n",
            "average loss for train : 2.928700\n",
            "start val!\n",
            "precision per pixel for test: 0.601\n",
            "mIoU for validation: 0.156\n",
            "iter =        8/      50, loss_segmentation = 3.401 loss_adversarial = 0.863 loss_D = 0.594 \n",
            "epoch 9, lr 0.020911: 100% 1000/1000 [02:31<00:00,  6.58it/s]\n",
            "average loss for train : 2.214765\n",
            "start val!\n",
            "precision per pixel for test: 0.589\n",
            "mIoU for validation: 0.151\n",
            "iter =        9/      50, loss_segmentation = 1.629 loss_adversarial = 0.766 loss_D = 0.626 \n",
            "epoch 10, lr 0.020451: 100% 1000/1000 [02:32<00:00,  6.57it/s]\n",
            "average loss for train : 2.010966\n",
            "start val!\n",
            "precision per pixel for test: 0.602\n",
            "mIoU for validation: 0.165\n",
            "iter =       10/      50, loss_segmentation = 1.789 loss_adversarial = 1.187 loss_D = 0.581 \n",
            "epoch 11, lr 0.019991: 100% 1000/1000 [02:32<00:00,  6.55it/s]\n",
            "average loss for train : 2.262763\n",
            "start val!\n",
            "precision per pixel for test: 0.436\n",
            "mIoU for validation: 0.108\n",
            "iter =       11/      50, loss_segmentation = 2.171 loss_adversarial = 0.907 loss_D = 0.668 \n",
            "epoch 12, lr 0.019529: 100% 1000/1000 [02:32<00:00,  6.56it/s]\n",
            "average loss for train : 1.957447\n",
            "start val!\n",
            "precision per pixel for test: 0.518\n",
            "mIoU for validation: 0.138\n",
            "iter =       12/      50, loss_segmentation = 2.202 loss_adversarial = 1.335 loss_D = 0.528 \n",
            "epoch 13, lr 0.019066: 100% 1000/1000 [02:32<00:00,  6.54it/s]\n",
            "average loss for train : 2.339494\n",
            "start val!\n",
            "precision per pixel for test: 0.373\n",
            "mIoU for validation: 0.098\n",
            "iter =       13/      50, loss_segmentation = 1.572 loss_adversarial = 1.265 loss_D = 0.433 \n",
            "epoch 14, lr 0.018601: 100% 1000/1000 [02:32<00:00,  6.56it/s]\n",
            "average loss for train : 1.892364\n",
            "start val!\n",
            "precision per pixel for test: 0.518\n",
            "mIoU for validation: 0.141\n",
            "iter =       14/      50, loss_segmentation = 2.168 loss_adversarial = 1.282 loss_D = 0.586 \n",
            "epoch 15, lr 0.018135: 100% 1000/1000 [02:32<00:00,  6.55it/s]\n",
            "average loss for train : 1.973511\n",
            "start val!\n",
            "precision per pixel for test: 0.550\n",
            "mIoU for validation: 0.151\n",
            "iter =       15/      50, loss_segmentation = 1.572 loss_adversarial = 1.444 loss_D = 0.487 \n",
            "epoch 16, lr 0.017668: 100% 1000/1000 [02:32<00:00,  6.56it/s]\n",
            "average loss for train : 1.774395\n",
            "start val!\n",
            "precision per pixel for test: 0.474\n",
            "mIoU for validation: 0.114\n",
            "iter =       16/      50, loss_segmentation = 2.820 loss_adversarial = 1.336 loss_D = 0.528 \n",
            "epoch 17, lr 0.017200: 100% 1000/1000 [02:32<00:00,  6.55it/s]\n",
            "average loss for train : 1.784108\n",
            "start val!\n",
            "precision per pixel for test: 0.383\n",
            "mIoU for validation: 0.107\n",
            "iter =       17/      50, loss_segmentation = 1.174 loss_adversarial = 1.473 loss_D = 0.469 \n",
            "epoch 18, lr 0.016730: 100% 1000/1000 [02:32<00:00,  6.55it/s]\n",
            "average loss for train : 1.653684\n",
            "start val!\n",
            "precision per pixel for test: 0.531\n",
            "mIoU for validation: 0.146\n",
            "iter =       18/      50, loss_segmentation = 1.250 loss_adversarial = 1.899 loss_D = 0.425 \n",
            "epoch 19, lr 0.016259: 100% 1000/1000 [02:33<00:00,  6.54it/s]\n",
            "average loss for train : 1.595732\n",
            "start val!\n",
            "precision per pixel for test: 0.540\n",
            "mIoU for validation: 0.150\n",
            "iter =       19/      50, loss_segmentation = 1.465 loss_adversarial = 1.654 loss_D = 0.443 \n",
            "epoch 20, lr 0.015786: 100% 1000/1000 [02:32<00:00,  6.54it/s]\n",
            "average loss for train : 1.510759\n",
            "start val!\n",
            "precision per pixel for test: 0.502\n",
            "mIoU for validation: 0.140\n",
            "iter =       20/      50, loss_segmentation = 1.283 loss_adversarial = 1.955 loss_D = 0.360 \n",
            "epoch 21, lr 0.015312: 100% 1000/1000 [02:32<00:00,  6.54it/s]\n",
            "average loss for train : 1.382354\n",
            "start val!\n",
            "precision per pixel for test: 0.517\n",
            "mIoU for validation: 0.143\n",
            "iter =       21/      50, loss_segmentation = 1.412 loss_adversarial = 1.688 loss_D = 0.421 \n",
            "epoch 22, lr 0.014836: 100% 1000/1000 [02:33<00:00,  6.53it/s]\n",
            "average loss for train : 1.486997\n",
            "start val!\n",
            "precision per pixel for test: 0.508\n",
            "mIoU for validation: 0.135\n",
            "iter =       22/      50, loss_segmentation = 1.523 loss_adversarial = 1.624 loss_D = 0.575 \n",
            "epoch 23, lr 0.014358: 100% 1000/1000 [02:32<00:00,  6.55it/s]\n",
            "average loss for train : 1.769513\n",
            "start val!\n",
            "precision per pixel for test: 0.497\n",
            "mIoU for validation: 0.144\n",
            "iter =       23/      50, loss_segmentation = 1.247 loss_adversarial = 1.176 loss_D = 0.655 \n",
            "epoch 24, lr 0.013879: 100% 1000/1000 [02:32<00:00,  6.54it/s]\n",
            "average loss for train : 1.896461\n",
            "start val!\n",
            "precision per pixel for test: 0.437\n",
            "mIoU for validation: 0.118\n",
            "iter =       24/      50, loss_segmentation = 2.051 loss_adversarial = 1.599 loss_D = 0.515 \n",
            "epoch 25, lr 0.013397: 100% 1000/1000 [02:32<00:00,  6.55it/s]\n",
            "average loss for train : 1.426245\n",
            "start val!\n",
            "precision per pixel for test: 0.546\n",
            "mIoU for validation: 0.148\n",
            "iter =       25/      50, loss_segmentation = 1.492 loss_adversarial = 1.874 loss_D = 0.432 \n",
            "epoch 26, lr 0.012914: 100% 1000/1000 [02:33<00:00,  6.52it/s]\n",
            "average loss for train : 1.485114\n",
            "start val!\n",
            "precision per pixel for test: 0.547\n",
            "mIoU for validation: 0.145\n",
            "iter =       26/      50, loss_segmentation = 1.413 loss_adversarial = 1.932 loss_D = 0.393 \n",
            "epoch 27, lr 0.012429: 100% 1000/1000 [02:32<00:00,  6.55it/s]\n",
            "average loss for train : 1.318284\n",
            "start val!\n",
            "precision per pixel for test: 0.531\n",
            "mIoU for validation: 0.140\n",
            "iter =       27/      50, loss_segmentation = 1.337 loss_adversarial = 2.215 loss_D = 0.383 \n",
            "epoch 28, lr 0.011941: 100% 1000/1000 [02:32<00:00,  6.54it/s]\n",
            "average loss for train : 1.287504\n",
            "start val!\n",
            "precision per pixel for test: 0.534\n",
            "mIoU for validation: 0.148\n",
            "iter =       28/      50, loss_segmentation = 1.779 loss_adversarial = 2.360 loss_D = 0.334 \n",
            "epoch 29, lr 0.011452: 100% 1000/1000 [02:32<00:00,  6.54it/s]\n",
            "average loss for train : 1.268204\n",
            "start val!\n",
            "precision per pixel for test: 0.537\n",
            "mIoU for validation: 0.141\n",
            "iter =       29/      50, loss_segmentation = 1.028 loss_adversarial = 2.217 loss_D = 0.338 \n",
            "epoch 30, lr 0.010960: 100% 1000/1000 [02:33<00:00,  6.53it/s]\n",
            "average loss for train : 1.219651\n",
            "start val!\n",
            "precision per pixel for test: 0.457\n",
            "mIoU for validation: 0.120\n",
            "iter =       30/      50, loss_segmentation = 2.093 loss_adversarial = 3.031 loss_D = 0.343 \n",
            "epoch 31, lr 0.010465: 100% 1000/1000 [02:33<00:00,  6.51it/s]\n",
            "average loss for train : 1.126830\n",
            "start val!\n",
            "precision per pixel for test: 0.540\n",
            "mIoU for validation: 0.148\n",
            "iter =       31/      50, loss_segmentation = 1.024 loss_adversarial = 2.864 loss_D = 0.277 \n",
            "epoch 32, lr 0.009968: 100% 1000/1000 [02:32<00:00,  6.54it/s]\n",
            "average loss for train : 1.167704\n",
            "start val!\n",
            "precision per pixel for test: 0.465\n",
            "mIoU for validation: 0.122\n",
            "iter =       32/      50, loss_segmentation = 1.127 loss_adversarial = 3.422 loss_D = 0.297 \n",
            "epoch 33, lr 0.009468: 100% 1000/1000 [02:32<00:00,  6.54it/s]\n",
            "average loss for train : 1.087618\n",
            "start val!\n",
            "precision per pixel for test: 0.497\n",
            "mIoU for validation: 0.141\n",
            "iter =       33/      50, loss_segmentation = 1.052 loss_adversarial = 2.711 loss_D = 0.421 \n",
            "epoch 34, lr 0.008966: 100% 1000/1000 [02:32<00:00,  6.55it/s]\n",
            "average loss for train : 1.066669\n",
            "start val!\n",
            "precision per pixel for test: 0.493\n",
            "mIoU for validation: 0.139\n",
            "iter =       34/      50, loss_segmentation = 1.129 loss_adversarial = 2.592 loss_D = 0.283 \n",
            "epoch 35, lr 0.008460: 100% 1000/1000 [02:32<00:00,  6.55it/s]\n",
            "average loss for train : 1.641809\n",
            "start val!\n",
            "precision per pixel for test: 0.336\n",
            "mIoU for validation: 0.097\n",
            "iter =       35/      50, loss_segmentation = 1.934 loss_adversarial = 3.484 loss_D = 0.375 \n",
            "epoch 36, lr 0.007950: 100% 1000/1000 [02:32<00:00,  6.55it/s]\n",
            "average loss for train : 1.663174\n",
            "start val!\n",
            "precision per pixel for test: 0.496\n",
            "mIoU for validation: 0.136\n",
            "iter =       36/      50, loss_segmentation = 1.505 loss_adversarial = 3.131 loss_D = 0.385 \n",
            "epoch 37, lr 0.007437: 100% 1000/1000 [02:32<00:00,  6.54it/s]\n",
            "average loss for train : 1.548064\n",
            "start val!\n",
            "precision per pixel for test: 0.563\n",
            "mIoU for validation: 0.150\n",
            "iter =       37/      50, loss_segmentation = 1.370 loss_adversarial = 2.433 loss_D = 0.362 \n",
            "epoch 38, lr 0.006920: 100% 1000/1000 [02:32<00:00,  6.54it/s]\n",
            "average loss for train : 1.278269\n",
            "start val!\n",
            "precision per pixel for test: 0.579\n",
            "mIoU for validation: 0.152\n",
            "iter =       38/      50, loss_segmentation = 1.087 loss_adversarial = 2.427 loss_D = 0.404 \n",
            "epoch 39, lr 0.006399: 100% 1000/1000 [02:32<00:00,  6.54it/s]\n",
            "average loss for train : 1.271556\n",
            "start val!\n",
            "precision per pixel for test: 0.579\n",
            "mIoU for validation: 0.168\n",
            "iter =       39/      50, loss_segmentation = 1.229 loss_adversarial = 2.547 loss_D = 0.697 \n",
            "epoch 40, lr 0.005873: 100% 1000/1000 [02:32<00:00,  6.55it/s]\n",
            "average loss for train : 1.193009\n",
            "start val!\n",
            "precision per pixel for test: 0.492\n",
            "mIoU for validation: 0.132\n",
            "iter =       40/      50, loss_segmentation = 0.971 loss_adversarial = 2.409 loss_D = 0.379 \n",
            "epoch 41, lr 0.005342: 100% 1000/1000 [02:33<00:00,  6.53it/s]\n",
            "average loss for train : 1.123507\n",
            "start val!\n",
            "precision per pixel for test: 0.575\n",
            "mIoU for validation: 0.161\n",
            "iter =       41/      50, loss_segmentation = 1.160 loss_adversarial = 1.911 loss_D = 0.483 \n",
            "epoch 42, lr 0.004804: 100% 1000/1000 [02:33<00:00,  6.53it/s]\n",
            "average loss for train : 1.230116\n",
            "start val!\n",
            "precision per pixel for test: 0.477\n",
            "mIoU for validation: 0.134\n",
            "iter =       42/      50, loss_segmentation = 0.953 loss_adversarial = 3.090 loss_D = 0.305 \n",
            "epoch 43, lr 0.004260: 100% 1000/1000 [02:32<00:00,  6.54it/s]\n",
            "average loss for train : 1.103871\n",
            "start val!\n",
            "precision per pixel for test: 0.558\n",
            "mIoU for validation: 0.155\n",
            "iter =       43/      50, loss_segmentation = 1.255 loss_adversarial = 3.154 loss_D = 0.272 \n",
            "epoch 44, lr 0.003709: 100% 1000/1000 [02:33<00:00,  6.53it/s]\n",
            "average loss for train : 1.441078\n",
            "start val!\n",
            "precision per pixel for test: 0.483\n",
            "mIoU for validation: 0.134\n",
            "iter =       44/      50, loss_segmentation = 1.082 loss_adversarial = 3.037 loss_D = 0.247 \n",
            "epoch 45, lr 0.003147: 100% 1000/1000 [02:33<00:00,  6.53it/s]\n",
            "average loss for train : 1.166921\n",
            "start val!\n",
            "precision per pixel for test: 0.535\n",
            "mIoU for validation: 0.150\n",
            "iter =       45/      50, loss_segmentation = 1.022 loss_adversarial = 2.157 loss_D = 0.360 \n",
            "epoch 46, lr 0.002575: 100% 1000/1000 [02:32<00:00,  6.54it/s]\n",
            "average loss for train : 1.043703\n",
            "start val!\n",
            "precision per pixel for test: 0.555\n",
            "mIoU for validation: 0.153\n",
            "iter =       46/      50, loss_segmentation = 1.266 loss_adversarial = 2.811 loss_D = 0.295 \n",
            "epoch 47, lr 0.001987: 100% 1000/1000 [02:32<00:00,  6.55it/s]\n",
            "average loss for train : 1.002213\n",
            "start val!\n",
            "precision per pixel for test: 0.581\n",
            "mIoU for validation: 0.160\n",
            "iter =       47/      50, loss_segmentation = 1.189 loss_adversarial = 2.804 loss_D = 0.303 \n",
            "epoch 48, lr 0.001380: 100% 1000/1000 [02:32<00:00,  6.55it/s]\n",
            "average loss for train : 0.978131\n",
            "start val!\n",
            "precision per pixel for test: 0.503\n",
            "mIoU for validation: 0.138\n",
            "iter =       48/      50, loss_segmentation = 0.928 loss_adversarial = 2.619 loss_D = 0.270 \n",
            "epoch 49, lr 0.000739: 100% 1000/1000 [02:32<00:00,  6.55it/s]\n",
            "average loss for train : 0.968570\n",
            "start val!\n",
            "precision per pixel for test: 0.525\n",
            "mIoU for validation: 0.145\n",
            "iter =       49/      50, loss_segmentation = 0.767 loss_adversarial = 2.949 loss_D = 0.261 \n"
          ]
        }
      ]
    },
    {
      "cell_type": "code",
      "source": [
        "!python eval.py"
      ],
      "metadata": {
        "id": "8F6uhIbgyKPD",
        "outputId": "429b58ec-060e-4e51-f2c0-5d8d0c01c8f5",
        "colab": {
          "base_uri": "https://localhost:8080/"
        }
      },
      "execution_count": null,
      "outputs": [
        {
          "output_type": "stream",
          "name": "stdout",
          "text": [
            "load model from /content/drive/MyDrive/checkpoints_101_sgd_DSC_withpseudolabels/best_crossentropy_loss.pth ...\n",
            "The best epoch is 39\n",
            "Done!\n",
            "start test!\n",
            "test:  58% 144/250 [07:31<05:54,  3.35s/it]"
          ]
        }
      ]
    },
    {
      "cell_type": "code",
      "source": [
        "#resnet101\n",
        "!python train.py"
      ],
      "metadata": {
        "colab": {
          "base_uri": "https://localhost:8080/"
        },
        "id": "Q2WFK32_w1ll",
        "outputId": "161e6ea2-83d9-4edf-bc96-e1ba428f59a1"
      },
      "execution_count": null,
      "outputs": [
        {
          "output_type": "stream",
          "name": "stdout",
          "text": [
            "Downloading: \"https://download.pytorch.org/models/resnet18-f37072fd.pth\" to /root/.cache/torch/hub/checkpoints/resnet18-f37072fd.pth\n",
            "100% 44.7M/44.7M [00:00<00:00, 56.9MB/s]\n",
            "Downloading: \"https://download.pytorch.org/models/resnet101-63fe2227.pth\" to /root/.cache/torch/hub/checkpoints/resnet101-63fe2227.pth\n",
            "100% 171M/171M [00:02<00:00, 60.2MB/s]\n",
            "epoch 0, lr 0.025000: 100% 500/500 [01:36<00:00,  5.17it/s, loss=1.645083]\n",
            "loss for train : 2.418889\n",
            "start val!\n",
            "precision per pixel for test: 0.730\n",
            "mIoU for validation: 0.268\n",
            "epoch 1, lr 0.024550: 100% 500/500 [01:29<00:00,  5.61it/s, loss=1.445451]\n",
            "loss for train : 1.310970\n",
            "start val!\n",
            "precision per pixel for test: 0.737\n",
            "mIoU for validation: 0.277\n",
            "epoch 2, lr 0.024098: 100% 500/500 [01:29<00:00,  5.58it/s, loss=1.094267]\n",
            "loss for train : 1.084486\n",
            "start val!\n",
            "precision per pixel for test: 0.773\n",
            "mIoU for validation: 0.364\n",
            "epoch 3, lr 0.023646: 100% 500/500 [01:29<00:00,  5.57it/s, loss=0.668049]\n",
            "loss for train : 0.882943\n",
            "start val!\n",
            "precision per pixel for test: 0.756\n",
            "mIoU for validation: 0.348\n",
            "epoch 4, lr 0.023193: 100% 500/500 [01:28<00:00,  5.68it/s, loss=1.177841]\n",
            "loss for train : 0.762117\n",
            "start val!\n",
            "precision per pixel for test: 0.631\n",
            "mIoU for validation: 0.283\n",
            "epoch 5, lr 0.022738: 100% 500/500 [01:30<00:00,  5.55it/s, loss=0.832265]\n",
            "loss for train : 0.732943\n",
            "start val!\n",
            "precision per pixel for test: 0.782\n",
            "mIoU for validation: 0.424\n",
            "epoch 6, lr 0.022283: 100% 500/500 [01:29<00:00,  5.58it/s, loss=0.519038]\n",
            "loss for train : 0.604468\n",
            "start val!\n",
            "precision per pixel for test: 0.794\n",
            "mIoU for validation: 0.471\n",
            "epoch 7, lr 0.021827: 100% 500/500 [01:30<00:00,  5.52it/s, loss=0.691986]\n",
            "loss for train : 0.541739\n",
            "start val!\n",
            "precision per pixel for test: 0.776\n",
            "mIoU for validation: 0.436\n",
            "epoch 8, lr 0.021369: 100% 500/500 [01:28<00:00,  5.68it/s, loss=0.402276]\n",
            "loss for train : 0.521863\n",
            "start val!\n",
            "precision per pixel for test: 0.796\n",
            "mIoU for validation: 0.485\n",
            "epoch 9, lr 0.020911: 100% 500/500 [01:30<00:00,  5.54it/s, loss=0.530897]\n",
            "loss for train : 0.449368\n",
            "start val!\n",
            "precision per pixel for test: 0.790\n",
            "mIoU for validation: 0.469\n",
            "epoch 10, lr 0.020451: 100% 500/500 [01:28<00:00,  5.67it/s, loss=0.390085]\n",
            "loss for train : 0.418246\n",
            "start val!\n",
            "precision per pixel for test: 0.800\n",
            "mIoU for validation: 0.498\n",
            "epoch 11, lr 0.019991: 100% 500/500 [01:29<00:00,  5.60it/s, loss=0.476238]\n",
            "loss for train : 0.396338\n",
            "start val!\n",
            "precision per pixel for test: 0.802\n",
            "mIoU for validation: 0.524\n",
            "epoch 12, lr 0.019529: 100% 500/500 [01:29<00:00,  5.59it/s, loss=0.254537]\n",
            "loss for train : 0.372808\n",
            "start val!\n",
            "precision per pixel for test: 0.803\n",
            "mIoU for validation: 0.520\n",
            "epoch 13, lr 0.019066: 100% 500/500 [01:27<00:00,  5.70it/s, loss=0.380744]\n",
            "loss for train : 0.369006\n",
            "start val!\n",
            "precision per pixel for test: 0.801\n",
            "mIoU for validation: 0.521\n",
            "epoch 14, lr 0.018601: 100% 500/500 [01:28<00:00,  5.67it/s, loss=0.375891]\n",
            "loss for train : 0.353877\n",
            "start val!\n",
            "precision per pixel for test: 0.799\n",
            "mIoU for validation: 0.508\n",
            "epoch 15, lr 0.018135: 100% 500/500 [01:28<00:00,  5.68it/s, loss=0.260996]\n",
            "loss for train : 0.341025\n",
            "start val!\n",
            "precision per pixel for test: 0.802\n",
            "mIoU for validation: 0.533\n",
            "epoch 16, lr 0.017668: 100% 500/500 [01:30<00:00,  5.55it/s, loss=0.423475]\n",
            "loss for train : 0.329551\n",
            "start val!\n",
            "precision per pixel for test: 0.802\n",
            "mIoU for validation: 0.522\n",
            "epoch 17, lr 0.017200: 100% 500/500 [01:28<00:00,  5.65it/s, loss=0.260407]\n",
            "loss for train : 0.314099\n",
            "start val!\n",
            "precision per pixel for test: 0.804\n",
            "mIoU for validation: 0.539\n",
            "epoch 18, lr 0.016730: 100% 500/500 [01:30<00:00,  5.54it/s, loss=0.229443]\n",
            "loss for train : 0.305093\n",
            "start val!\n",
            "precision per pixel for test: 0.804\n",
            "mIoU for validation: 0.541\n",
            "epoch 19, lr 0.016259: 100% 500/500 [01:29<00:00,  5.57it/s, loss=0.343773]\n",
            "loss for train : 0.301878\n",
            "start val!\n",
            "precision per pixel for test: 0.804\n",
            "mIoU for validation: 0.521\n",
            "epoch 20, lr 0.015786: 100% 500/500 [01:28<00:00,  5.64it/s, loss=0.320416]\n",
            "loss for train : 0.292442\n",
            "start val!\n",
            "precision per pixel for test: 0.803\n",
            "mIoU for validation: 0.540\n",
            "epoch 21, lr 0.015312: 100% 500/500 [01:28<00:00,  5.64it/s, loss=0.236077]\n",
            "loss for train : 0.284761\n",
            "start val!\n",
            "precision per pixel for test: 0.805\n",
            "mIoU for validation: 0.540\n",
            "epoch 22, lr 0.014836: 100% 500/500 [01:29<00:00,  5.61it/s, loss=0.265504]\n",
            "loss for train : 0.281655\n",
            "start val!\n",
            "precision per pixel for test: 0.805\n",
            "mIoU for validation: 0.545\n",
            "epoch 23, lr 0.014358: 100% 500/500 [01:30<00:00,  5.55it/s, loss=0.302014]\n",
            "loss for train : 0.273306\n",
            "start val!\n",
            "precision per pixel for test: 0.803\n",
            "mIoU for validation: 0.539\n",
            "epoch 24, lr 0.013879: 100% 500/500 [01:29<00:00,  5.61it/s, loss=0.237784]\n",
            "loss for train : 0.269795\n",
            "start val!\n",
            "precision per pixel for test: 0.805\n",
            "mIoU for validation: 0.547\n",
            "epoch 25, lr 0.013397: 100% 500/500 [01:29<00:00,  5.57it/s, loss=0.494297]\n",
            "loss for train : 0.424494\n",
            "start val!\n",
            "precision per pixel for test: 0.724\n",
            "mIoU for validation: 0.396\n",
            "epoch 26, lr 0.012914: 100% 500/500 [01:28<00:00,  5.67it/s, loss=0.319613]\n",
            "loss for train : 0.339709\n",
            "start val!\n",
            "precision per pixel for test: 0.797\n",
            "mIoU for validation: 0.516\n",
            "epoch 27, lr 0.012429: 100% 500/500 [01:28<00:00,  5.68it/s, loss=0.353613]\n",
            "loss for train : 0.295961\n",
            "start val!\n",
            "precision per pixel for test: 0.805\n",
            "mIoU for validation: 0.541\n",
            "epoch 28, lr 0.011941: 100% 500/500 [01:27<00:00,  5.73it/s, loss=0.385644]\n",
            "loss for train : 0.274541\n",
            "start val!\n",
            "precision per pixel for test: 0.804\n",
            "mIoU for validation: 0.540\n",
            "epoch 29, lr 0.011452: 100% 500/500 [01:27<00:00,  5.70it/s, loss=0.287216]\n",
            "loss for train : 0.267739\n",
            "start val!\n",
            "precision per pixel for test: 0.805\n",
            "mIoU for validation: 0.540\n",
            "epoch 30, lr 0.010960: 100% 500/500 [01:27<00:00,  5.73it/s, loss=0.316486]\n",
            "loss for train : 0.259944\n",
            "start val!\n",
            "precision per pixel for test: 0.805\n",
            "mIoU for validation: 0.538\n",
            "epoch 31, lr 0.010465: 100% 500/500 [01:27<00:00,  5.73it/s, loss=0.210449]\n",
            "loss for train : 0.255253\n",
            "start val!\n",
            "precision per pixel for test: 0.805\n",
            "mIoU for validation: 0.543\n",
            "epoch 32, lr 0.009968: 100% 500/500 [01:28<00:00,  5.67it/s, loss=0.186732]\n",
            "loss for train : 0.250747\n",
            "start val!\n",
            "precision per pixel for test: 0.805\n",
            "mIoU for validation: 0.535\n",
            "epoch 33, lr 0.009468: 100% 500/500 [01:28<00:00,  5.67it/s, loss=0.283958]\n",
            "loss for train : 0.246785\n",
            "start val!\n",
            "precision per pixel for test: 0.805\n",
            "mIoU for validation: 0.539\n",
            "epoch 34, lr 0.008966: 100% 500/500 [01:27<00:00,  5.70it/s, loss=0.209442]\n",
            "loss for train : 0.244702\n",
            "start val!\n",
            "precision per pixel for test: 0.805\n",
            "mIoU for validation: 0.542\n",
            "epoch 35, lr 0.008460: 100% 500/500 [01:27<00:00,  5.69it/s, loss=0.317294]\n",
            "loss for train : 0.241286\n",
            "start val!\n",
            "precision per pixel for test: 0.805\n",
            "mIoU for validation: 0.541\n",
            "epoch 36, lr 0.007950: 100% 500/500 [01:27<00:00,  5.70it/s, loss=0.191341]\n",
            "loss for train : 0.238826\n",
            "start val!\n",
            "precision per pixel for test: 0.805\n",
            "mIoU for validation: 0.540\n",
            "epoch 37, lr 0.007437: 100% 500/500 [01:28<00:00,  5.67it/s, loss=0.241222]\n",
            "loss for train : 0.236189\n",
            "start val!\n",
            "precision per pixel for test: 0.805\n",
            "mIoU for validation: 0.539\n",
            "epoch 38, lr 0.006920: 100% 500/500 [01:28<00:00,  5.64it/s, loss=0.176638]\n",
            "loss for train : 0.234888\n",
            "start val!\n",
            "precision per pixel for test: 0.805\n",
            "mIoU for validation: 0.539\n",
            "epoch 39, lr 0.006399: 100% 500/500 [01:28<00:00,  5.67it/s, loss=0.307730]\n",
            "loss for train : 0.231911\n",
            "start val!\n",
            "precision per pixel for test: 0.805\n",
            "mIoU for validation: 0.536\n",
            "epoch 40, lr 0.005873: 100% 500/500 [01:28<00:00,  5.63it/s, loss=0.220625]\n",
            "loss for train : 0.230200\n",
            "start val!\n",
            "precision per pixel for test: 0.805\n",
            "mIoU for validation: 0.538\n",
            "epoch 41, lr 0.005342: 100% 500/500 [01:28<00:00,  5.66it/s, loss=0.266023]\n",
            "loss for train : 0.229907\n",
            "start val!\n",
            "precision per pixel for test: 0.805\n",
            "mIoU for validation: 0.537\n",
            "epoch 42, lr 0.004804: 100% 500/500 [01:28<00:00,  5.65it/s, loss=0.225107]\n",
            "loss for train : 0.228263\n",
            "start val!\n",
            "precision per pixel for test: 0.805\n",
            "mIoU for validation: 0.538\n",
            "epoch 43, lr 0.004260: 100% 500/500 [01:28<00:00,  5.66it/s, loss=0.210964]\n",
            "loss for train : 0.226558\n",
            "start val!\n",
            "precision per pixel for test: 0.805\n",
            "mIoU for validation: 0.539\n",
            "epoch 44, lr 0.003709: 100% 500/500 [01:28<00:00,  5.64it/s, loss=0.220278]\n",
            "loss for train : 0.226081\n",
            "start val!\n",
            "precision per pixel for test: 0.805\n",
            "mIoU for validation: 0.537\n",
            "epoch 45, lr 0.003147: 100% 500/500 [01:28<00:00,  5.66it/s, loss=0.197492]\n",
            "loss for train : 0.225191\n",
            "start val!\n",
            "precision per pixel for test: 0.805\n",
            "mIoU for validation: 0.537\n",
            "epoch 46, lr 0.002575: 100% 500/500 [01:28<00:00,  5.65it/s, loss=0.204809]\n",
            "loss for train : 0.223375\n",
            "start val!\n",
            "precision per pixel for test: 0.805\n",
            "mIoU for validation: 0.539\n",
            "epoch 47, lr 0.001987: 100% 500/500 [01:28<00:00,  5.62it/s, loss=0.248003]\n",
            "loss for train : 0.223380\n",
            "start val!\n",
            "precision per pixel for test: 0.805\n",
            "mIoU for validation: 0.538\n",
            "epoch 48, lr 0.001380: 100% 500/500 [01:28<00:00,  5.65it/s, loss=0.242874]\n",
            "loss for train : 0.222526\n",
            "start val!\n",
            "precision per pixel for test: 0.805\n",
            "mIoU for validation: 0.538\n",
            "epoch 49, lr 0.000739: 100% 500/500 [01:29<00:00,  5.58it/s, loss=0.176520]\n",
            "loss for train : 0.221603\n",
            "start val!\n",
            "precision per pixel for test: 0.805\n",
            "mIoU for validation: 0.536\n"
          ]
        }
      ]
    },
    {
      "cell_type": "code",
      "source": [
        "#best epoch\n",
        "!python eval.py"
      ],
      "metadata": {
        "colab": {
          "base_uri": "https://localhost:8080/"
        },
        "id": "j6qUIn3e8dsl",
        "outputId": "7491e50e-eaa5-4c8f-fb2f-1218fd9b2943"
      },
      "execution_count": null,
      "outputs": [
        {
          "output_type": "stream",
          "name": "stdout",
          "text": [
            "load model from /content/drive/MyDrive/checkpoints_101_sgd/best_crossentropy_loss.pth ...\n",
            "The best epoch is 24\n",
            "Done!\n",
            "start test!\n",
            "test: 100% 250/250 [21:55<00:00,  5.26s/it]precision per pixel for test: 0.805\n",
            "mIoU for validation: 0.547\n",
            "test: 100% 250/250 [22:00<00:00,  5.28s/it]\n"
          ]
        }
      ]
    },
    {
      "cell_type": "code",
      "source": [
        "#last epoch\n",
        "!python eval.py"
      ],
      "metadata": {
        "id": "OEKivsluC7U8",
        "outputId": "a1cbdbc5-3a85-4603-d7dd-9fd9bf3bb7c0",
        "colab": {
          "base_uri": "https://localhost:8080/"
        }
      },
      "execution_count": null,
      "outputs": [
        {
          "output_type": "stream",
          "name": "stdout",
          "text": [
            "load model from /content/drive/MyDrive/checkpoints_101_sgd/latest_crossentropy_loss.pth ...\n",
            "Done!\n",
            "start test!\n",
            "test: 100% 250/250 [21:39<00:00,  5.25s/it]precision per pixel for test: 0.805\n",
            "mIoU for validation: 0.536\n",
            "test: 100% 250/250 [21:44<00:00,  5.22s/it]\n"
          ]
        }
      ]
    },
    {
      "cell_type": "code",
      "source": [
        "#resnet18\n",
        "!python train.py"
      ],
      "metadata": {
        "id": "M1BIsFlUDIas",
        "outputId": "8340ba75-4f4a-4b8c-f0cc-f73076eee3ae",
        "colab": {
          "base_uri": "https://localhost:8080/"
        }
      },
      "execution_count": null,
      "outputs": [
        {
          "output_type": "stream",
          "name": "stdout",
          "text": [
            "epoch 0, lr 0.025000: 100% 500/500 [01:20<00:00,  6.25it/s, loss=3.035611]\n",
            "loss for train : 2.830822\n",
            "start val!\n",
            "precision per pixel for test: 0.717\n",
            "mIoU for validation: 0.240\n",
            "epoch 1, lr 0.024550: 100% 500/500 [01:04<00:00,  7.73it/s, loss=1.592243]\n",
            "loss for train : 1.678360\n",
            "start val!\n",
            "precision per pixel for test: 0.735\n",
            "mIoU for validation: 0.272\n",
            "epoch 2, lr 0.024098: 100% 500/500 [01:04<00:00,  7.74it/s, loss=1.482355]\n",
            "loss for train : 1.375966\n",
            "start val!\n",
            "precision per pixel for test: 0.748\n",
            "mIoU for validation: 0.296\n",
            "epoch 3, lr 0.023646: 100% 500/500 [01:04<00:00,  7.80it/s, loss=1.373947]\n",
            "loss for train : 1.247745\n",
            "start val!\n",
            "precision per pixel for test: 0.759\n",
            "mIoU for validation: 0.309\n",
            "epoch 4, lr 0.023193: 100% 500/500 [01:04<00:00,  7.72it/s, loss=0.820345]\n",
            "loss for train : 1.063850\n",
            "start val!\n",
            "precision per pixel for test: 0.769\n",
            "mIoU for validation: 0.332\n",
            "epoch 5, lr 0.022738: 100% 500/500 [01:04<00:00,  7.78it/s, loss=1.302467]\n",
            "loss for train : 0.954782\n",
            "start val!\n",
            "precision per pixel for test: 0.758\n",
            "mIoU for validation: 0.338\n",
            "epoch 6, lr 0.022283: 100% 500/500 [01:04<00:00,  7.80it/s, loss=1.029677]\n",
            "loss for train : 0.888649\n",
            "start val!\n",
            "precision per pixel for test: 0.718\n",
            "mIoU for validation: 0.327\n",
            "epoch 7, lr 0.021827: 100% 500/500 [01:04<00:00,  7.77it/s, loss=0.769093]\n",
            "loss for train : 0.845301\n",
            "start val!\n",
            "precision per pixel for test: 0.766\n",
            "mIoU for validation: 0.394\n",
            "epoch 8, lr 0.021369: 100% 500/500 [01:04<00:00,  7.69it/s, loss=0.711541]\n",
            "loss for train : 0.767897\n",
            "start val!\n",
            "precision per pixel for test: 0.761\n",
            "mIoU for validation: 0.390\n",
            "epoch 9, lr 0.020911: 100% 500/500 [01:04<00:00,  7.78it/s, loss=0.892892]\n",
            "loss for train : 0.702588\n",
            "start val!\n",
            "precision per pixel for test: 0.782\n",
            "mIoU for validation: 0.425\n",
            "epoch 10, lr 0.020451: 100% 500/500 [01:04<00:00,  7.73it/s, loss=0.664219]\n",
            "loss for train : 0.664315\n",
            "start val!\n",
            "precision per pixel for test: 0.785\n",
            "mIoU for validation: 0.449\n",
            "epoch 11, lr 0.019991: 100% 500/500 [01:04<00:00,  7.77it/s, loss=0.632313]\n",
            "loss for train : 0.608189\n",
            "start val!\n",
            "precision per pixel for test: 0.786\n",
            "mIoU for validation: 0.452\n",
            "epoch 12, lr 0.019529: 100% 500/500 [01:04<00:00,  7.71it/s, loss=0.368787]\n",
            "loss for train : 0.583000\n",
            "start val!\n",
            "precision per pixel for test: 0.788\n",
            "mIoU for validation: 0.459\n",
            "epoch 13, lr 0.019066: 100% 500/500 [01:04<00:00,  7.70it/s, loss=0.876972]\n",
            "loss for train : 0.559473\n",
            "start val!\n",
            "precision per pixel for test: 0.790\n",
            "mIoU for validation: 0.470\n",
            "epoch 14, lr 0.018601: 100% 500/500 [01:04<00:00,  7.72it/s, loss=0.556377]\n",
            "loss for train : 0.547386\n",
            "start val!\n",
            "precision per pixel for test: 0.787\n",
            "mIoU for validation: 0.450\n",
            "epoch 15, lr 0.018135: 100% 500/500 [01:04<00:00,  7.76it/s, loss=0.446764]\n",
            "loss for train : 0.515169\n",
            "start val!\n",
            "precision per pixel for test: 0.790\n",
            "mIoU for validation: 0.473\n",
            "epoch 16, lr 0.017668: 100% 500/500 [01:04<00:00,  7.73it/s, loss=0.597311]\n",
            "loss for train : 0.502427\n",
            "start val!\n",
            "precision per pixel for test: 0.791\n",
            "mIoU for validation: 0.460\n",
            "epoch 17, lr 0.017200: 100% 500/500 [01:05<00:00,  7.66it/s, loss=0.461105]\n",
            "loss for train : 0.485093\n",
            "start val!\n",
            "precision per pixel for test: 0.792\n",
            "mIoU for validation: 0.457\n",
            "epoch 18, lr 0.016730: 100% 500/500 [01:04<00:00,  7.71it/s, loss=0.449097]\n",
            "loss for train : 0.465930\n",
            "start val!\n",
            "precision per pixel for test: 0.791\n",
            "mIoU for validation: 0.470\n",
            "epoch 19, lr 0.016259: 100% 500/500 [01:04<00:00,  7.72it/s, loss=0.479096]\n",
            "loss for train : 0.454961\n",
            "start val!\n",
            "precision per pixel for test: 0.792\n",
            "mIoU for validation: 0.476\n",
            "epoch 20, lr 0.015786: 100% 500/500 [01:04<00:00,  7.76it/s, loss=0.478702]\n",
            "loss for train : 0.440513\n",
            "start val!\n",
            "precision per pixel for test: 0.791\n",
            "mIoU for validation: 0.481\n",
            "epoch 21, lr 0.015312: 100% 500/500 [01:05<00:00,  7.69it/s, loss=0.433647]\n",
            "loss for train : 0.428293\n",
            "start val!\n",
            "precision per pixel for test: 0.793\n",
            "mIoU for validation: 0.479\n",
            "epoch 22, lr 0.014836: 100% 500/500 [01:04<00:00,  7.70it/s, loss=0.344890]\n",
            "loss for train : 0.417748\n",
            "start val!\n",
            "precision per pixel for test: 0.793\n",
            "mIoU for validation: 0.477\n",
            "epoch 23, lr 0.014358: 100% 500/500 [01:04<00:00,  7.73it/s, loss=0.416466]\n",
            "loss for train : 0.409070\n",
            "start val!\n",
            "precision per pixel for test: 0.793\n",
            "mIoU for validation: 0.480\n",
            "epoch 24, lr 0.013879: 100% 500/500 [01:04<00:00,  7.73it/s, loss=0.395896]\n",
            "loss for train : 0.400354\n",
            "start val!\n",
            "precision per pixel for test: 0.792\n",
            "mIoU for validation: 0.474\n",
            "epoch 25, lr 0.013397: 100% 500/500 [01:04<00:00,  7.71it/s, loss=0.426504]\n",
            "loss for train : 0.390023\n",
            "start val!\n",
            "precision per pixel for test: 0.794\n",
            "mIoU for validation: 0.482\n",
            "epoch 26, lr 0.012914: 100% 500/500 [01:05<00:00,  7.66it/s, loss=0.381049]\n",
            "loss for train : 0.391044\n",
            "start val!\n",
            "precision per pixel for test: 0.792\n",
            "mIoU for validation: 0.472\n",
            "epoch 27, lr 0.012429: 100% 500/500 [01:05<00:00,  7.60it/s, loss=0.349196]\n",
            "loss for train : 0.381008\n",
            "start val!\n",
            "precision per pixel for test: 0.793\n",
            "mIoU for validation: 0.477\n",
            "epoch 28, lr 0.011941: 100% 500/500 [01:04<00:00,  7.73it/s, loss=0.278369]\n",
            "loss for train : 0.375166\n",
            "start val!\n",
            "precision per pixel for test: 0.793\n",
            "mIoU for validation: 0.480\n",
            "epoch 29, lr 0.011452: 100% 500/500 [01:04<00:00,  7.71it/s, loss=0.297887]\n",
            "loss for train : 0.367238\n",
            "start val!\n",
            "precision per pixel for test: 0.793\n",
            "mIoU for validation: 0.473\n",
            "epoch 30, lr 0.010960: 100% 500/500 [01:04<00:00,  7.71it/s, loss=0.337963]\n",
            "loss for train : 0.363616\n",
            "start val!\n",
            "precision per pixel for test: 0.793\n",
            "mIoU for validation: 0.479\n",
            "epoch 31, lr 0.010465: 100% 500/500 [01:04<00:00,  7.73it/s, loss=0.417175]\n",
            "loss for train : 0.359177\n",
            "start val!\n",
            "precision per pixel for test: 0.793\n",
            "mIoU for validation: 0.472\n",
            "epoch 32, lr 0.009968: 100% 500/500 [01:04<00:00,  7.71it/s, loss=0.315123]\n",
            "loss for train : 0.353497\n",
            "start val!\n",
            "precision per pixel for test: 0.793\n",
            "mIoU for validation: 0.491\n",
            "epoch 33, lr 0.009468: 100% 500/500 [01:05<00:00,  7.67it/s, loss=0.271488]\n",
            "loss for train : 0.348730\n",
            "start val!\n",
            "precision per pixel for test: 0.793\n",
            "mIoU for validation: 0.478\n",
            "epoch 34, lr 0.008966: 100% 500/500 [01:05<00:00,  7.68it/s, loss=0.289220]\n",
            "loss for train : 0.346304\n",
            "start val!\n",
            "precision per pixel for test: 0.792\n",
            "mIoU for validation: 0.479\n",
            "epoch 35, lr 0.008460: 100% 500/500 [01:04<00:00,  7.70it/s, loss=0.260934]\n",
            "loss for train : 0.343095\n",
            "start val!\n",
            "precision per pixel for test: 0.794\n",
            "mIoU for validation: 0.481\n",
            "epoch 36, lr 0.007950: 100% 500/500 [01:04<00:00,  7.74it/s, loss=0.278401]\n",
            "loss for train : 0.339002\n",
            "start val!\n",
            "precision per pixel for test: 0.793\n",
            "mIoU for validation: 0.475\n",
            "epoch 37, lr 0.007437: 100% 500/500 [01:04<00:00,  7.70it/s, loss=0.392460]\n",
            "loss for train : 0.334502\n",
            "start val!\n",
            "precision per pixel for test: 0.794\n",
            "mIoU for validation: 0.478\n",
            "epoch 38, lr 0.006920: 100% 500/500 [01:05<00:00,  7.69it/s, loss=0.392874]\n",
            "loss for train : 0.329773\n",
            "start val!\n",
            "precision per pixel for test: 0.793\n",
            "mIoU for validation: 0.474\n",
            "epoch 39, lr 0.006399: 100% 500/500 [01:04<00:00,  7.71it/s, loss=0.340073]\n",
            "loss for train : 0.328140\n",
            "start val!\n",
            "precision per pixel for test: 0.794\n",
            "mIoU for validation: 0.478\n",
            "epoch 40, lr 0.005873: 100% 500/500 [01:04<00:00,  7.71it/s, loss=0.348669]\n",
            "loss for train : 0.326425\n",
            "start val!\n",
            "precision per pixel for test: 0.793\n",
            "mIoU for validation: 0.472\n",
            "epoch 41, lr 0.005342: 100% 500/500 [01:04<00:00,  7.71it/s, loss=0.329660]\n",
            "loss for train : 0.321916\n",
            "start val!\n",
            "precision per pixel for test: 0.793\n",
            "mIoU for validation: 0.481\n",
            "epoch 42, lr 0.004804: 100% 500/500 [01:04<00:00,  7.73it/s, loss=0.376606]\n",
            "loss for train : 0.321043\n",
            "start val!\n",
            "precision per pixel for test: 0.793\n",
            "mIoU for validation: 0.480\n",
            "epoch 43, lr 0.004260: 100% 500/500 [01:05<00:00,  7.62it/s, loss=0.351570]\n",
            "loss for train : 0.317972\n",
            "start val!\n",
            "precision per pixel for test: 0.793\n",
            "mIoU for validation: 0.472\n",
            "epoch 44, lr 0.003709: 100% 500/500 [01:05<00:00,  7.69it/s, loss=0.252985]\n",
            "loss for train : 0.317475\n",
            "start val!\n",
            "precision per pixel for test: 0.793\n",
            "mIoU for validation: 0.467\n",
            "epoch 45, lr 0.003147: 100% 500/500 [01:04<00:00,  7.70it/s, loss=0.201905]\n",
            "loss for train : 0.317319\n",
            "start val!\n",
            "precision per pixel for test: 0.793\n",
            "mIoU for validation: 0.473\n",
            "epoch 46, lr 0.002575: 100% 500/500 [01:04<00:00,  7.69it/s, loss=0.268724]\n",
            "loss for train : 0.316557\n",
            "start val!\n",
            "precision per pixel for test: 0.794\n",
            "mIoU for validation: 0.474\n",
            "epoch 47, lr 0.001987: 100% 500/500 [01:04<00:00,  7.70it/s, loss=0.288777]\n",
            "loss for train : 0.314588\n",
            "start val!\n",
            "precision per pixel for test: 0.793\n",
            "mIoU for validation: 0.470\n",
            "epoch 48, lr 0.001380: 100% 500/500 [01:04<00:00,  7.71it/s, loss=0.222460]\n",
            "loss for train : 0.314409\n",
            "start val!\n",
            "precision per pixel for test: 0.793\n",
            "mIoU for validation: 0.471\n",
            "epoch 49, lr 0.000739: 100% 500/500 [01:04<00:00,  7.74it/s, loss=0.221616]\n",
            "loss for train : 0.311938\n",
            "start val!\n",
            "precision per pixel for test: 0.793\n",
            "mIoU for validation: 0.472\n"
          ]
        }
      ]
    },
    {
      "cell_type": "code",
      "source": [
        "#best\n",
        "!python eval.py"
      ],
      "metadata": {
        "id": "hFZxMIurDJmp",
        "outputId": "374d6648-9b58-4f73-9fcc-ea5db1f2325d",
        "colab": {
          "base_uri": "https://localhost:8080/"
        }
      },
      "execution_count": null,
      "outputs": [
        {
          "output_type": "stream",
          "name": "stdout",
          "text": [
            "load model from /content/drive/MyDrive/checkpoints_18_sgd/best_crossentropy_loss.pth ...\n",
            "The best epoch is 32\n",
            "Done!\n",
            "start test!\n",
            "test: 100% 250/250 [09:32<00:00,  2.30s/it]precision per pixel for test: 0.793\n",
            "mIoU for validation: 0.491\n",
            "test: 100% 250/250 [09:34<00:00,  2.30s/it]\n"
          ]
        }
      ]
    },
    {
      "cell_type": "code",
      "source": [
        "#last\n",
        "!python eval.py"
      ],
      "metadata": {
        "id": "uHEdMve4ET3h",
        "outputId": "b93daec2-718f-4665-8c9b-e101afce2b32",
        "colab": {
          "base_uri": "https://localhost:8080/"
        }
      },
      "execution_count": null,
      "outputs": [
        {
          "output_type": "stream",
          "name": "stdout",
          "text": [
            "load model from /content/drive/MyDrive/checkpoints_18_sgd/latest_crossentropy_loss.pth ...\n",
            "Done!\n",
            "start test!\n",
            "test: 100% 250/250 [09:26<00:00,  2.27s/it]precision per pixel for test: 0.793\n",
            "mIoU for validation: 0.472\n",
            "test: 100% 250/250 [09:28<00:00,  2.27s/it]\n"
          ]
        }
      ]
    },
    {
      "cell_type": "code",
      "source": [
        "#DA resnet101\n",
        "!python trainGTAtoCityscapes.py"
      ],
      "metadata": {
        "id": "aAEA9rGiz_xo",
        "outputId": "fdb27fc4-a8f9-455f-adc9-469240a357d3",
        "colab": {
          "base_uri": "https://localhost:8080/"
        }
      },
      "execution_count": null,
      "outputs": [
        {
          "output_type": "stream",
          "name": "stdout",
          "text": [
            "epoch 0, lr 0.025000: 100% 1000/1000 [02:42<00:00,  6.14it/s]\n",
            "loss for train : 2.885091\n",
            "start val!\n",
            "precision per pixel for test: 0.592\n",
            "mIoU for validation: 0.188\n",
            "iter =        0/      50, loss_segmentation = 2.442 loss_adversarial = 0.739 loss_D = 0.667 \n",
            "epoch 1, lr 0.024550: 100% 1000/1000 [02:41<00:00,  6.17it/s]\n",
            "loss for train : 1.864471\n",
            "start val!\n",
            "precision per pixel for test: 0.586\n",
            "mIoU for validation: 0.186\n",
            "iter =        1/      50, loss_segmentation = 2.515 loss_adversarial = 0.786 loss_D = 0.697 \n",
            "epoch 2, lr 0.024098: 100% 1000/1000 [02:40<00:00,  6.24it/s]\n",
            "loss for train : 1.495079\n",
            "start val!\n",
            "precision per pixel for test: 0.657\n",
            "mIoU for validation: 0.240\n",
            "iter =        2/      50, loss_segmentation = 0.818 loss_adversarial = 0.826 loss_D = 0.599 \n",
            "epoch 3, lr 0.023646: 100% 1000/1000 [02:41<00:00,  6.20it/s]\n",
            "loss for train : 1.365784\n",
            "start val!\n",
            "precision per pixel for test: 0.611\n",
            "mIoU for validation: 0.213\n",
            "iter =        3/      50, loss_segmentation = 1.009 loss_adversarial = 0.943 loss_D = 0.616 \n",
            "epoch 4, lr 0.023193: 100% 1000/1000 [02:39<00:00,  6.28it/s]\n",
            "loss for train : 1.133664\n",
            "start val!\n",
            "precision per pixel for test: 0.668\n",
            "mIoU for validation: 0.234\n",
            "iter =        4/      50, loss_segmentation = 1.135 loss_adversarial = 0.902 loss_D = 0.637 \n",
            "epoch 5, lr 0.022738: 100% 1000/1000 [02:41<00:00,  6.21it/s]\n",
            "loss for train : 1.090341\n",
            "start val!\n",
            "precision per pixel for test: 0.687\n",
            "mIoU for validation: 0.259\n",
            "iter =        5/      50, loss_segmentation = 0.955 loss_adversarial = 0.921 loss_D = 0.583 \n",
            "epoch 6, lr 0.022283: 100% 1000/1000 [02:42<00:00,  6.16it/s]\n",
            "loss for train : 1.015231\n",
            "start val!\n",
            "precision per pixel for test: 0.634\n",
            "mIoU for validation: 0.229\n",
            "iter =        6/      50, loss_segmentation = 1.474 loss_adversarial = 0.909 loss_D = 0.596 \n",
            "epoch 7, lr 0.021827: 100% 1000/1000 [02:42<00:00,  6.16it/s]\n",
            "loss for train : 0.881682\n",
            "start val!\n",
            "precision per pixel for test: 0.448\n",
            "mIoU for validation: 0.183\n",
            "iter =        7/      50, loss_segmentation = 0.918 loss_adversarial = 0.901 loss_D = 0.608 \n",
            "epoch 8, lr 0.021369: 100% 1000/1000 [02:41<00:00,  6.19it/s]\n",
            "loss for train : 0.790771\n",
            "start val!\n",
            "precision per pixel for test: 0.668\n",
            "mIoU for validation: 0.263\n",
            "iter =        8/      50, loss_segmentation = 0.907 loss_adversarial = 0.872 loss_D = 0.616 \n",
            "epoch 9, lr 0.020911: 100% 1000/1000 [02:42<00:00,  6.17it/s]\n",
            "loss for train : 0.746980\n",
            "start val!\n",
            "precision per pixel for test: 0.678\n",
            "mIoU for validation: 0.261\n",
            "iter =        9/      50, loss_segmentation = 0.675 loss_adversarial = 0.837 loss_D = 0.612 \n",
            "epoch 10, lr 0.020451: 100% 1000/1000 [02:40<00:00,  6.22it/s]\n",
            "loss for train : 0.670083\n",
            "start val!\n",
            "precision per pixel for test: 0.649\n",
            "mIoU for validation: 0.254\n",
            "iter =       10/      50, loss_segmentation = 1.160 loss_adversarial = 1.081 loss_D = 0.599 \n",
            "epoch 11, lr 0.019991: 100% 1000/1000 [02:39<00:00,  6.26it/s]\n",
            "loss for train : 0.601830\n",
            "start val!\n",
            "precision per pixel for test: 0.661\n",
            "mIoU for validation: 0.280\n",
            "iter =       11/      50, loss_segmentation = 0.627 loss_adversarial = 1.129 loss_D = 0.608 \n",
            "epoch 12, lr 0.019529: 100% 1000/1000 [02:42<00:00,  6.16it/s]\n",
            "loss for train : 0.548593\n",
            "start val!\n",
            "precision per pixel for test: 0.698\n",
            "mIoU for validation: 0.295\n",
            "iter =       12/      50, loss_segmentation = 0.431 loss_adversarial = 1.198 loss_D = 0.509 \n",
            "epoch 13, lr 0.019066: 100% 1000/1000 [02:42<00:00,  6.14it/s]\n",
            "loss for train : 0.507515\n",
            "start val!\n",
            "precision per pixel for test: 0.700\n",
            "mIoU for validation: 0.300\n",
            "iter =       13/      50, loss_segmentation = 0.493 loss_adversarial = 1.107 loss_D = 0.629 \n",
            "epoch 14, lr 0.018601: 100% 1000/1000 [02:43<00:00,  6.13it/s]\n",
            "loss for train : 0.477463\n",
            "start val!\n",
            "precision per pixel for test: 0.707\n",
            "mIoU for validation: 0.307\n",
            "iter =       14/      50, loss_segmentation = 0.388 loss_adversarial = 1.264 loss_D = 0.545 \n",
            "epoch 15, lr 0.018135: 100% 1000/1000 [02:42<00:00,  6.15it/s]\n",
            "loss for train : 0.457199\n",
            "start val!\n",
            "precision per pixel for test: 0.699\n",
            "mIoU for validation: 0.298\n",
            "iter =       15/      50, loss_segmentation = 0.460 loss_adversarial = 1.187 loss_D = 0.570 \n",
            "epoch 16, lr 0.017668: 100% 1000/1000 [02:41<00:00,  6.21it/s]\n",
            "loss for train : 0.444356\n",
            "start val!\n",
            "precision per pixel for test: 0.707\n",
            "mIoU for validation: 0.305\n",
            "iter =       16/      50, loss_segmentation = 0.419 loss_adversarial = 1.518 loss_D = 0.524 \n",
            "epoch 17, lr 0.017200: 100% 1000/1000 [02:40<00:00,  6.22it/s]\n",
            "loss for train : 0.505718\n",
            "start val!\n",
            "precision per pixel for test: 0.622\n",
            "mIoU for validation: 0.252\n",
            "iter =       17/      50, loss_segmentation = 0.463 loss_adversarial = 1.154 loss_D = 0.475 \n",
            "epoch 18, lr 0.016730: 100% 1000/1000 [02:41<00:00,  6.21it/s]\n",
            "loss for train : 0.508755\n",
            "start val!\n",
            "precision per pixel for test: 0.675\n",
            "mIoU for validation: 0.289\n",
            "iter =       18/      50, loss_segmentation = 0.443 loss_adversarial = 1.203 loss_D = 0.573 \n",
            "epoch 19, lr 0.016259: 100% 1000/1000 [02:39<00:00,  6.25it/s]\n",
            "loss for train : 0.446608\n",
            "start val!\n",
            "precision per pixel for test: 0.651\n",
            "mIoU for validation: 0.272\n",
            "iter =       19/      50, loss_segmentation = 0.426 loss_adversarial = 1.374 loss_D = 0.507 \n",
            "epoch 20, lr 0.015786: 100% 1000/1000 [02:39<00:00,  6.28it/s]\n",
            "loss for train : 0.422160\n",
            "start val!\n",
            "precision per pixel for test: 0.624\n",
            "mIoU for validation: 0.270\n",
            "iter =       20/      50, loss_segmentation = 0.395 loss_adversarial = 1.152 loss_D = 0.591 \n",
            "epoch 21, lr 0.015312: 100% 1000/1000 [02:41<00:00,  6.20it/s]\n",
            "loss for train : 0.407143\n",
            "start val!\n",
            "precision per pixel for test: 0.686\n",
            "mIoU for validation: 0.292\n",
            "iter =       21/      50, loss_segmentation = 0.349 loss_adversarial = 1.549 loss_D = 0.438 \n",
            "epoch 22, lr 0.014836: 100% 1000/1000 [02:41<00:00,  6.21it/s]\n",
            "loss for train : 0.394664\n",
            "start val!\n",
            "precision per pixel for test: 0.704\n",
            "mIoU for validation: 0.301\n",
            "iter =       22/      50, loss_segmentation = 0.342 loss_adversarial = 1.088 loss_D = 0.577 \n",
            "epoch 23, lr 0.014358: 100% 1000/1000 [02:41<00:00,  6.19it/s]\n",
            "loss for train : 0.380640\n",
            "start val!\n",
            "precision per pixel for test: 0.687\n",
            "mIoU for validation: 0.300\n",
            "iter =       23/      50, loss_segmentation = 0.382 loss_adversarial = 1.332 loss_D = 0.487 \n",
            "epoch 24, lr 0.013879: 100% 1000/1000 [02:41<00:00,  6.20it/s]\n",
            "loss for train : 0.370173\n",
            "start val!\n",
            "precision per pixel for test: 0.712\n",
            "mIoU for validation: 0.300\n",
            "iter =       24/      50, loss_segmentation = 0.523 loss_adversarial = 1.994 loss_D = 0.524 \n",
            "epoch 25, lr 0.013397: 100% 1000/1000 [02:40<00:00,  6.21it/s]\n",
            "loss for train : 0.369647\n",
            "start val!\n",
            "precision per pixel for test: 0.714\n",
            "mIoU for validation: 0.310\n",
            "iter =       25/      50, loss_segmentation = 0.430 loss_adversarial = 1.464 loss_D = 0.591 \n",
            "epoch 26, lr 0.012914: 100% 1000/1000 [02:42<00:00,  6.16it/s]\n",
            "loss for train : 0.358166\n",
            "start val!\n",
            "precision per pixel for test: 0.716\n",
            "mIoU for validation: 0.306\n",
            "iter =       26/      50, loss_segmentation = 0.332 loss_adversarial = 1.386 loss_D = 0.500 \n",
            "epoch 27, lr 0.012429: 100% 1000/1000 [02:41<00:00,  6.20it/s]\n",
            "loss for train : 0.353919\n",
            "start val!\n",
            "precision per pixel for test: 0.713\n",
            "mIoU for validation: 0.315\n",
            "iter =       27/      50, loss_segmentation = 0.271 loss_adversarial = 1.725 loss_D = 0.497 \n",
            "epoch 28, lr 0.011941: 100% 1000/1000 [02:42<00:00,  6.16it/s]\n",
            "loss for train : 0.348632\n",
            "start val!\n",
            "precision per pixel for test: 0.708\n",
            "mIoU for validation: 0.308\n",
            "iter =       28/      50, loss_segmentation = 0.460 loss_adversarial = 1.686 loss_D = 0.484 \n",
            "epoch 29, lr 0.011452: 100% 1000/1000 [02:41<00:00,  6.20it/s]\n",
            "loss for train : 0.341652\n",
            "start val!\n",
            "precision per pixel for test: 0.722\n",
            "mIoU for validation: 0.315\n",
            "iter =       29/      50, loss_segmentation = 0.335 loss_adversarial = 1.478 loss_D = 0.489 \n",
            "epoch 30, lr 0.010960: 100% 1000/1000 [02:40<00:00,  6.25it/s]\n",
            "loss for train : 0.339244\n",
            "start val!\n",
            "precision per pixel for test: 0.720\n",
            "mIoU for validation: 0.320\n",
            "iter =       30/      50, loss_segmentation = 0.304 loss_adversarial = 1.703 loss_D = 0.507 \n",
            "epoch 31, lr 0.010465: 100% 1000/1000 [02:41<00:00,  6.21it/s]\n",
            "loss for train : 0.335163\n",
            "start val!\n",
            "precision per pixel for test: 0.716\n",
            "mIoU for validation: 0.310\n",
            "iter =       31/      50, loss_segmentation = 0.315 loss_adversarial = 1.513 loss_D = 0.512 \n",
            "epoch 32, lr 0.009968: 100% 1000/1000 [02:41<00:00,  6.18it/s]\n",
            "loss for train : 0.329309\n",
            "start val!\n",
            "precision per pixel for test: 0.719\n",
            "mIoU for validation: 0.312\n",
            "iter =       32/      50, loss_segmentation = 0.319 loss_adversarial = 1.398 loss_D = 0.472 \n",
            "epoch 33, lr 0.009468: 100% 1000/1000 [02:40<00:00,  6.22it/s]\n",
            "loss for train : 0.327360\n",
            "start val!\n",
            "precision per pixel for test: 0.714\n",
            "mIoU for validation: 0.312\n",
            "iter =       33/      50, loss_segmentation = 0.359 loss_adversarial = 1.570 loss_D = 0.588 \n",
            "epoch 34, lr 0.008966: 100% 1000/1000 [02:41<00:00,  6.19it/s]\n",
            "loss for train : 0.322922\n",
            "start val!\n",
            "precision per pixel for test: 0.718\n",
            "mIoU for validation: 0.312\n",
            "iter =       34/      50, loss_segmentation = 0.271 loss_adversarial = 1.583 loss_D = 0.449 \n",
            "epoch 35, lr 0.008460: 100% 1000/1000 [02:41<00:00,  6.19it/s]\n",
            "loss for train : 0.321589\n",
            "start val!\n",
            "precision per pixel for test: 0.712\n",
            "mIoU for validation: 0.308\n",
            "iter =       35/      50, loss_segmentation = 0.311 loss_adversarial = 1.456 loss_D = 0.542 \n",
            "epoch 36, lr 0.007950: 100% 1000/1000 [02:41<00:00,  6.18it/s]\n",
            "loss for train : 0.321839\n",
            "start val!\n",
            "precision per pixel for test: 0.720\n",
            "mIoU for validation: 0.312\n",
            "iter =       36/      50, loss_segmentation = 0.247 loss_adversarial = 1.678 loss_D = 0.509 \n",
            "epoch 37, lr 0.007437: 100% 1000/1000 [02:41<00:00,  6.19it/s]\n",
            "loss for train : 0.317011\n",
            "start val!\n",
            "precision per pixel for test: 0.721\n",
            "mIoU for validation: 0.313\n",
            "iter =       37/      50, loss_segmentation = 0.340 loss_adversarial = 1.290 loss_D = 0.502 \n",
            "epoch 38, lr 0.006920: 100% 1000/1000 [02:41<00:00,  6.19it/s]\n",
            "loss for train : 0.314657\n",
            "start val!\n",
            "precision per pixel for test: 0.723\n",
            "mIoU for validation: 0.315\n",
            "iter =       38/      50, loss_segmentation = 0.333 loss_adversarial = 1.614 loss_D = 0.445 \n",
            "epoch 39, lr 0.006399: 100% 1000/1000 [02:41<00:00,  6.19it/s]\n",
            "loss for train : 0.311894\n",
            "start val!\n",
            "precision per pixel for test: 0.720\n",
            "mIoU for validation: 0.315\n",
            "iter =       39/      50, loss_segmentation = 0.338 loss_adversarial = 1.488 loss_D = 0.479 \n",
            "epoch 40, lr 0.005873: 100% 1000/1000 [02:41<00:00,  6.20it/s]\n",
            "loss for train : 0.309531\n",
            "start val!\n",
            "precision per pixel for test: 0.714\n",
            "mIoU for validation: 0.310\n",
            "iter =       40/      50, loss_segmentation = 0.296 loss_adversarial = 1.190 loss_D = 0.542 \n",
            "epoch 41, lr 0.005342: 100% 1000/1000 [02:41<00:00,  6.18it/s]\n",
            "loss for train : 0.308787\n",
            "start val!\n",
            "precision per pixel for test: 0.710\n",
            "mIoU for validation: 0.310\n",
            "iter =       41/      50, loss_segmentation = 0.264 loss_adversarial = 1.453 loss_D = 0.509 \n",
            "epoch 42, lr 0.004804: 100% 1000/1000 [02:41<00:00,  6.21it/s]\n",
            "loss for train : 0.307225\n",
            "start val!\n",
            "precision per pixel for test: 0.716\n",
            "mIoU for validation: 0.309\n",
            "iter =       42/      50, loss_segmentation = 0.347 loss_adversarial = 1.663 loss_D = 0.464 \n",
            "epoch 43, lr 0.004260: 100% 1000/1000 [02:38<00:00,  6.31it/s]\n",
            "loss for train : 0.304606\n",
            "start val!\n",
            "precision per pixel for test: 0.717\n",
            "mIoU for validation: 0.313\n",
            "iter =       43/      50, loss_segmentation = 0.347 loss_adversarial = 1.613 loss_D = 0.477 \n",
            "epoch 44, lr 0.003709: 100% 1000/1000 [02:38<00:00,  6.31it/s]\n",
            "loss for train : 0.302093\n",
            "start val!\n",
            "precision per pixel for test: 0.713\n",
            "mIoU for validation: 0.308\n",
            "iter =       44/      50, loss_segmentation = 0.340 loss_adversarial = 1.386 loss_D = 0.560 \n",
            "epoch 45, lr 0.003147: 100% 1000/1000 [02:38<00:00,  6.30it/s]\n",
            "loss for train : 0.301847\n",
            "start val!\n",
            "precision per pixel for test: 0.718\n",
            "mIoU for validation: 0.310\n",
            "iter =       45/      50, loss_segmentation = 0.261 loss_adversarial = 1.627 loss_D = 0.474 \n",
            "epoch 46, lr 0.002575: 100% 1000/1000 [02:38<00:00,  6.29it/s]\n",
            "loss for train : 0.300879\n",
            "start val!\n",
            "precision per pixel for test: 0.717\n",
            "mIoU for validation: 0.315\n",
            "iter =       46/      50, loss_segmentation = 0.322 loss_adversarial = 1.814 loss_D = 0.500 \n",
            "epoch 47, lr 0.001987: 100% 1000/1000 [02:38<00:00,  6.30it/s]\n",
            "loss for train : 0.300866\n",
            "start val!\n",
            "precision per pixel for test: 0.719\n",
            "mIoU for validation: 0.311\n",
            "iter =       47/      50, loss_segmentation = 0.315 loss_adversarial = 1.662 loss_D = 0.465 \n",
            "epoch 48, lr 0.001380: 100% 1000/1000 [02:39<00:00,  6.28it/s]\n",
            "loss for train : 0.299794\n",
            "start val!\n",
            "precision per pixel for test: 0.724\n",
            "mIoU for validation: 0.313\n",
            "iter =       48/      50, loss_segmentation = 0.359 loss_adversarial = 1.457 loss_D = 0.551 \n",
            "epoch 49, lr 0.000739: 100% 1000/1000 [02:38<00:00,  6.30it/s]\n",
            "loss for train : 0.299421\n",
            "start val!\n",
            "precision per pixel for test: 0.720\n",
            "mIoU for validation: 0.313\n",
            "iter =       49/      50, loss_segmentation = 0.322 loss_adversarial = 2.008 loss_D = 0.419 \n"
          ]
        }
      ]
    },
    {
      "cell_type": "code",
      "source": [
        "#best\n",
        "!python eval.py"
      ],
      "metadata": {
        "id": "RBa5uHuGoztk",
        "outputId": "e2d70697-ab7a-4145-bbf7-8c3344424c12",
        "colab": {
          "base_uri": "https://localhost:8080/"
        }
      },
      "execution_count": null,
      "outputs": [
        {
          "output_type": "stream",
          "name": "stdout",
          "text": [
            "Downloading: \"https://download.pytorch.org/models/resnet18-f37072fd.pth\" to /root/.cache/torch/hub/checkpoints/resnet18-f37072fd.pth\n",
            "100% 44.7M/44.7M [00:00<00:00, 171MB/s]\n",
            "Downloading: \"https://download.pytorch.org/models/resnet101-63fe2227.pth\" to /root/.cache/torch/hub/checkpoints/resnet101-63fe2227.pth\n",
            "100% 171M/171M [00:01<00:00, 142MB/s]\n",
            "load model from /content/drive/MyDrive/checkpoints_101_sgd_da/best_crossentropy_loss.pth ...\n",
            "The best epoch is 30\n",
            "Done!\n",
            "start test!\n",
            "test: 100% 250/250 [26:36<00:00,  6.28s/it]precision per pixel for test: 0.720\n",
            "mIoU for validation: 0.320\n",
            "test: 100% 250/250 [26:41<00:00,  6.41s/it]\n"
          ]
        }
      ]
    },
    {
      "cell_type": "code",
      "source": [
        "#latest\n",
        "!python eval.py"
      ],
      "metadata": {
        "id": "C-kVXVdvo0Tc"
      },
      "execution_count": null,
      "outputs": []
    },
    {
      "cell_type": "code",
      "source": [
        "#DA resnet18\n",
        "!python trainGTAtoCityscapes.py"
      ],
      "metadata": {
        "id": "uQCRslPG-Fv5",
        "outputId": "77edd246-8b57-4c71-b37c-392528c515ae",
        "colab": {
          "base_uri": "https://localhost:8080/"
        }
      },
      "execution_count": null,
      "outputs": [
        {
          "output_type": "stream",
          "name": "stdout",
          "text": [
            "Downloading: \"https://download.pytorch.org/models/resnet18-f37072fd.pth\" to /root/.cache/torch/hub/checkpoints/resnet18-f37072fd.pth\n",
            "100% 44.7M/44.7M [00:00<00:00, 222MB/s]\n",
            "Downloading: \"https://download.pytorch.org/models/resnet101-63fe2227.pth\" to /root/.cache/torch/hub/checkpoints/resnet101-63fe2227.pth\n",
            "100% 171M/171M [00:02<00:00, 65.3MB/s]\n",
            "epoch 0, lr 0.025000: 100% 1000/1000 [02:20<00:00,  7.12it/s]\n",
            "loss for train : 3.779279\n",
            "start val!\n",
            "precision per pixel for test: 0.400\n",
            "mIoU for validation: 0.083\n",
            "iter =        0/      50, loss_segmentation = 5.258 loss_adversarial = 0.001 loss_D = 0.662 \n",
            "epoch 1, lr 0.024550: 100% 1000/1000 [02:05<00:00,  7.94it/s]\n",
            "loss for train : 2.514989\n",
            "start val!\n",
            "precision per pixel for test: 0.563\n",
            "mIoU for validation: 0.148\n",
            "iter =        1/      50, loss_segmentation = 2.000 loss_adversarial = 0.001 loss_D = 0.684 \n",
            "epoch 2, lr 0.024098: 100% 1000/1000 [02:05<00:00,  7.97it/s]\n",
            "loss for train : 2.185519\n",
            "start val!\n",
            "precision per pixel for test: 0.645\n",
            "mIoU for validation: 0.184\n",
            "iter =        2/      50, loss_segmentation = 3.935 loss_adversarial = 0.001 loss_D = 0.667 \n",
            "epoch 3, lr 0.023646: 100% 1000/1000 [02:05<00:00,  7.98it/s]\n",
            "loss for train : 1.937070\n",
            "start val!\n",
            "precision per pixel for test: 0.366\n",
            "mIoU for validation: 0.110\n",
            "iter =        3/      50, loss_segmentation = 1.911 loss_adversarial = 0.001 loss_D = 0.668 \n",
            "epoch 4, lr 0.023193: 100% 1000/1000 [02:05<00:00,  7.96it/s]\n",
            "loss for train : 1.836658\n",
            "start val!\n",
            "precision per pixel for test: 0.633\n",
            "mIoU for validation: 0.191\n",
            "iter =        4/      50, loss_segmentation = 2.425 loss_adversarial = 0.001 loss_D = 0.678 \n",
            "epoch 5, lr 0.022738: 100% 1000/1000 [02:05<00:00,  7.96it/s]\n",
            "loss for train : 1.692853\n",
            "start val!\n",
            "precision per pixel for test: 0.533\n",
            "mIoU for validation: 0.150\n",
            "iter =        5/      50, loss_segmentation = 1.634 loss_adversarial = 0.001 loss_D = 0.606 \n",
            "epoch 6, lr 0.022283: 100% 1000/1000 [02:05<00:00,  8.00it/s]\n",
            "loss for train : 1.591624\n",
            "start val!\n",
            "precision per pixel for test: 0.590\n",
            "mIoU for validation: 0.197\n",
            "iter =        6/      50, loss_segmentation = 1.420 loss_adversarial = 0.001 loss_D = 0.642 \n",
            "epoch 7, lr 0.021827: 100% 1000/1000 [02:05<00:00,  7.97it/s]\n",
            "loss for train : 1.425239\n",
            "start val!\n",
            "precision per pixel for test: 0.571\n",
            "mIoU for validation: 0.198\n",
            "iter =        7/      50, loss_segmentation = 1.561 loss_adversarial = 0.001 loss_D = 0.675 \n",
            "epoch 8, lr 0.021369: 100% 1000/1000 [02:05<00:00,  7.99it/s]\n",
            "loss for train : 1.411819\n",
            "start val!\n",
            "precision per pixel for test: 0.617\n",
            "mIoU for validation: 0.215\n",
            "iter =        8/      50, loss_segmentation = 1.417 loss_adversarial = 0.001 loss_D = 0.683 \n",
            "epoch 9, lr 0.020911: 100% 1000/1000 [02:05<00:00,  7.99it/s]\n",
            "loss for train : 1.294652\n",
            "start val!\n",
            "precision per pixel for test: 0.578\n",
            "mIoU for validation: 0.189\n",
            "iter =        9/      50, loss_segmentation = 1.799 loss_adversarial = 0.001 loss_D = 0.665 \n",
            "epoch 10, lr 0.020451: 100% 1000/1000 [02:04<00:00,  8.00it/s]\n",
            "loss for train : 1.204270\n",
            "start val!\n",
            "precision per pixel for test: 0.590\n",
            "mIoU for validation: 0.188\n",
            "iter =       10/      50, loss_segmentation = 1.042 loss_adversarial = 0.001 loss_D = 0.632 \n",
            "epoch 11, lr 0.019991: 100% 1000/1000 [02:04<00:00,  8.01it/s]\n",
            "loss for train : 1.168750\n",
            "start val!\n",
            "precision per pixel for test: 0.673\n",
            "mIoU for validation: 0.225\n",
            "iter =       11/      50, loss_segmentation = 1.098 loss_adversarial = 0.001 loss_D = 0.588 \n",
            "epoch 12, lr 0.019529: 100% 1000/1000 [02:05<00:00,  7.98it/s]\n",
            "loss for train : 1.052074\n",
            "start val!\n",
            "precision per pixel for test: 0.632\n",
            "mIoU for validation: 0.229\n",
            "iter =       12/      50, loss_segmentation = 1.972 loss_adversarial = 0.001 loss_D = 0.699 \n",
            "epoch 13, lr 0.019066: 100% 1000/1000 [02:05<00:00,  7.96it/s]\n",
            "loss for train : 1.014511\n",
            "start val!\n",
            "precision per pixel for test: 0.486\n",
            "mIoU for validation: 0.180\n",
            "iter =       13/      50, loss_segmentation = 0.957 loss_adversarial = 0.001 loss_D = 0.621 \n",
            "epoch 14, lr 0.018601: 100% 1000/1000 [02:05<00:00,  7.99it/s]\n",
            "loss for train : 0.993657\n",
            "start val!\n",
            "precision per pixel for test: 0.552\n",
            "mIoU for validation: 0.202\n",
            "iter =       14/      50, loss_segmentation = 1.012 loss_adversarial = 0.001 loss_D = 0.648 \n",
            "epoch 15, lr 0.018135: 100% 1000/1000 [02:05<00:00,  7.98it/s]\n",
            "loss for train : 0.974969\n",
            "start val!\n",
            "precision per pixel for test: 0.535\n",
            "mIoU for validation: 0.195\n",
            "iter =       15/      50, loss_segmentation = 0.865 loss_adversarial = 0.001 loss_D = 0.631 \n",
            "epoch 16, lr 0.017668: 100% 1000/1000 [02:04<00:00,  8.01it/s]\n",
            "loss for train : 0.883035\n",
            "start val!\n",
            "precision per pixel for test: 0.663\n",
            "mIoU for validation: 0.241\n",
            "iter =       16/      50, loss_segmentation = 0.761 loss_adversarial = 0.001 loss_D = 0.642 \n",
            "epoch 17, lr 0.017200: 100% 1000/1000 [02:05<00:00,  7.96it/s]\n",
            "loss for train : 0.812578\n",
            "start val!\n",
            "precision per pixel for test: 0.591\n",
            "mIoU for validation: 0.216\n",
            "iter =       17/      50, loss_segmentation = 0.805 loss_adversarial = 0.001 loss_D = 0.571 \n",
            "epoch 18, lr 0.016730: 100% 1000/1000 [02:04<00:00,  8.01it/s]\n",
            "loss for train : 0.859808\n",
            "start val!\n",
            "precision per pixel for test: 0.519\n",
            "mIoU for validation: 0.205\n",
            "iter =       18/      50, loss_segmentation = 1.280 loss_adversarial = 0.001 loss_D = 0.521 \n",
            "epoch 19, lr 0.016259: 100% 1000/1000 [02:05<00:00,  7.99it/s]\n",
            "loss for train : 0.857793\n",
            "start val!\n",
            "precision per pixel for test: 0.619\n",
            "mIoU for validation: 0.222\n",
            "iter =       19/      50, loss_segmentation = 0.742 loss_adversarial = 0.001 loss_D = 0.593 \n",
            "epoch 20, lr 0.015786: 100% 1000/1000 [02:05<00:00,  7.99it/s]\n",
            "loss for train : 0.760396\n",
            "start val!\n",
            "precision per pixel for test: 0.606\n",
            "mIoU for validation: 0.225\n",
            "iter =       20/      50, loss_segmentation = 0.871 loss_adversarial = 0.001 loss_D = 0.514 \n",
            "epoch 21, lr 0.015312: 100% 1000/1000 [02:06<00:00,  7.88it/s]\n",
            "loss for train : 0.712175\n",
            "start val!\n",
            "precision per pixel for test: 0.602\n",
            "mIoU for validation: 0.219\n",
            "iter =       21/      50, loss_segmentation = 0.800 loss_adversarial = 0.002 loss_D = 0.526 \n",
            "epoch 22, lr 0.014836: 100% 1000/1000 [02:05<00:00,  7.96it/s]\n",
            "loss for train : 0.701694\n",
            "start val!\n",
            "precision per pixel for test: 0.633\n",
            "mIoU for validation: 0.231\n",
            "iter =       22/      50, loss_segmentation = 0.736 loss_adversarial = 0.001 loss_D = 0.480 \n",
            "epoch 23, lr 0.014358: 100% 1000/1000 [02:05<00:00,  7.97it/s]\n",
            "loss for train : 0.663541\n",
            "start val!\n",
            "precision per pixel for test: 0.606\n",
            "mIoU for validation: 0.225\n",
            "iter =       23/      50, loss_segmentation = 0.893 loss_adversarial = 0.001 loss_D = 0.546 \n",
            "epoch 24, lr 0.013879: 100% 1000/1000 [02:05<00:00,  7.98it/s]\n",
            "loss for train : 0.652344\n",
            "start val!\n",
            "precision per pixel for test: 0.631\n",
            "mIoU for validation: 0.238\n",
            "iter =       24/      50, loss_segmentation = 0.630 loss_adversarial = 0.002 loss_D = 0.479 \n",
            "epoch 25, lr 0.013397: 100% 1000/1000 [02:05<00:00,  7.96it/s]\n",
            "loss for train : 0.629062\n",
            "start val!\n",
            "precision per pixel for test: 0.654\n",
            "mIoU for validation: 0.244\n",
            "iter =       25/      50, loss_segmentation = 0.710 loss_adversarial = 0.001 loss_D = 0.551 \n",
            "epoch 26, lr 0.012914: 100% 1000/1000 [02:05<00:00,  7.95it/s]\n",
            "loss for train : 0.736324\n",
            "start val!\n",
            "precision per pixel for test: 0.584\n",
            "mIoU for validation: 0.215\n",
            "iter =       26/      50, loss_segmentation = 0.674 loss_adversarial = 0.001 loss_D = 0.616 \n",
            "epoch 27, lr 0.012429: 100% 1000/1000 [02:06<00:00,  7.93it/s]\n",
            "loss for train : 0.636848\n",
            "start val!\n",
            "precision per pixel for test: 0.604\n",
            "mIoU for validation: 0.229\n",
            "iter =       27/      50, loss_segmentation = 0.650 loss_adversarial = 0.002 loss_D = 0.503 \n",
            "epoch 28, lr 0.011941: 100% 1000/1000 [02:05<00:00,  7.97it/s]\n",
            "loss for train : 0.601010\n",
            "start val!\n",
            "precision per pixel for test: 0.629\n",
            "mIoU for validation: 0.237\n",
            "iter =       28/      50, loss_segmentation = 0.739 loss_adversarial = 0.001 loss_D = 0.534 \n",
            "epoch 29, lr 0.011452: 100% 1000/1000 [02:05<00:00,  7.99it/s]\n",
            "loss for train : 0.658590\n",
            "start val!\n",
            "precision per pixel for test: 0.546\n",
            "mIoU for validation: 0.205\n",
            "iter =       29/      50, loss_segmentation = 0.808 loss_adversarial = 0.001 loss_D = 0.537 \n",
            "epoch 30, lr 0.010960: 100% 1000/1000 [02:05<00:00,  7.95it/s]\n",
            "loss for train : 0.591794\n",
            "start val!\n",
            "precision per pixel for test: 0.586\n",
            "mIoU for validation: 0.218\n",
            "iter =       30/      50, loss_segmentation = 0.559 loss_adversarial = 0.001 loss_D = 0.519 \n",
            "epoch 31, lr 0.010465: 100% 1000/1000 [02:05<00:00,  7.99it/s]\n",
            "loss for train : 0.570572\n",
            "start val!\n",
            "precision per pixel for test: 0.564\n",
            "mIoU for validation: 0.216\n",
            "iter =       31/      50, loss_segmentation = 0.616 loss_adversarial = 0.001 loss_D = 0.548 \n",
            "epoch 32, lr 0.009968: 100% 1000/1000 [02:05<00:00,  7.98it/s]\n",
            "loss for train : 0.597381\n",
            "start val!\n",
            "precision per pixel for test: 0.618\n",
            "mIoU for validation: 0.232\n",
            "iter =       32/      50, loss_segmentation = 0.591 loss_adversarial = 0.002 loss_D = 0.446 \n",
            "epoch 33, lr 0.009468: 100% 1000/1000 [02:05<00:00,  7.97it/s]\n",
            "loss for train : 0.550285\n",
            "start val!\n",
            "precision per pixel for test: 0.613\n",
            "mIoU for validation: 0.234\n",
            "iter =       33/      50, loss_segmentation = 0.500 loss_adversarial = 0.002 loss_D = 0.482 \n",
            "epoch 34, lr 0.008966: 100% 1000/1000 [02:05<00:00,  7.98it/s]\n",
            "loss for train : 0.544280\n",
            "start val!\n",
            "precision per pixel for test: 0.636\n",
            "mIoU for validation: 0.240\n",
            "iter =       34/      50, loss_segmentation = 0.504 loss_adversarial = 0.001 loss_D = 0.539 \n",
            "epoch 35, lr 0.008460: 100% 1000/1000 [02:05<00:00,  7.97it/s]\n",
            "loss for train : 0.539205\n",
            "start val!\n",
            "precision per pixel for test: 0.604\n",
            "mIoU for validation: 0.228\n",
            "iter =       35/      50, loss_segmentation = 0.563 loss_adversarial = 0.002 loss_D = 0.490 \n",
            "epoch 36, lr 0.007950: 100% 1000/1000 [02:05<00:00,  7.99it/s]\n",
            "loss for train : 0.525498\n",
            "start val!\n",
            "precision per pixel for test: 0.621\n",
            "mIoU for validation: 0.229\n",
            "iter =       36/      50, loss_segmentation = 0.464 loss_adversarial = 0.002 loss_D = 0.426 \n",
            "epoch 37, lr 0.007437: 100% 1000/1000 [02:05<00:00,  8.00it/s]\n",
            "loss for train : 0.514431\n",
            "start val!\n",
            "precision per pixel for test: 0.606\n",
            "mIoU for validation: 0.229\n",
            "iter =       37/      50, loss_segmentation = 0.560 loss_adversarial = 0.001 loss_D = 0.541 \n",
            "epoch 38, lr 0.006920: 100% 1000/1000 [02:05<00:00,  7.97it/s]\n",
            "loss for train : 0.510660\n",
            "start val!\n",
            "precision per pixel for test: 0.607\n",
            "mIoU for validation: 0.228\n",
            "iter =       38/      50, loss_segmentation = 0.437 loss_adversarial = 0.002 loss_D = 0.505 \n",
            "epoch 39, lr 0.006399: 100% 1000/1000 [02:05<00:00,  7.99it/s]\n",
            "loss for train : 0.506724\n",
            "start val!\n",
            "precision per pixel for test: 0.621\n",
            "mIoU for validation: 0.233\n",
            "iter =       39/      50, loss_segmentation = 0.434 loss_adversarial = 0.002 loss_D = 0.473 \n",
            "epoch 40, lr 0.005873: 100% 1000/1000 [02:04<00:00,  8.00it/s]\n",
            "loss for train : 0.503541\n",
            "start val!\n",
            "precision per pixel for test: 0.622\n",
            "mIoU for validation: 0.234\n",
            "iter =       40/      50, loss_segmentation = 0.573 loss_adversarial = 0.002 loss_D = 0.569 \n",
            "epoch 41, lr 0.005342: 100% 1000/1000 [02:05<00:00,  8.00it/s]\n",
            "loss for train : 0.496170\n",
            "start val!\n",
            "precision per pixel for test: 0.620\n",
            "mIoU for validation: 0.232\n",
            "iter =       41/      50, loss_segmentation = 0.484 loss_adversarial = 0.002 loss_D = 0.453 \n",
            "epoch 42, lr 0.004804: 100% 1000/1000 [02:05<00:00,  7.99it/s]\n",
            "loss for train : 0.493252\n",
            "start val!\n",
            "precision per pixel for test: 0.643\n",
            "mIoU for validation: 0.241\n",
            "iter =       42/      50, loss_segmentation = 0.416 loss_adversarial = 0.002 loss_D = 0.442 \n",
            "epoch 43, lr 0.004260: 100% 1000/1000 [02:05<00:00,  7.98it/s]\n",
            "loss for train : 0.489761\n",
            "start val!\n",
            "precision per pixel for test: 0.622\n",
            "mIoU for validation: 0.235\n",
            "iter =       43/      50, loss_segmentation = 0.432 loss_adversarial = 0.001 loss_D = 0.500 \n",
            "epoch 44, lr 0.003709: 100% 1000/1000 [02:05<00:00,  7.99it/s]\n",
            "loss for train : 0.485335\n",
            "start val!\n",
            "precision per pixel for test: 0.646\n",
            "mIoU for validation: 0.244\n",
            "iter =       44/      50, loss_segmentation = 0.516 loss_adversarial = 0.002 loss_D = 0.466 \n",
            "epoch 45, lr 0.003147: 100% 1000/1000 [02:05<00:00,  7.97it/s]\n",
            "loss for train : 0.489295\n",
            "start val!\n",
            "precision per pixel for test: 0.609\n",
            "mIoU for validation: 0.229\n",
            "iter =       45/      50, loss_segmentation = 0.481 loss_adversarial = 0.002 loss_D = 0.619 \n",
            "epoch 46, lr 0.002575: 100% 1000/1000 [02:05<00:00,  7.98it/s]\n",
            "loss for train : 0.480244\n",
            "start val!\n",
            "precision per pixel for test: 0.634\n",
            "mIoU for validation: 0.242\n",
            "iter =       46/      50, loss_segmentation = 0.413 loss_adversarial = 0.002 loss_D = 0.524 \n",
            "epoch 47, lr 0.001987: 100% 1000/1000 [02:05<00:00,  8.00it/s]\n",
            "loss for train : 0.479946\n",
            "start val!\n",
            "precision per pixel for test: 0.630\n",
            "mIoU for validation: 0.238\n",
            "iter =       47/      50, loss_segmentation = 0.520 loss_adversarial = 0.002 loss_D = 0.449 \n",
            "epoch 48, lr 0.001380: 100% 1000/1000 [02:05<00:00,  7.99it/s]\n",
            "loss for train : 0.480095\n",
            "start val!\n",
            "precision per pixel for test: 0.631\n",
            "mIoU for validation: 0.239\n",
            "iter =       48/      50, loss_segmentation = 0.417 loss_adversarial = 0.002 loss_D = 0.431 \n",
            "epoch 49, lr 0.000739: 100% 1000/1000 [02:05<00:00,  7.99it/s]\n",
            "loss for train : 0.473725\n",
            "start val!\n",
            "precision per pixel for test: 0.626\n",
            "mIoU for validation: 0.234\n",
            "iter =       49/      50, loss_segmentation = 0.486 loss_adversarial = 0.002 loss_D = 0.460 \n"
          ]
        }
      ]
    },
    {
      "cell_type": "code",
      "source": [
        "#best\n",
        "!python eval.py"
      ],
      "metadata": {
        "id": "oYd55zzEQSMi"
      },
      "execution_count": null,
      "outputs": []
    },
    {
      "cell_type": "code",
      "source": [
        "#latest\n",
        "!python eval.py"
      ],
      "metadata": {
        "id": "rYrqE3-4QV0y"
      },
      "execution_count": null,
      "outputs": []
    },
    {
      "cell_type": "code",
      "source": [
        "#DA with DSC resnet101\n",
        "!python trainGTAtoCityscapesTEST.py"
      ],
      "metadata": {
        "colab": {
          "base_uri": "https://localhost:8080/"
        },
        "id": "C4t8eGP_pJKp",
        "outputId": "a0adae22-3148-411e-eb37-8a56fd24cfbf"
      },
      "execution_count": null,
      "outputs": [
        {
          "output_type": "stream",
          "name": "stdout",
          "text": [
            "epoch 0, lr 0.025000: 100% 1000/1000 [05:57<00:00,  2.80it/s]\n",
            "loss for train : 2.905645\n",
            "start val!\n",
            "precision per pixel for test: 0.569\n",
            "mIoU for validation: 0.165\n",
            "iter =        0/      50, loss_segmentation = 2.654 loss_adversarial = 0.691 loss_D = 0.681 \n",
            "epoch 1, lr 0.024550: 100% 1000/1000 [06:15<00:00,  2.66it/s]\n",
            "loss for train : 1.853892\n",
            "start val!\n",
            "precision per pixel for test: 0.571\n",
            "mIoU for validation: 0.199\n",
            "iter =        1/      50, loss_segmentation = 1.174 loss_adversarial = 0.705 loss_D = 0.693 \n",
            "epoch 2, lr 0.024098: 100% 1000/1000 [06:12<00:00,  2.68it/s]\n",
            "loss for train : 1.497609\n",
            "start val!\n",
            "precision per pixel for test: 0.565\n",
            "mIoU for validation: 0.194\n",
            "iter =        2/      50, loss_segmentation = 1.794 loss_adversarial = 0.727 loss_D = 0.680 \n",
            "epoch 3, lr 0.023646: 100% 1000/1000 [06:05<00:00,  2.74it/s]\n",
            "loss for train : 1.261235\n",
            "start val!\n",
            "precision per pixel for test: 0.459\n",
            "mIoU for validation: 0.197\n",
            "iter =        3/      50, loss_segmentation = 1.612 loss_adversarial = 0.726 loss_D = 0.686 \n",
            "epoch 4, lr 0.023193: 100% 1000/1000 [06:06<00:00,  2.73it/s]\n",
            "loss for train : 1.113375\n",
            "start val!\n",
            "precision per pixel for test: 0.442\n",
            "mIoU for validation: 0.179\n",
            "iter =        4/      50, loss_segmentation = 0.754 loss_adversarial = 0.747 loss_D = 0.660 \n",
            "epoch 5, lr 0.022738: 100% 1000/1000 [06:06<00:00,  2.73it/s]\n",
            "loss for train : 1.074327\n",
            "start val!\n",
            "precision per pixel for test: 0.614\n",
            "mIoU for validation: 0.243\n",
            "iter =        5/      50, loss_segmentation = 0.871 loss_adversarial = 0.744 loss_D = 0.655 \n",
            "epoch 6, lr 0.022283: 100% 1000/1000 [06:04<00:00,  2.75it/s]\n",
            "loss for train : 0.937424\n",
            "start val!\n",
            "precision per pixel for test: 0.632\n",
            "mIoU for validation: 0.265\n",
            "iter =        6/      50, loss_segmentation = 0.762 loss_adversarial = 0.773 loss_D = 0.642 \n",
            "epoch 7, lr 0.021827: 100% 1000/1000 [06:02<00:00,  2.76it/s]\n",
            "loss for train : 0.872059\n",
            "start val!\n",
            "precision per pixel for test: 0.592\n",
            "mIoU for validation: 0.223\n",
            "iter =        7/      50, loss_segmentation = 1.155 loss_adversarial = 0.813 loss_D = 0.663 \n",
            "epoch 8, lr 0.021369: 100% 1000/1000 [05:59<00:00,  2.78it/s]\n",
            "loss for train : 0.834804\n",
            "start val!\n",
            "precision per pixel for test: 0.633\n",
            "mIoU for validation: 0.232\n",
            "iter =        8/      50, loss_segmentation = 1.092 loss_adversarial = 0.819 loss_D = 0.659 \n",
            "epoch 9, lr 0.020911: 100% 1000/1000 [05:56<00:00,  2.81it/s]\n",
            "loss for train : 0.720293\n",
            "start val!\n",
            "precision per pixel for test: 0.614\n",
            "mIoU for validation: 0.251\n",
            "iter =        9/      50, loss_segmentation = 0.525 loss_adversarial = 0.825 loss_D = 0.705 \n",
            "epoch 10, lr 0.020451: 100% 1000/1000 [05:53<00:00,  2.83it/s]\n",
            "loss for train : 0.656079\n",
            "start val!\n",
            "precision per pixel for test: 0.607\n",
            "mIoU for validation: 0.246\n",
            "iter =       10/      50, loss_segmentation = 0.569 loss_adversarial = 0.943 loss_D = 0.600 \n",
            "epoch 11, lr 0.019991: 100% 1000/1000 [05:48<00:00,  2.87it/s]\n",
            "loss for train : 0.580209\n",
            "start val!\n",
            "precision per pixel for test: 0.631\n",
            "mIoU for validation: 0.257\n",
            "iter =       11/      50, loss_segmentation = 0.594 loss_adversarial = 0.802 loss_D = 0.668 \n",
            "epoch 12, lr 0.019529: 100% 1000/1000 [05:45<00:00,  2.89it/s]\n",
            "loss for train : 0.537575\n",
            "start val!\n",
            "precision per pixel for test: 0.672\n",
            "mIoU for validation: 0.294\n",
            "iter =       12/      50, loss_segmentation = 0.512 loss_adversarial = 0.888 loss_D = 0.647 \n",
            "epoch 13, lr 0.019066: 100% 1000/1000 [05:44<00:00,  2.91it/s]\n",
            "loss for train : 0.499173\n",
            "start val!\n",
            "precision per pixel for test: 0.661\n",
            "mIoU for validation: 0.278\n",
            "iter =       13/      50, loss_segmentation = 0.528 loss_adversarial = 0.931 loss_D = 0.585 \n",
            "epoch 14, lr 0.018601: 100% 1000/1000 [05:40<00:00,  2.93it/s]\n",
            "loss for train : 0.487125\n",
            "start val!\n",
            "precision per pixel for test: 0.641\n",
            "mIoU for validation: 0.264\n",
            "iter =       14/      50, loss_segmentation = 0.398 loss_adversarial = 0.850 loss_D = 0.633 \n",
            "epoch 15, lr 0.018135: 100% 1000/1000 [05:38<00:00,  2.96it/s]\n",
            "loss for train : 0.467649\n",
            "start val!\n",
            "precision per pixel for test: 0.696\n",
            "mIoU for validation: 0.296\n",
            "iter =       15/      50, loss_segmentation = 0.410 loss_adversarial = 1.007 loss_D = 0.550 \n",
            "epoch 16, lr 0.017668: 100% 1000/1000 [05:36<00:00,  2.97it/s]\n",
            "loss for train : 0.441054\n",
            "start val!\n",
            "precision per pixel for test: 0.671\n",
            "mIoU for validation: 0.292\n",
            "iter =       16/      50, loss_segmentation = 0.550 loss_adversarial = 0.998 loss_D = 0.594 \n",
            "epoch 17, lr 0.017200: 100% 1000/1000 [05:36<00:00,  2.97it/s]\n",
            "loss for train : 0.436097\n",
            "start val!\n",
            "precision per pixel for test: 0.653\n",
            "mIoU for validation: 0.280\n",
            "iter =       17/      50, loss_segmentation = 0.400 loss_adversarial = 0.993 loss_D = 0.619 \n",
            "epoch 18, lr 0.016730: 100% 1000/1000 [05:33<00:00,  3.00it/s]\n",
            "loss for train : 0.421934\n",
            "start val!\n",
            "precision per pixel for test: 0.666\n",
            "mIoU for validation: 0.290\n",
            "iter =       18/      50, loss_segmentation = 0.474 loss_adversarial = 0.978 loss_D = 0.596 \n",
            "epoch 19, lr 0.016259: 100% 1000/1000 [05:31<00:00,  3.01it/s]\n",
            "loss for train : 0.404942\n",
            "start val!\n",
            "precision per pixel for test: 0.691\n",
            "mIoU for validation: 0.295\n",
            "iter =       19/      50, loss_segmentation = 0.390 loss_adversarial = 1.031 loss_D = 0.558 \n",
            "epoch 20, lr 0.015786: 100% 1000/1000 [05:30<00:00,  3.03it/s]\n",
            "loss for train : 0.393393\n",
            "start val!\n",
            "precision per pixel for test: 0.680\n",
            "mIoU for validation: 0.293\n",
            "iter =       20/      50, loss_segmentation = 0.460 loss_adversarial = 1.071 loss_D = 0.629 \n",
            "epoch 21, lr 0.015312: 100% 1000/1000 [05:31<00:00,  3.02it/s]\n",
            "loss for train : 0.390559\n",
            "start val!\n",
            "precision per pixel for test: 0.674\n",
            "mIoU for validation: 0.285\n",
            "iter =       21/      50, loss_segmentation = 0.323 loss_adversarial = 1.221 loss_D = 0.612 \n",
            "epoch 22, lr 0.014836: 100% 1000/1000 [05:12<00:00,  3.20it/s]\n",
            "loss for train : 0.379760\n",
            "start val!\n",
            "precision per pixel for test: 0.677\n",
            "mIoU for validation: 0.294\n",
            "iter =       22/      50, loss_segmentation = 0.399 loss_adversarial = 1.196 loss_D = 0.568 \n",
            "epoch 23, lr 0.014358: 100% 1000/1000 [05:11<00:00,  3.21it/s]\n",
            "loss for train : 0.372856\n",
            "start val!\n",
            "precision per pixel for test: 0.667\n",
            "mIoU for validation: 0.297\n",
            "iter =       23/      50, loss_segmentation = 0.395 loss_adversarial = 1.135 loss_D = 0.562 \n",
            "epoch 24, lr 0.013879: 100% 1000/1000 [05:11<00:00,  3.21it/s]\n",
            "loss for train : 0.373865\n",
            "start val!\n",
            "precision per pixel for test: 0.681\n",
            "mIoU for validation: 0.299\n",
            "iter =       24/      50, loss_segmentation = 0.604 loss_adversarial = 1.067 loss_D = 0.618 \n",
            "epoch 25, lr 0.013397: 100% 1000/1000 [05:08<00:00,  3.24it/s]\n",
            "loss for train : 0.360241\n",
            "start val!\n",
            "precision per pixel for test: 0.673\n",
            "mIoU for validation: 0.291\n",
            "iter =       25/      50, loss_segmentation = 0.362 loss_adversarial = 0.931 loss_D = 0.620 \n",
            "epoch 26, lr 0.012914: 100% 1000/1000 [05:06<00:00,  3.27it/s]\n",
            "loss for train : 0.352699\n",
            "start val!\n",
            "precision per pixel for test: 0.674\n",
            "mIoU for validation: 0.293\n",
            "iter =       26/      50, loss_segmentation = 0.259 loss_adversarial = 1.163 loss_D = 0.566 \n",
            "epoch 27, lr 0.012429: 100% 1000/1000 [05:05<00:00,  3.27it/s]\n",
            "loss for train : 0.347257\n",
            "start val!\n",
            "precision per pixel for test: 0.688\n",
            "mIoU for validation: 0.302\n",
            "iter =       27/      50, loss_segmentation = 0.239 loss_adversarial = 1.069 loss_D = 0.527 \n",
            "epoch 28, lr 0.011941: 100% 1000/1000 [05:05<00:00,  3.27it/s]\n",
            "loss for train : 0.341081\n",
            "start val!\n",
            "precision per pixel for test: 0.691\n",
            "mIoU for validation: 0.299\n",
            "iter =       28/      50, loss_segmentation = 0.317 loss_adversarial = 1.015 loss_D = 0.607 \n",
            "epoch 29, lr 0.011452: 100% 1000/1000 [05:03<00:00,  3.29it/s]\n",
            "loss for train : 0.337910\n",
            "start val!\n",
            "precision per pixel for test: 0.626\n",
            "mIoU for validation: 0.276\n",
            "iter =       29/      50, loss_segmentation = 0.386 loss_adversarial = 1.154 loss_D = 0.619 \n",
            "epoch 30, lr 0.010960: 100% 1000/1000 [05:06<00:00,  3.27it/s]\n",
            "loss for train : 0.345739\n",
            "start val!\n",
            "precision per pixel for test: 0.696\n",
            "mIoU for validation: 0.307\n",
            "iter =       30/      50, loss_segmentation = 0.299 loss_adversarial = 1.156 loss_D = 0.588 \n",
            "epoch 31, lr 0.010465: 100% 1000/1000 [05:09<00:00,  3.24it/s]\n",
            "loss for train : 0.339174\n",
            "start val!\n",
            "precision per pixel for test: 0.704\n",
            "mIoU for validation: 0.306\n",
            "iter =       31/      50, loss_segmentation = 0.318 loss_adversarial = 1.013 loss_D = 0.614 \n",
            "epoch 32, lr 0.009968: 100% 1000/1000 [05:03<00:00,  3.29it/s]\n",
            "loss for train : 0.329044\n",
            "start val!\n",
            "precision per pixel for test: 0.705\n",
            "mIoU for validation: 0.313\n",
            "iter =       32/      50, loss_segmentation = 0.325 loss_adversarial = 1.284 loss_D = 0.534 \n",
            "epoch 33, lr 0.009468: 100% 1000/1000 [05:02<00:00,  3.30it/s]\n",
            "loss for train : 0.323974\n",
            "start val!\n",
            "precision per pixel for test: 0.703\n",
            "mIoU for validation: 0.307\n",
            "iter =       33/      50, loss_segmentation = 0.277 loss_adversarial = 0.972 loss_D = 0.629 \n",
            "epoch 34, lr 0.008966: 100% 1000/1000 [05:02<00:00,  3.31it/s]\n",
            "loss for train : 0.322598\n",
            "start val!\n",
            "precision per pixel for test: 0.697\n",
            "mIoU for validation: 0.306\n",
            "iter =       34/      50, loss_segmentation = 0.355 loss_adversarial = 1.170 loss_D = 0.650 \n",
            "epoch 35, lr 0.008460: 100% 1000/1000 [05:02<00:00,  3.31it/s]\n",
            "loss for train : 0.318662\n",
            "start val!\n",
            "precision per pixel for test: 0.700\n",
            "mIoU for validation: 0.304\n",
            "iter =       35/      50, loss_segmentation = 0.349 loss_adversarial = 1.144 loss_D = 0.648 \n",
            "epoch 36, lr 0.007950: 100% 1000/1000 [05:00<00:00,  3.33it/s]\n",
            "loss for train : 0.314688\n",
            "start val!\n",
            "precision per pixel for test: 0.700\n",
            "mIoU for validation: 0.307\n",
            "iter =       36/      50, loss_segmentation = 0.307 loss_adversarial = 1.229 loss_D = 0.546 \n",
            "epoch 37, lr 0.007437: 100% 1000/1000 [05:00<00:00,  3.33it/s]\n",
            "loss for train : 0.312707\n",
            "start val!\n",
            "precision per pixel for test: 0.705\n",
            "mIoU for validation: 0.309\n",
            "iter =       37/      50, loss_segmentation = 0.395 loss_adversarial = 1.133 loss_D = 0.623 \n",
            "epoch 38, lr 0.006920: 100% 1000/1000 [05:15<00:00,  3.17it/s]\n",
            "loss for train : 0.310520\n",
            "start val!\n",
            "precision per pixel for test: 0.702\n",
            "mIoU for validation: 0.311\n",
            "iter =       38/      50, loss_segmentation = 0.302 loss_adversarial = 1.041 loss_D = 0.622 \n",
            "epoch 39, lr 0.006399: 100% 1000/1000 [04:58<00:00,  3.35it/s]\n",
            "loss for train : 0.308707\n",
            "start val!\n",
            "precision per pixel for test: 0.705\n",
            "mIoU for validation: 0.310\n",
            "iter =       39/      50, loss_segmentation = 0.285 loss_adversarial = 0.979 loss_D = 0.569 \n",
            "epoch 40, lr 0.005873: 100% 1000/1000 [04:57<00:00,  3.36it/s]\n",
            "loss for train : 0.305799\n",
            "start val!\n",
            "precision per pixel for test: 0.705\n",
            "mIoU for validation: 0.305\n",
            "iter =       40/      50, loss_segmentation = 0.329 loss_adversarial = 1.080 loss_D = 0.583 \n",
            "epoch 41, lr 0.005342: 100% 1000/1000 [05:00<00:00,  3.33it/s]\n",
            "loss for train : 0.306100\n",
            "start val!\n",
            "precision per pixel for test: 0.700\n",
            "mIoU for validation: 0.309\n",
            "iter =       41/      50, loss_segmentation = 0.330 loss_adversarial = 1.022 loss_D = 0.561 \n",
            "epoch 42, lr 0.004804: 100% 1000/1000 [05:00<00:00,  3.33it/s]\n",
            "loss for train : 0.304580\n",
            "start val!\n",
            "precision per pixel for test: 0.697\n",
            "mIoU for validation: 0.305\n",
            "iter =       42/      50, loss_segmentation = 0.262 loss_adversarial = 1.097 loss_D = 0.537 \n",
            "epoch 43, lr 0.004260: 100% 1000/1000 [04:58<00:00,  3.35it/s]\n",
            "loss for train : 0.301477\n",
            "start val!\n",
            "precision per pixel for test: 0.705\n",
            "mIoU for validation: 0.308\n",
            "iter =       43/      50, loss_segmentation = 0.237 loss_adversarial = 1.036 loss_D = 0.620 \n",
            "epoch 44, lr 0.003709: 100% 1000/1000 [04:58<00:00,  3.35it/s]\n",
            "loss for train : 0.300995\n",
            "start val!\n",
            "precision per pixel for test: 0.705\n",
            "mIoU for validation: 0.309\n",
            "iter =       44/      50, loss_segmentation = 0.301 loss_adversarial = 0.986 loss_D = 0.595 \n",
            "epoch 45, lr 0.003147: 100% 1000/1000 [04:58<00:00,  3.35it/s]\n",
            "loss for train : 0.300658\n",
            "start val!\n",
            "precision per pixel for test: 0.706\n",
            "mIoU for validation: 0.310\n",
            "iter =       45/      50, loss_segmentation = 0.333 loss_adversarial = 1.090 loss_D = 0.609 \n",
            "epoch 46, lr 0.002575: 100% 1000/1000 [04:57<00:00,  3.36it/s]\n",
            "loss for train : 0.298400\n",
            "start val!\n",
            "precision per pixel for test: 0.708\n",
            "mIoU for validation: 0.310\n",
            "iter =       46/      50, loss_segmentation = 0.277 loss_adversarial = 0.977 loss_D = 0.584 \n",
            "epoch 47, lr 0.001987: 100% 1000/1000 [04:57<00:00,  3.37it/s]\n",
            "loss for train : 0.297169\n",
            "start val!\n",
            "precision per pixel for test: 0.717\n",
            "mIoU for validation: 0.316\n",
            "iter =       47/      50, loss_segmentation = 0.339 loss_adversarial = 1.116 loss_D = 0.609 \n",
            "epoch 48, lr 0.001380: 100% 1000/1000 [04:58<00:00,  3.35it/s]\n",
            "loss for train : 0.297357\n",
            "start val!\n",
            "precision per pixel for test: 0.706\n",
            "mIoU for validation: 0.308\n",
            "iter =       48/      50, loss_segmentation = 0.270 loss_adversarial = 0.913 loss_D = 0.581 \n",
            "epoch 49, lr 0.000739: 100% 1000/1000 [04:56<00:00,  3.37it/s]\n",
            "loss for train : 0.295505\n",
            "start val!\n",
            "precision per pixel for test: 0.710\n",
            "mIoU for validation: 0.308\n",
            "iter =       49/      50, loss_segmentation = 0.252 loss_adversarial = 0.953 loss_D = 0.587 \n"
          ]
        }
      ]
    },
    {
      "cell_type": "code",
      "source": [
        "#DA with DSC resnet101 best\n",
        "!python eval.py "
      ],
      "metadata": {
        "colab": {
          "base_uri": "https://localhost:8080/"
        },
        "id": "N_qMHAeVDo4o",
        "outputId": "ae573920-d2d8-475b-e7c4-f2dbecb2b4df"
      },
      "execution_count": null,
      "outputs": [
        {
          "output_type": "stream",
          "name": "stdout",
          "text": [
            "load model from /content/drive/MyDrive/checkpoints_101_sgd_DSC/best_crossentropy_loss.pth ...\n",
            "The best epoch is 47\n",
            "Done!\n",
            "start test!\n",
            "test: 100% 250/250 [15:26<00:00,  3.69s/it]precision per pixel for test: 0.717\n",
            "mIoU for validation: 0.316\n",
            "test: 100% 250/250 [15:30<00:00,  3.72s/it]\n"
          ]
        }
      ]
    },
    {
      "cell_type": "code",
      "source": [
        "#DA with DSC resnet101 latest\n",
        "!python eval.py "
      ],
      "metadata": {
        "colab": {
          "base_uri": "https://localhost:8080/"
        },
        "id": "jmYSYQh5FcHT",
        "outputId": "504d759e-a34d-423d-dfe5-7323e4e0425c"
      },
      "execution_count": null,
      "outputs": [
        {
          "output_type": "stream",
          "name": "stdout",
          "text": [
            "load model from /content/drive/MyDrive/checkpoints_101_sgd_DSC/latest_crossentropy_loss.pth ...\n",
            "Done!\n",
            "start test!\n",
            "test: 100% 250/250 [15:20<00:00,  3.71s/it]precision per pixel for test: 0.710\n",
            "mIoU for validation: 0.308\n",
            "test: 100% 250/250 [15:24<00:00,  3.70s/it]\n"
          ]
        }
      ]
    },
    {
      "cell_type": "code",
      "source": [
        "!pip install torchscan\n",
        "\n",
        "from model.build_BiSeNet import BiSeNet\n",
        "from torchscan import summary\n",
        "from model.discriminator import FCDiscriminator\n",
        "\n",
        "NUM_CLASSES = 19 #number of semantic classes\n",
        "\n",
        "#Discriminator \n",
        "model_D = FCDiscriminator(num_classes=NUM_CLASSES)\n",
        "model_D.eval().cuda()\n",
        "summary (model, input_shape=(3, 1024, 512))\n",
        "\n",
        "CONTEXT_PATH ='resnet101'\n",
        "model = BiSeNet (NUM_CLASSES, CONTEXT_PATH)\n",
        "model.eval().cuda()\n",
        "print (\"BiSeNet with ResNet101\")\n",
        "summary(model, input_shape=(3, 1024, 512))\n",
        "\n",
        "CONTEXT_PATH= 'resnet18'\n",
        "model18 = BiSeNet (NUM_CLASSES, CONTEXT_PATH)\n",
        "model18.eval().cuda()\n",
        "print (\"BiSeNet with ResNet18\")\n",
        "summary(model18, (3, 1024, 512))\n"
      ],
      "metadata": {
        "colab": {
          "base_uri": "https://localhost:8080/",
          "height": 470
        },
        "id": "k_xVsnTYKtUW",
        "outputId": "8b812850-03dc-4d88-ff15-3dca171b2883"
      },
      "execution_count": null,
      "outputs": [
        {
          "output_type": "stream",
          "name": "stdout",
          "text": [
            "Requirement already satisfied: torchscan in /usr/local/lib/python3.7/dist-packages (0.1.1)\n",
            "Requirement already satisfied: torch>=1.1.0 in /usr/local/lib/python3.7/dist-packages (from torchscan) (1.10.0+cu111)\n",
            "Requirement already satisfied: typing-extensions in /usr/local/lib/python3.7/dist-packages (from torch>=1.1.0->torchscan) (3.10.0.2)\n"
          ]
        },
        {
          "output_type": "error",
          "ename": "AttributeError",
          "evalue": "ignored",
          "traceback": [
            "\u001b[0;31m---------------------------------------------------------------------------\u001b[0m",
            "\u001b[0;31mAttributeError\u001b[0m                            Traceback (most recent call last)",
            "\u001b[0;32m<ipython-input-17-f8f8a4e72113>\u001b[0m in \u001b[0;36m<module>\u001b[0;34m()\u001b[0m\n\u001b[1;32m     10\u001b[0m \u001b[0mmodel_D\u001b[0m \u001b[0;34m=\u001b[0m \u001b[0mFCDiscriminator\u001b[0m\u001b[0;34m(\u001b[0m\u001b[0mnum_classes\u001b[0m\u001b[0;34m=\u001b[0m\u001b[0mNUM_CLASSES\u001b[0m\u001b[0;34m)\u001b[0m\u001b[0;34m\u001b[0m\u001b[0;34m\u001b[0m\u001b[0m\n\u001b[1;32m     11\u001b[0m \u001b[0mmodel_D\u001b[0m\u001b[0;34m.\u001b[0m\u001b[0mcuda\u001b[0m\u001b[0;34m(\u001b[0m\u001b[0;34m)\u001b[0m\u001b[0;34m\u001b[0m\u001b[0;34m\u001b[0m\u001b[0m\n\u001b[0;32m---> 12\u001b[0;31m \u001b[0msummary\u001b[0m \u001b[0;34m(\u001b[0m\u001b[0mmodel\u001b[0m\u001b[0;34m,\u001b[0m \u001b[0minput_shape\u001b[0m\u001b[0;34m=\u001b[0m\u001b[0;34m(\u001b[0m\u001b[0;36m3\u001b[0m\u001b[0;34m,\u001b[0m \u001b[0;36m1024\u001b[0m\u001b[0;34m,\u001b[0m \u001b[0;36m512\u001b[0m\u001b[0;34m)\u001b[0m\u001b[0;34m)\u001b[0m\u001b[0;34m\u001b[0m\u001b[0;34m\u001b[0m\u001b[0m\n\u001b[0m\u001b[1;32m     13\u001b[0m \u001b[0;34m\u001b[0m\u001b[0m\n\u001b[1;32m     14\u001b[0m \u001b[0mCONTEXT_PATH\u001b[0m \u001b[0;34m=\u001b[0m\u001b[0;34m'resnet101'\u001b[0m\u001b[0;34m\u001b[0m\u001b[0;34m\u001b[0m\u001b[0m\n",
            "\u001b[0;32m/usr/local/lib/python3.7/dist-packages/torchscan/crawler.py\u001b[0m in \u001b[0;36msummary\u001b[0;34m(module, input_shape, wrap_mode, max_depth, receptive_field)\u001b[0m\n\u001b[1;32m    227\u001b[0m \u001b[0;34m\u001b[0m\u001b[0m\n\u001b[1;32m    228\u001b[0m     \u001b[0;31m# Get the summary dict\u001b[0m\u001b[0;34m\u001b[0m\u001b[0;34m\u001b[0m\u001b[0;34m\u001b[0m\u001b[0m\n\u001b[0;32m--> 229\u001b[0;31m     \u001b[0mmodule_info\u001b[0m \u001b[0;34m=\u001b[0m \u001b[0mcrawl_module\u001b[0m\u001b[0;34m(\u001b[0m\u001b[0mmodule\u001b[0m\u001b[0;34m,\u001b[0m \u001b[0minput_shape\u001b[0m\u001b[0;34m)\u001b[0m\u001b[0;34m\u001b[0m\u001b[0;34m\u001b[0m\u001b[0m\n\u001b[0m\u001b[1;32m    230\u001b[0m     \u001b[0;31m# Aggregate until max_depth\u001b[0m\u001b[0;34m\u001b[0m\u001b[0;34m\u001b[0m\u001b[0;34m\u001b[0m\u001b[0m\n\u001b[1;32m    231\u001b[0m     \u001b[0;32mif\u001b[0m \u001b[0misinstance\u001b[0m\u001b[0;34m(\u001b[0m\u001b[0mmax_depth\u001b[0m\u001b[0;34m,\u001b[0m \u001b[0mint\u001b[0m\u001b[0;34m)\u001b[0m\u001b[0;34m:\u001b[0m\u001b[0;34m\u001b[0m\u001b[0;34m\u001b[0m\u001b[0m\n",
            "\u001b[0;32m/usr/local/lib/python3.7/dist-packages/torchscan/crawler.py\u001b[0m in \u001b[0;36mcrawl_module\u001b[0;34m(module, input_shape, dtype, max_depth)\u001b[0m\n\u001b[1;32m    170\u001b[0m     \u001b[0;31m# Forward\u001b[0m\u001b[0;34m\u001b[0m\u001b[0;34m\u001b[0m\u001b[0;34m\u001b[0m\u001b[0m\n\u001b[1;32m    171\u001b[0m     \u001b[0;32mwith\u001b[0m \u001b[0mtorch\u001b[0m\u001b[0;34m.\u001b[0m\u001b[0mno_grad\u001b[0m\u001b[0;34m(\u001b[0m\u001b[0;34m)\u001b[0m\u001b[0;34m:\u001b[0m\u001b[0;34m\u001b[0m\u001b[0;34m\u001b[0m\u001b[0m\n\u001b[0;32m--> 172\u001b[0;31m         \u001b[0mmodule\u001b[0m\u001b[0;34m(\u001b[0m\u001b[0;34m*\u001b[0m\u001b[0minput_ts\u001b[0m\u001b[0;34m)\u001b[0m\u001b[0;34m\u001b[0m\u001b[0;34m\u001b[0m\u001b[0m\n\u001b[0m\u001b[1;32m    173\u001b[0m \u001b[0;34m\u001b[0m\u001b[0m\n\u001b[1;32m    174\u001b[0m     \u001b[0mreserved_ram\u001b[0m\u001b[0;34m,\u001b[0m \u001b[0mdiff_ram\u001b[0m \u001b[0;34m=\u001b[0m \u001b[0;36m0\u001b[0m\u001b[0;34m,\u001b[0m \u001b[0;36m0\u001b[0m\u001b[0;34m\u001b[0m\u001b[0;34m\u001b[0m\u001b[0m\n",
            "\u001b[0;32m/usr/local/lib/python3.7/dist-packages/torch/nn/modules/module.py\u001b[0m in \u001b[0;36m_call_impl\u001b[0;34m(self, *input, **kwargs)\u001b[0m\n\u001b[1;32m   1118\u001b[0m             \u001b[0minput\u001b[0m \u001b[0;34m=\u001b[0m \u001b[0mbw_hook\u001b[0m\u001b[0;34m.\u001b[0m\u001b[0msetup_input_hook\u001b[0m\u001b[0;34m(\u001b[0m\u001b[0minput\u001b[0m\u001b[0;34m)\u001b[0m\u001b[0;34m\u001b[0m\u001b[0;34m\u001b[0m\u001b[0m\n\u001b[1;32m   1119\u001b[0m \u001b[0;34m\u001b[0m\u001b[0m\n\u001b[0;32m-> 1120\u001b[0;31m         \u001b[0mresult\u001b[0m \u001b[0;34m=\u001b[0m \u001b[0mforward_call\u001b[0m\u001b[0;34m(\u001b[0m\u001b[0;34m*\u001b[0m\u001b[0minput\u001b[0m\u001b[0;34m,\u001b[0m \u001b[0;34m**\u001b[0m\u001b[0mkwargs\u001b[0m\u001b[0;34m)\u001b[0m\u001b[0;34m\u001b[0m\u001b[0;34m\u001b[0m\u001b[0m\n\u001b[0m\u001b[1;32m   1121\u001b[0m         \u001b[0;32mif\u001b[0m \u001b[0m_global_forward_hooks\u001b[0m \u001b[0;32mor\u001b[0m \u001b[0mself\u001b[0m\u001b[0;34m.\u001b[0m\u001b[0m_forward_hooks\u001b[0m\u001b[0;34m:\u001b[0m\u001b[0;34m\u001b[0m\u001b[0;34m\u001b[0m\u001b[0m\n\u001b[1;32m   1122\u001b[0m             \u001b[0;32mfor\u001b[0m \u001b[0mhook\u001b[0m \u001b[0;32min\u001b[0m \u001b[0;34m(\u001b[0m\u001b[0;34m*\u001b[0m\u001b[0m_global_forward_hooks\u001b[0m\u001b[0;34m.\u001b[0m\u001b[0mvalues\u001b[0m\u001b[0;34m(\u001b[0m\u001b[0;34m)\u001b[0m\u001b[0;34m,\u001b[0m \u001b[0;34m*\u001b[0m\u001b[0mself\u001b[0m\u001b[0;34m.\u001b[0m\u001b[0m_forward_hooks\u001b[0m\u001b[0;34m.\u001b[0m\u001b[0mvalues\u001b[0m\u001b[0;34m(\u001b[0m\u001b[0;34m)\u001b[0m\u001b[0;34m)\u001b[0m\u001b[0;34m:\u001b[0m\u001b[0;34m\u001b[0m\u001b[0;34m\u001b[0m\u001b[0m\n",
            "\u001b[0;32m/content/AMLproject/BiSeNet/model/build_BiSeNet.py\u001b[0m in \u001b[0;36mforward\u001b[0;34m(self, input)\u001b[0m\n\u001b[1;32m    143\u001b[0m \u001b[0;34m\u001b[0m\u001b[0m\n\u001b[1;32m    144\u001b[0m         \u001b[0;31m# output of context path\u001b[0m\u001b[0;34m\u001b[0m\u001b[0;34m\u001b[0m\u001b[0;34m\u001b[0m\u001b[0m\n\u001b[0;32m--> 145\u001b[0;31m         \u001b[0mcx1\u001b[0m\u001b[0;34m,\u001b[0m \u001b[0mcx2\u001b[0m\u001b[0;34m,\u001b[0m \u001b[0mtail\u001b[0m \u001b[0;34m=\u001b[0m \u001b[0mself\u001b[0m\u001b[0;34m.\u001b[0m\u001b[0mcontext_path\u001b[0m\u001b[0;34m(\u001b[0m\u001b[0minput\u001b[0m\u001b[0;34m)\u001b[0m\u001b[0;34m\u001b[0m\u001b[0;34m\u001b[0m\u001b[0m\n\u001b[0m\u001b[1;32m    146\u001b[0m         \u001b[0mcx1\u001b[0m \u001b[0;34m=\u001b[0m \u001b[0mself\u001b[0m\u001b[0;34m.\u001b[0m\u001b[0mattention_refinement_module1\u001b[0m\u001b[0;34m(\u001b[0m\u001b[0mcx1\u001b[0m\u001b[0;34m)\u001b[0m\u001b[0;34m\u001b[0m\u001b[0;34m\u001b[0m\u001b[0m\n\u001b[1;32m    147\u001b[0m         \u001b[0mcx2\u001b[0m \u001b[0;34m=\u001b[0m \u001b[0mself\u001b[0m\u001b[0;34m.\u001b[0m\u001b[0mattention_refinement_module2\u001b[0m\u001b[0;34m(\u001b[0m\u001b[0mcx2\u001b[0m\u001b[0;34m)\u001b[0m\u001b[0;34m\u001b[0m\u001b[0;34m\u001b[0m\u001b[0m\n",
            "\u001b[0;32m/usr/local/lib/python3.7/dist-packages/torch/nn/modules/module.py\u001b[0m in \u001b[0;36m_call_impl\u001b[0;34m(self, *input, **kwargs)\u001b[0m\n\u001b[1;32m   1121\u001b[0m         \u001b[0;32mif\u001b[0m \u001b[0m_global_forward_hooks\u001b[0m \u001b[0;32mor\u001b[0m \u001b[0mself\u001b[0m\u001b[0;34m.\u001b[0m\u001b[0m_forward_hooks\u001b[0m\u001b[0;34m:\u001b[0m\u001b[0;34m\u001b[0m\u001b[0;34m\u001b[0m\u001b[0m\n\u001b[1;32m   1122\u001b[0m             \u001b[0;32mfor\u001b[0m \u001b[0mhook\u001b[0m \u001b[0;32min\u001b[0m \u001b[0;34m(\u001b[0m\u001b[0;34m*\u001b[0m\u001b[0m_global_forward_hooks\u001b[0m\u001b[0;34m.\u001b[0m\u001b[0mvalues\u001b[0m\u001b[0;34m(\u001b[0m\u001b[0;34m)\u001b[0m\u001b[0;34m,\u001b[0m \u001b[0;34m*\u001b[0m\u001b[0mself\u001b[0m\u001b[0;34m.\u001b[0m\u001b[0m_forward_hooks\u001b[0m\u001b[0;34m.\u001b[0m\u001b[0mvalues\u001b[0m\u001b[0;34m(\u001b[0m\u001b[0;34m)\u001b[0m\u001b[0;34m)\u001b[0m\u001b[0;34m:\u001b[0m\u001b[0;34m\u001b[0m\u001b[0;34m\u001b[0m\u001b[0m\n\u001b[0;32m-> 1123\u001b[0;31m                 \u001b[0mhook_result\u001b[0m \u001b[0;34m=\u001b[0m \u001b[0mhook\u001b[0m\u001b[0;34m(\u001b[0m\u001b[0mself\u001b[0m\u001b[0;34m,\u001b[0m \u001b[0minput\u001b[0m\u001b[0;34m,\u001b[0m \u001b[0mresult\u001b[0m\u001b[0;34m)\u001b[0m\u001b[0;34m\u001b[0m\u001b[0;34m\u001b[0m\u001b[0m\n\u001b[0m\u001b[1;32m   1124\u001b[0m                 \u001b[0;32mif\u001b[0m \u001b[0mhook_result\u001b[0m \u001b[0;32mis\u001b[0m \u001b[0;32mnot\u001b[0m \u001b[0;32mNone\u001b[0m\u001b[0;34m:\u001b[0m\u001b[0;34m\u001b[0m\u001b[0;34m\u001b[0m\u001b[0m\n\u001b[1;32m   1125\u001b[0m                     \u001b[0mresult\u001b[0m \u001b[0;34m=\u001b[0m \u001b[0mhook_result\u001b[0m\u001b[0;34m\u001b[0m\u001b[0;34m\u001b[0m\u001b[0m\n",
            "\u001b[0;32m/usr/local/lib/python3.7/dist-packages/torchscan/crawler.py\u001b[0m in \u001b[0;36m_fwd_hook\u001b[0;34m(module, input, output)\u001b[0m\n\u001b[1;32m    145\u001b[0m \u001b[0;34m\u001b[0m\u001b[0m\n\u001b[1;32m    146\u001b[0m             \u001b[0;31m# Update layer information\u001b[0m\u001b[0;34m\u001b[0m\u001b[0;34m\u001b[0m\u001b[0;34m\u001b[0m\u001b[0m\n\u001b[0;32m--> 147\u001b[0;31m             \u001b[0minfo\u001b[0m\u001b[0;34m[\u001b[0m\u001b[0mfw_idx\u001b[0m\u001b[0;34m]\u001b[0m\u001b[0;34m[\u001b[0m\u001b[0;34m'output_shape'\u001b[0m\u001b[0;34m]\u001b[0m \u001b[0;34m=\u001b[0m \u001b[0;34m(\u001b[0m\u001b[0;34m-\u001b[0m\u001b[0;36m1\u001b[0m\u001b[0;34m,\u001b[0m \u001b[0;34m*\u001b[0m\u001b[0moutput\u001b[0m\u001b[0;34m.\u001b[0m\u001b[0mshape\u001b[0m\u001b[0;34m[\u001b[0m\u001b[0;36m1\u001b[0m\u001b[0;34m:\u001b[0m\u001b[0;34m]\u001b[0m\u001b[0;34m)\u001b[0m\u001b[0;34m\u001b[0m\u001b[0;34m\u001b[0m\u001b[0m\n\u001b[0m\u001b[1;32m    148\u001b[0m             \u001b[0;31m# Add them, since some modules can be used several times\u001b[0m\u001b[0;34m\u001b[0m\u001b[0;34m\u001b[0m\u001b[0;34m\u001b[0m\u001b[0m\n\u001b[1;32m    149\u001b[0m             \u001b[0minfo\u001b[0m\u001b[0;34m[\u001b[0m\u001b[0mfw_idx\u001b[0m\u001b[0;34m]\u001b[0m\u001b[0;34m[\u001b[0m\u001b[0;34m'flops'\u001b[0m\u001b[0;34m]\u001b[0m \u001b[0;34m=\u001b[0m \u001b[0mtot_flops\u001b[0m\u001b[0;34m\u001b[0m\u001b[0;34m\u001b[0m\u001b[0m\n",
            "\u001b[0;31mAttributeError\u001b[0m: 'tuple' object has no attribute 'shape'"
          ]
        }
      ]
    },
    {
      "cell_type": "markdown",
      "source": [
        "Stop HERE\n"
      ],
      "metadata": {
        "id": "pIebwOcigp9w"
      }
    },
    {
      "cell_type": "code",
      "source": [
        "DEVICE = 'cpu' # 'cuda' or 'cpu'\n",
        "\n",
        "NUM_CLASSES = 19 #number of semantic classes\n",
        "NUM_EPOCHS = 50   # Total number of training epochs (iterations over dataset)\n",
        "BACKBONE = 'resnet101' #Backbone for context path\n",
        "\n",
        "BATCH_SIZE = 128 "
      ],
      "metadata": {
        "id": "-K-vBI5yE_PV"
      },
      "execution_count": null,
      "outputs": []
    },
    {
      "cell_type": "markdown",
      "source": [
        "Prepare the Dataset"
      ],
      "metadata": {
        "id": "OHoJEe6R0KyD"
      }
    },
    {
      "cell_type": "code",
      "source": [
        "#Load dataset\n",
        "#DATA_DIR = 'Caltech101/101_ObjectCategories'\n",
        "#from Caltech101.caltech_dataset import Caltech\n",
        "#from sklearn.model_selection import train_test_split\n",
        "\n",
        "# Prepare Pytorch train/test Datasets\n",
        "#train_dataset_big = Caltech(DATA_DIR, split='train',  transform=train_transform)\n",
        "#test_dataset = Caltech(DATA_DIR, split='test', transform=eval_transform)\n",
        "from utils import colour_code_segmentation\n",
        "import json\n",
        "from AMLproject.BiSeNet.dataset.Cityscape import Cityscape\n",
        "train_dataset = Cityscape()\n",
        "val_dataset = Cityscape (train=False)"
      ],
      "metadata": {
        "id": "97MRYsRa_Vss"
      },
      "execution_count": null,
      "outputs": []
    },
    {
      "cell_type": "code",
      "source": [
        "label_info = json.load(open('/content/drive/MyDrive/Datasets/Cityscapes/info.json', 'r'))\n",
        "    \n",
        "label_info=label_info['palette']\n",
        "print (label_info)\n",
        "    "
      ],
      "metadata": {
        "colab": {
          "base_uri": "https://localhost:8080/"
        },
        "id": "RRFyDN-gpd-e",
        "outputId": "c239ad1f-10d2-4cde-d230-f860e2c3f5c8"
      },
      "execution_count": null,
      "outputs": [
        {
          "output_type": "stream",
          "name": "stdout",
          "text": [
            "[[128, 64, 128], [244, 35, 232], [70, 70, 70], [102, 102, 156], [190, 153, 153], [153, 153, 153], [250, 170, 30], [220, 220, 0], [107, 142, 35], [152, 251, 152], [70, 130, 180], [220, 20, 60], [255, 0, 0], [0, 0, 142], [0, 0, 70], [0, 60, 100], [0, 80, 100], [0, 0, 230], [119, 11, 32], [0, 0, 0]]\n"
          ]
        }
      ]
    },
    {
      "cell_type": "code",
      "source": [
        "import numpy as np\n",
        "def colour_code_segmentation(image, label_values):\n",
        "  colour_codes = np.array(label_values)\n",
        "  x = image.astype(int)\n",
        "\n",
        "  final = np.zeros((x.shape[0], x.shape[1],3), np.ubyte)\n",
        "  x[x==255]=19\n",
        "  final[:,:]=colour_codes[x]\n",
        "  print(final.shape)\n",
        "  return final"
      ],
      "metadata": {
        "id": "PRA09DJcpqng"
      },
      "execution_count": null,
      "outputs": []
    },
    {
      "cell_type": "code",
      "source": [
        "def encode_segmap(mask, mapping, ignore_index):\n",
        "    label_copy = ignore_index * np.ones(mask.shape, dtype=np.float32)\n",
        "    for k, v in mapping:\n",
        "        label_copy[mask == k] = v\n",
        "\n",
        "    return label_copy"
      ],
      "metadata": {
        "id": "RpsruMzK4s3g"
      },
      "execution_count": null,
      "outputs": []
    },
    {
      "cell_type": "code",
      "source": [
        "#string = '/content/drive/MyDrive/Datasets/Cityscapes/images/'+train_dataset.files[0]['name'].split ('/')[1]\n",
        "from IPython.display import Image\n",
        "\n",
        "import torch\n",
        "from torchvision import transforms\n",
        "from PIL import Image as PIL\n",
        "\n",
        "convert_tensor = transforms.ToTensor()\n",
        "\n",
        "img = PIL.open(train_dataset.files[0]['label'])\n",
        "print(train_dataset.files[0]['name'])\n",
        "img = np.asarray(img, np.ubyte)\n",
        "info = json.load(open('/content/drive/MyDrive/Datasets/Cityscapes/info.json', 'r'))\n",
        "class_mapping = info['label2train']\n",
        "# remap the semantic label\n",
        "img = encode_segmap(img, class_mapping, 255)\n",
        "print(img.shape)\n",
        "#img=convert_tensor(img).numpy()\n",
        "img = colour_code_segmentation(img, label_info)\n",
        "print (type(img), img.shape)\n",
        "img = PIL.fromarray(img, 'RGB')\n",
        "#img = Image(train_dataset.files[0]['label'])\n",
        "plt.imshow(img)\n",
        "plt.show()\n",
        "img.show\n",
        "img.save(\"test.png\")\n",
        "#print (train_dataset.files[0]['image'])\n"
      ],
      "metadata": {
        "id": "QFVlgluLYSoz",
        "colab": {
          "base_uri": "https://localhost:8080/",
          "height": 289
        },
        "outputId": "584e281d-9378-4053-870d-22f1ca2272d1"
      },
      "execution_count": null,
      "outputs": [
        {
          "output_type": "stream",
          "name": "stdout",
          "text": [
            "strasbourg_000000_017593\n",
            "(1024, 2048)\n",
            "(1024, 2048, 3)\n",
            "<class 'numpy.ndarray'> (1024, 2048, 3)\n"
          ]
        },
        {
          "output_type": "display_data",
          "data": {
            "image/png": "[encoded data removed]",
            "text/plain": [
              "<Figure size 432x288 with 1 Axes>"
            ]
          },
          "metadata": {
            "needs_background": "light"
          }
        }
      ]
    },
    {
      "cell_type": "code",
      "source": [
        "Image(train_dataset.files[0]['label'])\n"
      ],
      "metadata": {
        "id": "ljdN4_FBZnLD"
      },
      "execution_count": null,
      "outputs": []
    },
    {
      "cell_type": "code",
      "source": [
        "print (\"training dataset lenght\", len(train_dataset))\n",
        "print (\"validation dataset lenght\", len(val_dataset))"
      ],
      "metadata": {
        "colab": {
          "base_uri": "https://localhost:8080/"
        },
        "id": "mZYzFZOYHRui",
        "outputId": "0b1395c0-d6a7-4b1a-fc20-b5add733f78e"
      },
      "execution_count": null,
      "outputs": [
        {
          "output_type": "stream",
          "name": "stdout",
          "text": [
            "training dataset lenght 500\n",
            "validation dataset lenght 250\n"
          ]
        }
      ]
    },
    {
      "cell_type": "markdown",
      "source": [
        "Prepare DataLoaders"
      ],
      "metadata": {
        "id": "s9DdQwvU5NCp"
      }
    },
    {
      "cell_type": "code",
      "source": [
        "train_dataloader = DataLoader(train_dataset, batch_size=BATCH_SIZE, shuffle=True, num_workers=4, drop_last=True)\n",
        "val_dataloader = DataLoader(val_dataset, batch_size=BATCH_SIZE, shuffle=False, num_workers=4)\n"
      ],
      "metadata": {
        "id": "SEgmG2KW5O-i"
      },
      "execution_count": null,
      "outputs": []
    },
    {
      "cell_type": "markdown",
      "source": [
        "Prepare the Network"
      ],
      "metadata": {
        "id": "hES_SG2l0Prq"
      }
    },
    {
      "cell_type": "code",
      "source": [
        "from AMLproject.BiSeNet.model.build_BiSeNet import BiSeNet\n",
        "\n",
        "net = BiSeNet (num_classes=19, context_path=BACKBONE)"
      ],
      "metadata": {
        "id": "1uC6-MHe0PR9",
        "outputId": "b2d204a9-4537-41aa-e725-67d3c437f731",
        "colab": {
          "base_uri": "https://localhost:8080/",
          "height": 136,
          "referenced_widgets": [
            "02b46c4d9ecb44f8b55a3ee6699afb20",
            "c943495e3c174643ab4176933899bc1d",
            "474123b1aec949cb8922b1d2be6db027",
            "7f5abce980784b538f03dae2d16a9f73",
            "1aaebcedc7074c168e5305c96c6b50d0",
            "926d71b959f64c109f35f56cc0699674",
            "461ae3f6fa564c9bbe5457e5416ec938",
            "f5f58f15c66a4417ade7bce959ba0e6c",
            "0984abc433ac4b49919db6fb302c7874",
            "72e2da4f10464fa3b47a8ac052e557f6",
            "2b3fbc702e0b4a208130ff6fe11788ed",
            "1910e54a25774c6e9038019a515b47c4",
            "f10a45bffdd346fa98ad3b95428e095e",
            "99c626245f4749d5bf4fd0f0b632d437",
            "059e26080b4148fc8920031594f73971",
            "6a40eb37ba8b4a029ebc9f5cce01ed37",
            "d8eadf0bd2b44860a31d7a76411a0b15",
            "6b32c6308ceb4bd28175cb2a2d03e25d",
            "53f6925191964f728e1d320084da08d4",
            "e82e651843274abdb2a570560cc1cdf4",
            "de2a382a52ad4c8fbea195afcd4fb69d",
            "45a336d6ea32494ea8b1c6d76f269e8b"
          ]
        }
      },
      "execution_count": null,
      "outputs": [
        {
          "output_type": "stream",
          "name": "stderr",
          "text": [
            "Downloading: \"https://download.pytorch.org/models/resnet18-f37072fd.pth\" to /root/.cache/torch/hub/checkpoints/resnet18-f37072fd.pth\n"
          ]
        },
        {
          "output_type": "display_data",
          "data": {
            "application/vnd.jupyter.widget-view+json": {
              "model_id": "02b46c4d9ecb44f8b55a3ee6699afb20",
              "version_minor": 0,
              "version_major": 2
            },
            "text/plain": [
              "  0%|          | 0.00/44.7M [00:00<?, ?B/s]"
            ]
          },
          "metadata": {}
        },
        {
          "output_type": "stream",
          "name": "stderr",
          "text": [
            "Downloading: \"https://download.pytorch.org/models/resnet101-63fe2227.pth\" to /root/.cache/torch/hub/checkpoints/resnet101-63fe2227.pth\n"
          ]
        },
        {
          "output_type": "display_data",
          "data": {
            "application/vnd.jupyter.widget-view+json": {
              "model_id": "1910e54a25774c6e9038019a515b47c4",
              "version_minor": 0,
              "version_major": 2
            },
            "text/plain": [
              "  0%|          | 0.00/171M [00:00<?, ?B/s]"
            ]
          },
          "metadata": {}
        }
      ]
    },
    {
      "cell_type": "code",
      "source": [
        "print (net.parameters())"
      ],
      "metadata": {
        "id": "8fiBQLP81yxS",
        "outputId": "b070348f-8e00-4668-a96a-ee80f9b855ca",
        "colab": {
          "base_uri": "https://localhost:8080/"
        }
      },
      "execution_count": null,
      "outputs": [
        {
          "output_type": "stream",
          "name": "stdout",
          "text": [
            "<generator object Module.parameters at 0x7fdb4d148b50>\n"
          ]
        }
      ]
    },
    {
      "cell_type": "code",
      "source": [
        "net.train()"
      ],
      "metadata": {
        "id": "-Y1gK-iL2lqU"
      },
      "execution_count": null,
      "outputs": []
    },
    {
      "cell_type": "code",
      "source": [
        ""
      ],
      "metadata": {
        "id": "23n_4cUg2ln6"
      },
      "execution_count": null,
      "outputs": []
    },
    {
      "cell_type": "code",
      "source": [
        ""
      ],
      "metadata": {
        "id": "XbktLf4E2llU"
      },
      "execution_count": null,
      "outputs": []
    },
    {
      "cell_type": "code",
      "source": [
        ""
      ],
      "metadata": {
        "id": "XlU9FBi02lia"
      },
      "execution_count": null,
      "outputs": []
    },
    {
      "cell_type": "code",
      "source": [
        ""
      ],
      "metadata": {
        "id": "NuArtPg22lfp"
      },
      "execution_count": null,
      "outputs": []
    },
    {
      "cell_type": "code",
      "source": [
        ""
      ],
      "metadata": {
        "id": "fJ0I7jvz2lYj"
      },
      "execution_count": null,
      "outputs": []
    },
    {
      "cell_type": "code",
      "source": [
        ""
      ],
      "metadata": {
        "id": "zxkUQWYH2lMX"
      },
      "execution_count": null,
      "outputs": []
    },
    {
      "cell_type": "markdown",
      "source": [
        "Some cells for testing "
      ],
      "metadata": {
        "id": "bdVF1xq02i8s"
      }
    },
    {
      "cell_type": "code",
      "source": [
        "print (train_dataset.files)"
      ],
      "metadata": {
        "colab": {
          "base_uri": "https://localhost:8080/"
        },
        "id": "bbeoHZRkH3eX",
        "outputId": "c42350ad-2d51-4101-c74e-d658fecbb357"
      },
      "execution_count": null,
      "outputs": [
        {
          "output_type": "stream",
          "name": "stdout",
          "text": [
            "[{'image': './drive/MyDrive/Datasets/Cityscapes/images', 'label': './drive/MyDrive/Datasets/Cityscapes/labels', 'name': 'strasbourg/strasbourg_000000_017593_leftImg8bit.png'}, {'image': './drive/MyDrive/Datasets/Cityscapes/images', 'label': './drive/MyDrive/Datasets/Cityscapes/labels', 'name': 'zurich/zurich_000066_000019_leftImg8bit.png'}, {'image': './drive/MyDrive/Datasets/Cityscapes/images', 'label': './drive/MyDrive/Datasets/Cityscapes/labels', 'name': 'hanover/hanover_000000_032681_leftImg8bit.png'}, {'image': './drive/MyDrive/Datasets/Cityscapes/images', 'label': './drive/MyDrive/Datasets/Cityscapes/labels', 'name': 'ulm/ulm_000066_000019_leftImg8bit.png'}, {'image': './drive/MyDrive/Datasets/Cityscapes/images', 'label': './drive/MyDrive/Datasets/Cityscapes/labels', 'name': 'dusseldorf/dusseldorf_000006_000019_leftImg8bit.png'}, {'image': './drive/MyDrive/Datasets/Cityscapes/images', 'label': './drive/MyDrive/Datasets/Cityscapes/labels', 'name': 'hamburg/hamburg_000000_068916_leftImg8bit.png'}, {'image': './drive/MyDrive/Datasets/Cityscapes/images', 'label': './drive/MyDrive/Datasets/Cityscapes/labels', 'name': 'hamburg/hamburg_000000_095561_leftImg8bit.png'}, {'image': './drive/MyDrive/Datasets/Cityscapes/images', 'label': './drive/MyDrive/Datasets/Cityscapes/labels', 'name': 'monchengladbach/monchengladbach_000000_035364_leftImg8bit.png'}, {'image': './drive/MyDrive/Datasets/Cityscapes/images', 'label': './drive/MyDrive/Datasets/Cityscapes/labels', 'name': 'weimar/weimar_000089_000019_leftImg8bit.png'}, {'image': './drive/MyDrive/Datasets/Cityscapes/images', 'label': './drive/MyDrive/Datasets/Cityscapes/labels', 'name': 'aachen/aachen_000158_000019_leftImg8bit.png'}, {'image': './drive/MyDrive/Datasets/Cityscapes/images', 'label': './drive/MyDrive/Datasets/Cityscapes/labels', 'name': 'krefeld/krefeld_000000_005503_leftImg8bit.png'}, {'image': './drive/MyDrive/Datasets/Cityscapes/images', 'label': './drive/MyDrive/Datasets/Cityscapes/labels', 'name': 'aachen/aachen_000111_000019_leftImg8bit.png'}, {'image': './drive/MyDrive/Datasets/Cityscapes/images', 'label': './drive/MyDrive/Datasets/Cityscapes/labels', 'name': 'strasbourg/strasbourg_000000_016024_leftImg8bit.png'}, {'image': './drive/MyDrive/Datasets/Cityscapes/images', 'label': './drive/MyDrive/Datasets/Cityscapes/labels', 'name': 'strasbourg/strasbourg_000000_011880_leftImg8bit.png'}, {'image': './drive/MyDrive/Datasets/Cityscapes/images', 'label': './drive/MyDrive/Datasets/Cityscapes/labels', 'name': 'strasbourg/strasbourg_000000_030017_leftImg8bit.png'}, {'image': './drive/MyDrive/Datasets/Cityscapes/images', 'label': './drive/MyDrive/Datasets/Cityscapes/labels', 'name': 'krefeld/krefeld_000000_021814_leftImg8bit.png'}, {'image': './drive/MyDrive/Datasets/Cityscapes/images', 'label': './drive/MyDrive/Datasets/Cityscapes/labels', 'name': 'bremen/bremen_000197_000019_leftImg8bit.png'}, {'image': './drive/MyDrive/Datasets/Cityscapes/images', 'label': './drive/MyDrive/Datasets/Cityscapes/labels', 'name': 'zurich/zurich_000105_000019_leftImg8bit.png'}, {'image': './drive/MyDrive/Datasets/Cityscapes/images', 'label': './drive/MyDrive/Datasets/Cityscapes/labels', 'name': 'cologne/cologne_000134_000019_leftImg8bit.png'}, {'image': './drive/MyDrive/Datasets/Cityscapes/images', 'label': './drive/MyDrive/Datasets/Cityscapes/labels', 'name': 'dusseldorf/dusseldorf_000051_000019_leftImg8bit.png'}, {'image': './drive/MyDrive/Datasets/Cityscapes/images', 'label': './drive/MyDrive/Datasets/Cityscapes/labels', 'name': 'tubingen/tubingen_000018_000019_leftImg8bit.png'}, {'image': './drive/MyDrive/Datasets/Cityscapes/images', 'label': './drive/MyDrive/Datasets/Cityscapes/labels', 'name': 'krefeld/krefeld_000000_004447_leftImg8bit.png'}, {'image': './drive/MyDrive/Datasets/Cityscapes/images', 'label': './drive/MyDrive/Datasets/Cityscapes/labels', 'name': 'zurich/zurich_000064_000019_leftImg8bit.png'}, {'image': './drive/MyDrive/Datasets/Cityscapes/images', 'label': './drive/MyDrive/Datasets/Cityscapes/labels', 'name': 'jena/jena_000033_000019_leftImg8bit.png'}, {'image': './drive/MyDrive/Datasets/Cityscapes/images', 'label': './drive/MyDrive/Datasets/Cityscapes/labels', 'name': 'stuttgart/stuttgart_000022_000019_leftImg8bit.png'}, {'image': './drive/MyDrive/Datasets/Cityscapes/images', 'label': './drive/MyDrive/Datasets/Cityscapes/labels', 'name': 'stuttgart/stuttgart_000051_000019_leftImg8bit.png'}, {'image': './drive/MyDrive/Datasets/Cityscapes/images', 'label': './drive/MyDrive/Datasets/Cityscapes/labels', 'name': 'strasbourg/strasbourg_000001_008576_leftImg8bit.png'}, {'image': './drive/MyDrive/Datasets/Cityscapes/images', 'label': './drive/MyDrive/Datasets/Cityscapes/labels', 'name': 'ulm/ulm_000067_000019_leftImg8bit.png'}, {'image': './drive/MyDrive/Datasets/Cityscapes/images', 'label': './drive/MyDrive/Datasets/Cityscapes/labels', 'name': 'erfurt/erfurt_000080_000019_leftImg8bit.png'}, {'image': './drive/MyDrive/Datasets/Cityscapes/images', 'label': './drive/MyDrive/Datasets/Cityscapes/labels', 'name': 'aachen/aachen_000152_000019_leftImg8bit.png'}, {'image': './drive/MyDrive/Datasets/Cityscapes/images', 'label': './drive/MyDrive/Datasets/Cityscapes/labels', 'name': 'dusseldorf/dusseldorf_000052_000019_leftImg8bit.png'}, {'image': './drive/MyDrive/Datasets/Cityscapes/images', 'label': './drive/MyDrive/Datasets/Cityscapes/labels', 'name': 'hamburg/hamburg_000000_099902_leftImg8bit.png'}, {'image': './drive/MyDrive/Datasets/Cityscapes/images', 'label': './drive/MyDrive/Datasets/Cityscapes/labels', 'name': 'bremen/bremen_000176_000019_leftImg8bit.png'}, {'image': './drive/MyDrive/Datasets/Cityscapes/images', 'label': './drive/MyDrive/Datasets/Cityscapes/labels', 'name': 'bremen/bremen_000148_000019_leftImg8bit.png'}, {'image': './drive/MyDrive/Datasets/Cityscapes/images', 'label': './drive/MyDrive/Datasets/Cityscapes/labels', 'name': 'darmstadt/darmstadt_000034_000019_leftImg8bit.png'}, {'image': './drive/MyDrive/Datasets/Cityscapes/images', 'label': './drive/MyDrive/Datasets/Cityscapes/labels', 'name': 'strasbourg/strasbourg_000001_040620_leftImg8bit.png'}, {'image': './drive/MyDrive/Datasets/Cityscapes/images', 'label': './drive/MyDrive/Datasets/Cityscapes/labels', 'name': 'hanover/hanover_000000_004752_leftImg8bit.png'}, {'image': './drive/MyDrive/Datasets/Cityscapes/images', 'label': './drive/MyDrive/Datasets/Cityscapes/labels', 'name': 'hamburg/hamburg_000000_037741_leftImg8bit.png'}, {'image': './drive/MyDrive/Datasets/Cityscapes/images', 'label': './drive/MyDrive/Datasets/Cityscapes/labels', 'name': 'dusseldorf/dusseldorf_000146_000019_leftImg8bit.png'}, {'image': './drive/MyDrive/Datasets/Cityscapes/images', 'label': './drive/MyDrive/Datasets/Cityscapes/labels', 'name': 'strasbourg/strasbourg_000001_013914_leftImg8bit.png'}, {'image': './drive/MyDrive/Datasets/Cityscapes/images', 'label': './drive/MyDrive/Datasets/Cityscapes/labels', 'name': 'hanover/hanover_000000_019116_leftImg8bit.png'}, {'image': './drive/MyDrive/Datasets/Cityscapes/images', 'label': './drive/MyDrive/Datasets/Cityscapes/labels', 'name': 'ulm/ulm_000055_000019_leftImg8bit.png'}, {'image': './drive/MyDrive/Datasets/Cityscapes/images', 'label': './drive/MyDrive/Datasets/Cityscapes/labels', 'name': 'ulm/ulm_000053_000019_leftImg8bit.png'}, {'image': './drive/MyDrive/Datasets/Cityscapes/images', 'label': './drive/MyDrive/Datasets/Cityscapes/labels', 'name': 'cologne/cologne_000012_000019_leftImg8bit.png'}, {'image': './drive/MyDrive/Datasets/Cityscapes/images', 'label': './drive/MyDrive/Datasets/Cityscapes/labels', 'name': 'hamburg/hamburg_000000_083586_leftImg8bit.png'}, {'image': './drive/MyDrive/Datasets/Cityscapes/images', 'label': './drive/MyDrive/Datasets/Cityscapes/labels', 'name': 'hamburg/hamburg_000000_001613_leftImg8bit.png'}, {'image': './drive/MyDrive/Datasets/Cityscapes/images', 'label': './drive/MyDrive/Datasets/Cityscapes/labels', 'name': 'strasbourg/strasbourg_000001_031116_leftImg8bit.png'}, {'image': './drive/MyDrive/Datasets/Cityscapes/images', 'label': './drive/MyDrive/Datasets/Cityscapes/labels', 'name': 'strasbourg/strasbourg_000000_034387_leftImg8bit.png'}, {'image': './drive/MyDrive/Datasets/Cityscapes/images', 'label': './drive/MyDrive/Datasets/Cityscapes/labels', 'name': 'hanover/hanover_000000_042581_leftImg8bit.png'}, {'image': './drive/MyDrive/Datasets/Cityscapes/images', 'label': './drive/MyDrive/Datasets/Cityscapes/labels', 'name': 'strasbourg/strasbourg_000001_061685_leftImg8bit.png'}, {'image': './drive/MyDrive/Datasets/Cityscapes/images', 'label': './drive/MyDrive/Datasets/Cityscapes/labels', 'name': 'bremen/bremen_000188_000019_leftImg8bit.png'}, {'image': './drive/MyDrive/Datasets/Cityscapes/images', 'label': './drive/MyDrive/Datasets/Cityscapes/labels', 'name': 'weimar/weimar_000024_000019_leftImg8bit.png'}, {'image': './drive/MyDrive/Datasets/Cityscapes/images', 'label': './drive/MyDrive/Datasets/Cityscapes/labels', 'name': 'jena/jena_000055_000019_leftImg8bit.png'}, {'image': './drive/MyDrive/Datasets/Cityscapes/images', 'label': './drive/MyDrive/Datasets/Cityscapes/labels', 'name': 'cologne/cologne_000054_000019_leftImg8bit.png'}, {'image': './drive/MyDrive/Datasets/Cityscapes/images', 'label': './drive/MyDrive/Datasets/Cityscapes/labels', 'name': 'hanover/hanover_000000_003224_leftImg8bit.png'}, {'image': './drive/MyDrive/Datasets/Cityscapes/images', 'label': './drive/MyDrive/Datasets/Cityscapes/labels', 'name': 'tubingen/tubingen_000057_000019_leftImg8bit.png'}, {'image': './drive/MyDrive/Datasets/Cityscapes/images', 'label': './drive/MyDrive/Datasets/Cityscapes/labels', 'name': 'bremen/bremen_000153_000019_leftImg8bit.png'}, {'image': './drive/MyDrive/Datasets/Cityscapes/images', 'label': './drive/MyDrive/Datasets/Cityscapes/labels', 'name': 'bochum/bochum_000000_037829_leftImg8bit.png'}, {'image': './drive/MyDrive/Datasets/Cityscapes/images', 'label': './drive/MyDrive/Datasets/Cityscapes/labels', 'name': 'jena/jena_000037_000019_leftImg8bit.png'}, {'image': './drive/MyDrive/Datasets/Cityscapes/images', 'label': './drive/MyDrive/Datasets/Cityscapes/labels', 'name': 'bremen/bremen_000085_000019_leftImg8bit.png'}, {'image': './drive/MyDrive/Datasets/Cityscapes/images', 'label': './drive/MyDrive/Datasets/Cityscapes/labels', 'name': 'hanover/hanover_000000_020655_leftImg8bit.png'}, {'image': './drive/MyDrive/Datasets/Cityscapes/images', 'label': './drive/MyDrive/Datasets/Cityscapes/labels', 'name': 'bremen/bremen_000063_000019_leftImg8bit.png'}, {'image': './drive/MyDrive/Datasets/Cityscapes/images', 'label': './drive/MyDrive/Datasets/Cityscapes/labels', 'name': 'dusseldorf/dusseldorf_000100_000019_leftImg8bit.png'}, {'image': './drive/MyDrive/Datasets/Cityscapes/images', 'label': './drive/MyDrive/Datasets/Cityscapes/labels', 'name': 'strasbourg/strasbourg_000001_063808_leftImg8bit.png'}, {'image': './drive/MyDrive/Datasets/Cityscapes/images', 'label': './drive/MyDrive/Datasets/Cityscapes/labels', 'name': 'zurich/zurich_000116_000019_leftImg8bit.png'}, {'image': './drive/MyDrive/Datasets/Cityscapes/images', 'label': './drive/MyDrive/Datasets/Cityscapes/labels', 'name': 'tubingen/tubingen_000050_000019_leftImg8bit.png'}, {'image': './drive/MyDrive/Datasets/Cityscapes/images', 'label': './drive/MyDrive/Datasets/Cityscapes/labels', 'name': 'aachen/aachen_000121_000019_leftImg8bit.png'}, {'image': './drive/MyDrive/Datasets/Cityscapes/images', 'label': './drive/MyDrive/Datasets/Cityscapes/labels', 'name': 'darmstadt/darmstadt_000060_000019_leftImg8bit.png'}, {'image': './drive/MyDrive/Datasets/Cityscapes/images', 'label': './drive/MyDrive/Datasets/Cityscapes/labels', 'name': 'strasbourg/strasbourg_000001_062362_leftImg8bit.png'}, {'image': './drive/MyDrive/Datasets/Cityscapes/images', 'label': './drive/MyDrive/Datasets/Cityscapes/labels', 'name': 'strasbourg/strasbourg_000001_052297_leftImg8bit.png'}, {'image': './drive/MyDrive/Datasets/Cityscapes/images', 'label': './drive/MyDrive/Datasets/Cityscapes/labels', 'name': 'aachen/aachen_000038_000019_leftImg8bit.png'}, {'image': './drive/MyDrive/Datasets/Cityscapes/images', 'label': './drive/MyDrive/Datasets/Cityscapes/labels', 'name': 'strasbourg/strasbourg_000000_029179_leftImg8bit.png'}, {'image': './drive/MyDrive/Datasets/Cityscapes/images', 'label': './drive/MyDrive/Datasets/Cityscapes/labels', 'name': 'bochum/bochum_000000_016758_leftImg8bit.png'}, {'image': './drive/MyDrive/Datasets/Cityscapes/images', 'label': './drive/MyDrive/Datasets/Cityscapes/labels', 'name': 'hamburg/hamburg_000000_070334_leftImg8bit.png'}, {'image': './drive/MyDrive/Datasets/Cityscapes/images', 'label': './drive/MyDrive/Datasets/Cityscapes/labels', 'name': 'bochum/bochum_000000_011711_leftImg8bit.png'}, {'image': './drive/MyDrive/Datasets/Cityscapes/images', 'label': './drive/MyDrive/Datasets/Cityscapes/labels', 'name': 'hanover/hanover_000000_035606_leftImg8bit.png'}, {'image': './drive/MyDrive/Datasets/Cityscapes/images', 'label': './drive/MyDrive/Datasets/Cityscapes/labels', 'name': 'tubingen/tubingen_000143_000019_leftImg8bit.png'}, {'image': './drive/MyDrive/Datasets/Cityscapes/images', 'label': './drive/MyDrive/Datasets/Cityscapes/labels', 'name': 'strasbourg/strasbourg_000001_035562_leftImg8bit.png'}, {'image': './drive/MyDrive/Datasets/Cityscapes/images', 'label': './drive/MyDrive/Datasets/Cityscapes/labels', 'name': 'strasbourg/strasbourg_000001_031683_leftImg8bit.png'}, {'image': './drive/MyDrive/Datasets/Cityscapes/images', 'label': './drive/MyDrive/Datasets/Cityscapes/labels', 'name': 'hamburg/hamburg_000000_046078_leftImg8bit.png'}, {'image': './drive/MyDrive/Datasets/Cityscapes/images', 'label': './drive/MyDrive/Datasets/Cityscapes/labels', 'name': 'cologne/cologne_000082_000019_leftImg8bit.png'}, {'image': './drive/MyDrive/Datasets/Cityscapes/images', 'label': './drive/MyDrive/Datasets/Cityscapes/labels', 'name': 'darmstadt/darmstadt_000018_000019_leftImg8bit.png'}, {'image': './drive/MyDrive/Datasets/Cityscapes/images', 'label': './drive/MyDrive/Datasets/Cityscapes/labels', 'name': 'zurich/zurich_000081_000019_leftImg8bit.png'}, {'image': './drive/MyDrive/Datasets/Cityscapes/images', 'label': './drive/MyDrive/Datasets/Cityscapes/labels', 'name': 'strasbourg/strasbourg_000001_018872_leftImg8bit.png'}, {'image': './drive/MyDrive/Datasets/Cityscapes/images', 'label': './drive/MyDrive/Datasets/Cityscapes/labels', 'name': 'stuttgart/stuttgart_000073_000019_leftImg8bit.png'}, {'image': './drive/MyDrive/Datasets/Cityscapes/images', 'label': './drive/MyDrive/Datasets/Cityscapes/labels', 'name': 'zurich/zurich_000041_000019_leftImg8bit.png'}, {'image': './drive/MyDrive/Datasets/Cityscapes/images', 'label': './drive/MyDrive/Datasets/Cityscapes/labels', 'name': 'jena/jena_000069_000019_leftImg8bit.png'}, {'image': './drive/MyDrive/Datasets/Cityscapes/images', 'label': './drive/MyDrive/Datasets/Cityscapes/labels', 'name': 'weimar/weimar_000121_000019_leftImg8bit.png'}, {'image': './drive/MyDrive/Datasets/Cityscapes/images', 'label': './drive/MyDrive/Datasets/Cityscapes/labels', 'name': 'hanover/hanover_000000_044344_leftImg8bit.png'}, {'image': './drive/MyDrive/Datasets/Cityscapes/images', 'label': './drive/MyDrive/Datasets/Cityscapes/labels', 'name': 'dusseldorf/dusseldorf_000175_000019_leftImg8bit.png'}, {'image': './drive/MyDrive/Datasets/Cityscapes/images', 'label': './drive/MyDrive/Datasets/Cityscapes/labels', 'name': 'weimar/weimar_000013_000019_leftImg8bit.png'}, {'image': './drive/MyDrive/Datasets/Cityscapes/images', 'label': './drive/MyDrive/Datasets/Cityscapes/labels', 'name': 'bremen/bremen_000089_000019_leftImg8bit.png'}, {'image': './drive/MyDrive/Datasets/Cityscapes/images', 'label': './drive/MyDrive/Datasets/Cityscapes/labels', 'name': 'hamburg/hamburg_000000_020211_leftImg8bit.png'}, {'image': './drive/MyDrive/Datasets/Cityscapes/images', 'label': './drive/MyDrive/Datasets/Cityscapes/labels', 'name': 'erfurt/erfurt_000094_000019_leftImg8bit.png'}, {'image': './drive/MyDrive/Datasets/Cityscapes/images', 'label': './drive/MyDrive/Datasets/Cityscapes/labels', 'name': 'tubingen/tubingen_000103_000019_leftImg8bit.png'}, {'image': './drive/MyDrive/Datasets/Cityscapes/images', 'label': './drive/MyDrive/Datasets/Cityscapes/labels', 'name': 'hamburg/hamburg_000000_006192_leftImg8bit.png'}, {'image': './drive/MyDrive/Datasets/Cityscapes/images', 'label': './drive/MyDrive/Datasets/Cityscapes/labels', 'name': 'bremen/bremen_000184_000019_leftImg8bit.png'}, {'image': './drive/MyDrive/Datasets/Cityscapes/images', 'label': './drive/MyDrive/Datasets/Cityscapes/labels', 'name': 'hamburg/hamburg_000000_082301_leftImg8bit.png'}, {'image': './drive/MyDrive/Datasets/Cityscapes/images', 'label': './drive/MyDrive/Datasets/Cityscapes/labels', 'name': 'krefeld/krefeld_000000_034156_leftImg8bit.png'}, {'image': './drive/MyDrive/Datasets/Cityscapes/images', 'label': './drive/MyDrive/Datasets/Cityscapes/labels', 'name': 'dusseldorf/dusseldorf_000115_000019_leftImg8bit.png'}, {'image': './drive/MyDrive/Datasets/Cityscapes/images', 'label': './drive/MyDrive/Datasets/Cityscapes/labels', 'name': 'dusseldorf/dusseldorf_000065_000019_leftImg8bit.png'}, {'image': './drive/MyDrive/Datasets/Cityscapes/images', 'label': './drive/MyDrive/Datasets/Cityscapes/labels', 'name': 'hanover/hanover_000000_003411_leftImg8bit.png'}, {'image': './drive/MyDrive/Datasets/Cityscapes/images', 'label': './drive/MyDrive/Datasets/Cityscapes/labels', 'name': 'hanover/hanover_000000_040793_leftImg8bit.png'}, {'image': './drive/MyDrive/Datasets/Cityscapes/images', 'label': './drive/MyDrive/Datasets/Cityscapes/labels', 'name': 'weimar/weimar_000049_000019_leftImg8bit.png'}, {'image': './drive/MyDrive/Datasets/Cityscapes/images', 'label': './drive/MyDrive/Datasets/Cityscapes/labels', 'name': 'hamburg/hamburg_000000_033506_leftImg8bit.png'}, {'image': './drive/MyDrive/Datasets/Cityscapes/images', 'label': './drive/MyDrive/Datasets/Cityscapes/labels', 'name': 'strasbourg/strasbourg_000000_026575_leftImg8bit.png'}, {'image': './drive/MyDrive/Datasets/Cityscapes/images', 'label': './drive/MyDrive/Datasets/Cityscapes/labels', 'name': 'bremen/bremen_000112_000019_leftImg8bit.png'}, {'image': './drive/MyDrive/Datasets/Cityscapes/images', 'label': './drive/MyDrive/Datasets/Cityscapes/labels', 'name': 'cologne/cologne_000112_000019_leftImg8bit.png'}, {'image': './drive/MyDrive/Datasets/Cityscapes/images', 'label': './drive/MyDrive/Datasets/Cityscapes/labels', 'name': 'zurich/zurich_000109_000019_leftImg8bit.png'}, {'image': './drive/MyDrive/Datasets/Cityscapes/images', 'label': './drive/MyDrive/Datasets/Cityscapes/labels', 'name': 'strasbourg/strasbourg_000001_060061_leftImg8bit.png'}, {'image': './drive/MyDrive/Datasets/Cityscapes/images', 'label': './drive/MyDrive/Datasets/Cityscapes/labels', 'name': 'hanover/hanover_000000_021337_leftImg8bit.png'}, {'image': './drive/MyDrive/Datasets/Cityscapes/images', 'label': './drive/MyDrive/Datasets/Cityscapes/labels', 'name': 'strasbourg/strasbourg_000000_034040_leftImg8bit.png'}, {'image': './drive/MyDrive/Datasets/Cityscapes/images', 'label': './drive/MyDrive/Datasets/Cityscapes/labels', 'name': 'cologne/cologne_000017_000019_leftImg8bit.png'}, {'image': './drive/MyDrive/Datasets/Cityscapes/images', 'label': './drive/MyDrive/Datasets/Cityscapes/labels', 'name': 'dusseldorf/dusseldorf_000088_000019_leftImg8bit.png'}, {'image': './drive/MyDrive/Datasets/Cityscapes/images', 'label': './drive/MyDrive/Datasets/Cityscapes/labels', 'name': 'hamburg/hamburg_000000_088197_leftImg8bit.png'}, {'image': './drive/MyDrive/Datasets/Cityscapes/images', 'label': './drive/MyDrive/Datasets/Cityscapes/labels', 'name': 'darmstadt/darmstadt_000035_000019_leftImg8bit.png'}, {'image': './drive/MyDrive/Datasets/Cityscapes/images', 'label': './drive/MyDrive/Datasets/Cityscapes/labels', 'name': 'zurich/zurich_000080_000019_leftImg8bit.png'}, {'image': './drive/MyDrive/Datasets/Cityscapes/images', 'label': './drive/MyDrive/Datasets/Cityscapes/labels', 'name': 'dusseldorf/dusseldorf_000060_000019_leftImg8bit.png'}, {'image': './drive/MyDrive/Datasets/Cityscapes/images', 'label': './drive/MyDrive/Datasets/Cityscapes/labels', 'name': 'dusseldorf/dusseldorf_000141_000019_leftImg8bit.png'}, {'image': './drive/MyDrive/Datasets/Cityscapes/images', 'label': './drive/MyDrive/Datasets/Cityscapes/labels', 'name': 'dusseldorf/dusseldorf_000211_000019_leftImg8bit.png'}, {'image': './drive/MyDrive/Datasets/Cityscapes/images', 'label': './drive/MyDrive/Datasets/Cityscapes/labels', 'name': 'stuttgart/stuttgart_000084_000019_leftImg8bit.png'}, {'image': './drive/MyDrive/Datasets/Cityscapes/images', 'label': './drive/MyDrive/Datasets/Cityscapes/labels', 'name': 'ulm/ulm_000086_000019_leftImg8bit.png'}, {'image': './drive/MyDrive/Datasets/Cityscapes/images', 'label': './drive/MyDrive/Datasets/Cityscapes/labels', 'name': 'cologne/cologne_000046_000019_leftImg8bit.png'}, {'image': './drive/MyDrive/Datasets/Cityscapes/images', 'label': './drive/MyDrive/Datasets/Cityscapes/labels', 'name': 'bremen/bremen_000068_000019_leftImg8bit.png'}, {'image': './drive/MyDrive/Datasets/Cityscapes/images', 'label': './drive/MyDrive/Datasets/Cityscapes/labels', 'name': 'weimar/weimar_000035_000019_leftImg8bit.png'}, {'image': './drive/MyDrive/Datasets/Cityscapes/images', 'label': './drive/MyDrive/Datasets/Cityscapes/labels', 'name': 'krefeld/krefeld_000000_010329_leftImg8bit.png'}, {'image': './drive/MyDrive/Datasets/Cityscapes/images', 'label': './drive/MyDrive/Datasets/Cityscapes/labels', 'name': 'strasbourg/strasbourg_000001_013266_leftImg8bit.png'}, {'image': './drive/MyDrive/Datasets/Cityscapes/images', 'label': './drive/MyDrive/Datasets/Cityscapes/labels', 'name': 'hamburg/hamburg_000000_073999_leftImg8bit.png'}, {'image': './drive/MyDrive/Datasets/Cityscapes/images', 'label': './drive/MyDrive/Datasets/Cityscapes/labels', 'name': 'aachen/aachen_000019_000019_leftImg8bit.png'}, {'image': './drive/MyDrive/Datasets/Cityscapes/images', 'label': './drive/MyDrive/Datasets/Cityscapes/labels', 'name': 'tubingen/tubingen_000069_000019_leftImg8bit.png'}, {'image': './drive/MyDrive/Datasets/Cityscapes/images', 'label': './drive/MyDrive/Datasets/Cityscapes/labels', 'name': 'hamburg/hamburg_000000_061790_leftImg8bit.png'}, {'image': './drive/MyDrive/Datasets/Cityscapes/images', 'label': './drive/MyDrive/Datasets/Cityscapes/labels', 'name': 'strasbourg/strasbourg_000001_012956_leftImg8bit.png'}, {'image': './drive/MyDrive/Datasets/Cityscapes/images', 'label': './drive/MyDrive/Datasets/Cityscapes/labels', 'name': 'weimar/weimar_000092_000019_leftImg8bit.png'}, {'image': './drive/MyDrive/Datasets/Cityscapes/images', 'label': './drive/MyDrive/Datasets/Cityscapes/labels', 'name': 'ulm/ulm_000034_000019_leftImg8bit.png'}, {'image': './drive/MyDrive/Datasets/Cityscapes/images', 'label': './drive/MyDrive/Datasets/Cityscapes/labels', 'name': 'hamburg/hamburg_000000_039420_leftImg8bit.png'}, {'image': './drive/MyDrive/Datasets/Cityscapes/images', 'label': './drive/MyDrive/Datasets/Cityscapes/labels', 'name': 'jena/jena_000116_000019_leftImg8bit.png'}, {'image': './drive/MyDrive/Datasets/Cityscapes/images', 'label': './drive/MyDrive/Datasets/Cityscapes/labels', 'name': 'hamburg/hamburg_000000_102379_leftImg8bit.png'}, {'image': './drive/MyDrive/Datasets/Cityscapes/images', 'label': './drive/MyDrive/Datasets/Cityscapes/labels', 'name': 'dusseldorf/dusseldorf_000101_000019_leftImg8bit.png'}, {'image': './drive/MyDrive/Datasets/Cityscapes/images', 'label': './drive/MyDrive/Datasets/Cityscapes/labels', 'name': 'strasbourg/strasbourg_000000_006106_leftImg8bit.png'}, {'image': './drive/MyDrive/Datasets/Cityscapes/images', 'label': './drive/MyDrive/Datasets/Cityscapes/labels', 'name': 'cologne/cologne_000080_000019_leftImg8bit.png'}, {'image': './drive/MyDrive/Datasets/Cityscapes/images', 'label': './drive/MyDrive/Datasets/Cityscapes/labels', 'name': 'zurich/zurich_000028_000019_leftImg8bit.png'}, {'image': './drive/MyDrive/Datasets/Cityscapes/images', 'label': './drive/MyDrive/Datasets/Cityscapes/labels', 'name': 'bochum/bochum_000000_024196_leftImg8bit.png'}, {'image': './drive/MyDrive/Datasets/Cityscapes/images', 'label': './drive/MyDrive/Datasets/Cityscapes/labels', 'name': 'aachen/aachen_000130_000019_leftImg8bit.png'}, {'image': './drive/MyDrive/Datasets/Cityscapes/images', 'label': './drive/MyDrive/Datasets/Cityscapes/labels', 'name': 'stuttgart/stuttgart_000092_000019_leftImg8bit.png'}, {'image': './drive/MyDrive/Datasets/Cityscapes/images', 'label': './drive/MyDrive/Datasets/Cityscapes/labels', 'name': 'tubingen/tubingen_000117_000019_leftImg8bit.png'}, {'image': './drive/MyDrive/Datasets/Cityscapes/images', 'label': './drive/MyDrive/Datasets/Cityscapes/labels', 'name': 'bremen/bremen_000215_000019_leftImg8bit.png'}, {'image': './drive/MyDrive/Datasets/Cityscapes/images', 'label': './drive/MyDrive/Datasets/Cityscapes/labels', 'name': 'aachen/aachen_000067_000019_leftImg8bit.png'}, {'image': './drive/MyDrive/Datasets/Cityscapes/images', 'label': './drive/MyDrive/Datasets/Cityscapes/labels', 'name': 'dusseldorf/dusseldorf_000091_000019_leftImg8bit.png'}, {'image': './drive/MyDrive/Datasets/Cityscapes/images', 'label': './drive/MyDrive/Datasets/Cityscapes/labels', 'name': 'bremen/bremen_000272_000019_leftImg8bit.png'}, {'image': './drive/MyDrive/Datasets/Cityscapes/images', 'label': './drive/MyDrive/Datasets/Cityscapes/labels', 'name': 'hamburg/hamburg_000000_045437_leftImg8bit.png'}, {'image': './drive/MyDrive/Datasets/Cityscapes/images', 'label': './drive/MyDrive/Datasets/Cityscapes/labels', 'name': 'strasbourg/strasbourg_000001_018432_leftImg8bit.png'}, {'image': './drive/MyDrive/Datasets/Cityscapes/images', 'label': './drive/MyDrive/Datasets/Cityscapes/labels', 'name': 'ulm/ulm_000044_000019_leftImg8bit.png'}, {'image': './drive/MyDrive/Datasets/Cityscapes/images', 'label': './drive/MyDrive/Datasets/Cityscapes/labels', 'name': 'hamburg/hamburg_000000_042505_leftImg8bit.png'}, {'image': './drive/MyDrive/Datasets/Cityscapes/images', 'label': './drive/MyDrive/Datasets/Cityscapes/labels', 'name': 'monchengladbach/monchengladbach_000000_026006_leftImg8bit.png'}, {'image': './drive/MyDrive/Datasets/Cityscapes/images', 'label': './drive/MyDrive/Datasets/Cityscapes/labels', 'name': 'aachen/aachen_000115_000019_leftImg8bit.png'}, {'image': './drive/MyDrive/Datasets/Cityscapes/images', 'label': './drive/MyDrive/Datasets/Cityscapes/labels', 'name': 'ulm/ulm_000090_000019_leftImg8bit.png'}, {'image': './drive/MyDrive/Datasets/Cityscapes/images', 'label': './drive/MyDrive/Datasets/Cityscapes/labels', 'name': 'hamburg/hamburg_000000_054555_leftImg8bit.png'}, {'image': './drive/MyDrive/Datasets/Cityscapes/images', 'label': './drive/MyDrive/Datasets/Cityscapes/labels', 'name': 'darmstadt/darmstadt_000084_000019_leftImg8bit.png'}, {'image': './drive/MyDrive/Datasets/Cityscapes/images', 'label': './drive/MyDrive/Datasets/Cityscapes/labels', 'name': 'ulm/ulm_000040_000019_leftImg8bit.png'}, {'image': './drive/MyDrive/Datasets/Cityscapes/images', 'label': './drive/MyDrive/Datasets/Cityscapes/labels', 'name': 'aachen/aachen_000167_000019_leftImg8bit.png'}, {'image': './drive/MyDrive/Datasets/Cityscapes/images', 'label': './drive/MyDrive/Datasets/Cityscapes/labels', 'name': 'bremen/bremen_000292_000019_leftImg8bit.png'}, {'image': './drive/MyDrive/Datasets/Cityscapes/images', 'label': './drive/MyDrive/Datasets/Cityscapes/labels', 'name': 'hamburg/hamburg_000000_044400_leftImg8bit.png'}, {'image': './drive/MyDrive/Datasets/Cityscapes/images', 'label': './drive/MyDrive/Datasets/Cityscapes/labels', 'name': 'hamburg/hamburg_000000_057487_leftImg8bit.png'}, {'image': './drive/MyDrive/Datasets/Cityscapes/images', 'label': './drive/MyDrive/Datasets/Cityscapes/labels', 'name': 'weimar/weimar_000113_000019_leftImg8bit.png'}, {'image': './drive/MyDrive/Datasets/Cityscapes/images', 'label': './drive/MyDrive/Datasets/Cityscapes/labels', 'name': 'hamburg/hamburg_000000_063403_leftImg8bit.png'}, {'image': './drive/MyDrive/Datasets/Cityscapes/images', 'label': './drive/MyDrive/Datasets/Cityscapes/labels', 'name': 'jena/jena_000044_000019_leftImg8bit.png'}, {'image': './drive/MyDrive/Datasets/Cityscapes/images', 'label': './drive/MyDrive/Datasets/Cityscapes/labels', 'name': 'strasbourg/strasbourg_000001_037645_leftImg8bit.png'}, {'image': './drive/MyDrive/Datasets/Cityscapes/images', 'label': './drive/MyDrive/Datasets/Cityscapes/labels', 'name': 'hamburg/hamburg_000000_085982_leftImg8bit.png'}, {'image': './drive/MyDrive/Datasets/Cityscapes/images', 'label': './drive/MyDrive/Datasets/Cityscapes/labels', 'name': 'bremen/bremen_000022_000019_leftImg8bit.png'}, {'image': './drive/MyDrive/Datasets/Cityscapes/images', 'label': './drive/MyDrive/Datasets/Cityscapes/labels', 'name': 'strasbourg/strasbourg_000000_031223_leftImg8bit.png'}, {'image': './drive/MyDrive/Datasets/Cityscapes/images', 'label': './drive/MyDrive/Datasets/Cityscapes/labels', 'name': 'cologne/cologne_000115_000019_leftImg8bit.png'}, {'image': './drive/MyDrive/Datasets/Cityscapes/images', 'label': './drive/MyDrive/Datasets/Cityscapes/labels', 'name': 'bremen/bremen_000253_000019_leftImg8bit.png'}, {'image': './drive/MyDrive/Datasets/Cityscapes/images', 'label': './drive/MyDrive/Datasets/Cityscapes/labels', 'name': 'stuttgart/stuttgart_000011_000019_leftImg8bit.png'}, {'image': './drive/MyDrive/Datasets/Cityscapes/images', 'label': './drive/MyDrive/Datasets/Cityscapes/labels', 'name': 'aachen/aachen_000063_000019_leftImg8bit.png'}, {'image': './drive/MyDrive/Datasets/Cityscapes/images', 'label': './drive/MyDrive/Datasets/Cityscapes/labels', 'name': 'strasbourg/strasbourg_000000_031602_leftImg8bit.png'}, {'image': './drive/MyDrive/Datasets/Cityscapes/images', 'label': './drive/MyDrive/Datasets/Cityscapes/labels', 'name': 'erfurt/erfurt_000011_000019_leftImg8bit.png'}, {'image': './drive/MyDrive/Datasets/Cityscapes/images', 'label': './drive/MyDrive/Datasets/Cityscapes/labels', 'name': 'bochum/bochum_000000_033056_leftImg8bit.png'}, {'image': './drive/MyDrive/Datasets/Cityscapes/images', 'label': './drive/MyDrive/Datasets/Cityscapes/labels', 'name': 'bremen/bremen_000122_000019_leftImg8bit.png'}, {'image': './drive/MyDrive/Datasets/Cityscapes/images', 'label': './drive/MyDrive/Datasets/Cityscapes/labels', 'name': 'jena/jena_000091_000019_leftImg8bit.png'}, {'image': './drive/MyDrive/Datasets/Cityscapes/images', 'label': './drive/MyDrive/Datasets/Cityscapes/labels', 'name': 'erfurt/erfurt_000081_000019_leftImg8bit.png'}, {'image': './drive/MyDrive/Datasets/Cityscapes/images', 'label': './drive/MyDrive/Datasets/Cityscapes/labels', 'name': 'hamburg/hamburg_000000_014940_leftImg8bit.png'}, {'image': './drive/MyDrive/Datasets/Cityscapes/images', 'label': './drive/MyDrive/Datasets/Cityscapes/labels', 'name': 'bochum/bochum_000000_027057_leftImg8bit.png'}, {'image': './drive/MyDrive/Datasets/Cityscapes/images', 'label': './drive/MyDrive/Datasets/Cityscapes/labels', 'name': 'hanover/hanover_000000_000381_leftImg8bit.png'}, {'image': './drive/MyDrive/Datasets/Cityscapes/images', 'label': './drive/MyDrive/Datasets/Cityscapes/labels', 'name': 'hanover/hanover_000000_052013_leftImg8bit.png'}, {'image': './drive/MyDrive/Datasets/Cityscapes/images', 'label': './drive/MyDrive/Datasets/Cityscapes/labels', 'name': 'erfurt/erfurt_000000_000019_leftImg8bit.png'}, {'image': './drive/MyDrive/Datasets/Cityscapes/images', 'label': './drive/MyDrive/Datasets/Cityscapes/labels', 'name': 'bochum/bochum_000000_021479_leftImg8bit.png'}, {'image': './drive/MyDrive/Datasets/Cityscapes/images', 'label': './drive/MyDrive/Datasets/Cityscapes/labels', 'name': 'hamburg/hamburg_000000_093325_leftImg8bit.png'}, {'image': './drive/MyDrive/Datasets/Cityscapes/images', 'label': './drive/MyDrive/Datasets/Cityscapes/labels', 'name': 'krefeld/krefeld_000000_009926_leftImg8bit.png'}, {'image': './drive/MyDrive/Datasets/Cityscapes/images', 'label': './drive/MyDrive/Datasets/Cityscapes/labels', 'name': 'stuttgart/stuttgart_000186_000019_leftImg8bit.png'}, {'image': './drive/MyDrive/Datasets/Cityscapes/images', 'label': './drive/MyDrive/Datasets/Cityscapes/labels', 'name': 'krefeld/krefeld_000000_011483_leftImg8bit.png'}, {'image': './drive/MyDrive/Datasets/Cityscapes/images', 'label': './drive/MyDrive/Datasets/Cityscapes/labels', 'name': 'stuttgart/stuttgart_000075_000019_leftImg8bit.png'}, {'image': './drive/MyDrive/Datasets/Cityscapes/images', 'label': './drive/MyDrive/Datasets/Cityscapes/labels', 'name': 'hamburg/hamburg_000000_014030_leftImg8bit.png'}, {'image': './drive/MyDrive/Datasets/Cityscapes/images', 'label': './drive/MyDrive/Datasets/Cityscapes/labels', 'name': 'hanover/hanover_000000_052887_leftImg8bit.png'}, {'image': './drive/MyDrive/Datasets/Cityscapes/images', 'label': './drive/MyDrive/Datasets/Cityscapes/labels', 'name': 'dusseldorf/dusseldorf_000124_000019_leftImg8bit.png'}, {'image': './drive/MyDrive/Datasets/Cityscapes/images', 'label': './drive/MyDrive/Datasets/Cityscapes/labels', 'name': 'strasbourg/strasbourg_000001_020904_leftImg8bit.png'}, {'image': './drive/MyDrive/Datasets/Cityscapes/images', 'label': './drive/MyDrive/Datasets/Cityscapes/labels', 'name': 'hanover/hanover_000000_042992_leftImg8bit.png'}, {'image': './drive/MyDrive/Datasets/Cityscapes/images', 'label': './drive/MyDrive/Datasets/Cityscapes/labels', 'name': 'weimar/weimar_000059_000019_leftImg8bit.png'}, {'image': './drive/MyDrive/Datasets/Cityscapes/images', 'label': './drive/MyDrive/Datasets/Cityscapes/labels', 'name': 'weimar/weimar_000096_000019_leftImg8bit.png'}, {'image': './drive/MyDrive/Datasets/Cityscapes/images', 'label': './drive/MyDrive/Datasets/Cityscapes/labels', 'name': 'dusseldorf/dusseldorf_000155_000019_leftImg8bit.png'}, {'image': './drive/MyDrive/Datasets/Cityscapes/images', 'label': './drive/MyDrive/Datasets/Cityscapes/labels', 'name': 'hamburg/hamburg_000000_088627_leftImg8bit.png'}, {'image': './drive/MyDrive/Datasets/Cityscapes/images', 'label': './drive/MyDrive/Datasets/Cityscapes/labels', 'name': 'stuttgart/stuttgart_000125_000019_leftImg8bit.png'}, {'image': './drive/MyDrive/Datasets/Cityscapes/images', 'label': './drive/MyDrive/Datasets/Cityscapes/labels', 'name': 'hanover/hanover_000000_010553_leftImg8bit.png'}, {'image': './drive/MyDrive/Datasets/Cityscapes/images', 'label': './drive/MyDrive/Datasets/Cityscapes/labels', 'name': 'krefeld/krefeld_000000_000108_leftImg8bit.png'}, {'image': './drive/MyDrive/Datasets/Cityscapes/images', 'label': './drive/MyDrive/Datasets/Cityscapes/labels', 'name': 'ulm/ulm_000003_000019_leftImg8bit.png'}, {'image': './drive/MyDrive/Datasets/Cityscapes/images', 'label': './drive/MyDrive/Datasets/Cityscapes/labels', 'name': 'stuttgart/stuttgart_000164_000019_leftImg8bit.png'}, {'image': './drive/MyDrive/Datasets/Cityscapes/images', 'label': './drive/MyDrive/Datasets/Cityscapes/labels', 'name': 'bremen/bremen_000027_000019_leftImg8bit.png'}, {'image': './drive/MyDrive/Datasets/Cityscapes/images', 'label': './drive/MyDrive/Datasets/Cityscapes/labels', 'name': 'jena/jena_000074_000019_leftImg8bit.png'}, {'image': './drive/MyDrive/Datasets/Cityscapes/images', 'label': './drive/MyDrive/Datasets/Cityscapes/labels', 'name': 'strasbourg/strasbourg_000001_000113_leftImg8bit.png'}, {'image': './drive/MyDrive/Datasets/Cityscapes/images', 'label': './drive/MyDrive/Datasets/Cityscapes/labels', 'name': 'hamburg/hamburg_000000_053563_leftImg8bit.png'}, {'image': './drive/MyDrive/Datasets/Cityscapes/images', 'label': './drive/MyDrive/Datasets/Cityscapes/labels', 'name': 'cologne/cologne_000089_000019_leftImg8bit.png'}, {'image': './drive/MyDrive/Datasets/Cityscapes/images', 'label': './drive/MyDrive/Datasets/Cityscapes/labels', 'name': 'tubingen/tubingen_000025_000019_leftImg8bit.png'}, {'image': './drive/MyDrive/Datasets/Cityscapes/images', 'label': './drive/MyDrive/Datasets/Cityscapes/labels', 'name': 'monchengladbach/monchengladbach_000000_002478_leftImg8bit.png'}, {'image': './drive/MyDrive/Datasets/Cityscapes/images', 'label': './drive/MyDrive/Datasets/Cityscapes/labels', 'name': 'cologne/cologne_000106_000019_leftImg8bit.png'}, {'image': './drive/MyDrive/Datasets/Cityscapes/images', 'label': './drive/MyDrive/Datasets/Cityscapes/labels', 'name': 'zurich/zurich_000088_000019_leftImg8bit.png'}, {'image': './drive/MyDrive/Datasets/Cityscapes/images', 'label': './drive/MyDrive/Datasets/Cityscapes/labels', 'name': 'zurich/zurich_000003_000019_leftImg8bit.png'}, {'image': './drive/MyDrive/Datasets/Cityscapes/images', 'label': './drive/MyDrive/Datasets/Cityscapes/labels', 'name': 'cologne/cologne_000023_000019_leftImg8bit.png'}, {'image': './drive/MyDrive/Datasets/Cityscapes/images', 'label': './drive/MyDrive/Datasets/Cityscapes/labels', 'name': 'stuttgart/stuttgart_000019_000019_leftImg8bit.png'}, {'image': './drive/MyDrive/Datasets/Cityscapes/images', 'label': './drive/MyDrive/Datasets/Cityscapes/labels', 'name': 'cologne/cologne_000145_000019_leftImg8bit.png'}, {'image': './drive/MyDrive/Datasets/Cityscapes/images', 'label': './drive/MyDrive/Datasets/Cityscapes/labels', 'name': 'tubingen/tubingen_000138_000019_leftImg8bit.png'}, {'image': './drive/MyDrive/Datasets/Cityscapes/images', 'label': './drive/MyDrive/Datasets/Cityscapes/labels', 'name': 'stuttgart/stuttgart_000110_000019_leftImg8bit.png'}, {'image': './drive/MyDrive/Datasets/Cityscapes/images', 'label': './drive/MyDrive/Datasets/Cityscapes/labels', 'name': 'bremen/bremen_000221_000019_leftImg8bit.png'}, {'image': './drive/MyDrive/Datasets/Cityscapes/images', 'label': './drive/MyDrive/Datasets/Cityscapes/labels', 'name': 'hamburg/hamburg_000000_064269_leftImg8bit.png'}, {'image': './drive/MyDrive/Datasets/Cityscapes/images', 'label': './drive/MyDrive/Datasets/Cityscapes/labels', 'name': 'hamburg/hamburg_000000_047108_leftImg8bit.png'}, {'image': './drive/MyDrive/Datasets/Cityscapes/images', 'label': './drive/MyDrive/Datasets/Cityscapes/labels', 'name': 'hanover/hanover_000000_014319_leftImg8bit.png'}, {'image': './drive/MyDrive/Datasets/Cityscapes/images', 'label': './drive/MyDrive/Datasets/Cityscapes/labels', 'name': 'hanover/hanover_000000_028460_leftImg8bit.png'}, {'image': './drive/MyDrive/Datasets/Cityscapes/images', 'label': './drive/MyDrive/Datasets/Cityscapes/labels', 'name': 'bremen/bremen_000093_000019_leftImg8bit.png'}, {'image': './drive/MyDrive/Datasets/Cityscapes/images', 'label': './drive/MyDrive/Datasets/Cityscapes/labels', 'name': 'hanover/hanover_000000_004646_leftImg8bit.png'}, {'image': './drive/MyDrive/Datasets/Cityscapes/images', 'label': './drive/MyDrive/Datasets/Cityscapes/labels', 'name': 'aachen/aachen_000062_000019_leftImg8bit.png'}, {'image': './drive/MyDrive/Datasets/Cityscapes/images', 'label': './drive/MyDrive/Datasets/Cityscapes/labels', 'name': 'erfurt/erfurt_000034_000019_leftImg8bit.png'}, {'image': './drive/MyDrive/Datasets/Cityscapes/images', 'label': './drive/MyDrive/Datasets/Cityscapes/labels', 'name': 'cologne/cologne_000108_000019_leftImg8bit.png'}, {'image': './drive/MyDrive/Datasets/Cityscapes/images', 'label': './drive/MyDrive/Datasets/Cityscapes/labels', 'name': 'aachen/aachen_000088_000019_leftImg8bit.png'}, {'image': './drive/MyDrive/Datasets/Cityscapes/images', 'label': './drive/MyDrive/Datasets/Cityscapes/labels', 'name': 'tubingen/tubingen_000140_000019_leftImg8bit.png'}, {'image': './drive/MyDrive/Datasets/Cityscapes/images', 'label': './drive/MyDrive/Datasets/Cityscapes/labels', 'name': 'bremen/bremen_000274_000019_leftImg8bit.png'}, {'image': './drive/MyDrive/Datasets/Cityscapes/images', 'label': './drive/MyDrive/Datasets/Cityscapes/labels', 'name': 'stuttgart/stuttgart_000093_000019_leftImg8bit.png'}, {'image': './drive/MyDrive/Datasets/Cityscapes/images', 'label': './drive/MyDrive/Datasets/Cityscapes/labels', 'name': 'bremen/bremen_000257_000019_leftImg8bit.png'}, {'image': './drive/MyDrive/Datasets/Cityscapes/images', 'label': './drive/MyDrive/Datasets/Cityscapes/labels', 'name': 'zurich/zurich_000046_000019_leftImg8bit.png'}, {'image': './drive/MyDrive/Datasets/Cityscapes/images', 'label': './drive/MyDrive/Datasets/Cityscapes/labels', 'name': 'ulm/ulm_000024_000019_leftImg8bit.png'}, {'image': './drive/MyDrive/Datasets/Cityscapes/images', 'label': './drive/MyDrive/Datasets/Cityscapes/labels', 'name': 'jena/jena_000046_000019_leftImg8bit.png'}, {'image': './drive/MyDrive/Datasets/Cityscapes/images', 'label': './drive/MyDrive/Datasets/Cityscapes/labels', 'name': 'strasbourg/strasbourg_000001_030120_leftImg8bit.png'}, {'image': './drive/MyDrive/Datasets/Cityscapes/images', 'label': './drive/MyDrive/Datasets/Cityscapes/labels', 'name': 'monchengladbach/monchengladbach_000000_026908_leftImg8bit.png'}, {'image': './drive/MyDrive/Datasets/Cityscapes/images', 'label': './drive/MyDrive/Datasets/Cityscapes/labels', 'name': 'cologne/cologne_000138_000019_leftImg8bit.png'}, {'image': './drive/MyDrive/Datasets/Cityscapes/images', 'label': './drive/MyDrive/Datasets/Cityscapes/labels', 'name': 'aachen/aachen_000143_000019_leftImg8bit.png'}, {'image': './drive/MyDrive/Datasets/Cityscapes/images', 'label': './drive/MyDrive/Datasets/Cityscapes/labels', 'name': 'stuttgart/stuttgart_000132_000019_leftImg8bit.png'}, {'image': './drive/MyDrive/Datasets/Cityscapes/images', 'label': './drive/MyDrive/Datasets/Cityscapes/labels', 'name': 'monchengladbach/monchengladbach_000000_027628_leftImg8bit.png'}, {'image': './drive/MyDrive/Datasets/Cityscapes/images', 'label': './drive/MyDrive/Datasets/Cityscapes/labels', 'name': 'tubingen/tubingen_000056_000019_leftImg8bit.png'}, {'image': './drive/MyDrive/Datasets/Cityscapes/images', 'label': './drive/MyDrive/Datasets/Cityscapes/labels', 'name': 'ulm/ulm_000071_000019_leftImg8bit.png'}, {'image': './drive/MyDrive/Datasets/Cityscapes/images', 'label': './drive/MyDrive/Datasets/Cityscapes/labels', 'name': 'ulm/ulm_000033_000019_leftImg8bit.png'}, {'image': './drive/MyDrive/Datasets/Cityscapes/images', 'label': './drive/MyDrive/Datasets/Cityscapes/labels', 'name': 'bremen/bremen_000086_000019_leftImg8bit.png'}, {'image': './drive/MyDrive/Datasets/Cityscapes/images', 'label': './drive/MyDrive/Datasets/Cityscapes/labels', 'name': 'darmstadt/darmstadt_000047_000019_leftImg8bit.png'}, {'image': './drive/MyDrive/Datasets/Cityscapes/images', 'label': './drive/MyDrive/Datasets/Cityscapes/labels', 'name': 'krefeld/krefeld_000000_025812_leftImg8bit.png'}, {'image': './drive/MyDrive/Datasets/Cityscapes/images', 'label': './drive/MyDrive/Datasets/Cityscapes/labels', 'name': 'stuttgart/stuttgart_000181_000019_leftImg8bit.png'}, {'image': './drive/MyDrive/Datasets/Cityscapes/images', 'label': './drive/MyDrive/Datasets/Cityscapes/labels', 'name': 'darmstadt/darmstadt_000028_000019_leftImg8bit.png'}, {'image': './drive/MyDrive/Datasets/Cityscapes/images', 'label': './drive/MyDrive/Datasets/Cityscapes/labels', 'name': 'hanover/hanover_000000_026743_leftImg8bit.png'}, {'image': './drive/MyDrive/Datasets/Cityscapes/images', 'label': './drive/MyDrive/Datasets/Cityscapes/labels', 'name': 'weimar/weimar_000055_000019_leftImg8bit.png'}, {'image': './drive/MyDrive/Datasets/Cityscapes/images', 'label': './drive/MyDrive/Datasets/Cityscapes/labels', 'name': 'hamburg/hamburg_000000_038915_leftImg8bit.png'}, {'image': './drive/MyDrive/Datasets/Cityscapes/images', 'label': './drive/MyDrive/Datasets/Cityscapes/labels', 'name': 'dusseldorf/dusseldorf_000063_000019_leftImg8bit.png'}, {'image': './drive/MyDrive/Datasets/Cityscapes/images', 'label': './drive/MyDrive/Datasets/Cityscapes/labels', 'name': 'strasbourg/strasbourg_000001_064393_leftImg8bit.png'}, {'image': './drive/MyDrive/Datasets/Cityscapes/images', 'label': './drive/MyDrive/Datasets/Cityscapes/labels', 'name': 'hanover/hanover_000000_015849_leftImg8bit.png'}, {'image': './drive/MyDrive/Datasets/Cityscapes/images', 'label': './drive/MyDrive/Datasets/Cityscapes/labels', 'name': 'strasbourg/strasbourg_000000_015506_leftImg8bit.png'}, {'image': './drive/MyDrive/Datasets/Cityscapes/images', 'label': './drive/MyDrive/Datasets/Cityscapes/labels', 'name': 'bochum/bochum_000000_018195_leftImg8bit.png'}, {'image': './drive/MyDrive/Datasets/Cityscapes/images', 'label': './drive/MyDrive/Datasets/Cityscapes/labels', 'name': 'dusseldorf/dusseldorf_000168_000019_leftImg8bit.png'}, {'image': './drive/MyDrive/Datasets/Cityscapes/images', 'label': './drive/MyDrive/Datasets/Cityscapes/labels', 'name': 'bochum/bochum_000000_015880_leftImg8bit.png'}, {'image': './drive/MyDrive/Datasets/Cityscapes/images', 'label': './drive/MyDrive/Datasets/Cityscapes/labels', 'name': 'stuttgart/stuttgart_000169_000019_leftImg8bit.png'}, {'image': './drive/MyDrive/Datasets/Cityscapes/images', 'label': './drive/MyDrive/Datasets/Cityscapes/labels', 'name': 'aachen/aachen_000002_000019_leftImg8bit.png'}, {'image': './drive/MyDrive/Datasets/Cityscapes/images', 'label': './drive/MyDrive/Datasets/Cityscapes/labels', 'name': 'bremen/bremen_000314_000019_leftImg8bit.png'}, {'image': './drive/MyDrive/Datasets/Cityscapes/images', 'label': './drive/MyDrive/Datasets/Cityscapes/labels', 'name': 'strasbourg/strasbourg_000001_014033_leftImg8bit.png'}, {'image': './drive/MyDrive/Datasets/Cityscapes/images', 'label': './drive/MyDrive/Datasets/Cityscapes/labels', 'name': 'hanover/hanover_000000_025335_leftImg8bit.png'}, {'image': './drive/MyDrive/Datasets/Cityscapes/images', 'label': './drive/MyDrive/Datasets/Cityscapes/labels', 'name': 'tubingen/tubingen_000125_000019_leftImg8bit.png'}, {'image': './drive/MyDrive/Datasets/Cityscapes/images', 'label': './drive/MyDrive/Datasets/Cityscapes/labels', 'name': 'strasbourg/strasbourg_000001_026856_leftImg8bit.png'}, {'image': './drive/MyDrive/Datasets/Cityscapes/images', 'label': './drive/MyDrive/Datasets/Cityscapes/labels', 'name': 'strasbourg/strasbourg_000001_008310_leftImg8bit.png'}, {'image': './drive/MyDrive/Datasets/Cityscapes/images', 'label': './drive/MyDrive/Datasets/Cityscapes/labels', 'name': 'hanover/hanover_000000_048379_leftImg8bit.png'}, {'image': './drive/MyDrive/Datasets/Cityscapes/images', 'label': './drive/MyDrive/Datasets/Cityscapes/labels', 'name': 'strasbourg/strasbourg_000001_021951_leftImg8bit.png'}, {'image': './drive/MyDrive/Datasets/Cityscapes/images', 'label': './drive/MyDrive/Datasets/Cityscapes/labels', 'name': 'monchengladbach/monchengladbach_000000_020856_leftImg8bit.png'}, {'image': './drive/MyDrive/Datasets/Cityscapes/images', 'label': './drive/MyDrive/Datasets/Cityscapes/labels', 'name': 'dusseldorf/dusseldorf_000186_000019_leftImg8bit.png'}, {'image': './drive/MyDrive/Datasets/Cityscapes/images', 'label': './drive/MyDrive/Datasets/Cityscapes/labels', 'name': 'bremen/bremen_000293_000019_leftImg8bit.png'}, {'image': './drive/MyDrive/Datasets/Cityscapes/images', 'label': './drive/MyDrive/Datasets/Cityscapes/labels', 'name': 'darmstadt/darmstadt_000024_000019_leftImg8bit.png'}, {'image': './drive/MyDrive/Datasets/Cityscapes/images', 'label': './drive/MyDrive/Datasets/Cityscapes/labels', 'name': 'strasbourg/strasbourg_000001_048605_leftImg8bit.png'}, {'image': './drive/MyDrive/Datasets/Cityscapes/images', 'label': './drive/MyDrive/Datasets/Cityscapes/labels', 'name': 'bremen/bremen_000183_000019_leftImg8bit.png'}, {'image': './drive/MyDrive/Datasets/Cityscapes/images', 'label': './drive/MyDrive/Datasets/Cityscapes/labels', 'name': 'strasbourg/strasbourg_000001_026106_leftImg8bit.png'}, {'image': './drive/MyDrive/Datasets/Cityscapes/images', 'label': './drive/MyDrive/Datasets/Cityscapes/labels', 'name': 'dusseldorf/dusseldorf_000064_000019_leftImg8bit.png'}, {'image': './drive/MyDrive/Datasets/Cityscapes/images', 'label': './drive/MyDrive/Datasets/Cityscapes/labels', 'name': 'bremen/bremen_000129_000019_leftImg8bit.png'}, {'image': './drive/MyDrive/Datasets/Cityscapes/images', 'label': './drive/MyDrive/Datasets/Cityscapes/labels', 'name': 'stuttgart/stuttgart_000143_000019_leftImg8bit.png'}, {'image': './drive/MyDrive/Datasets/Cityscapes/images', 'label': './drive/MyDrive/Datasets/Cityscapes/labels', 'name': 'ulm/ulm_000026_000019_leftImg8bit.png'}, {'image': './drive/MyDrive/Datasets/Cityscapes/images', 'label': './drive/MyDrive/Datasets/Cityscapes/labels', 'name': 'hamburg/hamburg_000000_091900_leftImg8bit.png'}, {'image': './drive/MyDrive/Datasets/Cityscapes/images', 'label': './drive/MyDrive/Datasets/Cityscapes/labels', 'name': 'dusseldorf/dusseldorf_000079_000019_leftImg8bit.png'}, {'image': './drive/MyDrive/Datasets/Cityscapes/images', 'label': './drive/MyDrive/Datasets/Cityscapes/labels', 'name': 'bremen/bremen_000196_000019_leftImg8bit.png'}, {'image': './drive/MyDrive/Datasets/Cityscapes/images', 'label': './drive/MyDrive/Datasets/Cityscapes/labels', 'name': 'bremen/bremen_000059_000019_leftImg8bit.png'}, {'image': './drive/MyDrive/Datasets/Cityscapes/images', 'label': './drive/MyDrive/Datasets/Cityscapes/labels', 'name': 'hamburg/hamburg_000000_062964_leftImg8bit.png'}, {'image': './drive/MyDrive/Datasets/Cityscapes/images', 'label': './drive/MyDrive/Datasets/Cityscapes/labels', 'name': 'bremen/bremen_000227_000019_leftImg8bit.png'}, {'image': './drive/MyDrive/Datasets/Cityscapes/images', 'label': './drive/MyDrive/Datasets/Cityscapes/labels', 'name': 'zurich/zurich_000069_000019_leftImg8bit.png'}, {'image': './drive/MyDrive/Datasets/Cityscapes/images', 'label': './drive/MyDrive/Datasets/Cityscapes/labels', 'name': 'jena/jena_000080_000019_leftImg8bit.png'}, {'image': './drive/MyDrive/Datasets/Cityscapes/images', 'label': './drive/MyDrive/Datasets/Cityscapes/labels', 'name': 'aachen/aachen_000001_000019_leftImg8bit.png'}, {'image': './drive/MyDrive/Datasets/Cityscapes/images', 'label': './drive/MyDrive/Datasets/Cityscapes/labels', 'name': 'strasbourg/strasbourg_000000_017159_leftImg8bit.png'}, {'image': './drive/MyDrive/Datasets/Cityscapes/images', 'label': './drive/MyDrive/Datasets/Cityscapes/labels', 'name': 'bochum/bochum_000000_014332_leftImg8bit.png'}, {'image': './drive/MyDrive/Datasets/Cityscapes/images', 'label': './drive/MyDrive/Datasets/Cityscapes/labels', 'name': 'bochum/bochum_000000_030913_leftImg8bit.png'}, {'image': './drive/MyDrive/Datasets/Cityscapes/images', 'label': './drive/MyDrive/Datasets/Cityscapes/labels', 'name': 'jena/jena_000024_000019_leftImg8bit.png'}, {'image': './drive/MyDrive/Datasets/Cityscapes/images', 'label': './drive/MyDrive/Datasets/Cityscapes/labels', 'name': 'strasbourg/strasbourg_000000_030706_leftImg8bit.png'}, {'image': './drive/MyDrive/Datasets/Cityscapes/images', 'label': './drive/MyDrive/Datasets/Cityscapes/labels', 'name': 'cologne/cologne_000049_000019_leftImg8bit.png'}, {'image': './drive/MyDrive/Datasets/Cityscapes/images', 'label': './drive/MyDrive/Datasets/Cityscapes/labels', 'name': 'bochum/bochum_000000_007651_leftImg8bit.png'}, {'image': './drive/MyDrive/Datasets/Cityscapes/images', 'label': './drive/MyDrive/Datasets/Cityscapes/labels', 'name': 'stuttgart/stuttgart_000020_000019_leftImg8bit.png'}, {'image': './drive/MyDrive/Datasets/Cityscapes/images', 'label': './drive/MyDrive/Datasets/Cityscapes/labels', 'name': 'hanover/hanover_000000_032559_leftImg8bit.png'}, {'image': './drive/MyDrive/Datasets/Cityscapes/images', 'label': './drive/MyDrive/Datasets/Cityscapes/labels', 'name': 'hanover/hanover_000000_055124_leftImg8bit.png'}, {'image': './drive/MyDrive/Datasets/Cityscapes/images', 'label': './drive/MyDrive/Datasets/Cityscapes/labels', 'name': 'tubingen/tubingen_000119_000019_leftImg8bit.png'}, {'image': './drive/MyDrive/Datasets/Cityscapes/images', 'label': './drive/MyDrive/Datasets/Cityscapes/labels', 'name': 'bremen/bremen_000267_000019_leftImg8bit.png'}, {'image': './drive/MyDrive/Datasets/Cityscapes/images', 'label': './drive/MyDrive/Datasets/Cityscapes/labels', 'name': 'weimar/weimar_000082_000019_leftImg8bit.png'}, {'image': './drive/MyDrive/Datasets/Cityscapes/images', 'label': './drive/MyDrive/Datasets/Cityscapes/labels', 'name': 'bremen/bremen_000119_000019_leftImg8bit.png'}, {'image': './drive/MyDrive/Datasets/Cityscapes/images', 'label': './drive/MyDrive/Datasets/Cityscapes/labels', 'name': 'hanover/hanover_000000_001620_leftImg8bit.png'}, {'image': './drive/MyDrive/Datasets/Cityscapes/images', 'label': './drive/MyDrive/Datasets/Cityscapes/labels', 'name': 'cologne/cologne_000075_000019_leftImg8bit.png'}, {'image': './drive/MyDrive/Datasets/Cityscapes/images', 'label': './drive/MyDrive/Datasets/Cityscapes/labels', 'name': 'hamburg/hamburg_000000_036003_leftImg8bit.png'}, {'image': './drive/MyDrive/Datasets/Cityscapes/images', 'label': './drive/MyDrive/Datasets/Cityscapes/labels', 'name': 'stuttgart/stuttgart_000195_000019_leftImg8bit.png'}, {'image': './drive/MyDrive/Datasets/Cityscapes/images', 'label': './drive/MyDrive/Datasets/Cityscapes/labels', 'name': 'dusseldorf/dusseldorf_000204_000019_leftImg8bit.png'}, {'image': './drive/MyDrive/Datasets/Cityscapes/images', 'label': './drive/MyDrive/Datasets/Cityscapes/labels', 'name': 'bremen/bremen_000177_000019_leftImg8bit.png'}, {'image': './drive/MyDrive/Datasets/Cityscapes/images', 'label': './drive/MyDrive/Datasets/Cityscapes/labels', 'name': 'weimar/weimar_000002_000019_leftImg8bit.png'}, {'image': './drive/MyDrive/Datasets/Cityscapes/images', 'label': './drive/MyDrive/Datasets/Cityscapes/labels', 'name': 'jena/jena_000060_000019_leftImg8bit.png'}, {'image': './drive/MyDrive/Datasets/Cityscapes/images', 'label': './drive/MyDrive/Datasets/Cityscapes/labels', 'name': 'strasbourg/strasbourg_000001_052050_leftImg8bit.png'}, {'image': './drive/MyDrive/Datasets/Cityscapes/images', 'label': './drive/MyDrive/Datasets/Cityscapes/labels', 'name': 'bremen/bremen_000295_000019_leftImg8bit.png'}, {'image': './drive/MyDrive/Datasets/Cityscapes/images', 'label': './drive/MyDrive/Datasets/Cityscapes/labels', 'name': 'jena/jena_000022_000019_leftImg8bit.png'}, {'image': './drive/MyDrive/Datasets/Cityscapes/images', 'label': './drive/MyDrive/Datasets/Cityscapes/labels', 'name': 'darmstadt/darmstadt_000039_000019_leftImg8bit.png'}, {'image': './drive/MyDrive/Datasets/Cityscapes/images', 'label': './drive/MyDrive/Datasets/Cityscapes/labels', 'name': 'jena/jena_000100_000019_leftImg8bit.png'}, {'image': './drive/MyDrive/Datasets/Cityscapes/images', 'label': './drive/MyDrive/Datasets/Cityscapes/labels', 'name': 'aachen/aachen_000025_000019_leftImg8bit.png'}, {'image': './drive/MyDrive/Datasets/Cityscapes/images', 'label': './drive/MyDrive/Datasets/Cityscapes/labels', 'name': 'erfurt/erfurt_000076_000019_leftImg8bit.png'}, {'image': './drive/MyDrive/Datasets/Cityscapes/images', 'label': './drive/MyDrive/Datasets/Cityscapes/labels', 'name': 'stuttgart/stuttgart_000159_000019_leftImg8bit.png'}, {'image': './drive/MyDrive/Datasets/Cityscapes/images', 'label': './drive/MyDrive/Datasets/Cityscapes/labels', 'name': 'monchengladbach/monchengladbach_000000_025215_leftImg8bit.png'}, {'image': './drive/MyDrive/Datasets/Cityscapes/images', 'label': './drive/MyDrive/Datasets/Cityscapes/labels', 'name': 'hanover/hanover_000000_051152_leftImg8bit.png'}, {'image': './drive/MyDrive/Datasets/Cityscapes/images', 'label': './drive/MyDrive/Datasets/Cityscapes/labels', 'name': 'erfurt/erfurt_000032_000019_leftImg8bit.png'}, {'image': './drive/MyDrive/Datasets/Cityscapes/images', 'label': './drive/MyDrive/Datasets/Cityscapes/labels', 'name': 'dusseldorf/dusseldorf_000154_000019_leftImg8bit.png'}, {'image': './drive/MyDrive/Datasets/Cityscapes/images', 'label': './drive/MyDrive/Datasets/Cityscapes/labels', 'name': 'dusseldorf/dusseldorf_000075_000019_leftImg8bit.png'}, {'image': './drive/MyDrive/Datasets/Cityscapes/images', 'label': './drive/MyDrive/Datasets/Cityscapes/labels', 'name': 'bremen/bremen_000023_000019_leftImg8bit.png'}, {'image': './drive/MyDrive/Datasets/Cityscapes/images', 'label': './drive/MyDrive/Datasets/Cityscapes/labels', 'name': 'strasbourg/strasbourg_000000_029400_leftImg8bit.png'}, {'image': './drive/MyDrive/Datasets/Cityscapes/images', 'label': './drive/MyDrive/Datasets/Cityscapes/labels', 'name': 'strasbourg/strasbourg_000001_042309_leftImg8bit.png'}, {'image': './drive/MyDrive/Datasets/Cityscapes/images', 'label': './drive/MyDrive/Datasets/Cityscapes/labels', 'name': 'stuttgart/stuttgart_000052_000019_leftImg8bit.png'}, {'image': './drive/MyDrive/Datasets/Cityscapes/images', 'label': './drive/MyDrive/Datasets/Cityscapes/labels', 'name': 'tubingen/tubingen_000130_000019_leftImg8bit.png'}, {'image': './drive/MyDrive/Datasets/Cityscapes/images', 'label': './drive/MyDrive/Datasets/Cityscapes/labels', 'name': 'cologne/cologne_000101_000019_leftImg8bit.png'}, {'image': './drive/MyDrive/Datasets/Cityscapes/images', 'label': './drive/MyDrive/Datasets/Cityscapes/labels', 'name': 'darmstadt/darmstadt_000048_000019_leftImg8bit.png'}, {'image': './drive/MyDrive/Datasets/Cityscapes/images', 'label': './drive/MyDrive/Datasets/Cityscapes/labels', 'name': 'bremen/bremen_000178_000019_leftImg8bit.png'}, {'image': './drive/MyDrive/Datasets/Cityscapes/images', 'label': './drive/MyDrive/Datasets/Cityscapes/labels', 'name': 'weimar/weimar_000088_000019_leftImg8bit.png'}, {'image': './drive/MyDrive/Datasets/Cityscapes/images', 'label': './drive/MyDrive/Datasets/Cityscapes/labels', 'name': 'bremen/bremen_000145_000019_leftImg8bit.png'}, {'image': './drive/MyDrive/Datasets/Cityscapes/images', 'label': './drive/MyDrive/Datasets/Cityscapes/labels', 'name': 'bremen/bremen_000315_000019_leftImg8bit.png'}, {'image': './drive/MyDrive/Datasets/Cityscapes/images', 'label': './drive/MyDrive/Datasets/Cityscapes/labels', 'name': 'aachen/aachen_000110_000019_leftImg8bit.png'}, {'image': './drive/MyDrive/Datasets/Cityscapes/images', 'label': './drive/MyDrive/Datasets/Cityscapes/labels', 'name': 'strasbourg/strasbourg_000001_039114_leftImg8bit.png'}, {'image': './drive/MyDrive/Datasets/Cityscapes/images', 'label': './drive/MyDrive/Datasets/Cityscapes/labels', 'name': 'dusseldorf/dusseldorf_000122_000019_leftImg8bit.png'}, {'image': './drive/MyDrive/Datasets/Cityscapes/images', 'label': './drive/MyDrive/Datasets/Cityscapes/labels', 'name': 'stuttgart/stuttgart_000026_000019_leftImg8bit.png'}, {'image': './drive/MyDrive/Datasets/Cityscapes/images', 'label': './drive/MyDrive/Datasets/Cityscapes/labels', 'name': 'dusseldorf/dusseldorf_000150_000019_leftImg8bit.png'}, {'image': './drive/MyDrive/Datasets/Cityscapes/images', 'label': './drive/MyDrive/Datasets/Cityscapes/labels', 'name': 'tubingen/tubingen_000048_000019_leftImg8bit.png'}, {'image': './drive/MyDrive/Datasets/Cityscapes/images', 'label': './drive/MyDrive/Datasets/Cityscapes/labels', 'name': 'bremen/bremen_000278_000019_leftImg8bit.png'}, {'image': './drive/MyDrive/Datasets/Cityscapes/images', 'label': './drive/MyDrive/Datasets/Cityscapes/labels', 'name': 'hanover/hanover_000000_030889_leftImg8bit.png'}, {'image': './drive/MyDrive/Datasets/Cityscapes/images', 'label': './drive/MyDrive/Datasets/Cityscapes/labels', 'name': 'tubingen/tubingen_000054_000019_leftImg8bit.png'}, {'image': './drive/MyDrive/Datasets/Cityscapes/images', 'label': './drive/MyDrive/Datasets/Cityscapes/labels', 'name': 'strasbourg/strasbourg_000001_025833_leftImg8bit.png'}, {'image': './drive/MyDrive/Datasets/Cityscapes/images', 'label': './drive/MyDrive/Datasets/Cityscapes/labels', 'name': 'cologne/cologne_000060_000019_leftImg8bit.png'}, {'image': './drive/MyDrive/Datasets/Cityscapes/images', 'label': './drive/MyDrive/Datasets/Cityscapes/labels', 'name': 'tubingen/tubingen_000024_000019_leftImg8bit.png'}, {'image': './drive/MyDrive/Datasets/Cityscapes/images', 'label': './drive/MyDrive/Datasets/Cityscapes/labels', 'name': 'krefeld/krefeld_000000_010160_leftImg8bit.png'}, {'image': './drive/MyDrive/Datasets/Cityscapes/images', 'label': './drive/MyDrive/Datasets/Cityscapes/labels', 'name': 'monchengladbach/monchengladbach_000000_033683_leftImg8bit.png'}, {'image': './drive/MyDrive/Datasets/Cityscapes/images', 'label': './drive/MyDrive/Datasets/Cityscapes/labels', 'name': 'aachen/aachen_000004_000019_leftImg8bit.png'}, {'image': './drive/MyDrive/Datasets/Cityscapes/images', 'label': './drive/MyDrive/Datasets/Cityscapes/labels', 'name': 'bremen/bremen_000256_000019_leftImg8bit.png'}, {'image': './drive/MyDrive/Datasets/Cityscapes/images', 'label': './drive/MyDrive/Datasets/Cityscapes/labels', 'name': 'erfurt/erfurt_000100_000019_leftImg8bit.png'}, {'image': './drive/MyDrive/Datasets/Cityscapes/images', 'label': './drive/MyDrive/Datasets/Cityscapes/labels', 'name': 'krefeld/krefeld_000000_032845_leftImg8bit.png'}, {'image': './drive/MyDrive/Datasets/Cityscapes/images', 'label': './drive/MyDrive/Datasets/Cityscapes/labels', 'name': 'hamburg/hamburg_000000_067338_leftImg8bit.png'}, {'image': './drive/MyDrive/Datasets/Cityscapes/images', 'label': './drive/MyDrive/Datasets/Cityscapes/labels', 'name': 'strasbourg/strasbourg_000000_014416_leftImg8bit.png'}, {'image': './drive/MyDrive/Datasets/Cityscapes/images', 'label': './drive/MyDrive/Datasets/Cityscapes/labels', 'name': 'bremen/bremen_000154_000019_leftImg8bit.png'}, {'image': './drive/MyDrive/Datasets/Cityscapes/images', 'label': './drive/MyDrive/Datasets/Cityscapes/labels', 'name': 'ulm/ulm_000072_000019_leftImg8bit.png'}, {'image': './drive/MyDrive/Datasets/Cityscapes/images', 'label': './drive/MyDrive/Datasets/Cityscapes/labels', 'name': 'darmstadt/darmstadt_000046_000019_leftImg8bit.png'}, {'image': './drive/MyDrive/Datasets/Cityscapes/images', 'label': './drive/MyDrive/Datasets/Cityscapes/labels', 'name': 'strasbourg/strasbourg_000000_015764_leftImg8bit.png'}, {'image': './drive/MyDrive/Datasets/Cityscapes/images', 'label': './drive/MyDrive/Datasets/Cityscapes/labels', 'name': 'ulm/ulm_000001_000019_leftImg8bit.png'}, {'image': './drive/MyDrive/Datasets/Cityscapes/images', 'label': './drive/MyDrive/Datasets/Cityscapes/labels', 'name': 'strasbourg/strasbourg_000001_047619_leftImg8bit.png'}, {'image': './drive/MyDrive/Datasets/Cityscapes/images', 'label': './drive/MyDrive/Datasets/Cityscapes/labels', 'name': 'bremen/bremen_000021_000019_leftImg8bit.png'}, {'image': './drive/MyDrive/Datasets/Cityscapes/images', 'label': './drive/MyDrive/Datasets/Cityscapes/labels', 'name': 'zurich/zurich_000014_000019_leftImg8bit.png'}, {'image': './drive/MyDrive/Datasets/Cityscapes/images', 'label': './drive/MyDrive/Datasets/Cityscapes/labels', 'name': 'aachen/aachen_000085_000019_leftImg8bit.png'}, {'image': './drive/MyDrive/Datasets/Cityscapes/images', 'label': './drive/MyDrive/Datasets/Cityscapes/labels', 'name': 'bremen/bremen_000225_000019_leftImg8bit.png'}, {'image': './drive/MyDrive/Datasets/Cityscapes/images', 'label': './drive/MyDrive/Datasets/Cityscapes/labels', 'name': 'strasbourg/strasbourg_000001_026355_leftImg8bit.png'}, {'image': './drive/MyDrive/Datasets/Cityscapes/images', 'label': './drive/MyDrive/Datasets/Cityscapes/labels', 'name': 'dusseldorf/dusseldorf_000000_000019_leftImg8bit.png'}, {'image': './drive/MyDrive/Datasets/Cityscapes/images', 'label': './drive/MyDrive/Datasets/Cityscapes/labels', 'name': 'strasbourg/strasbourg_000001_007148_leftImg8bit.png'}, {'image': './drive/MyDrive/Datasets/Cityscapes/images', 'label': './drive/MyDrive/Datasets/Cityscapes/labels', 'name': 'monchengladbach/monchengladbach_000001_000876_leftImg8bit.png'}, {'image': './drive/MyDrive/Datasets/Cityscapes/images', 'label': './drive/MyDrive/Datasets/Cityscapes/labels', 'name': 'bremen/bremen_000152_000019_leftImg8bit.png'}, {'image': './drive/MyDrive/Datasets/Cityscapes/images', 'label': './drive/MyDrive/Datasets/Cityscapes/labels', 'name': 'ulm/ulm_000019_000019_leftImg8bit.png'}, {'image': './drive/MyDrive/Datasets/Cityscapes/images', 'label': './drive/MyDrive/Datasets/Cityscapes/labels', 'name': 'stuttgart/stuttgart_000053_000019_leftImg8bit.png'}, {'image': './drive/MyDrive/Datasets/Cityscapes/images', 'label': './drive/MyDrive/Datasets/Cityscapes/labels', 'name': 'jena/jena_000103_000019_leftImg8bit.png'}, {'image': './drive/MyDrive/Datasets/Cityscapes/images', 'label': './drive/MyDrive/Datasets/Cityscapes/labels', 'name': 'strasbourg/strasbourg_000000_009110_leftImg8bit.png'}, {'image': './drive/MyDrive/Datasets/Cityscapes/images', 'label': './drive/MyDrive/Datasets/Cityscapes/labels', 'name': 'dusseldorf/dusseldorf_000078_000019_leftImg8bit.png'}, {'image': './drive/MyDrive/Datasets/Cityscapes/images', 'label': './drive/MyDrive/Datasets/Cityscapes/labels', 'name': 'aachen/aachen_000013_000019_leftImg8bit.png'}, {'image': './drive/MyDrive/Datasets/Cityscapes/images', 'label': './drive/MyDrive/Datasets/Cityscapes/labels', 'name': 'tubingen/tubingen_000105_000019_leftImg8bit.png'}, {'image': './drive/MyDrive/Datasets/Cityscapes/images', 'label': './drive/MyDrive/Datasets/Cityscapes/labels', 'name': 'zurich/zurich_000074_000019_leftImg8bit.png'}, {'image': './drive/MyDrive/Datasets/Cityscapes/images', 'label': './drive/MyDrive/Datasets/Cityscapes/labels', 'name': 'zurich/zurich_000075_000019_leftImg8bit.png'}, {'image': './drive/MyDrive/Datasets/Cityscapes/images', 'label': './drive/MyDrive/Datasets/Cityscapes/labels', 'name': 'weimar/weimar_000060_000019_leftImg8bit.png'}, {'image': './drive/MyDrive/Datasets/Cityscapes/images', 'label': './drive/MyDrive/Datasets/Cityscapes/labels', 'name': 'strasbourg/strasbourg_000001_049399_leftImg8bit.png'}, {'image': './drive/MyDrive/Datasets/Cityscapes/images', 'label': './drive/MyDrive/Datasets/Cityscapes/labels', 'name': 'stuttgart/stuttgart_000076_000019_leftImg8bit.png'}, {'image': './drive/MyDrive/Datasets/Cityscapes/images', 'label': './drive/MyDrive/Datasets/Cityscapes/labels', 'name': 'hamburg/hamburg_000000_104857_leftImg8bit.png'}, {'image': './drive/MyDrive/Datasets/Cityscapes/images', 'label': './drive/MyDrive/Datasets/Cityscapes/labels', 'name': 'jena/jena_000088_000019_leftImg8bit.png'}, {'image': './drive/MyDrive/Datasets/Cityscapes/images', 'label': './drive/MyDrive/Datasets/Cityscapes/labels', 'name': 'hamburg/hamburg_000000_090742_leftImg8bit.png'}, {'image': './drive/MyDrive/Datasets/Cityscapes/images', 'label': './drive/MyDrive/Datasets/Cityscapes/labels', 'name': 'monchengladbach/monchengladbach_000000_030662_leftImg8bit.png'}, {'image': './drive/MyDrive/Datasets/Cityscapes/images', 'label': './drive/MyDrive/Datasets/Cityscapes/labels', 'name': 'weimar/weimar_000028_000019_leftImg8bit.png'}, {'image': './drive/MyDrive/Datasets/Cityscapes/images', 'label': './drive/MyDrive/Datasets/Cityscapes/labels', 'name': 'tubingen/tubingen_000039_000019_leftImg8bit.png'}, {'image': './drive/MyDrive/Datasets/Cityscapes/images', 'label': './drive/MyDrive/Datasets/Cityscapes/labels', 'name': 'aachen/aachen_000162_000019_leftImg8bit.png'}, {'image': './drive/MyDrive/Datasets/Cityscapes/images', 'label': './drive/MyDrive/Datasets/Cityscapes/labels', 'name': 'darmstadt/darmstadt_000012_000019_leftImg8bit.png'}, {'image': './drive/MyDrive/Datasets/Cityscapes/images', 'label': './drive/MyDrive/Datasets/Cityscapes/labels', 'name': 'bochum/bochum_000000_000313_leftImg8bit.png'}, {'image': './drive/MyDrive/Datasets/Cityscapes/images', 'label': './drive/MyDrive/Datasets/Cityscapes/labels', 'name': 'aachen/aachen_000165_000019_leftImg8bit.png'}, {'image': './drive/MyDrive/Datasets/Cityscapes/images', 'label': './drive/MyDrive/Datasets/Cityscapes/labels', 'name': 'strasbourg/strasbourg_000000_032186_leftImg8bit.png'}, {'image': './drive/MyDrive/Datasets/Cityscapes/images', 'label': './drive/MyDrive/Datasets/Cityscapes/labels', 'name': 'hamburg/hamburg_000000_071016_leftImg8bit.png'}, {'image': './drive/MyDrive/Datasets/Cityscapes/images', 'label': './drive/MyDrive/Datasets/Cityscapes/labels', 'name': 'monchengladbach/monchengladbach_000000_009690_leftImg8bit.png'}, {'image': './drive/MyDrive/Datasets/Cityscapes/images', 'label': './drive/MyDrive/Datasets/Cityscapes/labels', 'name': 'jena/jena_000111_000019_leftImg8bit.png'}, {'image': './drive/MyDrive/Datasets/Cityscapes/images', 'label': './drive/MyDrive/Datasets/Cityscapes/labels', 'name': 'hamburg/hamburg_000000_065604_leftImg8bit.png'}, {'image': './drive/MyDrive/Datasets/Cityscapes/images', 'label': './drive/MyDrive/Datasets/Cityscapes/labels', 'name': 'aachen/aachen_000009_000019_leftImg8bit.png'}, {'image': './drive/MyDrive/Datasets/Cityscapes/images', 'label': './drive/MyDrive/Datasets/Cityscapes/labels', 'name': 'hamburg/hamburg_000000_059720_leftImg8bit.png'}, {'image': './drive/MyDrive/Datasets/Cityscapes/images', 'label': './drive/MyDrive/Datasets/Cityscapes/labels', 'name': 'hanover/hanover_000000_005288_leftImg8bit.png'}, {'image': './drive/MyDrive/Datasets/Cityscapes/images', 'label': './drive/MyDrive/Datasets/Cityscapes/labels', 'name': 'zurich/zurich_000058_000019_leftImg8bit.png'}, {'image': './drive/MyDrive/Datasets/Cityscapes/images', 'label': './drive/MyDrive/Datasets/Cityscapes/labels', 'name': 'strasbourg/strasbourg_000000_029839_leftImg8bit.png'}, {'image': './drive/MyDrive/Datasets/Cityscapes/images', 'label': './drive/MyDrive/Datasets/Cityscapes/labels', 'name': 'bremen/bremen_000149_000019_leftImg8bit.png'}, {'image': './drive/MyDrive/Datasets/Cityscapes/images', 'label': './drive/MyDrive/Datasets/Cityscapes/labels', 'name': 'weimar/weimar_000085_000019_leftImg8bit.png'}, {'image': './drive/MyDrive/Datasets/Cityscapes/images', 'label': './drive/MyDrive/Datasets/Cityscapes/labels', 'name': 'dusseldorf/dusseldorf_000137_000019_leftImg8bit.png'}, {'image': './drive/MyDrive/Datasets/Cityscapes/images', 'label': './drive/MyDrive/Datasets/Cityscapes/labels', 'name': 'bochum/bochum_000000_026056_leftImg8bit.png'}, {'image': './drive/MyDrive/Datasets/Cityscapes/images', 'label': './drive/MyDrive/Datasets/Cityscapes/labels', 'name': 'jena/jena_000026_000019_leftImg8bit.png'}, {'image': './drive/MyDrive/Datasets/Cityscapes/images', 'label': './drive/MyDrive/Datasets/Cityscapes/labels', 'name': 'strasbourg/strasbourg_000001_007657_leftImg8bit.png'}, {'image': './drive/MyDrive/Datasets/Cityscapes/images', 'label': './drive/MyDrive/Datasets/Cityscapes/labels', 'name': 'erfurt/erfurt_000098_000019_leftImg8bit.png'}, {'image': './drive/MyDrive/Datasets/Cityscapes/images', 'label': './drive/MyDrive/Datasets/Cityscapes/labels', 'name': 'stuttgart/stuttgart_000046_000019_leftImg8bit.png'}, {'image': './drive/MyDrive/Datasets/Cityscapes/images', 'label': './drive/MyDrive/Datasets/Cityscapes/labels', 'name': 'stuttgart/stuttgart_000122_000019_leftImg8bit.png'}, {'image': './drive/MyDrive/Datasets/Cityscapes/images', 'label': './drive/MyDrive/Datasets/Cityscapes/labels', 'name': 'strasbourg/strasbourg_000001_045481_leftImg8bit.png'}, {'image': './drive/MyDrive/Datasets/Cityscapes/images', 'label': './drive/MyDrive/Datasets/Cityscapes/labels', 'name': 'stuttgart/stuttgart_000004_000019_leftImg8bit.png'}, {'image': './drive/MyDrive/Datasets/Cityscapes/images', 'label': './drive/MyDrive/Datasets/Cityscapes/labels', 'name': 'monchengladbach/monchengladbach_000000_007695_leftImg8bit.png'}, {'image': './drive/MyDrive/Datasets/Cityscapes/images', 'label': './drive/MyDrive/Datasets/Cityscapes/labels', 'name': 'stuttgart/stuttgart_000025_000019_leftImg8bit.png'}, {'image': './drive/MyDrive/Datasets/Cityscapes/images', 'label': './drive/MyDrive/Datasets/Cityscapes/labels', 'name': 'hanover/hanover_000000_007780_leftImg8bit.png'}, {'image': './drive/MyDrive/Datasets/Cityscapes/images', 'label': './drive/MyDrive/Datasets/Cityscapes/labels', 'name': 'ulm/ulm_000045_000019_leftImg8bit.png'}, {'image': './drive/MyDrive/Datasets/Cityscapes/images', 'label': './drive/MyDrive/Datasets/Cityscapes/labels', 'name': 'aachen/aachen_000084_000019_leftImg8bit.png'}, {'image': './drive/MyDrive/Datasets/Cityscapes/images', 'label': './drive/MyDrive/Datasets/Cityscapes/labels', 'name': 'stuttgart/stuttgart_000150_000019_leftImg8bit.png'}, {'image': './drive/MyDrive/Datasets/Cityscapes/images', 'label': './drive/MyDrive/Datasets/Cityscapes/labels', 'name': 'strasbourg/strasbourg_000000_018874_leftImg8bit.png'}, {'image': './drive/MyDrive/Datasets/Cityscapes/images', 'label': './drive/MyDrive/Datasets/Cityscapes/labels', 'name': 'jena/jena_000011_000019_leftImg8bit.png'}, {'image': './drive/MyDrive/Datasets/Cityscapes/images', 'label': './drive/MyDrive/Datasets/Cityscapes/labels', 'name': 'jena/jena_000107_000019_leftImg8bit.png'}, {'image': './drive/MyDrive/Datasets/Cityscapes/images', 'label': './drive/MyDrive/Datasets/Cityscapes/labels', 'name': 'monchengladbach/monchengladbach_000001_000054_leftImg8bit.png'}, {'image': './drive/MyDrive/Datasets/Cityscapes/images', 'label': './drive/MyDrive/Datasets/Cityscapes/labels', 'name': 'bremen/bremen_000309_000019_leftImg8bit.png'}, {'image': './drive/MyDrive/Datasets/Cityscapes/images', 'label': './drive/MyDrive/Datasets/Cityscapes/labels', 'name': 'tubingen/tubingen_000101_000019_leftImg8bit.png'}, {'image': './drive/MyDrive/Datasets/Cityscapes/images', 'label': './drive/MyDrive/Datasets/Cityscapes/labels', 'name': 'cologne/cologne_000010_000019_leftImg8bit.png'}, {'image': './drive/MyDrive/Datasets/Cityscapes/images', 'label': './drive/MyDrive/Datasets/Cityscapes/labels', 'name': 'bremen/bremen_000062_000019_leftImg8bit.png'}, {'image': './drive/MyDrive/Datasets/Cityscapes/images', 'label': './drive/MyDrive/Datasets/Cityscapes/labels', 'name': 'tubingen/tubingen_000108_000019_leftImg8bit.png'}, {'image': './drive/MyDrive/Datasets/Cityscapes/images', 'label': './drive/MyDrive/Datasets/Cityscapes/labels', 'name': 'stuttgart/stuttgart_000115_000019_leftImg8bit.png'}, {'image': './drive/MyDrive/Datasets/Cityscapes/images', 'label': './drive/MyDrive/Datasets/Cityscapes/labels', 'name': 'hamburg/hamburg_000000_056508_leftImg8bit.png'}, {'image': './drive/MyDrive/Datasets/Cityscapes/images', 'label': './drive/MyDrive/Datasets/Cityscapes/labels', 'name': 'bremen/bremen_000098_000019_leftImg8bit.png'}, {'image': './drive/MyDrive/Datasets/Cityscapes/images', 'label': './drive/MyDrive/Datasets/Cityscapes/labels', 'name': 'bremen/bremen_000003_000019_leftImg8bit.png'}, {'image': './drive/MyDrive/Datasets/Cityscapes/images', 'label': './drive/MyDrive/Datasets/Cityscapes/labels', 'name': 'bremen/bremen_000066_000019_leftImg8bit.png'}, {'image': './drive/MyDrive/Datasets/Cityscapes/images', 'label': './drive/MyDrive/Datasets/Cityscapes/labels', 'name': 'strasbourg/strasbourg_000001_017844_leftImg8bit.png'}, {'image': './drive/MyDrive/Datasets/Cityscapes/images', 'label': './drive/MyDrive/Datasets/Cityscapes/labels', 'name': 'strasbourg/strasbourg_000001_033448_leftImg8bit.png'}, {'image': './drive/MyDrive/Datasets/Cityscapes/images', 'label': './drive/MyDrive/Datasets/Cityscapes/labels', 'name': 'tubingen/tubingen_000088_000019_leftImg8bit.png'}, {'image': './drive/MyDrive/Datasets/Cityscapes/images', 'label': './drive/MyDrive/Datasets/Cityscapes/labels', 'name': 'zurich/zurich_000055_000019_leftImg8bit.png'}, {'image': './drive/MyDrive/Datasets/Cityscapes/images', 'label': './drive/MyDrive/Datasets/Cityscapes/labels', 'name': 'aachen/aachen_000050_000019_leftImg8bit.png'}, {'image': './drive/MyDrive/Datasets/Cityscapes/images', 'label': './drive/MyDrive/Datasets/Cityscapes/labels', 'name': 'monchengladbach/monchengladbach_000000_007098_leftImg8bit.png'}, {'image': './drive/MyDrive/Datasets/Cityscapes/images', 'label': './drive/MyDrive/Datasets/Cityscapes/labels', 'name': 'hamburg/hamburg_000000_037161_leftImg8bit.png'}, {'image': './drive/MyDrive/Datasets/Cityscapes/images', 'label': './drive/MyDrive/Datasets/Cityscapes/labels', 'name': 'hamburg/hamburg_000000_032719_leftImg8bit.png'}, {'image': './drive/MyDrive/Datasets/Cityscapes/images', 'label': './drive/MyDrive/Datasets/Cityscapes/labels', 'name': 'strasbourg/strasbourg_000000_002183_leftImg8bit.png'}, {'image': './drive/MyDrive/Datasets/Cityscapes/images', 'label': './drive/MyDrive/Datasets/Cityscapes/labels', 'name': 'bremen/bremen_000042_000019_leftImg8bit.png'}, {'image': './drive/MyDrive/Datasets/Cityscapes/images', 'label': './drive/MyDrive/Datasets/Cityscapes/labels', 'name': 'aachen/aachen_000012_000019_leftImg8bit.png'}, {'image': './drive/MyDrive/Datasets/Cityscapes/images', 'label': './drive/MyDrive/Datasets/Cityscapes/labels', 'name': 'dusseldorf/dusseldorf_000025_000019_leftImg8bit.png'}, {'image': './drive/MyDrive/Datasets/Cityscapes/images', 'label': './drive/MyDrive/Datasets/Cityscapes/labels', 'name': 'hanover/hanover_000000_028202_leftImg8bit.png'}, {'image': './drive/MyDrive/Datasets/Cityscapes/images', 'label': './drive/MyDrive/Datasets/Cityscapes/labels', 'name': 'jena/jena_000019_000019_leftImg8bit.png'}, {'image': './drive/MyDrive/Datasets/Cityscapes/images', 'label': './drive/MyDrive/Datasets/Cityscapes/labels', 'name': 'aachen/aachen_000160_000019_leftImg8bit.png'}, {'image': './drive/MyDrive/Datasets/Cityscapes/images', 'label': './drive/MyDrive/Datasets/Cityscapes/labels', 'name': 'dusseldorf/dusseldorf_000001_000019_leftImg8bit.png'}, {'image': './drive/MyDrive/Datasets/Cityscapes/images', 'label': './drive/MyDrive/Datasets/Cityscapes/labels', 'name': 'erfurt/erfurt_000019_000019_leftImg8bit.png'}, {'image': './drive/MyDrive/Datasets/Cityscapes/images', 'label': './drive/MyDrive/Datasets/Cityscapes/labels', 'name': 'bremen/bremen_000026_000019_leftImg8bit.png'}, {'image': './drive/MyDrive/Datasets/Cityscapes/images', 'label': './drive/MyDrive/Datasets/Cityscapes/labels', 'name': 'weimar/weimar_000103_000019_leftImg8bit.png'}, {'image': './drive/MyDrive/Datasets/Cityscapes/images', 'label': './drive/MyDrive/Datasets/Cityscapes/labels', 'name': 'bremen/bremen_000028_000019_leftImg8bit.png'}, {'image': './drive/MyDrive/Datasets/Cityscapes/images', 'label': './drive/MyDrive/Datasets/Cityscapes/labels', 'name': 'stuttgart/stuttgart_000127_000019_leftImg8bit.png'}, {'image': './drive/MyDrive/Datasets/Cityscapes/images', 'label': './drive/MyDrive/Datasets/Cityscapes/labels', 'name': 'erfurt/erfurt_000085_000019_leftImg8bit.png'}, {'image': './drive/MyDrive/Datasets/Cityscapes/images', 'label': './drive/MyDrive/Datasets/Cityscapes/labels', 'name': 'aachen/aachen_000056_000019_leftImg8bit.png'}, {'image': './drive/MyDrive/Datasets/Cityscapes/images', 'label': './drive/MyDrive/Datasets/Cityscapes/labels', 'name': 'stuttgart/stuttgart_000060_000019_leftImg8bit.png'}, {'image': './drive/MyDrive/Datasets/Cityscapes/images', 'label': './drive/MyDrive/Datasets/Cityscapes/labels', 'name': 'jena/jena_000067_000019_leftImg8bit.png'}, {'image': './drive/MyDrive/Datasets/Cityscapes/images', 'label': './drive/MyDrive/Datasets/Cityscapes/labels', 'name': 'aachen/aachen_000047_000019_leftImg8bit.png'}, {'image': './drive/MyDrive/Datasets/Cityscapes/images', 'label': './drive/MyDrive/Datasets/Cityscapes/labels', 'name': 'strasbourg/strasbourg_000001_037776_leftImg8bit.png'}, {'image': './drive/MyDrive/Datasets/Cityscapes/images', 'label': './drive/MyDrive/Datasets/Cityscapes/labels', 'name': 'cologne/cologne_000000_000019_leftImg8bit.png'}, {'image': './drive/MyDrive/Datasets/Cityscapes/images', 'label': './drive/MyDrive/Datasets/Cityscapes/labels', 'name': 'dusseldorf/dusseldorf_000177_000019_leftImg8bit.png'}, {'image': './drive/MyDrive/Datasets/Cityscapes/images', 'label': './drive/MyDrive/Datasets/Cityscapes/labels', 'name': 'strasbourg/strasbourg_000000_016436_leftImg8bit.png'}, {'image': './drive/MyDrive/Datasets/Cityscapes/images', 'label': './drive/MyDrive/Datasets/Cityscapes/labels', 'name': 'hamburg/hamburg_000000_055894_leftImg8bit.png'}, {'image': './drive/MyDrive/Datasets/Cityscapes/images', 'label': './drive/MyDrive/Datasets/Cityscapes/labels', 'name': 'ulm/ulm_000016_000019_leftImg8bit.png'}, {'image': './drive/MyDrive/Datasets/Cityscapes/images', 'label': './drive/MyDrive/Datasets/Cityscapes/labels', 'name': 'ulm/ulm_000049_000019_leftImg8bit.png'}, {'image': './drive/MyDrive/Datasets/Cityscapes/images', 'label': './drive/MyDrive/Datasets/Cityscapes/labels', 'name': 'stuttgart/stuttgart_000021_000019_leftImg8bit.png'}, {'image': './drive/MyDrive/Datasets/Cityscapes/images', 'label': './drive/MyDrive/Datasets/Cityscapes/labels', 'name': 'tubingen/tubingen_000085_000019_leftImg8bit.png'}, {'image': './drive/MyDrive/Datasets/Cityscapes/images', 'label': './drive/MyDrive/Datasets/Cityscapes/labels', 'name': 'strasbourg/strasbourg_000001_019698_leftImg8bit.png'}, {'image': './drive/MyDrive/Datasets/Cityscapes/images', 'label': './drive/MyDrive/Datasets/Cityscapes/labels', 'name': 'cologne/cologne_000011_000019_leftImg8bit.png'}, {'image': './drive/MyDrive/Datasets/Cityscapes/images', 'label': './drive/MyDrive/Datasets/Cityscapes/labels', 'name': 'weimar/weimar_000068_000019_leftImg8bit.png'}, {'image': './drive/MyDrive/Datasets/Cityscapes/images', 'label': './drive/MyDrive/Datasets/Cityscapes/labels', 'name': 'tubingen/tubingen_000097_000019_leftImg8bit.png'}, {'image': './drive/MyDrive/Datasets/Cityscapes/images', 'label': './drive/MyDrive/Datasets/Cityscapes/labels', 'name': 'tubingen/tubingen_000010_000019_leftImg8bit.png'}, {'image': './drive/MyDrive/Datasets/Cityscapes/images', 'label': './drive/MyDrive/Datasets/Cityscapes/labels', 'name': 'hamburg/hamburg_000000_105296_leftImg8bit.png'}, {'image': './drive/MyDrive/Datasets/Cityscapes/images', 'label': './drive/MyDrive/Datasets/Cityscapes/labels', 'name': 'cologne/cologne_000042_000019_leftImg8bit.png'}, {'image': './drive/MyDrive/Datasets/Cityscapes/images', 'label': './drive/MyDrive/Datasets/Cityscapes/labels', 'name': 'krefeld/krefeld_000000_021000_leftImg8bit.png'}, {'image': './drive/MyDrive/Datasets/Cityscapes/images', 'label': './drive/MyDrive/Datasets/Cityscapes/labels', 'name': 'dusseldorf/dusseldorf_000153_000019_leftImg8bit.png'}, {'image': './drive/MyDrive/Datasets/Cityscapes/images', 'label': './drive/MyDrive/Datasets/Cityscapes/labels', 'name': 'strasbourg/strasbourg_000001_051448_leftImg8bit.png'}, {'image': './drive/MyDrive/Datasets/Cityscapes/images', 'label': './drive/MyDrive/Datasets/Cityscapes/labels', 'name': 'strasbourg/strasbourg_000001_006153_leftImg8bit.png'}, {'image': './drive/MyDrive/Datasets/Cityscapes/images', 'label': './drive/MyDrive/Datasets/Cityscapes/labels', 'name': 'zurich/zurich_000044_000019_leftImg8bit.png'}, {'image': './drive/MyDrive/Datasets/Cityscapes/images', 'label': './drive/MyDrive/Datasets/Cityscapes/labels', 'name': 'jena/jena_000065_000019_leftImg8bit.png'}, {'image': './drive/MyDrive/Datasets/Cityscapes/images', 'label': './drive/MyDrive/Datasets/Cityscapes/labels', 'name': 'hanover/hanover_000000_040294_leftImg8bit.png'}, {'image': './drive/MyDrive/Datasets/Cityscapes/images', 'label': './drive/MyDrive/Datasets/Cityscapes/labels', 'name': 'strasbourg/strasbourg_000001_051934_leftImg8bit.png'}, {'image': './drive/MyDrive/Datasets/Cityscapes/images', 'label': './drive/MyDrive/Datasets/Cityscapes/labels', 'name': 'erfurt/erfurt_000039_000019_leftImg8bit.png'}, {'image': './drive/MyDrive/Datasets/Cityscapes/images', 'label': './drive/MyDrive/Datasets/Cityscapes/labels', 'name': 'erfurt/erfurt_000060_000019_leftImg8bit.png'}, {'image': './drive/MyDrive/Datasets/Cityscapes/images', 'label': './drive/MyDrive/Datasets/Cityscapes/labels', 'name': 'jena/jena_000008_000019_leftImg8bit.png'}, {'image': './drive/MyDrive/Datasets/Cityscapes/images', 'label': './drive/MyDrive/Datasets/Cityscapes/labels', 'name': 'strasbourg/strasbourg_000001_042434_leftImg8bit.png'}, {'image': './drive/MyDrive/Datasets/Cityscapes/images', 'label': './drive/MyDrive/Datasets/Cityscapes/labels', 'name': 'hamburg/hamburg_000000_096624_leftImg8bit.png'}, {'image': './drive/MyDrive/Datasets/Cityscapes/images', 'label': './drive/MyDrive/Datasets/Cityscapes/labels', 'name': 'ulm/ulm_000008_000019_leftImg8bit.png'}, {'image': './drive/MyDrive/Datasets/Cityscapes/images', 'label': './drive/MyDrive/Datasets/Cityscapes/labels', 'name': 'strasbourg/strasbourg_000001_035689_leftImg8bit.png'}, {'image': './drive/MyDrive/Datasets/Cityscapes/images', 'label': './drive/MyDrive/Datasets/Cityscapes/labels', 'name': 'krefeld/krefeld_000000_027075_leftImg8bit.png'}, {'image': './drive/MyDrive/Datasets/Cityscapes/images', 'label': './drive/MyDrive/Datasets/Cityscapes/labels', 'name': 'bremen/bremen_000155_000019_leftImg8bit.png'}, {'image': './drive/MyDrive/Datasets/Cityscapes/images', 'label': './drive/MyDrive/Datasets/Cityscapes/labels', 'name': 'hamburg/hamburg_000000_065843_leftImg8bit.png'}, {'image': './drive/MyDrive/Datasets/Cityscapes/images', 'label': './drive/MyDrive/Datasets/Cityscapes/labels', 'name': 'stuttgart/stuttgart_000188_000019_leftImg8bit.png'}, {'image': './drive/MyDrive/Datasets/Cityscapes/images', 'label': './drive/MyDrive/Datasets/Cityscapes/labels', 'name': 'hanover/hanover_000000_056800_leftImg8bit.png'}, {'image': './drive/MyDrive/Datasets/Cityscapes/images', 'label': './drive/MyDrive/Datasets/Cityscapes/labels', 'name': 'bochum/bochum_000000_031922_leftImg8bit.png'}, {'image': './drive/MyDrive/Datasets/Cityscapes/images', 'label': './drive/MyDrive/Datasets/Cityscapes/labels', 'name': 'bremen/bremen_000264_000019_leftImg8bit.png'}]\n"
          ]
        }
      ]
    },
    {
      "cell_type": "code",
      "source": [
        "cd .."
      ],
      "metadata": {
        "id": "IWDlnufe7Dul",
        "outputId": "99b041d2-e989-49b8-ace2-403095b01d90",
        "colab": {
          "base_uri": "https://localhost:8080/"
        }
      },
      "execution_count": null,
      "outputs": [
        {
          "output_type": "stream",
          "name": "stdout",
          "text": [
            "/content\n"
          ]
        }
      ]
    },
    {
      "cell_type": "code",
      "source": [
        "ls"
      ],
      "metadata": {
        "colab": {
          "base_uri": "https://localhost:8080/"
        },
        "id": "skCLZ88mL-rn",
        "outputId": "972e8de3-4c63-4331-8b98-6c86e77c9126"
      },
      "execution_count": null,
      "outputs": [
        {
          "output_type": "stream",
          "name": "stdout",
          "text": [
            "build_BiSeNet.py  build_contextpath.py  __init__.py  \u001b[0m\u001b[01;34m__pycache__\u001b[0m/\n"
          ]
        }
      ]
    },
    {
      "cell_type": "code",
      "source": [
        "ls"
      ],
      "metadata": {
        "colab": {
          "base_uri": "https://localhost:8080/"
        },
        "id": "cbMG-s6UMaNe",
        "outputId": "d9abb01f-80e6-4644-de5a-6cbbe57857ec"
      },
      "execution_count": null,
      "outputs": [
        {
          "output_type": "stream",
          "name": "stdout",
          "text": [
            "\u001b[0m\u001b[01;34mBiSeNet\u001b[0m/  \u001b[01;34mdataset\u001b[0m/  Exam.ipynb  README.md\n"
          ]
        }
      ]
    },
    {
      "cell_type": "code",
      "source": [
        "print (train_dataset.files[0])"
      ],
      "metadata": {
        "colab": {
          "base_uri": "https://localhost:8080/"
        },
        "id": "1pFuTqCxODAu",
        "outputId": "91cfc8fe-964b-44fd-a06f-6654e79399b9"
      },
      "execution_count": null,
      "outputs": [
        {
          "output_type": "stream",
          "name": "stdout",
          "text": [
            "{'image': './drive/MyDrive/Datasets/Cityscapes/images', 'label': './drive/MyDrive/Datasets/Cityscapes/labels', 'name': 'strasbourg/strasbourg_000000_017593_leftImg8bit.png'}\n"
          ]
        }
      ]
    },
    {
      "cell_type": "code",
      "source": [
        "cd .."
      ],
      "metadata": {
        "colab": {
          "base_uri": "https://localhost:8080/"
        },
        "id": "baiIub3aPChm",
        "outputId": "be124451-1f9a-4e6e-ec03-c8f7d9384377"
      },
      "execution_count": null,
      "outputs": [
        {
          "output_type": "stream",
          "name": "stdout",
          "text": [
            "/\n"
          ]
        }
      ]
    },
    {
      "cell_type": "code",
      "source": [
        "print"
      ],
      "metadata": {
        "id": "E6xBGzLRQihd"
      },
      "execution_count": null,
      "outputs": []
    },
    {
      "cell_type": "code",
      "source": [
        "string = '/content/drive/MyDrive/Datasets/Cityscapes/images/'+train_dataset.files[0]['name'].split ('/')[1]\n",
        "\n",
        "from IPython.display import Image\n",
        "Image(string)\n",
        "\n"
      ],
      "metadata": {
        "id": "3lmfSXTcNT6K"
      },
      "execution_count": null,
      "outputs": []
    }
  ]
}